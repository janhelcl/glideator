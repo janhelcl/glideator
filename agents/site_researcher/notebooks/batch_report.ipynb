{
 "cells": [
  {
   "cell_type": "code",
   "execution_count": 1,
   "id": "7f0ef067",
   "metadata": {},
   "outputs": [],
   "source": [
    "import os\n",
    "import json\n",
    "import logging\n",
    "\n",
    "\n",
    "import pandas as pd\n",
    "from dotenv import load_dotenv\n",
    "from sqlalchemy import create_engine\n",
    "from google.genai import Client\n",
    "\n",
    "from src import prompts\n",
    "from src import utils\n",
    "from src.batch import run_iterative_batch, parse_result_google_text\n",
    "from src.builders import make_build_tag_extractor_requests, build_requests_for_site_ids"
   ]
  },
  {
   "cell_type": "code",
   "execution_count": 2,
   "id": "3a1c03e0",
   "metadata": {},
   "outputs": [],
   "source": [
    "%reload_ext autoreload\n",
    "%autoreload 2"
   ]
  },
  {
   "cell_type": "code",
   "execution_count": 3,
   "id": "154c80d9",
   "metadata": {},
   "outputs": [],
   "source": [
    "load_dotenv();"
   ]
  },
  {
   "cell_type": "code",
   "execution_count": 4,
   "id": "3e21f697",
   "metadata": {},
   "outputs": [],
   "source": [
    "logging.basicConfig(level=logging.INFO, format=\"%(asctime)s %(levelname)s %(name)s: %(message)s\")"
   ]
  },
  {
   "cell_type": "code",
   "execution_count": 5,
   "id": "120dffc5",
   "metadata": {},
   "outputs": [],
   "source": [
    "connection_string = (\n",
    "    \"postgresql://{user}:{password}@{host}:{port}/{db}\".format(\n",
    "        user=os.getenv(\"DB_USER\"),\n",
    "        password=os.getenv(\"DB_PASSWORD\"),\n",
    "        host=os.getenv(\"DB_HOST\"),\n",
    "        port=os.getenv(\"DB_PORT\"),\n",
    "        db=os.getenv(\"DB_NAME\"),\n",
    "    )\n",
    ")\n",
    "engine = create_engine(connection_string)"
   ]
  },
  {
   "cell_type": "code",
   "execution_count": 6,
   "id": "c4a759ae",
   "metadata": {},
   "outputs": [],
   "source": [
    "sites = utils.get_sites(engine)\n",
    "client = Client(api_key=os.getenv(\"GOOGLE_API_KEY\"))"
   ]
  },
  {
   "cell_type": "code",
   "execution_count": null,
   "id": "0765ce87",
   "metadata": {},
   "outputs": [],
   "source": [
    "build_requests = make_build_tag_extractor_requests(\n",
    "    sites_df=sites,\n",
    "    overview_jsonl_path=\"batch_results/overview_full_spec_final_reuslt.jsonl\",\n",
    "    access_jsonl_path=\"batch_results/access_full_spec_final_results.jsonl\",\n",
    "    risk_jsonl_path=\"batch_results/risk_full_spec_final_results.jsonl\",\n",
    "    prompt_template=prompts.tag_extractor_instructions,\n",
    "    engine=engine,\n",
    ")\n",
    "\n",
    "# def build_requests(site_ids: list[int]) -> list[dict]:\n",
    "#     return build_requests_for_site_ids(site_ids, sites, prompts.risk_researcher_instructions, engine)"
   ]
  },
  {
   "cell_type": "code",
   "execution_count": 8,
   "id": "db68bec2",
   "metadata": {},
   "outputs": [
    {
     "name": "stderr",
     "output_type": "stream",
     "text": [
      "2025-08-31 20:29:27,057 INFO src.batch: Attempt 1: processing 248 items\n",
      "2025-08-31 20:29:31,000 INFO src.batch: Submitting batch 'tags_full_spec_attempt_1-1756664967' with 248 requests\n",
      "2025-08-31 20:29:31,846 INFO httpx: HTTP Request: POST https://generativelanguage.googleapis.com/upload/v1beta/files \"HTTP/1.1 200 OK\"\n",
      "2025-08-31 20:29:34,215 INFO httpx: HTTP Request: POST https://generativelanguage.googleapis.com/upload/v1beta/files?upload_id=ABgVH89Me6EWrjuuhLHrvzDTwCwHru6YUNtX-RXMmzjTZH9aWQNqyI8zXtG_s8vkZz6g7tba6TKhHvzIdBOpjKq3i60HSpTf-6jxWcWzAKihbt8&upload_protocol=resumable \"HTTP/1.1 200 OK\"\n",
      "2025-08-31 20:29:36,576 INFO httpx: HTTP Request: POST https://generativelanguage.googleapis.com/v1beta/models/gemini-2.5-pro:batchGenerateContent \"HTTP/1.1 200 OK\"\n",
      "2025-08-31 20:29:36,581 INFO src.batch: Created batch job 'batches/u3gh6c1a7q6rw6unged3loj2e6fvd9gvqooe' (model=gemini-2.5-pro)\n",
      "2025-08-31 20:29:36,744 INFO httpx: HTTP Request: GET https://generativelanguage.googleapis.com/v1beta/batches/u3gh6c1a7q6rw6unged3loj2e6fvd9gvqooe \"HTTP/1.1 200 OK\"\n",
      "2025-08-31 20:29:36,747 INFO src.batch: Batch 'batches/u3gh6c1a7q6rw6unged3loj2e6fvd9gvqooe' state=JOB_STATE_PENDING elapsed=0s\n",
      "2025-08-31 20:30:06,992 INFO httpx: HTTP Request: GET https://generativelanguage.googleapis.com/v1beta/batches/u3gh6c1a7q6rw6unged3loj2e6fvd9gvqooe \"HTTP/1.1 200 OK\"\n",
      "2025-08-31 20:30:06,996 INFO src.batch: Batch 'batches/u3gh6c1a7q6rw6unged3loj2e6fvd9gvqooe' state=JOB_STATE_PENDING elapsed=30s\n",
      "2025-08-31 20:30:37,343 INFO httpx: HTTP Request: GET https://generativelanguage.googleapis.com/v1beta/batches/u3gh6c1a7q6rw6unged3loj2e6fvd9gvqooe \"HTTP/1.1 200 OK\"\n",
      "2025-08-31 20:30:37,347 INFO src.batch: Batch 'batches/u3gh6c1a7q6rw6unged3loj2e6fvd9gvqooe' state=JOB_STATE_PENDING elapsed=60s\n",
      "2025-08-31 20:31:07,598 INFO httpx: HTTP Request: GET https://generativelanguage.googleapis.com/v1beta/batches/u3gh6c1a7q6rw6unged3loj2e6fvd9gvqooe \"HTTP/1.1 200 OK\"\n",
      "2025-08-31 20:31:07,601 INFO src.batch: Batch 'batches/u3gh6c1a7q6rw6unged3loj2e6fvd9gvqooe' state=JOB_STATE_PENDING elapsed=91s\n",
      "2025-08-31 20:31:37,913 INFO httpx: HTTP Request: GET https://generativelanguage.googleapis.com/v1beta/batches/u3gh6c1a7q6rw6unged3loj2e6fvd9gvqooe \"HTTP/1.1 200 OK\"\n",
      "2025-08-31 20:31:37,917 INFO src.batch: Batch 'batches/u3gh6c1a7q6rw6unged3loj2e6fvd9gvqooe' state=JOB_STATE_PENDING elapsed=121s\n",
      "2025-08-31 20:32:08,304 INFO httpx: HTTP Request: GET https://generativelanguage.googleapis.com/v1beta/batches/u3gh6c1a7q6rw6unged3loj2e6fvd9gvqooe \"HTTP/1.1 200 OK\"\n",
      "2025-08-31 20:32:08,312 INFO src.batch: Batch 'batches/u3gh6c1a7q6rw6unged3loj2e6fvd9gvqooe' state=JOB_STATE_PENDING elapsed=151s\n",
      "2025-08-31 20:32:38,624 INFO httpx: HTTP Request: GET https://generativelanguage.googleapis.com/v1beta/batches/u3gh6c1a7q6rw6unged3loj2e6fvd9gvqooe \"HTTP/1.1 200 OK\"\n",
      "2025-08-31 20:32:38,629 INFO src.batch: Batch 'batches/u3gh6c1a7q6rw6unged3loj2e6fvd9gvqooe' state=JOB_STATE_PENDING elapsed=182s\n",
      "2025-08-31 20:33:08,947 INFO httpx: HTTP Request: GET https://generativelanguage.googleapis.com/v1beta/batches/u3gh6c1a7q6rw6unged3loj2e6fvd9gvqooe \"HTTP/1.1 200 OK\"\n",
      "2025-08-31 20:33:08,961 INFO src.batch: Batch 'batches/u3gh6c1a7q6rw6unged3loj2e6fvd9gvqooe' state=JOB_STATE_PENDING elapsed=212s\n",
      "2025-08-31 20:33:39,282 INFO httpx: HTTP Request: GET https://generativelanguage.googleapis.com/v1beta/batches/u3gh6c1a7q6rw6unged3loj2e6fvd9gvqooe \"HTTP/1.1 200 OK\"\n",
      "2025-08-31 20:33:39,294 INFO src.batch: Batch 'batches/u3gh6c1a7q6rw6unged3loj2e6fvd9gvqooe' state=JOB_STATE_PENDING elapsed=242s\n",
      "2025-08-31 20:34:09,614 INFO httpx: HTTP Request: GET https://generativelanguage.googleapis.com/v1beta/batches/u3gh6c1a7q6rw6unged3loj2e6fvd9gvqooe \"HTTP/1.1 200 OK\"\n",
      "2025-08-31 20:34:09,618 INFO src.batch: Batch 'batches/u3gh6c1a7q6rw6unged3loj2e6fvd9gvqooe' state=JOB_STATE_PENDING elapsed=273s\n",
      "2025-08-31 20:34:39,848 INFO httpx: HTTP Request: GET https://generativelanguage.googleapis.com/v1beta/batches/u3gh6c1a7q6rw6unged3loj2e6fvd9gvqooe \"HTTP/1.1 200 OK\"\n",
      "2025-08-31 20:34:39,852 INFO src.batch: Batch 'batches/u3gh6c1a7q6rw6unged3loj2e6fvd9gvqooe' state=JOB_STATE_PENDING elapsed=303s\n",
      "2025-08-31 20:35:10,192 INFO httpx: HTTP Request: GET https://generativelanguage.googleapis.com/v1beta/batches/u3gh6c1a7q6rw6unged3loj2e6fvd9gvqooe \"HTTP/1.1 200 OK\"\n",
      "2025-08-31 20:35:10,199 INFO src.batch: Batch 'batches/u3gh6c1a7q6rw6unged3loj2e6fvd9gvqooe' state=JOB_STATE_PENDING elapsed=333s\n",
      "2025-08-31 20:35:40,436 INFO httpx: HTTP Request: GET https://generativelanguage.googleapis.com/v1beta/batches/u3gh6c1a7q6rw6unged3loj2e6fvd9gvqooe \"HTTP/1.1 200 OK\"\n",
      "/mnt/c/Users/janhe/OneDrive/Plocha/repos/glideator/agents/site_researcher/env_site_research/lib/python3.13/site-packages/google/genai/_common.py:474: UserWarning: BATCH_STATE_RUNNING is not a valid JobState\n",
      "  warnings.warn(f\"{value} is not a valid {cls.__name__}\")\n",
      "2025-08-31 20:35:40,452 INFO src.batch: Batch 'batches/u3gh6c1a7q6rw6unged3loj2e6fvd9gvqooe' state=BATCH_STATE_RUNNING elapsed=363s\n",
      "2025-08-31 20:36:10,766 INFO httpx: HTTP Request: GET https://generativelanguage.googleapis.com/v1beta/batches/u3gh6c1a7q6rw6unged3loj2e6fvd9gvqooe \"HTTP/1.1 200 OK\"\n",
      "2025-08-31 20:36:10,779 INFO src.batch: Batch 'batches/u3gh6c1a7q6rw6unged3loj2e6fvd9gvqooe' state=BATCH_STATE_RUNNING elapsed=394s\n",
      "2025-08-31 20:36:41,093 INFO httpx: HTTP Request: GET https://generativelanguage.googleapis.com/v1beta/batches/u3gh6c1a7q6rw6unged3loj2e6fvd9gvqooe \"HTTP/1.1 200 OK\"\n",
      "2025-08-31 20:36:41,103 INFO src.batch: Batch 'batches/u3gh6c1a7q6rw6unged3loj2e6fvd9gvqooe' state=BATCH_STATE_RUNNING elapsed=424s\n",
      "2025-08-31 20:37:11,443 INFO httpx: HTTP Request: GET https://generativelanguage.googleapis.com/v1beta/batches/u3gh6c1a7q6rw6unged3loj2e6fvd9gvqooe \"HTTP/1.1 200 OK\"\n",
      "2025-08-31 20:37:11,450 INFO src.batch: Batch 'batches/u3gh6c1a7q6rw6unged3loj2e6fvd9gvqooe' state=BATCH_STATE_RUNNING elapsed=454s\n",
      "2025-08-31 20:37:41,732 INFO httpx: HTTP Request: GET https://generativelanguage.googleapis.com/v1beta/batches/u3gh6c1a7q6rw6unged3loj2e6fvd9gvqooe \"HTTP/1.1 200 OK\"\n",
      "2025-08-31 20:37:41,743 INFO src.batch: Batch 'batches/u3gh6c1a7q6rw6unged3loj2e6fvd9gvqooe' state=BATCH_STATE_RUNNING elapsed=485s\n",
      "2025-08-31 20:38:12,066 INFO httpx: HTTP Request: GET https://generativelanguage.googleapis.com/v1beta/batches/u3gh6c1a7q6rw6unged3loj2e6fvd9gvqooe \"HTTP/1.1 200 OK\"\n",
      "2025-08-31 20:38:12,074 INFO src.batch: Batch 'batches/u3gh6c1a7q6rw6unged3loj2e6fvd9gvqooe' state=BATCH_STATE_RUNNING elapsed=515s\n",
      "2025-08-31 20:38:42,304 INFO httpx: HTTP Request: GET https://generativelanguage.googleapis.com/v1beta/batches/u3gh6c1a7q6rw6unged3loj2e6fvd9gvqooe \"HTTP/1.1 200 OK\"\n",
      "2025-08-31 20:38:42,307 INFO src.batch: Batch 'batches/u3gh6c1a7q6rw6unged3loj2e6fvd9gvqooe' state=JOB_STATE_SUCCEEDED elapsed=545s\n",
      "2025-08-31 20:38:42,350 INFO httpx: HTTP Request: GET https://generativelanguage.googleapis.com/v1beta/files/batch-u3gh6c1a7q6rw6unged3loj2e6fvd9gvqooe:download?alt=media \"HTTP/1.1 302 Found\"\n",
      "2025-08-31 20:38:42,749 INFO httpx: HTTP Request: GET https://generativelanguage.googleapis.com/download/v1beta/files/batch-u3gh6c1a7q6rw6unged3loj2e6fvd9gvqooe:download?alt=media \"HTTP/1.1 200 OK\"\n",
      "2025-08-31 20:38:42,806 INFO src.batch: Downloaded 248 result lines for batch 'batches/u3gh6c1a7q6rw6unged3loj2e6fvd9gvqooe'\n",
      "2025-08-31 20:38:42,808 INFO src.batch: Attempt 1 complete: successes=248, unresolved_now=0\n"
     ]
    },
    {
     "name": "stdout",
     "output_type": "stream",
     "text": [
      "Resolved: 248  Unresolved: 0\n"
     ]
    }
   ],
   "source": [
    "# Iteratively retry via generalized batch module\n",
    "JOB_NAME = \"tags_full_spec\"\n",
    "\n",
    "all_site_ids = list(sites[\"site_id\"].astype(int).values)\n",
    "\n",
    "resolved, unresolved = run_iterative_batch(\n",
    "    client=client,\n",
    "    items=all_site_ids,\n",
    "    build_requests_fn=build_requests,\n",
    "    parse_result_fn=parse_result_google_text,\n",
    "    job_name_prefix=JOB_NAME,\n",
    "    max_retries=10,\n",
    "    poll_interval_sec=30,\n",
    ")\n",
    "\n",
    "print(f\"Resolved: {len(resolved)}  Unresolved: {len(unresolved)}\")\n",
    "\n",
    "# Ensure batch_results directory exists\n",
    "import os\n",
    "os.makedirs(\"../batch_results\", exist_ok=True)\n",
    "\n",
    "# Persist results keyed by site_id\n",
    "ok_out = f\"../batch_results/{JOB_NAME}_final_results.jsonl\"\n",
    "with open(ok_out, \"w\", encoding=\"utf-8\") as f:\n",
    "    for sid in sorted(resolved.keys()):\n",
    "        f.write(json.dumps({\"site_id\": int(sid), \"text\": resolved[sid]}, ensure_ascii=False) + \"\\n\")\n",
    "\n",
    "# Persist unresolved site_ids for inspection/resubmission\n",
    "failed_out = f\"../batch_results/{JOB_NAME}_unresolved_site_ids.json\"\n",
    "with open(failed_out, \"w\") as f:\n",
    "    json.dump(sorted([int(x) for x in unresolved]), f)"
   ]
  }
 ],
 "metadata": {
  "kernelspec": {
   "display_name": "env_site_research",
   "language": "python",
   "name": "env_site_research"
  },
  "language_info": {
   "codemirror_mode": {
    "name": "ipython",
    "version": 3
   },
   "file_extension": ".py",
   "mimetype": "text/x-python",
   "name": "python",
   "nbconvert_exporter": "python",
   "pygments_lexer": "ipython3",
   "version": "3.13.5"
  }
 },
 "nbformat": 4,
 "nbformat_minor": 5
}
