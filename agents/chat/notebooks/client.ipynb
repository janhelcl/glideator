{
 "cells": [
  {
   "cell_type": "code",
   "execution_count": 16,
   "id": "fac92fa7",
   "metadata": {},
   "outputs": [
    {
     "ename": "",
     "evalue": "",
     "output_type": "error",
     "traceback": [
      "\u001b[1;31mFailed to connect to the remote Jupyter Server 'http://localhost:8888/'. Verify the server is running and reachable. (Failed to connect to the remote Jupyter Server 'http://localhost:8888/'. Verify the server is running and reachable. (request to http://localhost:8888/api/kernels?1757007620457 failed, reason: ).)."
     ]
    }
   ],
   "source": [
    "import asyncio\n",
    "\n",
    "import gradio as gr\n",
    "from autogen_agentchat.agents import AssistantAgent\n",
    "from autogen_agentchat.messages import TextMessage\n",
    "from autogen_agentchat.ui import Console\n",
    "from autogen_core import CancellationToken\n",
    "from autogen_ext.models.openai import OpenAIChatCompletionClient\n",
    "from autogen_ext.tools.mcp import (\n",
    "    StreamableHttpServerParams,\n",
    "    mcp_server_tools,\n",
    ")\n",
    "from dotenv import load_dotenv"
   ]
  },
  {
   "cell_type": "code",
   "execution_count": 10,
   "id": "300e6ea2",
   "metadata": {},
   "outputs": [],
   "source": [
    "load_dotenv();"
   ]
  },
  {
   "cell_type": "code",
   "execution_count": 11,
   "id": "48b384f5",
   "metadata": {},
   "outputs": [],
   "source": [
    "server = StreamableHttpServerParams(\n",
    "    url=\"http://127.0.0.1:8000/mcp\",\n",
    ")"
   ]
  },
  {
   "cell_type": "code",
   "execution_count": 12,
   "id": "5ae4b7b4",
   "metadata": {},
   "outputs": [],
   "source": [
    "tools = await mcp_server_tools(server)"
   ]
  },
  {
   "cell_type": "code",
   "execution_count": 13,
   "id": "2a9a7e03",
   "metadata": {},
   "outputs": [],
   "source": [
    "model = OpenAIChatCompletionClient(model=\"gpt-4o-mini\")\n",
    "agent = AssistantAgent(\n",
    "    name=\"app\",\n",
    "    model_client=model,\n",
    "    tools=tools,\n",
    "    system_message=(\n",
    "        \"You are a helpful app.\"\n",
    "    ),\n",
    "    reflect_on_tool_use=True\n",
    ")"
   ]
  },
  {
   "cell_type": "code",
   "execution_count": null,
   "id": "e6dd7813",
   "metadata": {},
   "outputs": [],
   "source": [
    "async def chat_fn(user_message, chat_history):\n",
    "    result = await agent.run(task=user_message)  # handles tools internally\n",
    "    reply = \"\"\n",
    "    for m in reversed(result.messages):\n",
    "        if isinstance(m, TextMessage) and m.source == agent.name:\n",
    "            reply = m.content\n",
    "            break\n",
    "    chat_history.append((user_message, reply))\n",
    "    return \"\", chat_history\n",
    "\n",
    "# --- reset clears the agent's internal conversation state ---\n",
    "async def reset_fn():\n",
    "    await agent.on_reset(CancellationToken())\n",
    "    return gr.update(value=[])\n",
    "\n",
    "with gr.Blocks(title=\"AutoGen Test Chat\") as demo:\n",
    "    gr.Markdown(\"### AutoGen Test Chat\")\n",
    "    chat = gr.Chatbot(height=500)\n",
    "    msg = gr.Textbox(placeholder=\"Type a message and press Enter...\")\n",
    "    with gr.Row():\n",
    "        reset = gr.Button(\"Reset conversation\", variant=\"secondary\")\n",
    "    msg.submit(chat_fn, [msg, chat], [msg, chat])\n",
    "    reset.click(reset_fn, outputs=chat)\n",
    "\n",
    "demo.queue().launch()"
   ]
  }
 ],
 "metadata": {
  "kernelspec": {
   "display_name": "Python 3 (ipykernel)",
   "language": "python",
   "name": "python3"
  }
 },
 "nbformat": 4,
 "nbformat_minor": 5
}
