{
 "cells": [
  {
   "cell_type": "code",
   "execution_count": 1,
   "id": "8297a308",
   "metadata": {},
   "outputs": [],
   "source": [
    "import os\n",
    "\n",
    "import pandas as pd\n",
    "from dotenv import load_dotenv\n",
    "from sqlalchemy import create_engine\n",
    "import altair as alt"
   ]
  },
  {
   "cell_type": "code",
   "execution_count": 2,
   "id": "96b48cd8",
   "metadata": {},
   "outputs": [],
   "source": [
    "alt.renderers.enable(\"mimetype\");"
   ]
  },
  {
   "cell_type": "code",
   "execution_count": 3,
   "id": "4b63dd69",
   "metadata": {},
   "outputs": [],
   "source": [
    "load_dotenv()\n",
    "\n",
    "connection_string = \"postgresql://{user}:{password}@{host}:{port}/{db}\".format(\n",
    "    user=os.getenv('DB_USER'),\n",
    "    password=os.getenv('DB_PASSWORD'),\n",
    "    host=os.getenv('DB_HOST'),\n",
    "    port=os.getenv('DB_PORT'),\n",
    "    db=os.getenv('DB_NAME')\n",
    ")\n",
    "engine = create_engine(connection_string)"
   ]
  },
  {
   "cell_type": "markdown",
   "id": "47a2c48e",
   "metadata": {},
   "source": [
    "### Basic stats"
   ]
  },
  {
   "cell_type": "code",
   "execution_count": 4,
   "id": "714db73e",
   "metadata": {},
   "outputs": [
    {
     "name": "stdout",
     "output_type": "stream",
     "text": [
      "Number of flights:  1211925\n",
      "Number of pilots:  31311\n",
      "Number of sites:  252\n"
     ]
    }
   ],
   "source": [
    "query = \"\"\"\n",
    "SELECT\n",
    "    COUNT(*)\n",
    "FROM glideator_mart.fact_flights\n",
    "\"\"\"\n",
    "cnt_flights = int(pd.read_sql(query, engine).iloc[0, 0])\n",
    "\n",
    "\n",
    "query = \"\"\"\n",
    "SELECT\n",
    "    COUNT(DISTINCT pilot)\n",
    "FROM glideator_mart.fact_flights\n",
    "\"\"\"\n",
    "cnt_pilots = int(pd.read_sql(query, engine).iloc[0, 0])\n",
    "\n",
    "\n",
    "query = \"\"\"\n",
    "SELECT\n",
    "    COUNT(DISTINCT site)\n",
    "FROM glideator_mart.fact_flights\n",
    "\"\"\"\n",
    "cnt_sites = int(pd.read_sql(query, engine).iloc[0, 0])\n",
    "\n",
    "\n",
    "print(\"Number of flights: \", cnt_flights)\n",
    "print(\"Number of pilots: \", cnt_pilots)\n",
    "print(\"Number of sites: \", cnt_sites)"
   ]
  },
  {
   "cell_type": "markdown",
   "id": "03cbc38a",
   "metadata": {},
   "source": [
    "### Site popularity"
   ]
  },
  {
   "cell_type": "code",
   "execution_count": 5,
   "id": "e0653c22",
   "metadata": {},
   "outputs": [
    {
     "data": {
      "application/vnd.vegalite.v5+json": {
       "$schema": "https://vega.github.io/schema/vega-lite/v5.17.0.json",
       "config": {
        "view": {
         "continuousHeight": 300,
         "continuousWidth": 300
        }
       },
       "data": {
        "name": "data-d9dae0cc9d57eedd69ca7e24934cc527"
       },
       "datasets": {
        "data-d9dae0cc9d57eedd69ca7e24934cc527": [
         {
          "flights": 71132,
          "pilots": 7808,
          "site": "Bassano"
         },
         {
          "flights": 22271,
          "pilots": 4521,
          "site": "Kobala"
         },
         {
          "flights": 21458,
          "pilots": 1367,
          "site": "Cornizzolo"
         },
         {
          "flights": 21077,
          "pilots": 3701,
          "site": "Emberger Alm"
         },
         {
          "flights": 19102,
          "pilots": 2885,
          "site": "Meduno"
         },
         {
          "flights": 18518,
          "pilots": 998,
          "site": "Raná"
         },
         {
          "flights": 18470,
          "pilots": 1450,
          "site": "Norma"
         },
         {
          "flights": 17577,
          "pilots": 3155,
          "site": "Fiesch"
         },
         {
          "flights": 17438,
          "pilots": 2439,
          "site": "Weissenstein"
         },
         {
          "flights": 17239,
          "pilots": 3721,
          "site": "Lijak"
         },
         {
          "flights": 16848,
          "pilots": 2263,
          "site": "Bischling"
         },
         {
          "flights": 16542,
          "pilots": 4268,
          "site": "Col de la..."
         },
         {
          "flights": 16172,
          "pilots": 1376,
          "site": "Javorový"
         },
         {
          "flights": 15781,
          "pilots": 778,
          "site": "Schöckl"
         },
         {
          "flights": 15119,
          "pilots": 1667,
          "site": "Cavallaria"
         },
         {
          "flights": 13768,
          "pilots": 531,
          "site": "Bunloc"
         },
         {
          "flights": 13415,
          "pilots": 1317,
          "site": "Santa Eli..."
         },
         {
          "flights": 12965,
          "pilots": 2586,
          "site": "Saint Hil..."
         },
         {
          "flights": 12575,
          "pilots": 1522,
          "site": "Brunni"
         },
         {
          "flights": 12306,
          "pilots": 3131,
          "site": "Col Rodella"
         },
         {
          "flights": 11936,
          "pilots": 1729,
          "site": "Gemona"
         },
         {
          "flights": 11896,
          "pilots": 954,
          "site": "Hohe Wand"
         },
         {
          "flights": 10945,
          "pilots": 1925,
          "site": "Kössen"
         },
         {
          "flights": 10783,
          "pilots": 677,
          "site": "Laveno"
         },
         {
          "flights": 10725,
          "pilots": 1546,
          "site": "Amisbühl"
         },
         {
          "flights": 10684,
          "pilots": 2134,
          "site": "St. André"
         },
         {
          "flights": 10556,
          "pilots": 2171,
          "site": "Grindelwald"
         },
         {
          "flights": 9092,
          "pilots": 2009,
          "site": "Poniente"
         },
         {
          "flights": 8744,
          "pilots": 2412,
          "site": "Planfait"
         },
         {
          "flights": 8616,
          "pilots": 733,
          "site": "Kozákov"
         },
         {
          "flights": 8150,
          "pilots": 1010,
          "site": "Marbachegg"
         },
         {
          "flights": 8045,
          "pilots": 686,
          "site": "Clopotiva"
         },
         {
          "flights": 7841,
          "pilots": 2035,
          "site": "Feltre"
         },
         {
          "flights": 7596,
          "pilots": 1784,
          "site": "Niesen"
         },
         {
          "flights": 7569,
          "pilots": 1070,
          "site": "Ebenalp"
         },
         {
          "flights": 7507,
          "pilots": 1386,
          "site": "Fanas"
         },
         {
          "flights": 7470,
          "pilots": 1048,
          "site": "Straník"
         },
         {
          "flights": 7386,
          "pilots": 629,
          "site": "Cenes"
         },
         {
          "flights": 7357,
          "pilots": 651,
          "site": "Krupka"
         },
         {
          "flights": 7346,
          "pilots": 836,
          "site": "Gourdon"
         },
         {
          "flights": 7202,
          "pilots": 900,
          "site": "Černá hora"
         },
         {
          "flights": 7114,
          "pilots": 1045,
          "site": "Peña Negra"
         },
         {
          "flights": 6934,
          "pilots": 639,
          "site": "Cret du Midi"
         },
         {
          "flights": 6925,
          "pilots": 638,
          "site": "Gerlitzen"
         },
         {
          "flights": 6881,
          "pilots": 981,
          "site": "Donovaly"
         },
         {
          "flights": 6832,
          "pilots": 712,
          "site": "Gaisberg"
         },
         {
          "flights": 6634,
          "pilots": 919,
          "site": "Bezau"
         },
         {
          "flights": 6604,
          "pilots": 494,
          "site": "Óbuda"
         },
         {
          "flights": 6424,
          "pilots": 1064,
          "site": "Cimetta"
         },
         {
          "flights": 6340,
          "pilots": 855,
          "site": "Zugerberg"
         }
        ]
       },
       "encoding": {
        "tooltip": [
         {
          "field": "site",
          "type": "nominal"
         },
         {
          "field": "flights",
          "type": "quantitative"
         }
        ],
        "x": {
         "field": "site",
         "sort": {
          "field": "flights",
          "order": "descending"
         },
         "title": "Launch Site",
         "type": "nominal"
        },
        "y": {
         "field": "flights",
         "title": "Total Flights",
         "type": "quantitative"
        }
       },
       "height": 400,
       "mark": {
        "color": "steelblue",
        "type": "bar"
       },
       "title": "Total Flights by Launch Site",
       "width": 800
      },
      "text/plain": [
       "<VegaLite 5 object>\n",
       "\n",
       "If you see this message, it means the renderer has not been properly enabled\n",
       "for the frontend that you are using. For more information, see\n",
       "https://altair-viz.github.io/user_guide/display_frontends.html#troubleshooting\n"
      ]
     },
     "metadata": {},
     "output_type": "display_data"
    },
    {
     "data": {
      "application/vnd.vegalite.v5+json": {
       "$schema": "https://vega.github.io/schema/vega-lite/v5.17.0.json",
       "config": {
        "view": {
         "continuousHeight": 300,
         "continuousWidth": 300
        }
       },
       "data": {
        "name": "data-d9dae0cc9d57eedd69ca7e24934cc527"
       },
       "datasets": {
        "data-d9dae0cc9d57eedd69ca7e24934cc527": [
         {
          "flights": 71132,
          "pilots": 7808,
          "site": "Bassano"
         },
         {
          "flights": 22271,
          "pilots": 4521,
          "site": "Kobala"
         },
         {
          "flights": 21458,
          "pilots": 1367,
          "site": "Cornizzolo"
         },
         {
          "flights": 21077,
          "pilots": 3701,
          "site": "Emberger Alm"
         },
         {
          "flights": 19102,
          "pilots": 2885,
          "site": "Meduno"
         },
         {
          "flights": 18518,
          "pilots": 998,
          "site": "Raná"
         },
         {
          "flights": 18470,
          "pilots": 1450,
          "site": "Norma"
         },
         {
          "flights": 17577,
          "pilots": 3155,
          "site": "Fiesch"
         },
         {
          "flights": 17438,
          "pilots": 2439,
          "site": "Weissenstein"
         },
         {
          "flights": 17239,
          "pilots": 3721,
          "site": "Lijak"
         },
         {
          "flights": 16848,
          "pilots": 2263,
          "site": "Bischling"
         },
         {
          "flights": 16542,
          "pilots": 4268,
          "site": "Col de la..."
         },
         {
          "flights": 16172,
          "pilots": 1376,
          "site": "Javorový"
         },
         {
          "flights": 15781,
          "pilots": 778,
          "site": "Schöckl"
         },
         {
          "flights": 15119,
          "pilots": 1667,
          "site": "Cavallaria"
         },
         {
          "flights": 13768,
          "pilots": 531,
          "site": "Bunloc"
         },
         {
          "flights": 13415,
          "pilots": 1317,
          "site": "Santa Eli..."
         },
         {
          "flights": 12965,
          "pilots": 2586,
          "site": "Saint Hil..."
         },
         {
          "flights": 12575,
          "pilots": 1522,
          "site": "Brunni"
         },
         {
          "flights": 12306,
          "pilots": 3131,
          "site": "Col Rodella"
         },
         {
          "flights": 11936,
          "pilots": 1729,
          "site": "Gemona"
         },
         {
          "flights": 11896,
          "pilots": 954,
          "site": "Hohe Wand"
         },
         {
          "flights": 10945,
          "pilots": 1925,
          "site": "Kössen"
         },
         {
          "flights": 10783,
          "pilots": 677,
          "site": "Laveno"
         },
         {
          "flights": 10725,
          "pilots": 1546,
          "site": "Amisbühl"
         },
         {
          "flights": 10684,
          "pilots": 2134,
          "site": "St. André"
         },
         {
          "flights": 10556,
          "pilots": 2171,
          "site": "Grindelwald"
         },
         {
          "flights": 9092,
          "pilots": 2009,
          "site": "Poniente"
         },
         {
          "flights": 8744,
          "pilots": 2412,
          "site": "Planfait"
         },
         {
          "flights": 8616,
          "pilots": 733,
          "site": "Kozákov"
         },
         {
          "flights": 8150,
          "pilots": 1010,
          "site": "Marbachegg"
         },
         {
          "flights": 8045,
          "pilots": 686,
          "site": "Clopotiva"
         },
         {
          "flights": 7841,
          "pilots": 2035,
          "site": "Feltre"
         },
         {
          "flights": 7596,
          "pilots": 1784,
          "site": "Niesen"
         },
         {
          "flights": 7569,
          "pilots": 1070,
          "site": "Ebenalp"
         },
         {
          "flights": 7507,
          "pilots": 1386,
          "site": "Fanas"
         },
         {
          "flights": 7470,
          "pilots": 1048,
          "site": "Straník"
         },
         {
          "flights": 7386,
          "pilots": 629,
          "site": "Cenes"
         },
         {
          "flights": 7357,
          "pilots": 651,
          "site": "Krupka"
         },
         {
          "flights": 7346,
          "pilots": 836,
          "site": "Gourdon"
         },
         {
          "flights": 7202,
          "pilots": 900,
          "site": "Černá hora"
         },
         {
          "flights": 7114,
          "pilots": 1045,
          "site": "Peña Negra"
         },
         {
          "flights": 6934,
          "pilots": 639,
          "site": "Cret du Midi"
         },
         {
          "flights": 6925,
          "pilots": 638,
          "site": "Gerlitzen"
         },
         {
          "flights": 6881,
          "pilots": 981,
          "site": "Donovaly"
         },
         {
          "flights": 6832,
          "pilots": 712,
          "site": "Gaisberg"
         },
         {
          "flights": 6634,
          "pilots": 919,
          "site": "Bezau"
         },
         {
          "flights": 6604,
          "pilots": 494,
          "site": "Óbuda"
         },
         {
          "flights": 6424,
          "pilots": 1064,
          "site": "Cimetta"
         },
         {
          "flights": 6340,
          "pilots": 855,
          "site": "Zugerberg"
         }
        ]
       },
       "encoding": {
        "tooltip": [
         {
          "field": "site",
          "type": "nominal"
         },
         {
          "field": "pilots",
          "type": "quantitative"
         }
        ],
        "x": {
         "field": "site",
         "sort": {
          "field": "pilots",
          "order": "descending"
         },
         "title": "Launch Site",
         "type": "nominal"
        },
        "y": {
         "field": "pilots",
         "title": "Total Pilots",
         "type": "quantitative"
        }
       },
       "height": 400,
       "mark": {
        "color": "steelblue",
        "type": "bar"
       },
       "title": "Total Pilots by Launch Site",
       "width": 800
      },
      "text/plain": [
       "<VegaLite 5 object>\n",
       "\n",
       "If you see this message, it means the renderer has not been properly enabled\n",
       "for the frontend that you are using. For more information, see\n",
       "https://altair-viz.github.io/user_guide/display_frontends.html#troubleshooting\n"
      ]
     },
     "metadata": {},
     "output_type": "display_data"
    }
   ],
   "source": [
    "query = \"\"\"\n",
    "SELECT\n",
    "    site,\n",
    "    COUNT(*) AS flights,\n",
    "    COUNT(DISTINCT pilot) AS pilots\n",
    "FROM glideator_mart.fact_flights\n",
    "GROUP BY site\n",
    "ORDER BY COUNT(*) DESC\n",
    "LIMIT 50\n",
    "\"\"\"\n",
    "popularity = pd.read_sql(query, engine)\n",
    "\n",
    "\n",
    "barchart = alt.Chart(popularity).mark_bar(color='steelblue').encode(\n",
    "    x=alt.X('site:N', sort=alt.EncodingSortField(field='flights', order='descending'), title='Launch Site'),\n",
    "    y=alt.Y('flights:Q', title='Total Flights'),\n",
    "    tooltip=['site:N', 'flights:Q']\n",
    ").properties(\n",
    "    width=800,\n",
    "    height=400,\n",
    "    title='Total Flights by Launch Site'\n",
    ")\n",
    "barchart.show()\n",
    "\n",
    "barchart = alt.Chart(popularity).mark_bar(color='steelblue').encode(\n",
    "    x=alt.X('site:N', sort=alt.EncodingSortField(field='pilots', order='descending'), title='Launch Site'),\n",
    "    y=alt.Y('pilots:Q', title='Total Pilots'),\n",
    "    tooltip=['site:N', 'pilots:Q']\n",
    ").properties(\n",
    "    width=800,\n",
    "    height=400,\n",
    "    title='Total Pilots by Launch Site'\n",
    ")\n",
    "barchart.show()"
   ]
  },
  {
   "cell_type": "markdown",
   "id": "4aac80d9",
   "metadata": {},
   "source": [
    "### How many sites a pilot has visited?"
   ]
  },
  {
   "cell_type": "code",
   "execution_count": 6,
   "id": "65faaaf9",
   "metadata": {},
   "outputs": [
    {
     "data": {
      "application/vnd.vegalite.v5+json": {
       "$schema": "https://vega.github.io/schema/vega-lite/v5.17.0.json",
       "config": {
        "view": {
         "continuousHeight": 300,
         "continuousWidth": 300
        }
       },
       "data": {
        "name": "data-480da8c1d1098e0941c498f02b73978a"
       },
       "datasets": {
        "data-480da8c1d1098e0941c498f02b73978a": [
         {
          "cnt_sites": 1,
          "num_pilots": 7668
         },
         {
          "cnt_sites": 2,
          "num_pilots": 4722
         },
         {
          "cnt_sites": 3,
          "num_pilots": 3378
         },
         {
          "cnt_sites": 4,
          "num_pilots": 2539
         },
         {
          "cnt_sites": 5,
          "num_pilots": 1996
         },
         {
          "cnt_sites": 6,
          "num_pilots": 1666
         },
         {
          "cnt_sites": 7,
          "num_pilots": 1410
         },
         {
          "cnt_sites": 8,
          "num_pilots": 1139
         },
         {
          "cnt_sites": 9,
          "num_pilots": 993
         },
         {
          "cnt_sites": 10,
          "num_pilots": 780
         },
         {
          "cnt_sites": 11,
          "num_pilots": 691
         },
         {
          "cnt_sites": 12,
          "num_pilots": 586
         },
         {
          "cnt_sites": 13,
          "num_pilots": 530
         },
         {
          "cnt_sites": 14,
          "num_pilots": 434
         },
         {
          "cnt_sites": 15,
          "num_pilots": 381
         },
         {
          "cnt_sites": 16,
          "num_pilots": 327
         },
         {
          "cnt_sites": 17,
          "num_pilots": 281
         },
         {
          "cnt_sites": 18,
          "num_pilots": 224
         },
         {
          "cnt_sites": 19,
          "num_pilots": 215
         },
         {
          "cnt_sites": 20,
          "num_pilots": 187
         },
         {
          "cnt_sites": 21,
          "num_pilots": 159
         },
         {
          "cnt_sites": 22,
          "num_pilots": 148
         },
         {
          "cnt_sites": 23,
          "num_pilots": 110
         },
         {
          "cnt_sites": 24,
          "num_pilots": 107
         },
         {
          "cnt_sites": 25,
          "num_pilots": 77
         },
         {
          "cnt_sites": 26,
          "num_pilots": 69
         },
         {
          "cnt_sites": 27,
          "num_pilots": 90
         },
         {
          "cnt_sites": 28,
          "num_pilots": 55
         },
         {
          "cnt_sites": 29,
          "num_pilots": 38
         },
         {
          "cnt_sites": 30,
          "num_pilots": 44
         },
         {
          "cnt_sites": 31,
          "num_pilots": 33
         },
         {
          "cnt_sites": 32,
          "num_pilots": 29
         },
         {
          "cnt_sites": 33,
          "num_pilots": 28
         },
         {
          "cnt_sites": 34,
          "num_pilots": 33
         },
         {
          "cnt_sites": 35,
          "num_pilots": 29
         },
         {
          "cnt_sites": 36,
          "num_pilots": 9
         },
         {
          "cnt_sites": 37,
          "num_pilots": 17
         },
         {
          "cnt_sites": 38,
          "num_pilots": 9
         },
         {
          "cnt_sites": 39,
          "num_pilots": 13
         },
         {
          "cnt_sites": 40,
          "num_pilots": 9
         },
         {
          "cnt_sites": 41,
          "num_pilots": 14
         },
         {
          "cnt_sites": 42,
          "num_pilots": 6
         },
         {
          "cnt_sites": 43,
          "num_pilots": 4
         },
         {
          "cnt_sites": 44,
          "num_pilots": 6
         },
         {
          "cnt_sites": 45,
          "num_pilots": 6
         },
         {
          "cnt_sites": 46,
          "num_pilots": 2
         },
         {
          "cnt_sites": 47,
          "num_pilots": 2
         },
         {
          "cnt_sites": 48,
          "num_pilots": 4
         },
         {
          "cnt_sites": 49,
          "num_pilots": 2
         },
         {
          "cnt_sites": 50,
          "num_pilots": 2
         },
         {
          "cnt_sites": 51,
          "num_pilots": 2
         },
         {
          "cnt_sites": 52,
          "num_pilots": 2
         },
         {
          "cnt_sites": 53,
          "num_pilots": 1
         },
         {
          "cnt_sites": 55,
          "num_pilots": 3
         },
         {
          "cnt_sites": 58,
          "num_pilots": 1
         },
         {
          "cnt_sites": 62,
          "num_pilots": 1
         }
        ]
       },
       "encoding": {
        "tooltip": [
         {
          "field": "num_pilots",
          "title": "Number of Pilots",
          "type": "quantitative"
         },
         {
          "field": "cnt_sites",
          "title": "Sites Visited",
          "type": "ordinal"
         }
        ],
        "x": {
         "field": "cnt_sites",
         "title": "Number of Sites Visited by Pilot",
         "type": "ordinal"
        },
        "y": {
         "field": "num_pilots",
         "title": "Number of Pilots",
         "type": "quantitative"
        }
       },
       "height": 400,
       "mark": {
        "color": "teal",
        "type": "bar"
       },
       "title": "Distribution of Sites Visited per Pilot",
       "width": 600
      },
      "text/plain": [
       "<VegaLite 5 object>\n",
       "\n",
       "If you see this message, it means the renderer has not been properly enabled\n",
       "for the frontend that you are using. For more information, see\n",
       "https://altair-viz.github.io/user_guide/display_frontends.html#troubleshooting\n"
      ]
     },
     "metadata": {},
     "output_type": "display_data"
    }
   ],
   "source": [
    "# Compute histogram in SQL, then plot as a simple barchart\n",
    "query = \"\"\"\n",
    "SELECT\n",
    "    cnt_sites,\n",
    "    COUNT(*) AS num_pilots\n",
    "FROM (\n",
    "    SELECT\n",
    "        pilot,\n",
    "        COUNT(DISTINCT site) AS cnt_sites\n",
    "    FROM glideator_mart.fact_flights\n",
    "    GROUP BY pilot\n",
    ") pilot_sites\n",
    "GROUP BY cnt_sites\n",
    "ORDER BY cnt_sites\n",
    "\"\"\"\n",
    "histogram_df = pd.read_sql(query, engine)\n",
    "\n",
    "hist_chart = alt.Chart(histogram_df).mark_bar(color='teal').encode(\n",
    "    x=alt.X('cnt_sites:O', title='Number of Sites Visited by Pilot'),\n",
    "    y=alt.Y('num_pilots:Q', title='Number of Pilots'),\n",
    "    tooltip=[alt.Tooltip('num_pilots:Q', title='Number of Pilots'), alt.Tooltip('cnt_sites:O', title='Sites Visited')]\n",
    ").properties(\n",
    "    width=600,\n",
    "    height=400,\n",
    "    title='Distribution of Sites Visited per Pilot'\n",
    ")\n",
    "hist_chart.show()"
   ]
  },
  {
   "cell_type": "code",
   "execution_count": 7,
   "id": "80d2d67f",
   "metadata": {},
   "outputs": [
    {
     "data": {
      "application/vnd.vegalite.v5+json": {
       "$schema": "https://vega.github.io/schema/vega-lite/v5.17.0.json",
       "config": {
        "view": {
         "continuousHeight": 300,
         "continuousWidth": 300
        }
       },
       "data": {
        "name": "data-342fb05b089c829d8c0030fad01eee82"
       },
       "datasets": {
        "data-342fb05b089c829d8c0030fad01eee82": [
         {
          "num_flights": 1,
          "num_pilots": 3534
         },
         {
          "num_flights": 2,
          "num_pilots": 2316
         },
         {
          "num_flights": 3,
          "num_pilots": 1759
         },
         {
          "num_flights": 4,
          "num_pilots": 1424
         },
         {
          "num_flights": 5,
          "num_pilots": 1218
         },
         {
          "num_flights": 6,
          "num_pilots": 1057
         },
         {
          "num_flights": 7,
          "num_pilots": 890
         },
         {
          "num_flights": 8,
          "num_pilots": 848
         },
         {
          "num_flights": 9,
          "num_pilots": 804
         },
         {
          "num_flights": 10,
          "num_pilots": 675
         },
         {
          "num_flights": 11,
          "num_pilots": 675
         },
         {
          "num_flights": 12,
          "num_pilots": 608
         },
         {
          "num_flights": 13,
          "num_pilots": 551
         },
         {
          "num_flights": 14,
          "num_pilots": 470
         },
         {
          "num_flights": 15,
          "num_pilots": 455
         },
         {
          "num_flights": 16,
          "num_pilots": 393
         },
         {
          "num_flights": 17,
          "num_pilots": 362
         },
         {
          "num_flights": 18,
          "num_pilots": 371
         },
         {
          "num_flights": 19,
          "num_pilots": 325
         },
         {
          "num_flights": 20,
          "num_pilots": 337
         },
         {
          "num_flights": 21,
          "num_pilots": 317
         },
         {
          "num_flights": 22,
          "num_pilots": 293
         },
         {
          "num_flights": 23,
          "num_pilots": 280
         },
         {
          "num_flights": 24,
          "num_pilots": 255
         },
         {
          "num_flights": 25,
          "num_pilots": 243
         },
         {
          "num_flights": 26,
          "num_pilots": 261
         },
         {
          "num_flights": 27,
          "num_pilots": 261
         },
         {
          "num_flights": 28,
          "num_pilots": 222
         },
         {
          "num_flights": 29,
          "num_pilots": 242
         },
         {
          "num_flights": 30,
          "num_pilots": 249
         },
         {
          "num_flights": 31,
          "num_pilots": 195
         },
         {
          "num_flights": 32,
          "num_pilots": 170
         },
         {
          "num_flights": 33,
          "num_pilots": 183
         },
         {
          "num_flights": 34,
          "num_pilots": 191
         },
         {
          "num_flights": 35,
          "num_pilots": 195
         },
         {
          "num_flights": 36,
          "num_pilots": 159
         },
         {
          "num_flights": 37,
          "num_pilots": 178
         },
         {
          "num_flights": 38,
          "num_pilots": 151
         },
         {
          "num_flights": 39,
          "num_pilots": 170
         },
         {
          "num_flights": 40,
          "num_pilots": 141
         },
         {
          "num_flights": 41,
          "num_pilots": 131
         },
         {
          "num_flights": 42,
          "num_pilots": 136
         },
         {
          "num_flights": 43,
          "num_pilots": 133
         },
         {
          "num_flights": 44,
          "num_pilots": 130
         },
         {
          "num_flights": 45,
          "num_pilots": 122
         },
         {
          "num_flights": 46,
          "num_pilots": 120
         },
         {
          "num_flights": 47,
          "num_pilots": 125
         },
         {
          "num_flights": 48,
          "num_pilots": 140
         },
         {
          "num_flights": 49,
          "num_pilots": 129
         },
         {
          "num_flights": 50,
          "num_pilots": 111
         },
         {
          "num_flights": 51,
          "num_pilots": 110
         },
         {
          "num_flights": 52,
          "num_pilots": 101
         },
         {
          "num_flights": 53,
          "num_pilots": 125
         },
         {
          "num_flights": 54,
          "num_pilots": 111
         },
         {
          "num_flights": 55,
          "num_pilots": 94
         },
         {
          "num_flights": 56,
          "num_pilots": 99
         },
         {
          "num_flights": 57,
          "num_pilots": 90
         },
         {
          "num_flights": 58,
          "num_pilots": 99
         },
         {
          "num_flights": 59,
          "num_pilots": 97
         },
         {
          "num_flights": 60,
          "num_pilots": 75
         },
         {
          "num_flights": 61,
          "num_pilots": 90
         },
         {
          "num_flights": 62,
          "num_pilots": 81
         },
         {
          "num_flights": 63,
          "num_pilots": 85
         },
         {
          "num_flights": 64,
          "num_pilots": 83
         },
         {
          "num_flights": 65,
          "num_pilots": 77
         },
         {
          "num_flights": 66,
          "num_pilots": 71
         },
         {
          "num_flights": 67,
          "num_pilots": 72
         },
         {
          "num_flights": 68,
          "num_pilots": 69
         },
         {
          "num_flights": 69,
          "num_pilots": 65
         },
         {
          "num_flights": 70,
          "num_pilots": 74
         },
         {
          "num_flights": 71,
          "num_pilots": 65
         },
         {
          "num_flights": 72,
          "num_pilots": 71
         },
         {
          "num_flights": 73,
          "num_pilots": 74
         },
         {
          "num_flights": 74,
          "num_pilots": 59
         },
         {
          "num_flights": 75,
          "num_pilots": 61
         },
         {
          "num_flights": 76,
          "num_pilots": 82
         },
         {
          "num_flights": 77,
          "num_pilots": 80
         },
         {
          "num_flights": 78,
          "num_pilots": 62
         },
         {
          "num_flights": 79,
          "num_pilots": 56
         },
         {
          "num_flights": 80,
          "num_pilots": 63
         },
         {
          "num_flights": 81,
          "num_pilots": 58
         },
         {
          "num_flights": 82,
          "num_pilots": 42
         },
         {
          "num_flights": 83,
          "num_pilots": 52
         },
         {
          "num_flights": 84,
          "num_pilots": 55
         },
         {
          "num_flights": 85,
          "num_pilots": 50
         },
         {
          "num_flights": 86,
          "num_pilots": 47
         },
         {
          "num_flights": 87,
          "num_pilots": 53
         },
         {
          "num_flights": 88,
          "num_pilots": 45
         },
         {
          "num_flights": 89,
          "num_pilots": 48
         },
         {
          "num_flights": 90,
          "num_pilots": 46
         },
         {
          "num_flights": 91,
          "num_pilots": 58
         },
         {
          "num_flights": 92,
          "num_pilots": 45
         },
         {
          "num_flights": 93,
          "num_pilots": 43
         },
         {
          "num_flights": 94,
          "num_pilots": 45
         },
         {
          "num_flights": 95,
          "num_pilots": 40
         },
         {
          "num_flights": 96,
          "num_pilots": 47
         },
         {
          "num_flights": 97,
          "num_pilots": 45
         },
         {
          "num_flights": 98,
          "num_pilots": 40
         },
         {
          "num_flights": 99,
          "num_pilots": 49
         },
         {
          "num_flights": 100,
          "num_pilots": 39
         }
        ]
       },
       "encoding": {
        "tooltip": [
         {
          "field": "num_pilots",
          "title": "Number of Pilots",
          "type": "quantitative"
         },
         {
          "field": "num_flights",
          "title": "Flights",
          "type": "ordinal"
         }
        ],
        "x": {
         "field": "num_flights",
         "title": "Number of Flights per Pilot",
         "type": "ordinal"
        },
        "y": {
         "field": "num_pilots",
         "title": "Number of Pilots",
         "type": "quantitative"
        }
       },
       "height": 400,
       "mark": {
        "color": "orange",
        "type": "bar"
       },
       "title": "Distribution of Flights per Pilot",
       "width": 600
      },
      "text/plain": [
       "<VegaLite 5 object>\n",
       "\n",
       "If you see this message, it means the renderer has not been properly enabled\n",
       "for the frontend that you are using. For more information, see\n",
       "https://altair-viz.github.io/user_guide/display_frontends.html#troubleshooting\n"
      ]
     },
     "metadata": {},
     "output_type": "display_data"
    }
   ],
   "source": [
    "# Compute histogram in SQL, then plot as a simple barchart for flights per pilot\n",
    "query = \"\"\"\n",
    "SELECT\n",
    "    num_flights,\n",
    "    COUNT(*) AS num_pilots\n",
    "FROM (\n",
    "    SELECT\n",
    "        pilot,\n",
    "        COUNT(*) AS num_flights\n",
    "    FROM glideator_mart.fact_flights\n",
    "    GROUP BY pilot\n",
    ") pilot_flights\n",
    "GROUP BY num_flights\n",
    "ORDER BY num_flights\n",
    "LIMIT 100\n",
    "\"\"\"\n",
    "flights_histogram_df = pd.read_sql(query, engine)\n",
    "\n",
    "flights_hist_chart = alt.Chart(flights_histogram_df).mark_bar(color='orange').encode(\n",
    "    x=alt.X('num_flights:O', title='Number of Flights per Pilot'),\n",
    "    y=alt.Y('num_pilots:Q', title='Number of Pilots'),\n",
    "    tooltip=[alt.Tooltip('num_pilots:Q', title='Number of Pilots'), alt.Tooltip('num_flights:O', title='Flights')]\n",
    ").properties(\n",
    "    width=600,\n",
    "    height=400,\n",
    "    title='Distribution of Flights per Pilot'\n",
    ")\n",
    "flights_hist_chart.show()"
   ]
  }
 ],
 "metadata": {
  "kernelspec": {
   "display_name": "env-jl",
   "language": "python",
   "name": "env-jl"
  },
  "language_info": {
   "codemirror_mode": {
    "name": "ipython",
    "version": 3
   },
   "file_extension": ".py",
   "mimetype": "text/x-python",
   "name": "python",
   "nbconvert_exporter": "python",
   "pygments_lexer": "ipython3",
   "version": "3.10.12"
  }
 },
 "nbformat": 4,
 "nbformat_minor": 5
}
