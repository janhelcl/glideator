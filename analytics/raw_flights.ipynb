{
 "cells": [
  {
   "cell_type": "code",
   "execution_count": 1,
   "id": "28a47395-1a59-4e82-b10d-aa3ed1b02539",
   "metadata": {},
   "outputs": [],
   "source": [
    "import os\n",
    "\n",
    "import pandas as pd\n",
    "from dotenv import load_dotenv\n",
    "from sqlalchemy import create_engine\n",
    "import altair as alt"
   ]
  },
  {
   "cell_type": "code",
   "execution_count": 2,
   "id": "c262c0f0-8ab0-4ca4-82cc-7a3ff97a84d7",
   "metadata": {},
   "outputs": [
    {
     "data": {
      "text/plain": [
       "RendererRegistry.enable('mimetype')"
      ]
     },
     "execution_count": 2,
     "metadata": {},
     "output_type": "execute_result"
    }
   ],
   "source": [
    "alt.renderers.enable(\"mimetype\")"
   ]
  },
  {
   "cell_type": "code",
   "execution_count": 3,
   "id": "43b94187-f008-462d-91ad-571b54eea11c",
   "metadata": {},
   "outputs": [],
   "source": [
    "load_dotenv()\n",
    "\n",
    "connection_string = \"postgresql://{user}:{password}@{host}:{port}/{db}\".format(\n",
    "    user=os.getenv('DB_USER'),\n",
    "    password=os.getenv('DB_PASSWORD'),\n",
    "    host=os.getenv('DB_HOST'),\n",
    "    port=os.getenv('DB_PORT'),\n",
    "    db=os.getenv('DB_NAME')\n",
    ")\n",
    "engine = create_engine(connection_string)"
   ]
  },
  {
   "cell_type": "code",
   "execution_count": 4,
   "id": "7b7b54f2-da83-4af9-8b5b-cdb657310736",
   "metadata": {},
   "outputs": [
    {
     "data": {
      "application/vnd.vegalite.v5+json": {
       "$schema": "https://vega.github.io/schema/vega-lite/v5.17.0.json",
       "config": {
        "view": {
         "continuousHeight": 300,
         "continuousWidth": 300
        }
       },
       "data": {
        "name": "data-632d65b826985fed6d539c5b780eba97"
       },
       "datasets": {
        "data-632d65b826985fed6d539c5b780eba97": [
         {
          "flying_days": 277,
          "total_flights": 5419,
          "year": 2011
         },
         {
          "flying_days": 280,
          "total_flights": 5867,
          "year": 2012
         },
         {
          "flying_days": 292,
          "total_flights": 7548,
          "year": 2013
         },
         {
          "flying_days": 311,
          "total_flights": 9372,
          "year": 2014
         },
         {
          "flying_days": 324,
          "total_flights": 11880,
          "year": 2015
         },
         {
          "flying_days": 326,
          "total_flights": 11746,
          "year": 2016
         },
         {
          "flying_days": 310,
          "total_flights": 11647,
          "year": 2017
         },
         {
          "flying_days": 323,
          "total_flights": 15005,
          "year": 2018
         },
         {
          "flying_days": 317,
          "total_flights": 15118,
          "year": 2019
         },
         {
          "flying_days": 327,
          "total_flights": 20005,
          "year": 2020
         },
         {
          "flying_days": 330,
          "total_flights": 20061,
          "year": 2021
         },
         {
          "flying_days": 329,
          "total_flights": 19723,
          "year": 2022
         },
         {
          "flying_days": 330,
          "total_flights": 18945,
          "year": 2023
         }
        ]
       },
       "height": 400,
       "layer": [
        {
         "encoding": {
          "tooltip": [
           {
            "field": "year",
            "type": "nominal"
           },
           {
            "field": "total_flights",
            "type": "quantitative"
           },
           {
            "field": "flying_days",
            "type": "quantitative"
           }
          ],
          "x": {
           "axis": {
            "title": "Year"
           },
           "field": "year",
           "type": "nominal"
          },
          "y": {
           "axis": {
            "title": "Number of registered flights"
           },
           "field": "total_flights",
           "type": "quantitative"
          }
         },
         "mark": {
          "color": "blue",
          "type": "bar"
         }
        },
        {
         "encoding": {
          "tooltip": [
           {
            "field": "year",
            "type": "nominal"
           },
           {
            "field": "total_flights",
            "type": "quantitative"
           },
           {
            "field": "flying_days",
            "type": "quantitative"
           }
          ],
          "x": {
           "axis": {
            "title": "Year"
           },
           "field": "year",
           "type": "nominal"
          },
          "y": {
           "axis": {
            "title": "Number of flying days"
           },
           "field": "flying_days",
           "type": "quantitative"
          }
         },
         "mark": {
          "color": "red",
          "type": "line"
         },
         "transform": [
          {
           "as": "var2",
           "calculate": "datum.flying_days"
          }
         ]
        }
       ],
       "resolve": {
        "scale": {
         "y": "independent"
        }
       },
       "title": "XContest activity over time (yearly)",
       "width": 600
      },
      "image/png": "[encoded data removed]",
      "text/plain": [
       "<VegaLite 5 object>\n",
       "\n",
       "If you see this message, it means the renderer has not been properly enabled\n",
       "for the frontend that you are using. For more information, see\n",
       "https://altair-viz.github.io/user_guide/display_frontends.html#troubleshooting\n"
      ]
     },
     "metadata": {},
     "output_type": "display_data"
    }
   ],
   "source": [
    "query = \"\"\"\n",
    "WITH flights AS (\n",
    "    SELECT\n",
    "        *,\n",
    "        DATE_PART('year', date) AS year\n",
    "    FROM source.flights\n",
    ")\n",
    "SELECT\n",
    "    year,\n",
    "    COUNT(*) AS total_flights,\n",
    "    COUNT(DISTINCT date) AS flying_days\n",
    "FROM flights\n",
    "WHERE year < 2024\n",
    "GROUP BY year\n",
    "ORDER BY year\n",
    "\"\"\"\n",
    "df = pd.read_sql(query, engine)\n",
    "base = alt.Chart(df).encode(\n",
    "    x=alt.X('year:N', axis=alt.Axis(title='Year')),\n",
    "    tooltip=['year:N', 'total_flights:Q', 'flying_days:Q']\n",
    ")\n",
    "bar = base.mark_bar(color='blue').encode(\n",
    "    y=alt.Y('total_flights:Q', axis=alt.Axis(title='Number of registered flights'))\n",
    ")\n",
    "line1 = base.mark_line(color='red').encode(\n",
    "    y=alt.Y('flying_days:Q', axis=alt.Axis(title='Number of flying days')),\n",
    ").transform_calculate(\n",
    "    var2='datum.flying_days'\n",
    ")\n",
    "combined = alt.layer(bar, line1).resolve_scale(\n",
    "    y='independent'\n",
    ").properties(\n",
    "    width=600,\n",
    "    height=400,\n",
    "    title=\"XContest activity over time (yearly)\"\n",
    ")\n",
    "combined.show()"
   ]
  },
  {
   "cell_type": "code",
   "execution_count": 5,
   "id": "39750b32-9d87-405f-a2eb-b2188fb5eb7d",
   "metadata": {},
   "outputs": [
    {
     "data": {
      "application/vnd.vegalite.v5+json": {
       "$schema": "https://vega.github.io/schema/vega-lite/v5.17.0.json",
       "config": {
        "view": {
         "continuousHeight": 300,
         "continuousWidth": 300
        }
       },
       "data": {
        "name": "data-9c0eaa342d6888902d7179b21cd77a5d"
       },
       "datasets": {
        "data-9c0eaa342d6888902d7179b21cd77a5d": [
         {
          "cumulative_flights": 3,
          "day_of_year": 1,
          "year": 2011
         },
         {
          "cumulative_flights": 8,
          "day_of_year": 2,
          "year": 2011
         },
         {
          "cumulative_flights": 14,
          "day_of_year": 3,
          "year": 2011
         },
         {
          "cumulative_flights": 14,
          "day_of_year": 4,
          "year": 2011
         },
         {
          "cumulative_flights": 16,
          "day_of_year": 5,
          "year": 2011
         },
         {
          "cumulative_flights": 16,
          "day_of_year": 6,
          "year": 2011
         },
         {
          "cumulative_flights": 16,
          "day_of_year": 7,
          "year": 2011
         },
         {
          "cumulative_flights": 16,
          "day_of_year": 8,
          "year": 2011
         },
         {
          "cumulative_flights": 16,
          "day_of_year": 9,
          "year": 2011
         },
         {
          "cumulative_flights": 16,
          "day_of_year": 10,
          "year": 2011
         },
         {
          "cumulative_flights": 17,
          "day_of_year": 11,
          "year": 2011
         },
         {
          "cumulative_flights": 17,
          "day_of_year": 12,
          "year": 2011
         },
         {
          "cumulative_flights": 17,
          "day_of_year": 13,
          "year": 2011
         },
         {
          "cumulative_flights": 17,
          "day_of_year": 14,
          "year": 2011
         },
         {
          "cumulative_flights": 18,
          "day_of_year": 15,
          "year": 2011
         },
         {
          "cumulative_flights": 34,
          "day_of_year": 16,
          "year": 2011
         },
         {
          "cumulative_flights": 45,
          "day_of_year": 17,
          "year": 2011
         },
         {
          "cumulative_flights": 49,
          "day_of_year": 18,
          "year": 2011
         },
         {
          "cumulative_flights": 49,
          "day_of_year": 19,
          "year": 2011
         },
         {
          "cumulative_flights": 52,
          "day_of_year": 20,
          "year": 2011
         },
         {
          "cumulative_flights": 57,
          "day_of_year": 21,
          "year": 2011
         },
         {
          "cumulative_flights": 62,
          "day_of_year": 22,
          "year": 2011
         },
         {
          "cumulative_flights": 67,
          "day_of_year": 23,
          "year": 2011
         },
         {
          "cumulative_flights": 67,
          "day_of_year": 24,
          "year": 2011
         },
         {
          "cumulative_flights": 67,
          "day_of_year": 25,
          "year": 2011
         },
         {
          "cumulative_flights": 67,
          "day_of_year": 26,
          "year": 2011
         },
         {
          "cumulative_flights": 68,
          "day_of_year": 27,
          "year": 2011
         },
         {
          "cumulative_flights": 71,
          "day_of_year": 28,
          "year": 2011
         },
         {
          "cumulative_flights": 103,
          "day_of_year": 29,
          "year": 2011
         },
         {
          "cumulative_flights": 110,
          "day_of_year": 30,
          "year": 2011
         },
         {
          "cumulative_flights": 117,
          "day_of_year": 31,
          "year": 2011
         },
         {
          "cumulative_flights": 119,
          "day_of_year": 32,
          "year": 2011
         },
         {
          "cumulative_flights": 119,
          "day_of_year": 33,
          "year": 2011
         },
         {
          "cumulative_flights": 119,
          "day_of_year": 34,
          "year": 2011
         },
         {
          "cumulative_flights": 121,
          "day_of_year": 35,
          "year": 2011
         },
         {
          "cumulative_flights": 121,
          "day_of_year": 36,
          "year": 2011
         },
         {
          "cumulative_flights": 122,
          "day_of_year": 37,
          "year": 2011
         },
         {
          "cumulative_flights": 130,
          "day_of_year": 38,
          "year": 2011
         },
         {
          "cumulative_flights": 134,
          "day_of_year": 39,
          "year": 2011
         },
         {
          "cumulative_flights": 144,
          "day_of_year": 40,
          "year": 2011
         },
         {
          "cumulative_flights": 155,
          "day_of_year": 41,
          "year": 2011
         },
         {
          "cumulative_flights": 155,
          "day_of_year": 42,
          "year": 2011
         },
         {
          "cumulative_flights": 169,
          "day_of_year": 43,
          "year": 2011
         },
         {
          "cumulative_flights": 177,
          "day_of_year": 44,
          "year": 2011
         },
         {
          "cumulative_flights": 186,
          "day_of_year": 45,
          "year": 2011
         },
         {
          "cumulative_flights": 193,
          "day_of_year": 46,
          "year": 2011
         },
         {
          "cumulative_flights": 215,
          "day_of_year": 47,
          "year": 2011
         },
         {
          "cumulative_flights": 216,
          "day_of_year": 48,
          "year": 2011
         },
         {
          "cumulative_flights": 216,
          "day_of_year": 49,
          "year": 2011
         },
         {
          "cumulative_flights": 217,
          "day_of_year": 50,
          "year": 2011
         },
         {
          "cumulative_flights": 222,
          "day_of_year": 51,
          "year": 2011
         },
         {
          "cumulative_flights": 222,
          "day_of_year": 52,
          "year": 2011
         },
         {
          "cumulative_flights": 222,
          "day_of_year": 53,
          "year": 2011
         },
         {
          "cumulative_flights": 229,
          "day_of_year": 54,
          "year": 2011
         },
         {
          "cumulative_flights": 233,
          "day_of_year": 55,
          "year": 2011
         },
         {
          "cumulative_flights": 248,
          "day_of_year": 56,
          "year": 2011
         },
         {
          "cumulative_flights": 288,
          "day_of_year": 57,
          "year": 2011
         },
         {
          "cumulative_flights": 320,
          "day_of_year": 58,
          "year": 2011
         },
         {
          "cumulative_flights": 331,
          "day_of_year": 59,
          "year": 2011
         },
         {
          "cumulative_flights": 347,
          "day_of_year": 60,
          "year": 2011
         },
         {
          "cumulative_flights": 349,
          "day_of_year": 61,
          "year": 2011
         },
         {
          "cumulative_flights": 360,
          "day_of_year": 62,
          "year": 2011
         },
         {
          "cumulative_flights": 371,
          "day_of_year": 63,
          "year": 2011
         },
         {
          "cumulative_flights": 422,
          "day_of_year": 64,
          "year": 2011
         },
         {
          "cumulative_flights": 430,
          "day_of_year": 65,
          "year": 2011
         },
         {
          "cumulative_flights": 457,
          "day_of_year": 66,
          "year": 2011
         },
         {
          "cumulative_flights": 485,
          "day_of_year": 67,
          "year": 2011
         },
         {
          "cumulative_flights": 490,
          "day_of_year": 68,
          "year": 2011
         },
         {
          "cumulative_flights": 490,
          "day_of_year": 69,
          "year": 2011
         },
         {
          "cumulative_flights": 493,
          "day_of_year": 70,
          "year": 2011
         },
         {
          "cumulative_flights": 557,
          "day_of_year": 71,
          "year": 2011
         },
         {
          "cumulative_flights": 568,
          "day_of_year": 72,
          "year": 2011
         },
         {
          "cumulative_flights": 572,
          "day_of_year": 73,
          "year": 2011
         },
         {
          "cumulative_flights": 590,
          "day_of_year": 74,
          "year": 2011
         },
         {
          "cumulative_flights": 593,
          "day_of_year": 75,
          "year": 2011
         },
         {
          "cumulative_flights": 593,
          "day_of_year": 76,
          "year": 2011
         },
         {
          "cumulative_flights": 593,
          "day_of_year": 77,
          "year": 2011
         },
         {
          "cumulative_flights": 594,
          "day_of_year": 78,
          "year": 2011
         },
         {
          "cumulative_flights": 628,
          "day_of_year": 79,
          "year": 2011
         },
         {
          "cumulative_flights": 678,
          "day_of_year": 80,
          "year": 2011
         },
         {
          "cumulative_flights": 686,
          "day_of_year": 81,
          "year": 2011
         },
         {
          "cumulative_flights": 704,
          "day_of_year": 82,
          "year": 2011
         },
         {
          "cumulative_flights": 729,
          "day_of_year": 83,
          "year": 2011
         },
         {
          "cumulative_flights": 733,
          "day_of_year": 84,
          "year": 2011
         },
         {
          "cumulative_flights": 735,
          "day_of_year": 85,
          "year": 2011
         },
         {
          "cumulative_flights": 790,
          "day_of_year": 86,
          "year": 2011
         },
         {
          "cumulative_flights": 813,
          "day_of_year": 87,
          "year": 2011
         },
         {
          "cumulative_flights": 872,
          "day_of_year": 88,
          "year": 2011
         },
         {
          "cumulative_flights": 929,
          "day_of_year": 89,
          "year": 2011
         },
         {
          "cumulative_flights": 931,
          "day_of_year": 90,
          "year": 2011
         },
         {
          "cumulative_flights": 931,
          "day_of_year": 91,
          "year": 2011
         },
         {
          "cumulative_flights": 990,
          "day_of_year": 92,
          "year": 2011
         },
         {
          "cumulative_flights": 1103,
          "day_of_year": 93,
          "year": 2011
         },
         {
          "cumulative_flights": 1103,
          "day_of_year": 94,
          "year": 2011
         },
         {
          "cumulative_flights": 1129,
          "day_of_year": 95,
          "year": 2011
         },
         {
          "cumulative_flights": 1132,
          "day_of_year": 96,
          "year": 2011
         },
         {
          "cumulative_flights": 1132,
          "day_of_year": 97,
          "year": 2011
         },
         {
          "cumulative_flights": 1132,
          "day_of_year": 98,
          "year": 2011
         },
         {
          "cumulative_flights": 1137,
          "day_of_year": 99,
          "year": 2011
         },
         {
          "cumulative_flights": 1158,
          "day_of_year": 100,
          "year": 2011
         },
         {
          "cumulative_flights": 1168,
          "day_of_year": 101,
          "year": 2011
         },
         {
          "cumulative_flights": 1168,
          "day_of_year": 102,
          "year": 2011
         },
         {
          "cumulative_flights": 1168,
          "day_of_year": 103,
          "year": 2011
         },
         {
          "cumulative_flights": 1171,
          "day_of_year": 104,
          "year": 2011
         },
         {
          "cumulative_flights": 1172,
          "day_of_year": 105,
          "year": 2011
         },
         {
          "cumulative_flights": 1268,
          "day_of_year": 106,
          "year": 2011
         },
         {
          "cumulative_flights": 1369,
          "day_of_year": 107,
          "year": 2011
         },
         {
          "cumulative_flights": 1440,
          "day_of_year": 108,
          "year": 2011
         },
         {
          "cumulative_flights": 1474,
          "day_of_year": 109,
          "year": 2011
         },
         {
          "cumulative_flights": 1516,
          "day_of_year": 110,
          "year": 2011
         },
         {
          "cumulative_flights": 1560,
          "day_of_year": 111,
          "year": 2011
         },
         {
          "cumulative_flights": 1590,
          "day_of_year": 112,
          "year": 2011
         },
         {
          "cumulative_flights": 1653,
          "day_of_year": 113,
          "year": 2011
         },
         {
          "cumulative_flights": 1680,
          "day_of_year": 114,
          "year": 2011
         },
         {
          "cumulative_flights": 1683,
          "day_of_year": 115,
          "year": 2011
         },
         {
          "cumulative_flights": 1683,
          "day_of_year": 116,
          "year": 2011
         },
         {
          "cumulative_flights": 1686,
          "day_of_year": 117,
          "year": 2011
         },
         {
          "cumulative_flights": 1695,
          "day_of_year": 118,
          "year": 2011
         },
         {
          "cumulative_flights": 1696,
          "day_of_year": 119,
          "year": 2011
         },
         {
          "cumulative_flights": 1702,
          "day_of_year": 120,
          "year": 2011
         },
         {
          "cumulative_flights": 1708,
          "day_of_year": 121,
          "year": 2011
         },
         {
          "cumulative_flights": 1732,
          "day_of_year": 122,
          "year": 2011
         },
         {
          "cumulative_flights": 1733,
          "day_of_year": 123,
          "year": 2011
         },
         {
          "cumulative_flights": 1744,
          "day_of_year": 124,
          "year": 2011
         },
         {
          "cumulative_flights": 1771,
          "day_of_year": 125,
          "year": 2011
         },
         {
          "cumulative_flights": 1823,
          "day_of_year": 126,
          "year": 2011
         },
         {
          "cumulative_flights": 1889,
          "day_of_year": 127,
          "year": 2011
         },
         {
          "cumulative_flights": 1909,
          "day_of_year": 128,
          "year": 2011
         },
         {
          "cumulative_flights": 1951,
          "day_of_year": 129,
          "year": 2011
         },
         {
          "cumulative_flights": 1982,
          "day_of_year": 130,
          "year": 2011
         },
         {
          "cumulative_flights": 2051,
          "day_of_year": 131,
          "year": 2011
         },
         {
          "cumulative_flights": 2052,
          "day_of_year": 132,
          "year": 2011
         },
         {
          "cumulative_flights": 2082,
          "day_of_year": 133,
          "year": 2011
         },
         {
          "cumulative_flights": 2099,
          "day_of_year": 134,
          "year": 2011
         },
         {
          "cumulative_flights": 2117,
          "day_of_year": 135,
          "year": 2011
         },
         {
          "cumulative_flights": 2121,
          "day_of_year": 136,
          "year": 2011
         },
         {
          "cumulative_flights": 2126,
          "day_of_year": 137,
          "year": 2011
         },
         {
          "cumulative_flights": 2186,
          "day_of_year": 138,
          "year": 2011
         },
         {
          "cumulative_flights": 2226,
          "day_of_year": 139,
          "year": 2011
         },
         {
          "cumulative_flights": 2235,
          "day_of_year": 140,
          "year": 2011
         },
         {
          "cumulative_flights": 2244,
          "day_of_year": 141,
          "year": 2011
         },
         {
          "cumulative_flights": 2286,
          "day_of_year": 142,
          "year": 2011
         },
         {
          "cumulative_flights": 2313,
          "day_of_year": 143,
          "year": 2011
         },
         {
          "cumulative_flights": 2348,
          "day_of_year": 144,
          "year": 2011
         },
         {
          "cumulative_flights": 2419,
          "day_of_year": 145,
          "year": 2011
         },
         {
          "cumulative_flights": 2426,
          "day_of_year": 146,
          "year": 2011
         },
         {
          "cumulative_flights": 2426,
          "day_of_year": 147,
          "year": 2011
         },
         {
          "cumulative_flights": 2435,
          "day_of_year": 148,
          "year": 2011
         },
         {
          "cumulative_flights": 2512,
          "day_of_year": 149,
          "year": 2011
         },
         {
          "cumulative_flights": 2536,
          "day_of_year": 150,
          "year": 2011
         },
         {
          "cumulative_flights": 2539,
          "day_of_year": 151,
          "year": 2011
         },
         {
          "cumulative_flights": 2539,
          "day_of_year": 152,
          "year": 2011
         },
         {
          "cumulative_flights": 2546,
          "day_of_year": 153,
          "year": 2011
         },
         {
          "cumulative_flights": 2549,
          "day_of_year": 154,
          "year": 2011
         },
         {
          "cumulative_flights": 2586,
          "day_of_year": 155,
          "year": 2011
         },
         {
          "cumulative_flights": 2595,
          "day_of_year": 156,
          "year": 2011
         },
         {
          "cumulative_flights": 2604,
          "day_of_year": 157,
          "year": 2011
         },
         {
          "cumulative_flights": 2616,
          "day_of_year": 158,
          "year": 2011
         },
         {
          "cumulative_flights": 2616,
          "day_of_year": 159,
          "year": 2011
         },
         {
          "cumulative_flights": 2635,
          "day_of_year": 160,
          "year": 2011
         },
         {
          "cumulative_flights": 2672,
          "day_of_year": 161,
          "year": 2011
         },
         {
          "cumulative_flights": 2748,
          "day_of_year": 162,
          "year": 2011
         },
         {
          "cumulative_flights": 2778,
          "day_of_year": 163,
          "year": 2011
         },
         {
          "cumulative_flights": 2797,
          "day_of_year": 164,
          "year": 2011
         },
         {
          "cumulative_flights": 2802,
          "day_of_year": 165,
          "year": 2011
         },
         {
          "cumulative_flights": 2831,
          "day_of_year": 166,
          "year": 2011
         },
         {
          "cumulative_flights": 2846,
          "day_of_year": 167,
          "year": 2011
         },
         {
          "cumulative_flights": 2860,
          "day_of_year": 168,
          "year": 2011
         },
         {
          "cumulative_flights": 2861,
          "day_of_year": 169,
          "year": 2011
         },
         {
          "cumulative_flights": 2861,
          "day_of_year": 170,
          "year": 2011
         },
         {
          "cumulative_flights": 2863,
          "day_of_year": 171,
          "year": 2011
         },
         {
          "cumulative_flights": 2863,
          "day_of_year": 172,
          "year": 2011
         },
         {
          "cumulative_flights": 2866,
          "day_of_year": 173,
          "year": 2011
         },
         {
          "cumulative_flights": 2873,
          "day_of_year": 174,
          "year": 2011
         },
         {
          "cumulative_flights": 2876,
          "day_of_year": 175,
          "year": 2011
         },
         {
          "cumulative_flights": 2896,
          "day_of_year": 176,
          "year": 2011
         },
         {
          "cumulative_flights": 2919,
          "day_of_year": 177,
          "year": 2011
         },
         {
          "cumulative_flights": 2958,
          "day_of_year": 178,
          "year": 2011
         },
         {
          "cumulative_flights": 3007,
          "day_of_year": 179,
          "year": 2011
         },
         {
          "cumulative_flights": 3064,
          "day_of_year": 180,
          "year": 2011
         },
         {
          "cumulative_flights": 3064,
          "day_of_year": 181,
          "year": 2011
         },
         {
          "cumulative_flights": 3073,
          "day_of_year": 182,
          "year": 2011
         },
         {
          "cumulative_flights": 3073,
          "day_of_year": 183,
          "year": 2011
         },
         {
          "cumulative_flights": 3073,
          "day_of_year": 184,
          "year": 2011
         },
         {
          "cumulative_flights": 3076,
          "day_of_year": 185,
          "year": 2011
         },
         {
          "cumulative_flights": 3085,
          "day_of_year": 186,
          "year": 2011
         },
         {
          "cumulative_flights": 3194,
          "day_of_year": 187,
          "year": 2011
         },
         {
          "cumulative_flights": 3226,
          "day_of_year": 188,
          "year": 2011
         },
         {
          "cumulative_flights": 3227,
          "day_of_year": 189,
          "year": 2011
         },
         {
          "cumulative_flights": 3277,
          "day_of_year": 190,
          "year": 2011
         },
         {
          "cumulative_flights": 3306,
          "day_of_year": 191,
          "year": 2011
         },
         {
          "cumulative_flights": 3316,
          "day_of_year": 192,
          "year": 2011
         },
         {
          "cumulative_flights": 3408,
          "day_of_year": 193,
          "year": 2011
         },
         {
          "cumulative_flights": 3413,
          "day_of_year": 194,
          "year": 2011
         },
         {
          "cumulative_flights": 3418,
          "day_of_year": 195,
          "year": 2011
         },
         {
          "cumulative_flights": 3422,
          "day_of_year": 196,
          "year": 2011
         },
         {
          "cumulative_flights": 3567,
          "day_of_year": 197,
          "year": 2011
         },
         {
          "cumulative_flights": 3574,
          "day_of_year": 198,
          "year": 2011
         },
         {
          "cumulative_flights": 3578,
          "day_of_year": 199,
          "year": 2011
         },
         {
          "cumulative_flights": 3599,
          "day_of_year": 200,
          "year": 2011
         },
         {
          "cumulative_flights": 3601,
          "day_of_year": 201,
          "year": 2011
         },
         {
          "cumulative_flights": 3601,
          "day_of_year": 202,
          "year": 2011
         },
         {
          "cumulative_flights": 3603,
          "day_of_year": 203,
          "year": 2011
         },
         {
          "cumulative_flights": 3620,
          "day_of_year": 204,
          "year": 2011
         },
         {
          "cumulative_flights": 3631,
          "day_of_year": 205,
          "year": 2011
         },
         {
          "cumulative_flights": 3643,
          "day_of_year": 206,
          "year": 2011
         },
         {
          "cumulative_flights": 3652,
          "day_of_year": 207,
          "year": 2011
         },
         {
          "cumulative_flights": 3664,
          "day_of_year": 208,
          "year": 2011
         },
         {
          "cumulative_flights": 3665,
          "day_of_year": 209,
          "year": 2011
         },
         {
          "cumulative_flights": 3677,
          "day_of_year": 210,
          "year": 2011
         },
         {
          "cumulative_flights": 3680,
          "day_of_year": 211,
          "year": 2011
         },
         {
          "cumulative_flights": 3680,
          "day_of_year": 212,
          "year": 2011
         },
         {
          "cumulative_flights": 3680,
          "day_of_year": 213,
          "year": 2011
         },
         {
          "cumulative_flights": 3717,
          "day_of_year": 214,
          "year": 2011
         },
         {
          "cumulative_flights": 3820,
          "day_of_year": 215,
          "year": 2011
         },
         {
          "cumulative_flights": 3827,
          "day_of_year": 216,
          "year": 2011
         },
         {
          "cumulative_flights": 3836,
          "day_of_year": 217,
          "year": 2011
         },
         {
          "cumulative_flights": 3851,
          "day_of_year": 218,
          "year": 2011
         },
         {
          "cumulative_flights": 3851,
          "day_of_year": 219,
          "year": 2011
         },
         {
          "cumulative_flights": 3851,
          "day_of_year": 220,
          "year": 2011
         },
         {
          "cumulative_flights": 3851,
          "day_of_year": 221,
          "year": 2011
         },
         {
          "cumulative_flights": 3854,
          "day_of_year": 222,
          "year": 2011
         },
         {
          "cumulative_flights": 3858,
          "day_of_year": 223,
          "year": 2011
         },
         {
          "cumulative_flights": 3867,
          "day_of_year": 224,
          "year": 2011
         },
         {
          "cumulative_flights": 3870,
          "day_of_year": 225,
          "year": 2011
         },
         {
          "cumulative_flights": 3921,
          "day_of_year": 226,
          "year": 2011
         },
         {
          "cumulative_flights": 3921,
          "day_of_year": 227,
          "year": 2011
         },
         {
          "cumulative_flights": 3927,
          "day_of_year": 228,
          "year": 2011
         },
         {
          "cumulative_flights": 3988,
          "day_of_year": 229,
          "year": 2011
         },
         {
          "cumulative_flights": 4031,
          "day_of_year": 230,
          "year": 2011
         },
         {
          "cumulative_flights": 4031,
          "day_of_year": 231,
          "year": 2011
         },
         {
          "cumulative_flights": 4116,
          "day_of_year": 232,
          "year": 2011
         },
         {
          "cumulative_flights": 4158,
          "day_of_year": 233,
          "year": 2011
         },
         {
          "cumulative_flights": 4166,
          "day_of_year": 234,
          "year": 2011
         },
         {
          "cumulative_flights": 4175,
          "day_of_year": 235,
          "year": 2011
         },
         {
          "cumulative_flights": 4191,
          "day_of_year": 236,
          "year": 2011
         },
         {
          "cumulative_flights": 4209,
          "day_of_year": 237,
          "year": 2011
         },
         {
          "cumulative_flights": 4221,
          "day_of_year": 238,
          "year": 2011
         },
         {
          "cumulative_flights": 4221,
          "day_of_year": 239,
          "year": 2011
         },
         {
          "cumulative_flights": 4296,
          "day_of_year": 240,
          "year": 2011
         },
         {
          "cumulative_flights": 4311,
          "day_of_year": 241,
          "year": 2011
         },
         {
          "cumulative_flights": 4326,
          "day_of_year": 242,
          "year": 2011
         },
         {
          "cumulative_flights": 4375,
          "day_of_year": 243,
          "year": 2011
         },
         {
          "cumulative_flights": 4402,
          "day_of_year": 244,
          "year": 2011
         },
         {
          "cumulative_flights": 4438,
          "day_of_year": 245,
          "year": 2011
         },
         {
          "cumulative_flights": 4562,
          "day_of_year": 246,
          "year": 2011
         },
         {
          "cumulative_flights": 4578,
          "day_of_year": 247,
          "year": 2011
         },
         {
          "cumulative_flights": 4578,
          "day_of_year": 248,
          "year": 2011
         },
         {
          "cumulative_flights": 4599,
          "day_of_year": 249,
          "year": 2011
         },
         {
          "cumulative_flights": 4600,
          "day_of_year": 250,
          "year": 2011
         },
         {
          "cumulative_flights": 4600,
          "day_of_year": 251,
          "year": 2011
         },
         {
          "cumulative_flights": 4600,
          "day_of_year": 252,
          "year": 2011
         },
         {
          "cumulative_flights": 4614,
          "day_of_year": 253,
          "year": 2011
         },
         {
          "cumulative_flights": 4667,
          "day_of_year": 254,
          "year": 2011
         },
         {
          "cumulative_flights": 4671,
          "day_of_year": 255,
          "year": 2011
         },
         {
          "cumulative_flights": 4676,
          "day_of_year": 256,
          "year": 2011
         },
         {
          "cumulative_flights": 4684,
          "day_of_year": 257,
          "year": 2011
         },
         {
          "cumulative_flights": 4718,
          "day_of_year": 258,
          "year": 2011
         },
         {
          "cumulative_flights": 4772,
          "day_of_year": 259,
          "year": 2011
         },
         {
          "cumulative_flights": 4801,
          "day_of_year": 260,
          "year": 2011
         },
         {
          "cumulative_flights": 4801,
          "day_of_year": 261,
          "year": 2011
         },
         {
          "cumulative_flights": 4801,
          "day_of_year": 262,
          "year": 2011
         },
         {
          "cumulative_flights": 4801,
          "day_of_year": 263,
          "year": 2011
         },
         {
          "cumulative_flights": 4801,
          "day_of_year": 264,
          "year": 2011
         },
         {
          "cumulative_flights": 4804,
          "day_of_year": 265,
          "year": 2011
         },
         {
          "cumulative_flights": 4817,
          "day_of_year": 266,
          "year": 2011
         },
         {
          "cumulative_flights": 4874,
          "day_of_year": 267,
          "year": 2011
         },
         {
          "cumulative_flights": 4897,
          "day_of_year": 268,
          "year": 2011
         },
         {
          "cumulative_flights": 4906,
          "day_of_year": 269,
          "year": 2011
         },
         {
          "cumulative_flights": 4909,
          "day_of_year": 270,
          "year": 2011
         },
         {
          "cumulative_flights": 4927,
          "day_of_year": 271,
          "year": 2011
         },
         {
          "cumulative_flights": 4929,
          "day_of_year": 272,
          "year": 2011
         },
         {
          "cumulative_flights": 4936,
          "day_of_year": 273,
          "year": 2011
         },
         {
          "cumulative_flights": 4961,
          "day_of_year": 274,
          "year": 2011
         },
         {
          "cumulative_flights": 4999,
          "day_of_year": 275,
          "year": 2011
         },
         {
          "cumulative_flights": 5004,
          "day_of_year": 276,
          "year": 2011
         },
         {
          "cumulative_flights": 5005,
          "day_of_year": 277,
          "year": 2011
         },
         {
          "cumulative_flights": 5007,
          "day_of_year": 278,
          "year": 2011
         },
         {
          "cumulative_flights": 5009,
          "day_of_year": 279,
          "year": 2011
         },
         {
          "cumulative_flights": 5009,
          "day_of_year": 280,
          "year": 2011
         },
         {
          "cumulative_flights": 5009,
          "day_of_year": 281,
          "year": 2011
         },
         {
          "cumulative_flights": 5025,
          "day_of_year": 282,
          "year": 2011
         },
         {
          "cumulative_flights": 5025,
          "day_of_year": 283,
          "year": 2011
         },
         {
          "cumulative_flights": 5025,
          "day_of_year": 284,
          "year": 2011
         },
         {
          "cumulative_flights": 5025,
          "day_of_year": 285,
          "year": 2011
         },
         {
          "cumulative_flights": 5042,
          "day_of_year": 286,
          "year": 2011
         },
         {
          "cumulative_flights": 5047,
          "day_of_year": 287,
          "year": 2011
         },
         {
          "cumulative_flights": 5087,
          "day_of_year": 288,
          "year": 2011
         },
         {
          "cumulative_flights": 5146,
          "day_of_year": 289,
          "year": 2011
         },
         {
          "cumulative_flights": 5149,
          "day_of_year": 290,
          "year": 2011
         },
         {
          "cumulative_flights": 5151,
          "day_of_year": 291,
          "year": 2011
         },
         {
          "cumulative_flights": 5151,
          "day_of_year": 292,
          "year": 2011
         },
         {
          "cumulative_flights": 5151,
          "day_of_year": 293,
          "year": 2011
         },
         {
          "cumulative_flights": 5157,
          "day_of_year": 294,
          "year": 2011
         },
         {
          "cumulative_flights": 5179,
          "day_of_year": 295,
          "year": 2011
         },
         {
          "cumulative_flights": 5183,
          "day_of_year": 296,
          "year": 2011
         },
         {
          "cumulative_flights": 5183,
          "day_of_year": 297,
          "year": 2011
         },
         {
          "cumulative_flights": 5185,
          "day_of_year": 298,
          "year": 2011
         },
         {
          "cumulative_flights": 5185,
          "day_of_year": 299,
          "year": 2011
         },
         {
          "cumulative_flights": 5191,
          "day_of_year": 300,
          "year": 2011
         },
         {
          "cumulative_flights": 5196,
          "day_of_year": 301,
          "year": 2011
         },
         {
          "cumulative_flights": 5198,
          "day_of_year": 302,
          "year": 2011
         },
         {
          "cumulative_flights": 5206,
          "day_of_year": 303,
          "year": 2011
         },
         {
          "cumulative_flights": 5208,
          "day_of_year": 304,
          "year": 2011
         },
         {
          "cumulative_flights": 5209,
          "day_of_year": 305,
          "year": 2011
         },
         {
          "cumulative_flights": 5210,
          "day_of_year": 306,
          "year": 2011
         },
         {
          "cumulative_flights": 5212,
          "day_of_year": 307,
          "year": 2011
         },
         {
          "cumulative_flights": 5213,
          "day_of_year": 308,
          "year": 2011
         },
         {
          "cumulative_flights": 5214,
          "day_of_year": 309,
          "year": 2011
         },
         {
          "cumulative_flights": 5224,
          "day_of_year": 310,
          "year": 2011
         },
         {
          "cumulative_flights": 5230,
          "day_of_year": 311,
          "year": 2011
         },
         {
          "cumulative_flights": 5232,
          "day_of_year": 312,
          "year": 2011
         },
         {
          "cumulative_flights": 5232,
          "day_of_year": 313,
          "year": 2011
         },
         {
          "cumulative_flights": 5235,
          "day_of_year": 314,
          "year": 2011
         },
         {
          "cumulative_flights": 5256,
          "day_of_year": 315,
          "year": 2011
         },
         {
          "cumulative_flights": 5266,
          "day_of_year": 316,
          "year": 2011
         },
         {
          "cumulative_flights": 5275,
          "day_of_year": 317,
          "year": 2011
         },
         {
          "cumulative_flights": 5275,
          "day_of_year": 318,
          "year": 2011
         },
         {
          "cumulative_flights": 5275,
          "day_of_year": 319,
          "year": 2011
         },
         {
          "cumulative_flights": 5276,
          "day_of_year": 320,
          "year": 2011
         },
         {
          "cumulative_flights": 5282,
          "day_of_year": 321,
          "year": 2011
         },
         {
          "cumulative_flights": 5282,
          "day_of_year": 322,
          "year": 2011
         },
         {
          "cumulative_flights": 5287,
          "day_of_year": 323,
          "year": 2011
         },
         {
          "cumulative_flights": 5291,
          "day_of_year": 324,
          "year": 2011
         },
         {
          "cumulative_flights": 5292,
          "day_of_year": 325,
          "year": 2011
         },
         {
          "cumulative_flights": 5292,
          "day_of_year": 326,
          "year": 2011
         },
         {
          "cumulative_flights": 5292,
          "day_of_year": 327,
          "year": 2011
         },
         {
          "cumulative_flights": 5292,
          "day_of_year": 328,
          "year": 2011
         },
         {
          "cumulative_flights": 5292,
          "day_of_year": 329,
          "year": 2011
         },
         {
          "cumulative_flights": 5309,
          "day_of_year": 330,
          "year": 2011
         },
         {
          "cumulative_flights": 5311,
          "day_of_year": 331,
          "year": 2011
         },
         {
          "cumulative_flights": 5317,
          "day_of_year": 332,
          "year": 2011
         },
         {
          "cumulative_flights": 5325,
          "day_of_year": 333,
          "year": 2011
         },
         {
          "cumulative_flights": 5325,
          "day_of_year": 334,
          "year": 2011
         },
         {
          "cumulative_flights": 5328,
          "day_of_year": 335,
          "year": 2011
         },
         {
          "cumulative_flights": 5333,
          "day_of_year": 336,
          "year": 2011
         },
         {
          "cumulative_flights": 5334,
          "day_of_year": 337,
          "year": 2011
         },
         {
          "cumulative_flights": 5337,
          "day_of_year": 338,
          "year": 2011
         },
         {
          "cumulative_flights": 5337,
          "day_of_year": 339,
          "year": 2011
         },
         {
          "cumulative_flights": 5337,
          "day_of_year": 340,
          "year": 2011
         },
         {
          "cumulative_flights": 5337,
          "day_of_year": 341,
          "year": 2011
         },
         {
          "cumulative_flights": 5337,
          "day_of_year": 342,
          "year": 2011
         },
         {
          "cumulative_flights": 5337,
          "day_of_year": 343,
          "year": 2011
         },
         {
          "cumulative_flights": 5338,
          "day_of_year": 344,
          "year": 2011
         },
         {
          "cumulative_flights": 5368,
          "day_of_year": 345,
          "year": 2011
         },
         {
          "cumulative_flights": 5369,
          "day_of_year": 346,
          "year": 2011
         },
         {
          "cumulative_flights": 5372,
          "day_of_year": 347,
          "year": 2011
         },
         {
          "cumulative_flights": 5373,
          "day_of_year": 348,
          "year": 2011
         },
         {
          "cumulative_flights": 5373,
          "day_of_year": 349,
          "year": 2011
         },
         {
          "cumulative_flights": 5373,
          "day_of_year": 350,
          "year": 2011
         },
         {
          "cumulative_flights": 5373,
          "day_of_year": 351,
          "year": 2011
         },
         {
          "cumulative_flights": 5376,
          "day_of_year": 352,
          "year": 2011
         },
         {
          "cumulative_flights": 5381,
          "day_of_year": 353,
          "year": 2011
         },
         {
          "cumulative_flights": 5386,
          "day_of_year": 354,
          "year": 2011
         },
         {
          "cumulative_flights": 5386,
          "day_of_year": 355,
          "year": 2011
         },
         {
          "cumulative_flights": 5386,
          "day_of_year": 356,
          "year": 2011
         },
         {
          "cumulative_flights": 5386,
          "day_of_year": 357,
          "year": 2011
         },
         {
          "cumulative_flights": 5386,
          "day_of_year": 358,
          "year": 2011
         },
         {
          "cumulative_flights": 5386,
          "day_of_year": 359,
          "year": 2011
         },
         {
          "cumulative_flights": 5390,
          "day_of_year": 360,
          "year": 2011
         },
         {
          "cumulative_flights": 5390,
          "day_of_year": 361,
          "year": 2011
         },
         {
          "cumulative_flights": 5403,
          "day_of_year": 362,
          "year": 2011
         },
         {
          "cumulative_flights": 5403,
          "day_of_year": 363,
          "year": 2011
         },
         {
          "cumulative_flights": 5403,
          "day_of_year": 364,
          "year": 2011
         },
         {
          "cumulative_flights": 5419,
          "day_of_year": 365,
          "year": 2011
         },
         {
          "cumulative_flights": 0,
          "day_of_year": 1,
          "year": 2012
         },
         {
          "cumulative_flights": 0,
          "day_of_year": 2,
          "year": 2012
         },
         {
          "cumulative_flights": 5,
          "day_of_year": 3,
          "year": 2012
         },
         {
          "cumulative_flights": 5,
          "day_of_year": 4,
          "year": 2012
         },
         {
          "cumulative_flights": 5,
          "day_of_year": 5,
          "year": 2012
         },
         {
          "cumulative_flights": 5,
          "day_of_year": 6,
          "year": 2012
         },
         {
          "cumulative_flights": 5,
          "day_of_year": 7,
          "year": 2012
         },
         {
          "cumulative_flights": 5,
          "day_of_year": 8,
          "year": 2012
         },
         {
          "cumulative_flights": 6,
          "day_of_year": 9,
          "year": 2012
         },
         {
          "cumulative_flights": 8,
          "day_of_year": 10,
          "year": 2012
         },
         {
          "cumulative_flights": 11,
          "day_of_year": 11,
          "year": 2012
         },
         {
          "cumulative_flights": 11,
          "day_of_year": 12,
          "year": 2012
         },
         {
          "cumulative_flights": 11,
          "day_of_year": 13,
          "year": 2012
         },
         {
          "cumulative_flights": 11,
          "day_of_year": 14,
          "year": 2012
         },
         {
          "cumulative_flights": 32,
          "day_of_year": 15,
          "year": 2012
         },
         {
          "cumulative_flights": 37,
          "day_of_year": 16,
          "year": 2012
         },
         {
          "cumulative_flights": 38,
          "day_of_year": 17,
          "year": 2012
         },
         {
          "cumulative_flights": 43,
          "day_of_year": 18,
          "year": 2012
         },
         {
          "cumulative_flights": 43,
          "day_of_year": 19,
          "year": 2012
         },
         {
          "cumulative_flights": 43,
          "day_of_year": 20,
          "year": 2012
         },
         {
          "cumulative_flights": 43,
          "day_of_year": 21,
          "year": 2012
         },
         {
          "cumulative_flights": 43,
          "day_of_year": 22,
          "year": 2012
         },
         {
          "cumulative_flights": 43,
          "day_of_year": 23,
          "year": 2012
         },
         {
          "cumulative_flights": 45,
          "day_of_year": 24,
          "year": 2012
         },
         {
          "cumulative_flights": 45,
          "day_of_year": 25,
          "year": 2012
         },
         {
          "cumulative_flights": 62,
          "day_of_year": 26,
          "year": 2012
         },
         {
          "cumulative_flights": 67,
          "day_of_year": 27,
          "year": 2012
         },
         {
          "cumulative_flights": 79,
          "day_of_year": 28,
          "year": 2012
         },
         {
          "cumulative_flights": 103,
          "day_of_year": 29,
          "year": 2012
         },
         {
          "cumulative_flights": 104,
          "day_of_year": 30,
          "year": 2012
         },
         {
          "cumulative_flights": 104,
          "day_of_year": 31,
          "year": 2012
         },
         {
          "cumulative_flights": 105,
          "day_of_year": 32,
          "year": 2012
         },
         {
          "cumulative_flights": 109,
          "day_of_year": 33,
          "year": 2012
         },
         {
          "cumulative_flights": 109,
          "day_of_year": 34,
          "year": 2012
         },
         {
          "cumulative_flights": 116,
          "day_of_year": 35,
          "year": 2012
         },
         {
          "cumulative_flights": 126,
          "day_of_year": 36,
          "year": 2012
         },
         {
          "cumulative_flights": 127,
          "day_of_year": 37,
          "year": 2012
         },
         {
          "cumulative_flights": 127,
          "day_of_year": 38,
          "year": 2012
         },
         {
          "cumulative_flights": 128,
          "day_of_year": 39,
          "year": 2012
         },
         {
          "cumulative_flights": 128,
          "day_of_year": 40,
          "year": 2012
         },
         {
          "cumulative_flights": 128,
          "day_of_year": 41,
          "year": 2012
         },
         {
          "cumulative_flights": 128,
          "day_of_year": 42,
          "year": 2012
         },
         {
          "cumulative_flights": 128,
          "day_of_year": 43,
          "year": 2012
         },
         {
          "cumulative_flights": 128,
          "day_of_year": 44,
          "year": 2012
         },
         {
          "cumulative_flights": 128,
          "day_of_year": 45,
          "year": 2012
         },
         {
          "cumulative_flights": 128,
          "day_of_year": 46,
          "year": 2012
         },
         {
          "cumulative_flights": 129,
          "day_of_year": 47,
          "year": 2012
         },
         {
          "cumulative_flights": 129,
          "day_of_year": 48,
          "year": 2012
         },
         {
          "cumulative_flights": 134,
          "day_of_year": 49,
          "year": 2012
         },
         {
          "cumulative_flights": 134,
          "day_of_year": 50,
          "year": 2012
         },
         {
          "cumulative_flights": 150,
          "day_of_year": 51,
          "year": 2012
         },
         {
          "cumulative_flights": 157,
          "day_of_year": 52,
          "year": 2012
         },
         {
          "cumulative_flights": 162,
          "day_of_year": 53,
          "year": 2012
         },
         {
          "cumulative_flights": 162,
          "day_of_year": 54,
          "year": 2012
         },
         {
          "cumulative_flights": 162,
          "day_of_year": 55,
          "year": 2012
         },
         {
          "cumulative_flights": 162,
          "day_of_year": 56,
          "year": 2012
         },
         {
          "cumulative_flights": 163,
          "day_of_year": 57,
          "year": 2012
         },
         {
          "cumulative_flights": 193,
          "day_of_year": 58,
          "year": 2012
         },
         {
          "cumulative_flights": 193,
          "day_of_year": 59,
          "year": 2012
         },
         {
          "cumulative_flights": 193,
          "day_of_year": 60,
          "year": 2012
         },
         {
          "cumulative_flights": 199,
          "day_of_year": 61,
          "year": 2012
         },
         {
          "cumulative_flights": 223,
          "day_of_year": 62,
          "year": 2012
         },
         {
          "cumulative_flights": 288,
          "day_of_year": 63,
          "year": 2012
         },
         {
          "cumulative_flights": 301,
          "day_of_year": 64,
          "year": 2012
         },
         {
          "cumulative_flights": 306,
          "day_of_year": 65,
          "year": 2012
         },
         {
          "cumulative_flights": 327,
          "day_of_year": 66,
          "year": 2012
         },
         {
          "cumulative_flights": 344,
          "day_of_year": 67,
          "year": 2012
         },
         {
          "cumulative_flights": 344,
          "day_of_year": 68,
          "year": 2012
         },
         {
          "cumulative_flights": 370,
          "day_of_year": 69,
          "year": 2012
         },
         {
          "cumulative_flights": 381,
          "day_of_year": 70,
          "year": 2012
         },
         {
          "cumulative_flights": 381,
          "day_of_year": 71,
          "year": 2012
         },
         {
          "cumulative_flights": 382,
          "day_of_year": 72,
          "year": 2012
         },
         {
          "cumulative_flights": 389,
          "day_of_year": 73,
          "year": 2012
         },
         {
          "cumulative_flights": 392,
          "day_of_year": 74,
          "year": 2012
         },
         {
          "cumulative_flights": 399,
          "day_of_year": 75,
          "year": 2012
         },
         {
          "cumulative_flights": 425,
          "day_of_year": 76,
          "year": 2012
         },
         {
          "cumulative_flights": 479,
          "day_of_year": 77,
          "year": 2012
         },
         {
          "cumulative_flights": 533,
          "day_of_year": 78,
          "year": 2012
         },
         {
          "cumulative_flights": 553,
          "day_of_year": 79,
          "year": 2012
         },
         {
          "cumulative_flights": 581,
          "day_of_year": 80,
          "year": 2012
         },
         {
          "cumulative_flights": 592,
          "day_of_year": 81,
          "year": 2012
         },
         {
          "cumulative_flights": 612,
          "day_of_year": 82,
          "year": 2012
         },
         {
          "cumulative_flights": 658,
          "day_of_year": 83,
          "year": 2012
         },
         {
          "cumulative_flights": 770,
          "day_of_year": 84,
          "year": 2012
         },
         {
          "cumulative_flights": 795,
          "day_of_year": 85,
          "year": 2012
         },
         {
          "cumulative_flights": 806,
          "day_of_year": 86,
          "year": 2012
         },
         {
          "cumulative_flights": 810,
          "day_of_year": 87,
          "year": 2012
         },
         {
          "cumulative_flights": 823,
          "day_of_year": 88,
          "year": 2012
         },
         {
          "cumulative_flights": 823,
          "day_of_year": 89,
          "year": 2012
         },
         {
          "cumulative_flights": 823,
          "day_of_year": 90,
          "year": 2012
         },
         {
          "cumulative_flights": 823,
          "day_of_year": 91,
          "year": 2012
         },
         {
          "cumulative_flights": 848,
          "day_of_year": 92,
          "year": 2012
         },
         {
          "cumulative_flights": 853,
          "day_of_year": 93,
          "year": 2012
         },
         {
          "cumulative_flights": 879,
          "day_of_year": 94,
          "year": 2012
         },
         {
          "cumulative_flights": 894,
          "day_of_year": 95,
          "year": 2012
         },
         {
          "cumulative_flights": 894,
          "day_of_year": 96,
          "year": 2012
         },
         {
          "cumulative_flights": 896,
          "day_of_year": 97,
          "year": 2012
         },
         {
          "cumulative_flights": 899,
          "day_of_year": 98,
          "year": 2012
         },
         {
          "cumulative_flights": 904,
          "day_of_year": 99,
          "year": 2012
         },
         {
          "cumulative_flights": 982,
          "day_of_year": 100,
          "year": 2012
         },
         {
          "cumulative_flights": 988,
          "day_of_year": 101,
          "year": 2012
         },
         {
          "cumulative_flights": 995,
          "day_of_year": 102,
          "year": 2012
         },
         {
          "cumulative_flights": 995,
          "day_of_year": 103,
          "year": 2012
         },
         {
          "cumulative_flights": 1058,
          "day_of_year": 104,
          "year": 2012
         },
         {
          "cumulative_flights": 1080,
          "day_of_year": 105,
          "year": 2012
         },
         {
          "cumulative_flights": 1080,
          "day_of_year": 106,
          "year": 2012
         },
         {
          "cumulative_flights": 1080,
          "day_of_year": 107,
          "year": 2012
         },
         {
          "cumulative_flights": 1180,
          "day_of_year": 108,
          "year": 2012
         },
         {
          "cumulative_flights": 1217,
          "day_of_year": 109,
          "year": 2012
         },
         {
          "cumulative_flights": 1234,
          "day_of_year": 110,
          "year": 2012
         },
         {
          "cumulative_flights": 1272,
          "day_of_year": 111,
          "year": 2012
         },
         {
          "cumulative_flights": 1297,
          "day_of_year": 112,
          "year": 2012
         },
         {
          "cumulative_flights": 1304,
          "day_of_year": 113,
          "year": 2012
         },
         {
          "cumulative_flights": 1337,
          "day_of_year": 114,
          "year": 2012
         },
         {
          "cumulative_flights": 1346,
          "day_of_year": 115,
          "year": 2012
         },
         {
          "cumulative_flights": 1362,
          "day_of_year": 116,
          "year": 2012
         },
         {
          "cumulative_flights": 1390,
          "day_of_year": 117,
          "year": 2012
         },
         {
          "cumulative_flights": 1470,
          "day_of_year": 118,
          "year": 2012
         },
         {
          "cumulative_flights": 1510,
          "day_of_year": 119,
          "year": 2012
         },
         {
          "cumulative_flights": 1521,
          "day_of_year": 120,
          "year": 2012
         },
         {
          "cumulative_flights": 1562,
          "day_of_year": 121,
          "year": 2012
         },
         {
          "cumulative_flights": 1631,
          "day_of_year": 122,
          "year": 2012
         },
         {
          "cumulative_flights": 1650,
          "day_of_year": 123,
          "year": 2012
         },
         {
          "cumulative_flights": 1659,
          "day_of_year": 124,
          "year": 2012
         },
         {
          "cumulative_flights": 1688,
          "day_of_year": 125,
          "year": 2012
         },
         {
          "cumulative_flights": 1744,
          "day_of_year": 126,
          "year": 2012
         },
         {
          "cumulative_flights": 1751,
          "day_of_year": 127,
          "year": 2012
         },
         {
          "cumulative_flights": 1771,
          "day_of_year": 128,
          "year": 2012
         },
         {
          "cumulative_flights": 1970,
          "day_of_year": 129,
          "year": 2012
         },
         {
          "cumulative_flights": 1984,
          "day_of_year": 130,
          "year": 2012
         },
         {
          "cumulative_flights": 2029,
          "day_of_year": 131,
          "year": 2012
         },
         {
          "cumulative_flights": 2043,
          "day_of_year": 132,
          "year": 2012
         },
         {
          "cumulative_flights": 2043,
          "day_of_year": 133,
          "year": 2012
         },
         {
          "cumulative_flights": 2097,
          "day_of_year": 134,
          "year": 2012
         },
         {
          "cumulative_flights": 2170,
          "day_of_year": 135,
          "year": 2012
         },
         {
          "cumulative_flights": 2193,
          "day_of_year": 136,
          "year": 2012
         },
         {
          "cumulative_flights": 2194,
          "day_of_year": 137,
          "year": 2012
         },
         {
          "cumulative_flights": 2216,
          "day_of_year": 138,
          "year": 2012
         },
         {
          "cumulative_flights": 2235,
          "day_of_year": 139,
          "year": 2012
         },
         {
          "cumulative_flights": 2319,
          "day_of_year": 140,
          "year": 2012
         },
         {
          "cumulative_flights": 2338,
          "day_of_year": 141,
          "year": 2012
         },
         {
          "cumulative_flights": 2338,
          "day_of_year": 142,
          "year": 2012
         },
         {
          "cumulative_flights": 2342,
          "day_of_year": 143,
          "year": 2012
         },
         {
          "cumulative_flights": 2352,
          "day_of_year": 144,
          "year": 2012
         },
         {
          "cumulative_flights": 2354,
          "day_of_year": 145,
          "year": 2012
         },
         {
          "cumulative_flights": 2370,
          "day_of_year": 146,
          "year": 2012
         },
         {
          "cumulative_flights": 2437,
          "day_of_year": 147,
          "year": 2012
         },
         {
          "cumulative_flights": 2537,
          "day_of_year": 148,
          "year": 2012
         },
         {
          "cumulative_flights": 2540,
          "day_of_year": 149,
          "year": 2012
         },
         {
          "cumulative_flights": 2568,
          "day_of_year": 150,
          "year": 2012
         },
         {
          "cumulative_flights": 2582,
          "day_of_year": 151,
          "year": 2012
         },
         {
          "cumulative_flights": 2585,
          "day_of_year": 152,
          "year": 2012
         },
         {
          "cumulative_flights": 2586,
          "day_of_year": 153,
          "year": 2012
         },
         {
          "cumulative_flights": 2601,
          "day_of_year": 154,
          "year": 2012
         },
         {
          "cumulative_flights": 2603,
          "day_of_year": 155,
          "year": 2012
         },
         {
          "cumulative_flights": 2604,
          "day_of_year": 156,
          "year": 2012
         },
         {
          "cumulative_flights": 2610,
          "day_of_year": 157,
          "year": 2012
         },
         {
          "cumulative_flights": 2611,
          "day_of_year": 158,
          "year": 2012
         },
         {
          "cumulative_flights": 2638,
          "day_of_year": 159,
          "year": 2012
         },
         {
          "cumulative_flights": 2641,
          "day_of_year": 160,
          "year": 2012
         },
         {
          "cumulative_flights": 2651,
          "day_of_year": 161,
          "year": 2012
         },
         {
          "cumulative_flights": 2651,
          "day_of_year": 162,
          "year": 2012
         },
         {
          "cumulative_flights": 2652,
          "day_of_year": 163,
          "year": 2012
         },
         {
          "cumulative_flights": 2654,
          "day_of_year": 164,
          "year": 2012
         },
         {
          "cumulative_flights": 2656,
          "day_of_year": 165,
          "year": 2012
         },
         {
          "cumulative_flights": 2656,
          "day_of_year": 166,
          "year": 2012
         },
         {
          "cumulative_flights": 2719,
          "day_of_year": 167,
          "year": 2012
         },
         {
          "cumulative_flights": 2759,
          "day_of_year": 168,
          "year": 2012
         },
         {
          "cumulative_flights": 2821,
          "day_of_year": 169,
          "year": 2012
         },
         {
          "cumulative_flights": 2827,
          "day_of_year": 170,
          "year": 2012
         },
         {
          "cumulative_flights": 2844,
          "day_of_year": 171,
          "year": 2012
         },
         {
          "cumulative_flights": 2846,
          "day_of_year": 172,
          "year": 2012
         },
         {
          "cumulative_flights": 2849,
          "day_of_year": 173,
          "year": 2012
         },
         {
          "cumulative_flights": 2860,
          "day_of_year": 174,
          "year": 2012
         },
         {
          "cumulative_flights": 2979,
          "day_of_year": 175,
          "year": 2012
         },
         {
          "cumulative_flights": 3039,
          "day_of_year": 176,
          "year": 2012
         },
         {
          "cumulative_flights": 3039,
          "day_of_year": 177,
          "year": 2012
         },
         {
          "cumulative_flights": 3052,
          "day_of_year": 178,
          "year": 2012
         },
         {
          "cumulative_flights": 3062,
          "day_of_year": 179,
          "year": 2012
         },
         {
          "cumulative_flights": 3064,
          "day_of_year": 180,
          "year": 2012
         },
         {
          "cumulative_flights": 3072,
          "day_of_year": 181,
          "year": 2012
         },
         {
          "cumulative_flights": 3097,
          "day_of_year": 182,
          "year": 2012
         },
         {
          "cumulative_flights": 3101,
          "day_of_year": 183,
          "year": 2012
         },
         {
          "cumulative_flights": 3101,
          "day_of_year": 184,
          "year": 2012
         },
         {
          "cumulative_flights": 3101,
          "day_of_year": 185,
          "year": 2012
         },
         {
          "cumulative_flights": 3103,
          "day_of_year": 186,
          "year": 2012
         },
         {
          "cumulative_flights": 3111,
          "day_of_year": 187,
          "year": 2012
         },
         {
          "cumulative_flights": 3130,
          "day_of_year": 188,
          "year": 2012
         },
         {
          "cumulative_flights": 3147,
          "day_of_year": 189,
          "year": 2012
         },
         {
          "cumulative_flights": 3184,
          "day_of_year": 190,
          "year": 2012
         },
         {
          "cumulative_flights": 3197,
          "day_of_year": 191,
          "year": 2012
         },
         {
          "cumulative_flights": 3222,
          "day_of_year": 192,
          "year": 2012
         },
         {
          "cumulative_flights": 3230,
          "day_of_year": 193,
          "year": 2012
         },
         {
          "cumulative_flights": 3230,
          "day_of_year": 194,
          "year": 2012
         },
         {
          "cumulative_flights": 3230,
          "day_of_year": 195,
          "year": 2012
         },
         {
          "cumulative_flights": 3230,
          "day_of_year": 196,
          "year": 2012
         },
         {
          "cumulative_flights": 3238,
          "day_of_year": 197,
          "year": 2012
         },
         {
          "cumulative_flights": 3239,
          "day_of_year": 198,
          "year": 2012
         },
         {
          "cumulative_flights": 3239,
          "day_of_year": 199,
          "year": 2012
         },
         {
          "cumulative_flights": 3244,
          "day_of_year": 200,
          "year": 2012
         },
         {
          "cumulative_flights": 3244,
          "day_of_year": 201,
          "year": 2012
         },
         {
          "cumulative_flights": 3252,
          "day_of_year": 202,
          "year": 2012
         },
         {
          "cumulative_flights": 3265,
          "day_of_year": 203,
          "year": 2012
         },
         {
          "cumulative_flights": 3296,
          "day_of_year": 204,
          "year": 2012
         },
         {
          "cumulative_flights": 3373,
          "day_of_year": 205,
          "year": 2012
         },
         {
          "cumulative_flights": 3421,
          "day_of_year": 206,
          "year": 2012
         },
         {
          "cumulative_flights": 3421,
          "day_of_year": 207,
          "year": 2012
         },
         {
          "cumulative_flights": 3432,
          "day_of_year": 208,
          "year": 2012
         },
         {
          "cumulative_flights": 3510,
          "day_of_year": 209,
          "year": 2012
         },
         {
          "cumulative_flights": 3535,
          "day_of_year": 210,
          "year": 2012
         },
         {
          "cumulative_flights": 3535,
          "day_of_year": 211,
          "year": 2012
         },
         {
          "cumulative_flights": 3549,
          "day_of_year": 212,
          "year": 2012
         },
         {
          "cumulative_flights": 3569,
          "day_of_year": 213,
          "year": 2012
         },
         {
          "cumulative_flights": 3671,
          "day_of_year": 214,
          "year": 2012
         },
         {
          "cumulative_flights": 3713,
          "day_of_year": 215,
          "year": 2012
         },
         {
          "cumulative_flights": 3722,
          "day_of_year": 216,
          "year": 2012
         },
         {
          "cumulative_flights": 3816,
          "day_of_year": 217,
          "year": 2012
         },
         {
          "cumulative_flights": 3833,
          "day_of_year": 218,
          "year": 2012
         },
         {
          "cumulative_flights": 3840,
          "day_of_year": 219,
          "year": 2012
         },
         {
          "cumulative_flights": 3847,
          "day_of_year": 220,
          "year": 2012
         },
         {
          "cumulative_flights": 3890,
          "day_of_year": 221,
          "year": 2012
         },
         {
          "cumulative_flights": 3919,
          "day_of_year": 222,
          "year": 2012
         },
         {
          "cumulative_flights": 3931,
          "day_of_year": 223,
          "year": 2012
         },
         {
          "cumulative_flights": 3933,
          "day_of_year": 224,
          "year": 2012
         },
         {
          "cumulative_flights": 4050,
          "day_of_year": 225,
          "year": 2012
         },
         {
          "cumulative_flights": 4144,
          "day_of_year": 226,
          "year": 2012
         },
         {
          "cumulative_flights": 4201,
          "day_of_year": 227,
          "year": 2012
         },
         {
          "cumulative_flights": 4248,
          "day_of_year": 228,
          "year": 2012
         },
         {
          "cumulative_flights": 4261,
          "day_of_year": 229,
          "year": 2012
         },
         {
          "cumulative_flights": 4277,
          "day_of_year": 230,
          "year": 2012
         },
         {
          "cumulative_flights": 4418,
          "day_of_year": 231,
          "year": 2012
         },
         {
          "cumulative_flights": 4492,
          "day_of_year": 232,
          "year": 2012
         },
         {
          "cumulative_flights": 4504,
          "day_of_year": 233,
          "year": 2012
         },
         {
          "cumulative_flights": 4507,
          "day_of_year": 234,
          "year": 2012
         },
         {
          "cumulative_flights": 4508,
          "day_of_year": 235,
          "year": 2012
         },
         {
          "cumulative_flights": 4573,
          "day_of_year": 236,
          "year": 2012
         },
         {
          "cumulative_flights": 4578,
          "day_of_year": 237,
          "year": 2012
         },
         {
          "cumulative_flights": 4584,
          "day_of_year": 238,
          "year": 2012
         },
         {
          "cumulative_flights": 4588,
          "day_of_year": 239,
          "year": 2012
         },
         {
          "cumulative_flights": 4609,
          "day_of_year": 240,
          "year": 2012
         },
         {
          "cumulative_flights": 4651,
          "day_of_year": 241,
          "year": 2012
         },
         {
          "cumulative_flights": 4672,
          "day_of_year": 242,
          "year": 2012
         },
         {
          "cumulative_flights": 4698,
          "day_of_year": 243,
          "year": 2012
         },
         {
          "cumulative_flights": 4698,
          "day_of_year": 244,
          "year": 2012
         },
         {
          "cumulative_flights": 4698,
          "day_of_year": 245,
          "year": 2012
         },
         {
          "cumulative_flights": 4704,
          "day_of_year": 246,
          "year": 2012
         },
         {
          "cumulative_flights": 4708,
          "day_of_year": 247,
          "year": 2012
         },
         {
          "cumulative_flights": 4735,
          "day_of_year": 248,
          "year": 2012
         },
         {
          "cumulative_flights": 4753,
          "day_of_year": 249,
          "year": 2012
         },
         {
          "cumulative_flights": 4769,
          "day_of_year": 250,
          "year": 2012
         },
         {
          "cumulative_flights": 4787,
          "day_of_year": 251,
          "year": 2012
         },
         {
          "cumulative_flights": 4817,
          "day_of_year": 252,
          "year": 2012
         },
         {
          "cumulative_flights": 4918,
          "day_of_year": 253,
          "year": 2012
         },
         {
          "cumulative_flights": 4928,
          "day_of_year": 254,
          "year": 2012
         },
         {
          "cumulative_flights": 4938,
          "day_of_year": 255,
          "year": 2012
         },
         {
          "cumulative_flights": 4940,
          "day_of_year": 256,
          "year": 2012
         },
         {
          "cumulative_flights": 4942,
          "day_of_year": 257,
          "year": 2012
         },
         {
          "cumulative_flights": 4968,
          "day_of_year": 258,
          "year": 2012
         },
         {
          "cumulative_flights": 4988,
          "day_of_year": 259,
          "year": 2012
         },
         {
          "cumulative_flights": 5080,
          "day_of_year": 260,
          "year": 2012
         },
         {
          "cumulative_flights": 5083,
          "day_of_year": 261,
          "year": 2012
         },
         {
          "cumulative_flights": 5103,
          "day_of_year": 262,
          "year": 2012
         },
         {
          "cumulative_flights": 5110,
          "day_of_year": 263,
          "year": 2012
         },
         {
          "cumulative_flights": 5151,
          "day_of_year": 264,
          "year": 2012
         },
         {
          "cumulative_flights": 5160,
          "day_of_year": 265,
          "year": 2012
         },
         {
          "cumulative_flights": 5166,
          "day_of_year": 266,
          "year": 2012
         },
         {
          "cumulative_flights": 5200,
          "day_of_year": 267,
          "year": 2012
         },
         {
          "cumulative_flights": 5201,
          "day_of_year": 268,
          "year": 2012
         },
         {
          "cumulative_flights": 5209,
          "day_of_year": 269,
          "year": 2012
         },
         {
          "cumulative_flights": 5215,
          "day_of_year": 270,
          "year": 2012
         },
         {
          "cumulative_flights": 5217,
          "day_of_year": 271,
          "year": 2012
         },
         {
          "cumulative_flights": 5271,
          "day_of_year": 272,
          "year": 2012
         },
         {
          "cumulative_flights": 5283,
          "day_of_year": 273,
          "year": 2012
         },
         {
          "cumulative_flights": 5350,
          "day_of_year": 274,
          "year": 2012
         },
         {
          "cumulative_flights": 5350,
          "day_of_year": 275,
          "year": 2012
         },
         {
          "cumulative_flights": 5354,
          "day_of_year": 276,
          "year": 2012
         },
         {
          "cumulative_flights": 5368,
          "day_of_year": 277,
          "year": 2012
         },
         {
          "cumulative_flights": 5368,
          "day_of_year": 278,
          "year": 2012
         },
         {
          "cumulative_flights": 5368,
          "day_of_year": 279,
          "year": 2012
         },
         {
          "cumulative_flights": 5373,
          "day_of_year": 280,
          "year": 2012
         },
         {
          "cumulative_flights": 5378,
          "day_of_year": 281,
          "year": 2012
         },
         {
          "cumulative_flights": 5399,
          "day_of_year": 282,
          "year": 2012
         },
         {
          "cumulative_flights": 5408,
          "day_of_year": 283,
          "year": 2012
         },
         {
          "cumulative_flights": 5421,
          "day_of_year": 284,
          "year": 2012
         },
         {
          "cumulative_flights": 5450,
          "day_of_year": 285,
          "year": 2012
         },
         {
          "cumulative_flights": 5458,
          "day_of_year": 286,
          "year": 2012
         },
         {
          "cumulative_flights": 5514,
          "day_of_year": 287,
          "year": 2012
         },
         {
          "cumulative_flights": 5533,
          "day_of_year": 288,
          "year": 2012
         },
         {
          "cumulative_flights": 5534,
          "day_of_year": 289,
          "year": 2012
         },
         {
          "cumulative_flights": 5535,
          "day_of_year": 290,
          "year": 2012
         },
         {
          "cumulative_flights": 5546,
          "day_of_year": 291,
          "year": 2012
         },
         {
          "cumulative_flights": 5556,
          "day_of_year": 292,
          "year": 2012
         },
         {
          "cumulative_flights": 5566,
          "day_of_year": 293,
          "year": 2012
         },
         {
          "cumulative_flights": 5583,
          "day_of_year": 294,
          "year": 2012
         },
         {
          "cumulative_flights": 5589,
          "day_of_year": 295,
          "year": 2012
         },
         {
          "cumulative_flights": 5590,
          "day_of_year": 296,
          "year": 2012
         },
         {
          "cumulative_flights": 5595,
          "day_of_year": 297,
          "year": 2012
         },
         {
          "cumulative_flights": 5595,
          "day_of_year": 298,
          "year": 2012
         },
         {
          "cumulative_flights": 5597,
          "day_of_year": 299,
          "year": 2012
         },
         {
          "cumulative_flights": 5607,
          "day_of_year": 300,
          "year": 2012
         },
         {
          "cumulative_flights": 5607,
          "day_of_year": 301,
          "year": 2012
         },
         {
          "cumulative_flights": 5618,
          "day_of_year": 302,
          "year": 2012
         },
         {
          "cumulative_flights": 5621,
          "day_of_year": 303,
          "year": 2012
         },
         {
          "cumulative_flights": 5621,
          "day_of_year": 304,
          "year": 2012
         },
         {
          "cumulative_flights": 5642,
          "day_of_year": 305,
          "year": 2012
         },
         {
          "cumulative_flights": 5642,
          "day_of_year": 306,
          "year": 2012
         },
         {
          "cumulative_flights": 5646,
          "day_of_year": 307,
          "year": 2012
         },
         {
          "cumulative_flights": 5647,
          "day_of_year": 308,
          "year": 2012
         },
         {
          "cumulative_flights": 5657,
          "day_of_year": 309,
          "year": 2012
         },
         {
          "cumulative_flights": 5659,
          "day_of_year": 310,
          "year": 2012
         },
         {
          "cumulative_flights": 5661,
          "day_of_year": 311,
          "year": 2012
         },
         {
          "cumulative_flights": 5661,
          "day_of_year": 312,
          "year": 2012
         },
         {
          "cumulative_flights": 5668,
          "day_of_year": 313,
          "year": 2012
         },
         {
          "cumulative_flights": 5675,
          "day_of_year": 314,
          "year": 2012
         },
         {
          "cumulative_flights": 5708,
          "day_of_year": 315,
          "year": 2012
         },
         {
          "cumulative_flights": 5708,
          "day_of_year": 316,
          "year": 2012
         },
         {
          "cumulative_flights": 5708,
          "day_of_year": 317,
          "year": 2012
         },
         {
          "cumulative_flights": 5709,
          "day_of_year": 318,
          "year": 2012
         },
         {
          "cumulative_flights": 5721,
          "day_of_year": 319,
          "year": 2012
         },
         {
          "cumulative_flights": 5729,
          "day_of_year": 320,
          "year": 2012
         },
         {
          "cumulative_flights": 5732,
          "day_of_year": 321,
          "year": 2012
         },
         {
          "cumulative_flights": 5750,
          "day_of_year": 322,
          "year": 2012
         },
         {
          "cumulative_flights": 5750,
          "day_of_year": 323,
          "year": 2012
         },
         {
          "cumulative_flights": 5751,
          "day_of_year": 324,
          "year": 2012
         },
         {
          "cumulative_flights": 5752,
          "day_of_year": 325,
          "year": 2012
         },
         {
          "cumulative_flights": 5753,
          "day_of_year": 326,
          "year": 2012
         },
         {
          "cumulative_flights": 5753,
          "day_of_year": 327,
          "year": 2012
         },
         {
          "cumulative_flights": 5753,
          "day_of_year": 328,
          "year": 2012
         },
         {
          "cumulative_flights": 5755,
          "day_of_year": 329,
          "year": 2012
         },
         {
          "cumulative_flights": 5760,
          "day_of_year": 330,
          "year": 2012
         },
         {
          "cumulative_flights": 5760,
          "day_of_year": 331,
          "year": 2012
         },
         {
          "cumulative_flights": 5760,
          "day_of_year": 332,
          "year": 2012
         },
         {
          "cumulative_flights": 5760,
          "day_of_year": 333,
          "year": 2012
         },
         {
          "cumulative_flights": 5760,
          "day_of_year": 334,
          "year": 2012
         },
         {
          "cumulative_flights": 5763,
          "day_of_year": 335,
          "year": 2012
         },
         {
          "cumulative_flights": 5774,
          "day_of_year": 336,
          "year": 2012
         },
         {
          "cumulative_flights": 5774,
          "day_of_year": 337,
          "year": 2012
         },
         {
          "cumulative_flights": 5782,
          "day_of_year": 338,
          "year": 2012
         },
         {
          "cumulative_flights": 5782,
          "day_of_year": 339,
          "year": 2012
         },
         {
          "cumulative_flights": 5782,
          "day_of_year": 340,
          "year": 2012
         },
         {
          "cumulative_flights": 5783,
          "day_of_year": 341,
          "year": 2012
         },
         {
          "cumulative_flights": 5786,
          "day_of_year": 342,
          "year": 2012
         },
         {
          "cumulative_flights": 5788,
          "day_of_year": 343,
          "year": 2012
         },
         {
          "cumulative_flights": 5798,
          "day_of_year": 344,
          "year": 2012
         },
         {
          "cumulative_flights": 5798,
          "day_of_year": 345,
          "year": 2012
         },
         {
          "cumulative_flights": 5799,
          "day_of_year": 346,
          "year": 2012
         },
         {
          "cumulative_flights": 5799,
          "day_of_year": 347,
          "year": 2012
         },
         {
          "cumulative_flights": 5799,
          "day_of_year": 348,
          "year": 2012
         },
         {
          "cumulative_flights": 5801,
          "day_of_year": 349,
          "year": 2012
         },
         {
          "cumulative_flights": 5801,
          "day_of_year": 350,
          "year": 2012
         },
         {
          "cumulative_flights": 5804,
          "day_of_year": 351,
          "year": 2012
         },
         {
          "cumulative_flights": 5804,
          "day_of_year": 352,
          "year": 2012
         },
         {
          "cumulative_flights": 5805,
          "day_of_year": 353,
          "year": 2012
         },
         {
          "cumulative_flights": 5807,
          "day_of_year": 354,
          "year": 2012
         },
         {
          "cumulative_flights": 5809,
          "day_of_year": 355,
          "year": 2012
         },
         {
          "cumulative_flights": 5809,
          "day_of_year": 356,
          "year": 2012
         },
         {
          "cumulative_flights": 5809,
          "day_of_year": 357,
          "year": 2012
         },
         {
          "cumulative_flights": 5810,
          "day_of_year": 358,
          "year": 2012
         },
         {
          "cumulative_flights": 5810,
          "day_of_year": 359,
          "year": 2012
         },
         {
          "cumulative_flights": 5812,
          "day_of_year": 360,
          "year": 2012
         },
         {
          "cumulative_flights": 5815,
          "day_of_year": 361,
          "year": 2012
         },
         {
          "cumulative_flights": 5817,
          "day_of_year": 362,
          "year": 2012
         },
         {
          "cumulative_flights": 5824,
          "day_of_year": 363,
          "year": 2012
         },
         {
          "cumulative_flights": 5849,
          "day_of_year": 364,
          "year": 2012
         },
         {
          "cumulative_flights": 5850,
          "day_of_year": 365,
          "year": 2012
         },
         {
          "cumulative_flights": 5867,
          "day_of_year": 366,
          "year": 2012
         },
         {
          "cumulative_flights": 18,
          "day_of_year": 1,
          "year": 2013
         },
         {
          "cumulative_flights": 28,
          "day_of_year": 2,
          "year": 2013
         },
         {
          "cumulative_flights": 28,
          "day_of_year": 3,
          "year": 2013
         },
         {
          "cumulative_flights": 28,
          "day_of_year": 4,
          "year": 2013
         },
         {
          "cumulative_flights": 33,
          "day_of_year": 5,
          "year": 2013
         },
         {
          "cumulative_flights": 33,
          "day_of_year": 6,
          "year": 2013
         },
         {
          "cumulative_flights": 39,
          "day_of_year": 7,
          "year": 2013
         },
         {
          "cumulative_flights": 39,
          "day_of_year": 8,
          "year": 2013
         },
         {
          "cumulative_flights": 39,
          "day_of_year": 9,
          "year": 2013
         },
         {
          "cumulative_flights": 41,
          "day_of_year": 10,
          "year": 2013
         },
         {
          "cumulative_flights": 50,
          "day_of_year": 11,
          "year": 2013
         },
         {
          "cumulative_flights": 99,
          "day_of_year": 12,
          "year": 2013
         },
         {
          "cumulative_flights": 100,
          "day_of_year": 13,
          "year": 2013
         },
         {
          "cumulative_flights": 100,
          "day_of_year": 14,
          "year": 2013
         },
         {
          "cumulative_flights": 101,
          "day_of_year": 15,
          "year": 2013
         },
         {
          "cumulative_flights": 101,
          "day_of_year": 16,
          "year": 2013
         },
         {
          "cumulative_flights": 101,
          "day_of_year": 17,
          "year": 2013
         },
         {
          "cumulative_flights": 106,
          "day_of_year": 18,
          "year": 2013
         },
         {
          "cumulative_flights": 106,
          "day_of_year": 19,
          "year": 2013
         },
         {
          "cumulative_flights": 106,
          "day_of_year": 20,
          "year": 2013
         },
         {
          "cumulative_flights": 106,
          "day_of_year": 21,
          "year": 2013
         },
         {
          "cumulative_flights": 106,
          "day_of_year": 22,
          "year": 2013
         },
         {
          "cumulative_flights": 106,
          "day_of_year": 23,
          "year": 2013
         },
         {
          "cumulative_flights": 106,
          "day_of_year": 24,
          "year": 2013
         },
         {
          "cumulative_flights": 108,
          "day_of_year": 25,
          "year": 2013
         },
         {
          "cumulative_flights": 108,
          "day_of_year": 26,
          "year": 2013
         },
         {
          "cumulative_flights": 111,
          "day_of_year": 27,
          "year": 2013
         },
         {
          "cumulative_flights": 113,
          "day_of_year": 28,
          "year": 2013
         },
         {
          "cumulative_flights": 113,
          "day_of_year": 29,
          "year": 2013
         },
         {
          "cumulative_flights": 113,
          "day_of_year": 30,
          "year": 2013
         },
         {
          "cumulative_flights": 115,
          "day_of_year": 31,
          "year": 2013
         },
         {
          "cumulative_flights": 118,
          "day_of_year": 32,
          "year": 2013
         },
         {
          "cumulative_flights": 120,
          "day_of_year": 33,
          "year": 2013
         },
         {
          "cumulative_flights": 138,
          "day_of_year": 34,
          "year": 2013
         },
         {
          "cumulative_flights": 138,
          "day_of_year": 35,
          "year": 2013
         },
         {
          "cumulative_flights": 138,
          "day_of_year": 36,
          "year": 2013
         },
         {
          "cumulative_flights": 142,
          "day_of_year": 37,
          "year": 2013
         },
         {
          "cumulative_flights": 148,
          "day_of_year": 38,
          "year": 2013
         },
         {
          "cumulative_flights": 150,
          "day_of_year": 39,
          "year": 2013
         },
         {
          "cumulative_flights": 163,
          "day_of_year": 40,
          "year": 2013
         },
         {
          "cumulative_flights": 169,
          "day_of_year": 41,
          "year": 2013
         },
         {
          "cumulative_flights": 181,
          "day_of_year": 42,
          "year": 2013
         },
         {
          "cumulative_flights": 181,
          "day_of_year": 43,
          "year": 2013
         },
         {
          "cumulative_flights": 184,
          "day_of_year": 44,
          "year": 2013
         },
         {
          "cumulative_flights": 184,
          "day_of_year": 45,
          "year": 2013
         },
         {
          "cumulative_flights": 186,
          "day_of_year": 46,
          "year": 2013
         },
         {
          "cumulative_flights": 188,
          "day_of_year": 47,
          "year": 2013
         },
         {
          "cumulative_flights": 190,
          "day_of_year": 48,
          "year": 2013
         },
         {
          "cumulative_flights": 190,
          "day_of_year": 49,
          "year": 2013
         },
         {
          "cumulative_flights": 190,
          "day_of_year": 50,
          "year": 2013
         },
         {
          "cumulative_flights": 192,
          "day_of_year": 51,
          "year": 2013
         },
         {
          "cumulative_flights": 198,
          "day_of_year": 52,
          "year": 2013
         },
         {
          "cumulative_flights": 199,
          "day_of_year": 53,
          "year": 2013
         },
         {
          "cumulative_flights": 199,
          "day_of_year": 54,
          "year": 2013
         },
         {
          "cumulative_flights": 200,
          "day_of_year": 55,
          "year": 2013
         },
         {
          "cumulative_flights": 200,
          "day_of_year": 56,
          "year": 2013
         },
         {
          "cumulative_flights": 200,
          "day_of_year": 57,
          "year": 2013
         },
         {
          "cumulative_flights": 205,
          "day_of_year": 58,
          "year": 2013
         },
         {
          "cumulative_flights": 209,
          "day_of_year": 59,
          "year": 2013
         },
         {
          "cumulative_flights": 223,
          "day_of_year": 60,
          "year": 2013
         },
         {
          "cumulative_flights": 233,
          "day_of_year": 61,
          "year": 2013
         },
         {
          "cumulative_flights": 293,
          "day_of_year": 62,
          "year": 2013
         },
         {
          "cumulative_flights": 324,
          "day_of_year": 63,
          "year": 2013
         },
         {
          "cumulative_flights": 343,
          "day_of_year": 64,
          "year": 2013
         },
         {
          "cumulative_flights": 352,
          "day_of_year": 65,
          "year": 2013
         },
         {
          "cumulative_flights": 352,
          "day_of_year": 66,
          "year": 2013
         },
         {
          "cumulative_flights": 352,
          "day_of_year": 67,
          "year": 2013
         },
         {
          "cumulative_flights": 352,
          "day_of_year": 68,
          "year": 2013
         },
         {
          "cumulative_flights": 356,
          "day_of_year": 69,
          "year": 2013
         },
         {
          "cumulative_flights": 359,
          "day_of_year": 70,
          "year": 2013
         },
         {
          "cumulative_flights": 361,
          "day_of_year": 71,
          "year": 2013
         },
         {
          "cumulative_flights": 361,
          "day_of_year": 72,
          "year": 2013
         },
         {
          "cumulative_flights": 369,
          "day_of_year": 73,
          "year": 2013
         },
         {
          "cumulative_flights": 382,
          "day_of_year": 74,
          "year": 2013
         },
         {
          "cumulative_flights": 481,
          "day_of_year": 75,
          "year": 2013
         },
         {
          "cumulative_flights": 493,
          "day_of_year": 76,
          "year": 2013
         },
         {
          "cumulative_flights": 493,
          "day_of_year": 77,
          "year": 2013
         },
         {
          "cumulative_flights": 493,
          "day_of_year": 78,
          "year": 2013
         },
         {
          "cumulative_flights": 498,
          "day_of_year": 79,
          "year": 2013
         },
         {
          "cumulative_flights": 498,
          "day_of_year": 80,
          "year": 2013
         },
         {
          "cumulative_flights": 505,
          "day_of_year": 81,
          "year": 2013
         },
         {
          "cumulative_flights": 509,
          "day_of_year": 82,
          "year": 2013
         },
         {
          "cumulative_flights": 517,
          "day_of_year": 83,
          "year": 2013
         },
         {
          "cumulative_flights": 517,
          "day_of_year": 84,
          "year": 2013
         },
         {
          "cumulative_flights": 518,
          "day_of_year": 85,
          "year": 2013
         },
         {
          "cumulative_flights": 521,
          "day_of_year": 86,
          "year": 2013
         },
         {
          "cumulative_flights": 528,
          "day_of_year": 87,
          "year": 2013
         },
         {
          "cumulative_flights": 538,
          "day_of_year": 88,
          "year": 2013
         },
         {
          "cumulative_flights": 570,
          "day_of_year": 89,
          "year": 2013
         },
         {
          "cumulative_flights": 577,
          "day_of_year": 90,
          "year": 2013
         },
         {
          "cumulative_flights": 613,
          "day_of_year": 91,
          "year": 2013
         },
         {
          "cumulative_flights": 634,
          "day_of_year": 92,
          "year": 2013
         },
         {
          "cumulative_flights": 635,
          "day_of_year": 93,
          "year": 2013
         },
         {
          "cumulative_flights": 638,
          "day_of_year": 94,
          "year": 2013
         },
         {
          "cumulative_flights": 651,
          "day_of_year": 95,
          "year": 2013
         },
         {
          "cumulative_flights": 661,
          "day_of_year": 96,
          "year": 2013
         },
         {
          "cumulative_flights": 709,
          "day_of_year": 97,
          "year": 2013
         },
         {
          "cumulative_flights": 772,
          "day_of_year": 98,
          "year": 2013
         },
         {
          "cumulative_flights": 777,
          "day_of_year": 99,
          "year": 2013
         },
         {
          "cumulative_flights": 777,
          "day_of_year": 100,
          "year": 2013
         },
         {
          "cumulative_flights": 777,
          "day_of_year": 101,
          "year": 2013
         },
         {
          "cumulative_flights": 777,
          "day_of_year": 102,
          "year": 2013
         },
         {
          "cumulative_flights": 778,
          "day_of_year": 103,
          "year": 2013
         },
         {
          "cumulative_flights": 910,
          "day_of_year": 104,
          "year": 2013
         },
         {
          "cumulative_flights": 962,
          "day_of_year": 105,
          "year": 2013
         },
         {
          "cumulative_flights": 969,
          "day_of_year": 106,
          "year": 2013
         },
         {
          "cumulative_flights": 986,
          "day_of_year": 107,
          "year": 2013
         },
         {
          "cumulative_flights": 1000,
          "day_of_year": 108,
          "year": 2013
         },
         {
          "cumulative_flights": 1000,
          "day_of_year": 109,
          "year": 2013
         },
         {
          "cumulative_flights": 1002,
          "day_of_year": 110,
          "year": 2013
         },
         {
          "cumulative_flights": 1100,
          "day_of_year": 111,
          "year": 2013
         },
         {
          "cumulative_flights": 1153,
          "day_of_year": 112,
          "year": 2013
         },
         {
          "cumulative_flights": 1153,
          "day_of_year": 113,
          "year": 2013
         },
         {
          "cumulative_flights": 1153,
          "day_of_year": 114,
          "year": 2013
         },
         {
          "cumulative_flights": 1257,
          "day_of_year": 115,
          "year": 2013
         },
         {
          "cumulative_flights": 1307,
          "day_of_year": 116,
          "year": 2013
         },
         {
          "cumulative_flights": 1310,
          "day_of_year": 117,
          "year": 2013
         },
         {
          "cumulative_flights": 1316,
          "day_of_year": 118,
          "year": 2013
         },
         {
          "cumulative_flights": 1319,
          "day_of_year": 119,
          "year": 2013
         },
         {
          "cumulative_flights": 1327,
          "day_of_year": 120,
          "year": 2013
         },
         {
          "cumulative_flights": 1342,
          "day_of_year": 121,
          "year": 2013
         },
         {
          "cumulative_flights": 1342,
          "day_of_year": 122,
          "year": 2013
         },
         {
          "cumulative_flights": 1342,
          "day_of_year": 123,
          "year": 2013
         },
         {
          "cumulative_flights": 1364,
          "day_of_year": 124,
          "year": 2013
         },
         {
          "cumulative_flights": 1449,
          "day_of_year": 125,
          "year": 2013
         },
         {
          "cumulative_flights": 1452,
          "day_of_year": 126,
          "year": 2013
         },
         {
          "cumulative_flights": 1455,
          "day_of_year": 127,
          "year": 2013
         },
         {
          "cumulative_flights": 1485,
          "day_of_year": 128,
          "year": 2013
         },
         {
          "cumulative_flights": 1512,
          "day_of_year": 129,
          "year": 2013
         },
         {
          "cumulative_flights": 1512,
          "day_of_year": 130,
          "year": 2013
         },
         {
          "cumulative_flights": 1512,
          "day_of_year": 131,
          "year": 2013
         },
         {
          "cumulative_flights": 1536,
          "day_of_year": 132,
          "year": 2013
         },
         {
          "cumulative_flights": 1575,
          "day_of_year": 133,
          "year": 2013
         },
         {
          "cumulative_flights": 1626,
          "day_of_year": 134,
          "year": 2013
         },
         {
          "cumulative_flights": 1641,
          "day_of_year": 135,
          "year": 2013
         },
         {
          "cumulative_flights": 1644,
          "day_of_year": 136,
          "year": 2013
         },
         {
          "cumulative_flights": 1650,
          "day_of_year": 137,
          "year": 2013
         },
         {
          "cumulative_flights": 1724,
          "day_of_year": 138,
          "year": 2013
         },
         {
          "cumulative_flights": 1798,
          "day_of_year": 139,
          "year": 2013
         },
         {
          "cumulative_flights": 1815,
          "day_of_year": 140,
          "year": 2013
         },
         {
          "cumulative_flights": 1854,
          "day_of_year": 141,
          "year": 2013
         },
         {
          "cumulative_flights": 1854,
          "day_of_year": 142,
          "year": 2013
         },
         {
          "cumulative_flights": 1887,
          "day_of_year": 143,
          "year": 2013
         },
         {
          "cumulative_flights": 1889,
          "day_of_year": 144,
          "year": 2013
         },
         {
          "cumulative_flights": 1902,
          "day_of_year": 145,
          "year": 2013
         },
         {
          "cumulative_flights": 1909,
          "day_of_year": 146,
          "year": 2013
         },
         {
          "cumulative_flights": 1910,
          "day_of_year": 147,
          "year": 2013
         },
         {
          "cumulative_flights": 1933,
          "day_of_year": 148,
          "year": 2013
         },
         {
          "cumulative_flights": 1938,
          "day_of_year": 149,
          "year": 2013
         },
         {
          "cumulative_flights": 1940,
          "day_of_year": 150,
          "year": 2013
         },
         {
          "cumulative_flights": 1947,
          "day_of_year": 151,
          "year": 2013
         },
         {
          "cumulative_flights": 1955,
          "day_of_year": 152,
          "year": 2013
         },
         {
          "cumulative_flights": 1962,
          "day_of_year": 153,
          "year": 2013
         },
         {
          "cumulative_flights": 1963,
          "day_of_year": 154,
          "year": 2013
         },
         {
          "cumulative_flights": 1970,
          "day_of_year": 155,
          "year": 2013
         },
         {
          "cumulative_flights": 2001,
          "day_of_year": 156,
          "year": 2013
         },
         {
          "cumulative_flights": 2007,
          "day_of_year": 157,
          "year": 2013
         },
         {
          "cumulative_flights": 2013,
          "day_of_year": 158,
          "year": 2013
         },
         {
          "cumulative_flights": 2067,
          "day_of_year": 159,
          "year": 2013
         },
         {
          "cumulative_flights": 2095,
          "day_of_year": 160,
          "year": 2013
         },
         {
          "cumulative_flights": 2095,
          "day_of_year": 161,
          "year": 2013
         },
         {
          "cumulative_flights": 2125,
          "day_of_year": 162,
          "year": 2013
         },
         {
          "cumulative_flights": 2237,
          "day_of_year": 163,
          "year": 2013
         },
         {
          "cumulative_flights": 2321,
          "day_of_year": 164,
          "year": 2013
         },
         {
          "cumulative_flights": 2351,
          "day_of_year": 165,
          "year": 2013
         },
         {
          "cumulative_flights": 2429,
          "day_of_year": 166,
          "year": 2013
         },
         {
          "cumulative_flights": 2509,
          "day_of_year": 167,
          "year": 2013
         },
         {
          "cumulative_flights": 2577,
          "day_of_year": 168,
          "year": 2013
         },
         {
          "cumulative_flights": 2589,
          "day_of_year": 169,
          "year": 2013
         },
         {
          "cumulative_flights": 2631,
          "day_of_year": 170,
          "year": 2013
         },
         {
          "cumulative_flights": 2644,
          "day_of_year": 171,
          "year": 2013
         },
         {
          "cumulative_flights": 2670,
          "day_of_year": 172,
          "year": 2013
         },
         {
          "cumulative_flights": 2717,
          "day_of_year": 173,
          "year": 2013
         },
         {
          "cumulative_flights": 2776,
          "day_of_year": 174,
          "year": 2013
         },
         {
          "cumulative_flights": 2776,
          "day_of_year": 175,
          "year": 2013
         },
         {
          "cumulative_flights": 2776,
          "day_of_year": 176,
          "year": 2013
         },
         {
          "cumulative_flights": 2776,
          "day_of_year": 177,
          "year": 2013
         },
         {
          "cumulative_flights": 2790,
          "day_of_year": 178,
          "year": 2013
         },
         {
          "cumulative_flights": 2798,
          "day_of_year": 179,
          "year": 2013
         },
         {
          "cumulative_flights": 2836,
          "day_of_year": 180,
          "year": 2013
         },
         {
          "cumulative_flights": 2878,
          "day_of_year": 181,
          "year": 2013
         },
         {
          "cumulative_flights": 2941,
          "day_of_year": 182,
          "year": 2013
         },
         {
          "cumulative_flights": 2994,
          "day_of_year": 183,
          "year": 2013
         },
         {
          "cumulative_flights": 3002,
          "day_of_year": 184,
          "year": 2013
         },
         {
          "cumulative_flights": 3034,
          "day_of_year": 185,
          "year": 2013
         },
         {
          "cumulative_flights": 3047,
          "day_of_year": 186,
          "year": 2013
         },
         {
          "cumulative_flights": 3077,
          "day_of_year": 187,
          "year": 2013
         },
         {
          "cumulative_flights": 3228,
          "day_of_year": 188,
          "year": 2013
         },
         {
          "cumulative_flights": 3342,
          "day_of_year": 189,
          "year": 2013
         },
         {
          "cumulative_flights": 3441,
          "day_of_year": 190,
          "year": 2013
         },
         {
          "cumulative_flights": 3523,
          "day_of_year": 191,
          "year": 2013
         },
         {
          "cumulative_flights": 3537,
          "day_of_year": 192,
          "year": 2013
         },
         {
          "cumulative_flights": 3570,
          "day_of_year": 193,
          "year": 2013
         },
         {
          "cumulative_flights": 3669,
          "day_of_year": 194,
          "year": 2013
         },
         {
          "cumulative_flights": 3775,
          "day_of_year": 195,
          "year": 2013
         },
         {
          "cumulative_flights": 3794,
          "day_of_year": 196,
          "year": 2013
         },
         {
          "cumulative_flights": 3911,
          "day_of_year": 197,
          "year": 2013
         },
         {
          "cumulative_flights": 4003,
          "day_of_year": 198,
          "year": 2013
         },
         {
          "cumulative_flights": 4042,
          "day_of_year": 199,
          "year": 2013
         },
         {
          "cumulative_flights": 4135,
          "day_of_year": 200,
          "year": 2013
         },
         {
          "cumulative_flights": 4192,
          "day_of_year": 201,
          "year": 2013
         },
         {
          "cumulative_flights": 4353,
          "day_of_year": 202,
          "year": 2013
         },
         {
          "cumulative_flights": 4449,
          "day_of_year": 203,
          "year": 2013
         },
         {
          "cumulative_flights": 4509,
          "day_of_year": 204,
          "year": 2013
         },
         {
          "cumulative_flights": 4561,
          "day_of_year": 205,
          "year": 2013
         },
         {
          "cumulative_flights": 4568,
          "day_of_year": 206,
          "year": 2013
         },
         {
          "cumulative_flights": 4662,
          "day_of_year": 207,
          "year": 2013
         },
         {
          "cumulative_flights": 4790,
          "day_of_year": 208,
          "year": 2013
         },
         {
          "cumulative_flights": 4823,
          "day_of_year": 209,
          "year": 2013
         },
         {
          "cumulative_flights": 4824,
          "day_of_year": 210,
          "year": 2013
         },
         {
          "cumulative_flights": 4830,
          "day_of_year": 211,
          "year": 2013
         },
         {
          "cumulative_flights": 4835,
          "day_of_year": 212,
          "year": 2013
         },
         {
          "cumulative_flights": 4931,
          "day_of_year": 213,
          "year": 2013
         },
         {
          "cumulative_flights": 4981,
          "day_of_year": 214,
          "year": 2013
         },
         {
          "cumulative_flights": 5077,
          "day_of_year": 215,
          "year": 2013
         },
         {
          "cumulative_flights": 5118,
          "day_of_year": 216,
          "year": 2013
         },
         {
          "cumulative_flights": 5153,
          "day_of_year": 217,
          "year": 2013
         },
         {
          "cumulative_flights": 5199,
          "day_of_year": 218,
          "year": 2013
         },
         {
          "cumulative_flights": 5214,
          "day_of_year": 219,
          "year": 2013
         },
         {
          "cumulative_flights": 5231,
          "day_of_year": 220,
          "year": 2013
         },
         {
          "cumulative_flights": 5231,
          "day_of_year": 221,
          "year": 2013
         },
         {
          "cumulative_flights": 5258,
          "day_of_year": 222,
          "year": 2013
         },
         {
          "cumulative_flights": 5361,
          "day_of_year": 223,
          "year": 2013
         },
         {
          "cumulative_flights": 5398,
          "day_of_year": 224,
          "year": 2013
         },
         {
          "cumulative_flights": 5403,
          "day_of_year": 225,
          "year": 2013
         },
         {
          "cumulative_flights": 5435,
          "day_of_year": 226,
          "year": 2013
         },
         {
          "cumulative_flights": 5591,
          "day_of_year": 227,
          "year": 2013
         },
         {
          "cumulative_flights": 5665,
          "day_of_year": 228,
          "year": 2013
         },
         {
          "cumulative_flights": 5764,
          "day_of_year": 229,
          "year": 2013
         },
         {
          "cumulative_flights": 5824,
          "day_of_year": 230,
          "year": 2013
         },
         {
          "cumulative_flights": 5825,
          "day_of_year": 231,
          "year": 2013
         },
         {
          "cumulative_flights": 5825,
          "day_of_year": 232,
          "year": 2013
         },
         {
          "cumulative_flights": 5848,
          "day_of_year": 233,
          "year": 2013
         },
         {
          "cumulative_flights": 5905,
          "day_of_year": 234,
          "year": 2013
         },
         {
          "cumulative_flights": 5948,
          "day_of_year": 235,
          "year": 2013
         },
         {
          "cumulative_flights": 6041,
          "day_of_year": 236,
          "year": 2013
         },
         {
          "cumulative_flights": 6044,
          "day_of_year": 237,
          "year": 2013
         },
         {
          "cumulative_flights": 6045,
          "day_of_year": 238,
          "year": 2013
         },
         {
          "cumulative_flights": 6045,
          "day_of_year": 239,
          "year": 2013
         },
         {
          "cumulative_flights": 6048,
          "day_of_year": 240,
          "year": 2013
         },
         {
          "cumulative_flights": 6082,
          "day_of_year": 241,
          "year": 2013
         },
         {
          "cumulative_flights": 6157,
          "day_of_year": 242,
          "year": 2013
         },
         {
          "cumulative_flights": 6209,
          "day_of_year": 243,
          "year": 2013
         },
         {
          "cumulative_flights": 6245,
          "day_of_year": 244,
          "year": 2013
         },
         {
          "cumulative_flights": 6248,
          "day_of_year": 245,
          "year": 2013
         },
         {
          "cumulative_flights": 6254,
          "day_of_year": 246,
          "year": 2013
         },
         {
          "cumulative_flights": 6262,
          "day_of_year": 247,
          "year": 2013
         },
         {
          "cumulative_flights": 6326,
          "day_of_year": 248,
          "year": 2013
         },
         {
          "cumulative_flights": 6381,
          "day_of_year": 249,
          "year": 2013
         },
         {
          "cumulative_flights": 6506,
          "day_of_year": 250,
          "year": 2013
         },
         {
          "cumulative_flights": 6524,
          "day_of_year": 251,
          "year": 2013
         },
         {
          "cumulative_flights": 6524,
          "day_of_year": 252,
          "year": 2013
         },
         {
          "cumulative_flights": 6525,
          "day_of_year": 253,
          "year": 2013
         },
         {
          "cumulative_flights": 6527,
          "day_of_year": 254,
          "year": 2013
         },
         {
          "cumulative_flights": 6531,
          "day_of_year": 255,
          "year": 2013
         },
         {
          "cumulative_flights": 6534,
          "day_of_year": 256,
          "year": 2013
         },
         {
          "cumulative_flights": 6566,
          "day_of_year": 257,
          "year": 2013
         },
         {
          "cumulative_flights": 6569,
          "day_of_year": 258,
          "year": 2013
         },
         {
          "cumulative_flights": 6571,
          "day_of_year": 259,
          "year": 2013
         },
         {
          "cumulative_flights": 6575,
          "day_of_year": 260,
          "year": 2013
         },
         {
          "cumulative_flights": 6575,
          "day_of_year": 261,
          "year": 2013
         },
         {
          "cumulative_flights": 6585,
          "day_of_year": 262,
          "year": 2013
         },
         {
          "cumulative_flights": 6585,
          "day_of_year": 263,
          "year": 2013
         },
         {
          "cumulative_flights": 6597,
          "day_of_year": 264,
          "year": 2013
         },
         {
          "cumulative_flights": 6629,
          "day_of_year": 265,
          "year": 2013
         },
         {
          "cumulative_flights": 6631,
          "day_of_year": 266,
          "year": 2013
         },
         {
          "cumulative_flights": 6653,
          "day_of_year": 267,
          "year": 2013
         },
         {
          "cumulative_flights": 6655,
          "day_of_year": 268,
          "year": 2013
         },
         {
          "cumulative_flights": 6655,
          "day_of_year": 269,
          "year": 2013
         },
         {
          "cumulative_flights": 6664,
          "day_of_year": 270,
          "year": 2013
         },
         {
          "cumulative_flights": 6753,
          "day_of_year": 271,
          "year": 2013
         },
         {
          "cumulative_flights": 6771,
          "day_of_year": 272,
          "year": 2013
         },
         {
          "cumulative_flights": 6775,
          "day_of_year": 273,
          "year": 2013
         },
         {
          "cumulative_flights": 6786,
          "day_of_year": 274,
          "year": 2013
         },
         {
          "cumulative_flights": 6826,
          "day_of_year": 275,
          "year": 2013
         },
         {
          "cumulative_flights": 6836,
          "day_of_year": 276,
          "year": 2013
         },
         {
          "cumulative_flights": 6865,
          "day_of_year": 277,
          "year": 2013
         },
         {
          "cumulative_flights": 6911,
          "day_of_year": 278,
          "year": 2013
         },
         {
          "cumulative_flights": 6918,
          "day_of_year": 279,
          "year": 2013
         },
         {
          "cumulative_flights": 6925,
          "day_of_year": 280,
          "year": 2013
         },
         {
          "cumulative_flights": 6934,
          "day_of_year": 281,
          "year": 2013
         },
         {
          "cumulative_flights": 6939,
          "day_of_year": 282,
          "year": 2013
         },
         {
          "cumulative_flights": 6939,
          "day_of_year": 283,
          "year": 2013
         },
         {
          "cumulative_flights": 6943,
          "day_of_year": 284,
          "year": 2013
         },
         {
          "cumulative_flights": 6951,
          "day_of_year": 285,
          "year": 2013
         },
         {
          "cumulative_flights": 6970,
          "day_of_year": 286,
          "year": 2013
         },
         {
          "cumulative_flights": 6972,
          "day_of_year": 287,
          "year": 2013
         },
         {
          "cumulative_flights": 6976,
          "day_of_year": 288,
          "year": 2013
         },
         {
          "cumulative_flights": 6981,
          "day_of_year": 289,
          "year": 2013
         },
         {
          "cumulative_flights": 6981,
          "day_of_year": 290,
          "year": 2013
         },
         {
          "cumulative_flights": 6992,
          "day_of_year": 291,
          "year": 2013
         },
         {
          "cumulative_flights": 7038,
          "day_of_year": 292,
          "year": 2013
         },
         {
          "cumulative_flights": 7062,
          "day_of_year": 293,
          "year": 2013
         },
         {
          "cumulative_flights": 7068,
          "day_of_year": 294,
          "year": 2013
         },
         {
          "cumulative_flights": 7080,
          "day_of_year": 295,
          "year": 2013
         },
         {
          "cumulative_flights": 7080,
          "day_of_year": 296,
          "year": 2013
         },
         {
          "cumulative_flights": 7094,
          "day_of_year": 297,
          "year": 2013
         },
         {
          "cumulative_flights": 7099,
          "day_of_year": 298,
          "year": 2013
         },
         {
          "cumulative_flights": 7142,
          "day_of_year": 299,
          "year": 2013
         },
         {
          "cumulative_flights": 7148,
          "day_of_year": 300,
          "year": 2013
         },
         {
          "cumulative_flights": 7149,
          "day_of_year": 301,
          "year": 2013
         },
         {
          "cumulative_flights": 7152,
          "day_of_year": 302,
          "year": 2013
         },
         {
          "cumulative_flights": 7169,
          "day_of_year": 303,
          "year": 2013
         },
         {
          "cumulative_flights": 7191,
          "day_of_year": 304,
          "year": 2013
         },
         {
          "cumulative_flights": 7193,
          "day_of_year": 305,
          "year": 2013
         },
         {
          "cumulative_flights": 7193,
          "day_of_year": 306,
          "year": 2013
         },
         {
          "cumulative_flights": 7193,
          "day_of_year": 307,
          "year": 2013
         },
         {
          "cumulative_flights": 7193,
          "day_of_year": 308,
          "year": 2013
         },
         {
          "cumulative_flights": 7207,
          "day_of_year": 309,
          "year": 2013
         },
         {
          "cumulative_flights": 7207,
          "day_of_year": 310,
          "year": 2013
         },
         {
          "cumulative_flights": 7207,
          "day_of_year": 311,
          "year": 2013
         },
         {
          "cumulative_flights": 7208,
          "day_of_year": 312,
          "year": 2013
         },
         {
          "cumulative_flights": 7215,
          "day_of_year": 313,
          "year": 2013
         },
         {
          "cumulative_flights": 7225,
          "day_of_year": 314,
          "year": 2013
         },
         {
          "cumulative_flights": 7226,
          "day_of_year": 315,
          "year": 2013
         },
         {
          "cumulative_flights": 7245,
          "day_of_year": 316,
          "year": 2013
         },
         {
          "cumulative_flights": 7245,
          "day_of_year": 317,
          "year": 2013
         },
         {
          "cumulative_flights": 7246,
          "day_of_year": 318,
          "year": 2013
         },
         {
          "cumulative_flights": 7249,
          "day_of_year": 319,
          "year": 2013
         },
         {
          "cumulative_flights": 7256,
          "day_of_year": 320,
          "year": 2013
         },
         {
          "cumulative_flights": 7271,
          "day_of_year": 321,
          "year": 2013
         },
         {
          "cumulative_flights": 7273,
          "day_of_year": 322,
          "year": 2013
         },
         {
          "cumulative_flights": 7277,
          "day_of_year": 323,
          "year": 2013
         },
         {
          "cumulative_flights": 7279,
          "day_of_year": 324,
          "year": 2013
         },
         {
          "cumulative_flights": 7281,
          "day_of_year": 325,
          "year": 2013
         },
         {
          "cumulative_flights": 7285,
          "day_of_year": 326,
          "year": 2013
         },
         {
          "cumulative_flights": 7288,
          "day_of_year": 327,
          "year": 2013
         },
         {
          "cumulative_flights": 7296,
          "day_of_year": 328,
          "year": 2013
         },
         {
          "cumulative_flights": 7299,
          "day_of_year": 329,
          "year": 2013
         },
         {
          "cumulative_flights": 7311,
          "day_of_year": 330,
          "year": 2013
         },
         {
          "cumulative_flights": 7317,
          "day_of_year": 331,
          "year": 2013
         },
         {
          "cumulative_flights": 7317,
          "day_of_year": 332,
          "year": 2013
         },
         {
          "cumulative_flights": 7318,
          "day_of_year": 333,
          "year": 2013
         },
         {
          "cumulative_flights": 7327,
          "day_of_year": 334,
          "year": 2013
         },
         {
          "cumulative_flights": 7344,
          "day_of_year": 335,
          "year": 2013
         },
         {
          "cumulative_flights": 7349,
          "day_of_year": 336,
          "year": 2013
         },
         {
          "cumulative_flights": 7353,
          "day_of_year": 337,
          "year": 2013
         },
         {
          "cumulative_flights": 7356,
          "day_of_year": 338,
          "year": 2013
         },
         {
          "cumulative_flights": 7360,
          "day_of_year": 339,
          "year": 2013
         },
         {
          "cumulative_flights": 7360,
          "day_of_year": 340,
          "year": 2013
         },
         {
          "cumulative_flights": 7360,
          "day_of_year": 341,
          "year": 2013
         },
         {
          "cumulative_flights": 7360,
          "day_of_year": 342,
          "year": 2013
         },
         {
          "cumulative_flights": 7360,
          "day_of_year": 343,
          "year": 2013
         },
         {
          "cumulative_flights": 7360,
          "day_of_year": 344,
          "year": 2013
         },
         {
          "cumulative_flights": 7361,
          "day_of_year": 345,
          "year": 2013
         },
         {
          "cumulative_flights": 7362,
          "day_of_year": 346,
          "year": 2013
         },
         {
          "cumulative_flights": 7366,
          "day_of_year": 347,
          "year": 2013
         },
         {
          "cumulative_flights": 7380,
          "day_of_year": 348,
          "year": 2013
         },
         {
          "cumulative_flights": 7382,
          "day_of_year": 349,
          "year": 2013
         },
         {
          "cumulative_flights": 7385,
          "day_of_year": 350,
          "year": 2013
         },
         {
          "cumulative_flights": 7386,
          "day_of_year": 351,
          "year": 2013
         },
         {
          "cumulative_flights": 7386,
          "day_of_year": 352,
          "year": 2013
         },
         {
          "cumulative_flights": 7393,
          "day_of_year": 353,
          "year": 2013
         },
         {
          "cumulative_flights": 7393,
          "day_of_year": 354,
          "year": 2013
         },
         {
          "cumulative_flights": 7406,
          "day_of_year": 355,
          "year": 2013
         },
         {
          "cumulative_flights": 7408,
          "day_of_year": 356,
          "year": 2013
         },
         {
          "cumulative_flights": 7424,
          "day_of_year": 357,
          "year": 2013
         },
         {
          "cumulative_flights": 7434,
          "day_of_year": 358,
          "year": 2013
         },
         {
          "cumulative_flights": 7449,
          "day_of_year": 359,
          "year": 2013
         },
         {
          "cumulative_flights": 7463,
          "day_of_year": 360,
          "year": 2013
         },
         {
          "cumulative_flights": 7491,
          "day_of_year": 361,
          "year": 2013
         },
         {
          "cumulative_flights": 7493,
          "day_of_year": 362,
          "year": 2013
         },
         {
          "cumulative_flights": 7519,
          "day_of_year": 363,
          "year": 2013
         },
         {
          "cumulative_flights": 7546,
          "day_of_year": 364,
          "year": 2013
         },
         {
          "cumulative_flights": 7548,
          "day_of_year": 365,
          "year": 2013
         },
         {
          "cumulative_flights": 13,
          "day_of_year": 1,
          "year": 2014
         },
         {
          "cumulative_flights": 14,
          "day_of_year": 2,
          "year": 2014
         },
         {
          "cumulative_flights": 22,
          "day_of_year": 3,
          "year": 2014
         },
         {
          "cumulative_flights": 26,
          "day_of_year": 4,
          "year": 2014
         },
         {
          "cumulative_flights": 28,
          "day_of_year": 5,
          "year": 2014
         },
         {
          "cumulative_flights": 36,
          "day_of_year": 6,
          "year": 2014
         },
         {
          "cumulative_flights": 40,
          "day_of_year": 7,
          "year": 2014
         },
         {
          "cumulative_flights": 43,
          "day_of_year": 8,
          "year": 2014
         },
         {
          "cumulative_flights": 46,
          "day_of_year": 9,
          "year": 2014
         },
         {
          "cumulative_flights": 48,
          "day_of_year": 10,
          "year": 2014
         },
         {
          "cumulative_flights": 68,
          "day_of_year": 11,
          "year": 2014
         },
         {
          "cumulative_flights": 103,
          "day_of_year": 12,
          "year": 2014
         },
         {
          "cumulative_flights": 105,
          "day_of_year": 13,
          "year": 2014
         },
         {
          "cumulative_flights": 106,
          "day_of_year": 14,
          "year": 2014
         },
         {
          "cumulative_flights": 107,
          "day_of_year": 15,
          "year": 2014
         },
         {
          "cumulative_flights": 107,
          "day_of_year": 16,
          "year": 2014
         },
         {
          "cumulative_flights": 107,
          "day_of_year": 17,
          "year": 2014
         },
         {
          "cumulative_flights": 119,
          "day_of_year": 18,
          "year": 2014
         },
         {
          "cumulative_flights": 126,
          "day_of_year": 19,
          "year": 2014
         },
         {
          "cumulative_flights": 126,
          "day_of_year": 20,
          "year": 2014
         },
         {
          "cumulative_flights": 126,
          "day_of_year": 21,
          "year": 2014
         },
         {
          "cumulative_flights": 126,
          "day_of_year": 22,
          "year": 2014
         },
         {
          "cumulative_flights": 126,
          "day_of_year": 23,
          "year": 2014
         },
         {
          "cumulative_flights": 126,
          "day_of_year": 24,
          "year": 2014
         },
         {
          "cumulative_flights": 135,
          "day_of_year": 25,
          "year": 2014
         },
         {
          "cumulative_flights": 144,
          "day_of_year": 26,
          "year": 2014
         },
         {
          "cumulative_flights": 145,
          "day_of_year": 27,
          "year": 2014
         },
         {
          "cumulative_flights": 145,
          "day_of_year": 28,
          "year": 2014
         },
         {
          "cumulative_flights": 151,
          "day_of_year": 29,
          "year": 2014
         },
         {
          "cumulative_flights": 155,
          "day_of_year": 30,
          "year": 2014
         },
         {
          "cumulative_flights": 155,
          "day_of_year": 31,
          "year": 2014
         },
         {
          "cumulative_flights": 159,
          "day_of_year": 32,
          "year": 2014
         },
         {
          "cumulative_flights": 167,
          "day_of_year": 33,
          "year": 2014
         },
         {
          "cumulative_flights": 170,
          "day_of_year": 34,
          "year": 2014
         },
         {
          "cumulative_flights": 186,
          "day_of_year": 35,
          "year": 2014
         },
         {
          "cumulative_flights": 194,
          "day_of_year": 36,
          "year": 2014
         },
         {
          "cumulative_flights": 197,
          "day_of_year": 37,
          "year": 2014
         },
         {
          "cumulative_flights": 203,
          "day_of_year": 38,
          "year": 2014
         },
         {
          "cumulative_flights": 275,
          "day_of_year": 39,
          "year": 2014
         },
         {
          "cumulative_flights": 296,
          "day_of_year": 40,
          "year": 2014
         },
         {
          "cumulative_flights": 303,
          "day_of_year": 41,
          "year": 2014
         },
         {
          "cumulative_flights": 303,
          "day_of_year": 42,
          "year": 2014
         },
         {
          "cumulative_flights": 309,
          "day_of_year": 43,
          "year": 2014
         },
         {
          "cumulative_flights": 314,
          "day_of_year": 44,
          "year": 2014
         },
         {
          "cumulative_flights": 324,
          "day_of_year": 45,
          "year": 2014
         },
         {
          "cumulative_flights": 362,
          "day_of_year": 46,
          "year": 2014
         },
         {
          "cumulative_flights": 395,
          "day_of_year": 47,
          "year": 2014
         },
         {
          "cumulative_flights": 420,
          "day_of_year": 48,
          "year": 2014
         },
         {
          "cumulative_flights": 427,
          "day_of_year": 49,
          "year": 2014
         },
         {
          "cumulative_flights": 428,
          "day_of_year": 50,
          "year": 2014
         },
         {
          "cumulative_flights": 445,
          "day_of_year": 51,
          "year": 2014
         },
         {
          "cumulative_flights": 450,
          "day_of_year": 52,
          "year": 2014
         },
         {
          "cumulative_flights": 479,
          "day_of_year": 53,
          "year": 2014
         },
         {
          "cumulative_flights": 574,
          "day_of_year": 54,
          "year": 2014
         },
         {
          "cumulative_flights": 608,
          "day_of_year": 55,
          "year": 2014
         },
         {
          "cumulative_flights": 628,
          "day_of_year": 56,
          "year": 2014
         },
         {
          "cumulative_flights": 632,
          "day_of_year": 57,
          "year": 2014
         },
         {
          "cumulative_flights": 642,
          "day_of_year": 58,
          "year": 2014
         },
         {
          "cumulative_flights": 645,
          "day_of_year": 59,
          "year": 2014
         },
         {
          "cumulative_flights": 716,
          "day_of_year": 60,
          "year": 2014
         },
         {
          "cumulative_flights": 764,
          "day_of_year": 61,
          "year": 2014
         },
         {
          "cumulative_flights": 777,
          "day_of_year": 62,
          "year": 2014
         },
         {
          "cumulative_flights": 778,
          "day_of_year": 63,
          "year": 2014
         },
         {
          "cumulative_flights": 782,
          "day_of_year": 64,
          "year": 2014
         },
         {
          "cumulative_flights": 783,
          "day_of_year": 65,
          "year": 2014
         },
         {
          "cumulative_flights": 806,
          "day_of_year": 66,
          "year": 2014
         },
         {
          "cumulative_flights": 894,
          "day_of_year": 67,
          "year": 2014
         },
         {
          "cumulative_flights": 965,
          "day_of_year": 68,
          "year": 2014
         },
         {
          "cumulative_flights": 1005,
          "day_of_year": 69,
          "year": 2014
         },
         {
          "cumulative_flights": 1025,
          "day_of_year": 70,
          "year": 2014
         },
         {
          "cumulative_flights": 1056,
          "day_of_year": 71,
          "year": 2014
         },
         {
          "cumulative_flights": 1115,
          "day_of_year": 72,
          "year": 2014
         },
         {
          "cumulative_flights": 1173,
          "day_of_year": 73,
          "year": 2014
         },
         {
          "cumulative_flights": 1173,
          "day_of_year": 74,
          "year": 2014
         },
         {
          "cumulative_flights": 1173,
          "day_of_year": 75,
          "year": 2014
         },
         {
          "cumulative_flights": 1173,
          "day_of_year": 76,
          "year": 2014
         },
         {
          "cumulative_flights": 1175,
          "day_of_year": 77,
          "year": 2014
         },
         {
          "cumulative_flights": 1175,
          "day_of_year": 78,
          "year": 2014
         },
         {
          "cumulative_flights": 1221,
          "day_of_year": 79,
          "year": 2014
         },
         {
          "cumulative_flights": 1231,
          "day_of_year": 80,
          "year": 2014
         },
         {
          "cumulative_flights": 1258,
          "day_of_year": 81,
          "year": 2014
         },
         {
          "cumulative_flights": 1258,
          "day_of_year": 82,
          "year": 2014
         },
         {
          "cumulative_flights": 1258,
          "day_of_year": 83,
          "year": 2014
         },
         {
          "cumulative_flights": 1263,
          "day_of_year": 84,
          "year": 2014
         },
         {
          "cumulative_flights": 1287,
          "day_of_year": 85,
          "year": 2014
         },
         {
          "cumulative_flights": 1317,
          "day_of_year": 86,
          "year": 2014
         },
         {
          "cumulative_flights": 1351,
          "day_of_year": 87,
          "year": 2014
         },
         {
          "cumulative_flights": 1471,
          "day_of_year": 88,
          "year": 2014
         },
         {
          "cumulative_flights": 1625,
          "day_of_year": 89,
          "year": 2014
         },
         {
          "cumulative_flights": 1648,
          "day_of_year": 90,
          "year": 2014
         },
         {
          "cumulative_flights": 1658,
          "day_of_year": 91,
          "year": 2014
         },
         {
          "cumulative_flights": 1686,
          "day_of_year": 92,
          "year": 2014
         },
         {
          "cumulative_flights": 1708,
          "day_of_year": 93,
          "year": 2014
         },
         {
          "cumulative_flights": 1734,
          "day_of_year": 94,
          "year": 2014
         },
         {
          "cumulative_flights": 1752,
          "day_of_year": 95,
          "year": 2014
         },
         {
          "cumulative_flights": 1786,
          "day_of_year": 96,
          "year": 2014
         },
         {
          "cumulative_flights": 1827,
          "day_of_year": 97,
          "year": 2014
         },
         {
          "cumulative_flights": 1827,
          "day_of_year": 98,
          "year": 2014
         },
         {
          "cumulative_flights": 1827,
          "day_of_year": 99,
          "year": 2014
         },
         {
          "cumulative_flights": 1830,
          "day_of_year": 100,
          "year": 2014
         },
         {
          "cumulative_flights": 1886,
          "day_of_year": 101,
          "year": 2014
         },
         {
          "cumulative_flights": 2031,
          "day_of_year": 102,
          "year": 2014
         },
         {
          "cumulative_flights": 2076,
          "day_of_year": 103,
          "year": 2014
         },
         {
          "cumulative_flights": 2076,
          "day_of_year": 104,
          "year": 2014
         },
         {
          "cumulative_flights": 2076,
          "day_of_year": 105,
          "year": 2014
         },
         {
          "cumulative_flights": 2082,
          "day_of_year": 106,
          "year": 2014
         },
         {
          "cumulative_flights": 2204,
          "day_of_year": 107,
          "year": 2014
         },
         {
          "cumulative_flights": 2242,
          "day_of_year": 108,
          "year": 2014
         },
         {
          "cumulative_flights": 2252,
          "day_of_year": 109,
          "year": 2014
         },
         {
          "cumulative_flights": 2347,
          "day_of_year": 110,
          "year": 2014
         },
         {
          "cumulative_flights": 2361,
          "day_of_year": 111,
          "year": 2014
         },
         {
          "cumulative_flights": 2369,
          "day_of_year": 112,
          "year": 2014
         },
         {
          "cumulative_flights": 2403,
          "day_of_year": 113,
          "year": 2014
         },
         {
          "cumulative_flights": 2408,
          "day_of_year": 114,
          "year": 2014
         },
         {
          "cumulative_flights": 2424,
          "day_of_year": 115,
          "year": 2014
         },
         {
          "cumulative_flights": 2460,
          "day_of_year": 116,
          "year": 2014
         },
         {
          "cumulative_flights": 2522,
          "day_of_year": 117,
          "year": 2014
         },
         {
          "cumulative_flights": 2523,
          "day_of_year": 118,
          "year": 2014
         },
         {
          "cumulative_flights": 2538,
          "day_of_year": 119,
          "year": 2014
         },
         {
          "cumulative_flights": 2630,
          "day_of_year": 120,
          "year": 2014
         },
         {
          "cumulative_flights": 2794,
          "day_of_year": 121,
          "year": 2014
         },
         {
          "cumulative_flights": 2818,
          "day_of_year": 122,
          "year": 2014
         },
         {
          "cumulative_flights": 2821,
          "day_of_year": 123,
          "year": 2014
         },
         {
          "cumulative_flights": 2932,
          "day_of_year": 124,
          "year": 2014
         },
         {
          "cumulative_flights": 2996,
          "day_of_year": 125,
          "year": 2014
         },
         {
          "cumulative_flights": 3016,
          "day_of_year": 126,
          "year": 2014
         },
         {
          "cumulative_flights": 3016,
          "day_of_year": 127,
          "year": 2014
         },
         {
          "cumulative_flights": 3045,
          "day_of_year": 128,
          "year": 2014
         },
         {
          "cumulative_flights": 3051,
          "day_of_year": 129,
          "year": 2014
         },
         {
          "cumulative_flights": 3093,
          "day_of_year": 130,
          "year": 2014
         },
         {
          "cumulative_flights": 3093,
          "day_of_year": 131,
          "year": 2014
         },
         {
          "cumulative_flights": 3094,
          "day_of_year": 132,
          "year": 2014
         },
         {
          "cumulative_flights": 3096,
          "day_of_year": 133,
          "year": 2014
         },
         {
          "cumulative_flights": 3097,
          "day_of_year": 134,
          "year": 2014
         },
         {
          "cumulative_flights": 3097,
          "day_of_year": 135,
          "year": 2014
         },
         {
          "cumulative_flights": 3097,
          "day_of_year": 136,
          "year": 2014
         },
         {
          "cumulative_flights": 3097,
          "day_of_year": 137,
          "year": 2014
         },
         {
          "cumulative_flights": 3100,
          "day_of_year": 138,
          "year": 2014
         },
         {
          "cumulative_flights": 3128,
          "day_of_year": 139,
          "year": 2014
         },
         {
          "cumulative_flights": 3193,
          "day_of_year": 140,
          "year": 2014
         },
         {
          "cumulative_flights": 3277,
          "day_of_year": 141,
          "year": 2014
         },
         {
          "cumulative_flights": 3315,
          "day_of_year": 142,
          "year": 2014
         },
         {
          "cumulative_flights": 3321,
          "day_of_year": 143,
          "year": 2014
         },
         {
          "cumulative_flights": 3324,
          "day_of_year": 144,
          "year": 2014
         },
         {
          "cumulative_flights": 3441,
          "day_of_year": 145,
          "year": 2014
         },
         {
          "cumulative_flights": 3445,
          "day_of_year": 146,
          "year": 2014
         },
         {
          "cumulative_flights": 3445,
          "day_of_year": 147,
          "year": 2014
         },
         {
          "cumulative_flights": 3449,
          "day_of_year": 148,
          "year": 2014
         },
         {
          "cumulative_flights": 3449,
          "day_of_year": 149,
          "year": 2014
         },
         {
          "cumulative_flights": 3457,
          "day_of_year": 150,
          "year": 2014
         },
         {
          "cumulative_flights": 3550,
          "day_of_year": 151,
          "year": 2014
         },
         {
          "cumulative_flights": 3653,
          "day_of_year": 152,
          "year": 2014
         },
         {
          "cumulative_flights": 3663,
          "day_of_year": 153,
          "year": 2014
         },
         {
          "cumulative_flights": 3676,
          "day_of_year": 154,
          "year": 2014
         },
         {
          "cumulative_flights": 3743,
          "day_of_year": 155,
          "year": 2014
         },
         {
          "cumulative_flights": 3749,
          "day_of_year": 156,
          "year": 2014
         },
         {
          "cumulative_flights": 3915,
          "day_of_year": 157,
          "year": 2014
         },
         {
          "cumulative_flights": 4089,
          "day_of_year": 158,
          "year": 2014
         },
         {
          "cumulative_flights": 4244,
          "day_of_year": 159,
          "year": 2014
         },
         {
          "cumulative_flights": 4284,
          "day_of_year": 160,
          "year": 2014
         },
         {
          "cumulative_flights": 4300,
          "day_of_year": 161,
          "year": 2014
         },
         {
          "cumulative_flights": 4326,
          "day_of_year": 162,
          "year": 2014
         },
         {
          "cumulative_flights": 4338,
          "day_of_year": 163,
          "year": 2014
         },
         {
          "cumulative_flights": 4409,
          "day_of_year": 164,
          "year": 2014
         },
         {
          "cumulative_flights": 4429,
          "day_of_year": 165,
          "year": 2014
         },
         {
          "cumulative_flights": 4497,
          "day_of_year": 166,
          "year": 2014
         },
         {
          "cumulative_flights": 4562,
          "day_of_year": 167,
          "year": 2014
         },
         {
          "cumulative_flights": 4582,
          "day_of_year": 168,
          "year": 2014
         },
         {
          "cumulative_flights": 4670,
          "day_of_year": 169,
          "year": 2014
         },
         {
          "cumulative_flights": 4692,
          "day_of_year": 170,
          "year": 2014
         },
         {
          "cumulative_flights": 4692,
          "day_of_year": 171,
          "year": 2014
         },
         {
          "cumulative_flights": 4711,
          "day_of_year": 172,
          "year": 2014
         },
         {
          "cumulative_flights": 4758,
          "day_of_year": 173,
          "year": 2014
         },
         {
          "cumulative_flights": 4839,
          "day_of_year": 174,
          "year": 2014
         },
         {
          "cumulative_flights": 4873,
          "day_of_year": 175,
          "year": 2014
         },
         {
          "cumulative_flights": 4873,
          "day_of_year": 176,
          "year": 2014
         },
         {
          "cumulative_flights": 4877,
          "day_of_year": 177,
          "year": 2014
         },
         {
          "cumulative_flights": 5020,
          "day_of_year": 178,
          "year": 2014
         },
         {
          "cumulative_flights": 5033,
          "day_of_year": 179,
          "year": 2014
         },
         {
          "cumulative_flights": 5034,
          "day_of_year": 180,
          "year": 2014
         },
         {
          "cumulative_flights": 5036,
          "day_of_year": 181,
          "year": 2014
         },
         {
          "cumulative_flights": 5060,
          "day_of_year": 182,
          "year": 2014
         },
         {
          "cumulative_flights": 5075,
          "day_of_year": 183,
          "year": 2014
         },
         {
          "cumulative_flights": 5213,
          "day_of_year": 184,
          "year": 2014
         },
         {
          "cumulative_flights": 5248,
          "day_of_year": 185,
          "year": 2014
         },
         {
          "cumulative_flights": 5253,
          "day_of_year": 186,
          "year": 2014
         },
         {
          "cumulative_flights": 5391,
          "day_of_year": 187,
          "year": 2014
         },
         {
          "cumulative_flights": 5417,
          "day_of_year": 188,
          "year": 2014
         },
         {
          "cumulative_flights": 5418,
          "day_of_year": 189,
          "year": 2014
         },
         {
          "cumulative_flights": 5418,
          "day_of_year": 190,
          "year": 2014
         },
         {
          "cumulative_flights": 5424,
          "day_of_year": 191,
          "year": 2014
         },
         {
          "cumulative_flights": 5426,
          "day_of_year": 192,
          "year": 2014
         },
         {
          "cumulative_flights": 5529,
          "day_of_year": 193,
          "year": 2014
         },
         {
          "cumulative_flights": 5605,
          "day_of_year": 194,
          "year": 2014
         },
         {
          "cumulative_flights": 5646,
          "day_of_year": 195,
          "year": 2014
         },
         {
          "cumulative_flights": 5713,
          "day_of_year": 196,
          "year": 2014
         },
         {
          "cumulative_flights": 5775,
          "day_of_year": 197,
          "year": 2014
         },
         {
          "cumulative_flights": 5829,
          "day_of_year": 198,
          "year": 2014
         },
         {
          "cumulative_flights": 5879,
          "day_of_year": 199,
          "year": 2014
         },
         {
          "cumulative_flights": 6051,
          "day_of_year": 200,
          "year": 2014
         },
         {
          "cumulative_flights": 6111,
          "day_of_year": 201,
          "year": 2014
         },
         {
          "cumulative_flights": 6111,
          "day_of_year": 202,
          "year": 2014
         },
         {
          "cumulative_flights": 6114,
          "day_of_year": 203,
          "year": 2014
         },
         {
          "cumulative_flights": 6118,
          "day_of_year": 204,
          "year": 2014
         },
         {
          "cumulative_flights": 6125,
          "day_of_year": 205,
          "year": 2014
         },
         {
          "cumulative_flights": 6171,
          "day_of_year": 206,
          "year": 2014
         },
         {
          "cumulative_flights": 6260,
          "day_of_year": 207,
          "year": 2014
         },
         {
          "cumulative_flights": 6294,
          "day_of_year": 208,
          "year": 2014
         },
         {
          "cumulative_flights": 6296,
          "day_of_year": 209,
          "year": 2014
         },
         {
          "cumulative_flights": 6304,
          "day_of_year": 210,
          "year": 2014
         },
         {
          "cumulative_flights": 6307,
          "day_of_year": 211,
          "year": 2014
         },
         {
          "cumulative_flights": 6319,
          "day_of_year": 212,
          "year": 2014
         },
         {
          "cumulative_flights": 6353,
          "day_of_year": 213,
          "year": 2014
         },
         {
          "cumulative_flights": 6418,
          "day_of_year": 214,
          "year": 2014
         },
         {
          "cumulative_flights": 6423,
          "day_of_year": 215,
          "year": 2014
         },
         {
          "cumulative_flights": 6424,
          "day_of_year": 216,
          "year": 2014
         },
         {
          "cumulative_flights": 6438,
          "day_of_year": 217,
          "year": 2014
         },
         {
          "cumulative_flights": 6449,
          "day_of_year": 218,
          "year": 2014
         },
         {
          "cumulative_flights": 6494,
          "day_of_year": 219,
          "year": 2014
         },
         {
          "cumulative_flights": 6566,
          "day_of_year": 220,
          "year": 2014
         },
         {
          "cumulative_flights": 6609,
          "day_of_year": 221,
          "year": 2014
         },
         {
          "cumulative_flights": 6670,
          "day_of_year": 222,
          "year": 2014
         },
         {
          "cumulative_flights": 6670,
          "day_of_year": 223,
          "year": 2014
         },
         {
          "cumulative_flights": 6682,
          "day_of_year": 224,
          "year": 2014
         },
         {
          "cumulative_flights": 6684,
          "day_of_year": 225,
          "year": 2014
         },
         {
          "cumulative_flights": 6700,
          "day_of_year": 226,
          "year": 2014
         },
         {
          "cumulative_flights": 6734,
          "day_of_year": 227,
          "year": 2014
         },
         {
          "cumulative_flights": 6742,
          "day_of_year": 228,
          "year": 2014
         },
         {
          "cumulative_flights": 6811,
          "day_of_year": 229,
          "year": 2014
         },
         {
          "cumulative_flights": 6811,
          "day_of_year": 230,
          "year": 2014
         },
         {
          "cumulative_flights": 6832,
          "day_of_year": 231,
          "year": 2014
         },
         {
          "cumulative_flights": 6902,
          "day_of_year": 232,
          "year": 2014
         },
         {
          "cumulative_flights": 6935,
          "day_of_year": 233,
          "year": 2014
         },
         {
          "cumulative_flights": 6997,
          "day_of_year": 234,
          "year": 2014
         },
         {
          "cumulative_flights": 7046,
          "day_of_year": 235,
          "year": 2014
         },
         {
          "cumulative_flights": 7071,
          "day_of_year": 236,
          "year": 2014
         },
         {
          "cumulative_flights": 7122,
          "day_of_year": 237,
          "year": 2014
         },
         {
          "cumulative_flights": 7122,
          "day_of_year": 238,
          "year": 2014
         },
         {
          "cumulative_flights": 7141,
          "day_of_year": 239,
          "year": 2014
         },
         {
          "cumulative_flights": 7273,
          "day_of_year": 240,
          "year": 2014
         },
         {
          "cumulative_flights": 7309,
          "day_of_year": 241,
          "year": 2014
         },
         {
          "cumulative_flights": 7347,
          "day_of_year": 242,
          "year": 2014
         },
         {
          "cumulative_flights": 7351,
          "day_of_year": 243,
          "year": 2014
         },
         {
          "cumulative_flights": 7351,
          "day_of_year": 244,
          "year": 2014
         },
         {
          "cumulative_flights": 7352,
          "day_of_year": 245,
          "year": 2014
         },
         {
          "cumulative_flights": 7356,
          "day_of_year": 246,
          "year": 2014
         },
         {
          "cumulative_flights": 7392,
          "day_of_year": 247,
          "year": 2014
         },
         {
          "cumulative_flights": 7451,
          "day_of_year": 248,
          "year": 2014
         },
         {
          "cumulative_flights": 7558,
          "day_of_year": 249,
          "year": 2014
         },
         {
          "cumulative_flights": 7653,
          "day_of_year": 250,
          "year": 2014
         },
         {
          "cumulative_flights": 7684,
          "day_of_year": 251,
          "year": 2014
         },
         {
          "cumulative_flights": 7696,
          "day_of_year": 252,
          "year": 2014
         },
         {
          "cumulative_flights": 7717,
          "day_of_year": 253,
          "year": 2014
         },
         {
          "cumulative_flights": 7720,
          "day_of_year": 254,
          "year": 2014
         },
         {
          "cumulative_flights": 7720,
          "day_of_year": 255,
          "year": 2014
         },
         {
          "cumulative_flights": 7726,
          "day_of_year": 256,
          "year": 2014
         },
         {
          "cumulative_flights": 7726,
          "day_of_year": 257,
          "year": 2014
         },
         {
          "cumulative_flights": 7738,
          "day_of_year": 258,
          "year": 2014
         },
         {
          "cumulative_flights": 7770,
          "day_of_year": 259,
          "year": 2014
         },
         {
          "cumulative_flights": 7837,
          "day_of_year": 260,
          "year": 2014
         },
         {
          "cumulative_flights": 7901,
          "day_of_year": 261,
          "year": 2014
         },
         {
          "cumulative_flights": 7917,
          "day_of_year": 262,
          "year": 2014
         },
         {
          "cumulative_flights": 7927,
          "day_of_year": 263,
          "year": 2014
         },
         {
          "cumulative_flights": 7929,
          "day_of_year": 264,
          "year": 2014
         },
         {
          "cumulative_flights": 7929,
          "day_of_year": 265,
          "year": 2014
         },
         {
          "cumulative_flights": 7951,
          "day_of_year": 266,
          "year": 2014
         },
         {
          "cumulative_flights": 7989,
          "day_of_year": 267,
          "year": 2014
         },
         {
          "cumulative_flights": 7998,
          "day_of_year": 268,
          "year": 2014
         },
         {
          "cumulative_flights": 7999,
          "day_of_year": 269,
          "year": 2014
         },
         {
          "cumulative_flights": 8035,
          "day_of_year": 270,
          "year": 2014
         },
         {
          "cumulative_flights": 8133,
          "day_of_year": 271,
          "year": 2014
         },
         {
          "cumulative_flights": 8143,
          "day_of_year": 272,
          "year": 2014
         },
         {
          "cumulative_flights": 8147,
          "day_of_year": 273,
          "year": 2014
         },
         {
          "cumulative_flights": 8148,
          "day_of_year": 274,
          "year": 2014
         },
         {
          "cumulative_flights": 8155,
          "day_of_year": 275,
          "year": 2014
         },
         {
          "cumulative_flights": 8174,
          "day_of_year": 276,
          "year": 2014
         },
         {
          "cumulative_flights": 8220,
          "day_of_year": 277,
          "year": 2014
         },
         {
          "cumulative_flights": 8248,
          "day_of_year": 278,
          "year": 2014
         },
         {
          "cumulative_flights": 8276,
          "day_of_year": 279,
          "year": 2014
         },
         {
          "cumulative_flights": 8287,
          "day_of_year": 280,
          "year": 2014
         },
         {
          "cumulative_flights": 8301,
          "day_of_year": 281,
          "year": 2014
         },
         {
          "cumulative_flights": 8317,
          "day_of_year": 282,
          "year": 2014
         },
         {
          "cumulative_flights": 8334,
          "day_of_year": 283,
          "year": 2014
         },
         {
          "cumulative_flights": 8365,
          "day_of_year": 284,
          "year": 2014
         },
         {
          "cumulative_flights": 8436,
          "day_of_year": 285,
          "year": 2014
         },
         {
          "cumulative_flights": 8443,
          "day_of_year": 286,
          "year": 2014
         },
         {
          "cumulative_flights": 8449,
          "day_of_year": 287,
          "year": 2014
         },
         {
          "cumulative_flights": 8450,
          "day_of_year": 288,
          "year": 2014
         },
         {
          "cumulative_flights": 8453,
          "day_of_year": 289,
          "year": 2014
         },
         {
          "cumulative_flights": 8453,
          "day_of_year": 290,
          "year": 2014
         },
         {
          "cumulative_flights": 8494,
          "day_of_year": 291,
          "year": 2014
         },
         {
          "cumulative_flights": 8517,
          "day_of_year": 292,
          "year": 2014
         },
         {
          "cumulative_flights": 8532,
          "day_of_year": 293,
          "year": 2014
         },
         {
          "cumulative_flights": 8545,
          "day_of_year": 294,
          "year": 2014
         },
         {
          "cumulative_flights": 8545,
          "day_of_year": 295,
          "year": 2014
         },
         {
          "cumulative_flights": 8545,
          "day_of_year": 296,
          "year": 2014
         },
         {
          "cumulative_flights": 8554,
          "day_of_year": 297,
          "year": 2014
         },
         {
          "cumulative_flights": 8571,
          "day_of_year": 298,
          "year": 2014
         },
         {
          "cumulative_flights": 8600,
          "day_of_year": 299,
          "year": 2014
         },
         {
          "cumulative_flights": 8623,
          "day_of_year": 300,
          "year": 2014
         },
         {
          "cumulative_flights": 8679,
          "day_of_year": 301,
          "year": 2014
         },
         {
          "cumulative_flights": 8692,
          "day_of_year": 302,
          "year": 2014
         },
         {
          "cumulative_flights": 8703,
          "day_of_year": 303,
          "year": 2014
         },
         {
          "cumulative_flights": 8704,
          "day_of_year": 304,
          "year": 2014
         },
         {
          "cumulative_flights": 8723,
          "day_of_year": 305,
          "year": 2014
         },
         {
          "cumulative_flights": 8745,
          "day_of_year": 306,
          "year": 2014
         },
         {
          "cumulative_flights": 8765,
          "day_of_year": 307,
          "year": 2014
         },
         {
          "cumulative_flights": 8781,
          "day_of_year": 308,
          "year": 2014
         },
         {
          "cumulative_flights": 8783,
          "day_of_year": 309,
          "year": 2014
         },
         {
          "cumulative_flights": 8783,
          "day_of_year": 310,
          "year": 2014
         },
         {
          "cumulative_flights": 8783,
          "day_of_year": 311,
          "year": 2014
         },
         {
          "cumulative_flights": 8799,
          "day_of_year": 312,
          "year": 2014
         },
         {
          "cumulative_flights": 8811,
          "day_of_year": 313,
          "year": 2014
         },
         {
          "cumulative_flights": 8813,
          "day_of_year": 314,
          "year": 2014
         },
         {
          "cumulative_flights": 8823,
          "day_of_year": 315,
          "year": 2014
         },
         {
          "cumulative_flights": 8839,
          "day_of_year": 316,
          "year": 2014
         },
         {
          "cumulative_flights": 8842,
          "day_of_year": 317,
          "year": 2014
         },
         {
          "cumulative_flights": 8897,
          "day_of_year": 318,
          "year": 2014
         },
         {
          "cumulative_flights": 8933,
          "day_of_year": 319,
          "year": 2014
         },
         {
          "cumulative_flights": 8938,
          "day_of_year": 320,
          "year": 2014
         },
         {
          "cumulative_flights": 8956,
          "day_of_year": 321,
          "year": 2014
         },
         {
          "cumulative_flights": 8956,
          "day_of_year": 322,
          "year": 2014
         },
         {
          "cumulative_flights": 8957,
          "day_of_year": 323,
          "year": 2014
         },
         {
          "cumulative_flights": 8959,
          "day_of_year": 324,
          "year": 2014
         },
         {
          "cumulative_flights": 8961,
          "day_of_year": 325,
          "year": 2014
         },
         {
          "cumulative_flights": 8981,
          "day_of_year": 326,
          "year": 2014
         },
         {
          "cumulative_flights": 9010,
          "day_of_year": 327,
          "year": 2014
         },
         {
          "cumulative_flights": 9013,
          "day_of_year": 328,
          "year": 2014
         },
         {
          "cumulative_flights": 9017,
          "day_of_year": 329,
          "year": 2014
         },
         {
          "cumulative_flights": 9035,
          "day_of_year": 330,
          "year": 2014
         },
         {
          "cumulative_flights": 9055,
          "day_of_year": 331,
          "year": 2014
         },
         {
          "cumulative_flights": 9071,
          "day_of_year": 332,
          "year": 2014
         },
         {
          "cumulative_flights": 9134,
          "day_of_year": 333,
          "year": 2014
         },
         {
          "cumulative_flights": 9150,
          "day_of_year": 334,
          "year": 2014
         },
         {
          "cumulative_flights": 9150,
          "day_of_year": 335,
          "year": 2014
         },
         {
          "cumulative_flights": 9150,
          "day_of_year": 336,
          "year": 2014
         },
         {
          "cumulative_flights": 9150,
          "day_of_year": 337,
          "year": 2014
         },
         {
          "cumulative_flights": 9154,
          "day_of_year": 338,
          "year": 2014
         },
         {
          "cumulative_flights": 9154,
          "day_of_year": 339,
          "year": 2014
         },
         {
          "cumulative_flights": 9154,
          "day_of_year": 340,
          "year": 2014
         },
         {
          "cumulative_flights": 9155,
          "day_of_year": 341,
          "year": 2014
         },
         {
          "cumulative_flights": 9157,
          "day_of_year": 342,
          "year": 2014
         },
         {
          "cumulative_flights": 9160,
          "day_of_year": 343,
          "year": 2014
         },
         {
          "cumulative_flights": 9160,
          "day_of_year": 344,
          "year": 2014
         },
         {
          "cumulative_flights": 9162,
          "day_of_year": 345,
          "year": 2014
         },
         {
          "cumulative_flights": 9162,
          "day_of_year": 346,
          "year": 2014
         },
         {
          "cumulative_flights": 9193,
          "day_of_year": 347,
          "year": 2014
         },
         {
          "cumulative_flights": 9202,
          "day_of_year": 348,
          "year": 2014
         },
         {
          "cumulative_flights": 9208,
          "day_of_year": 349,
          "year": 2014
         },
         {
          "cumulative_flights": 9208,
          "day_of_year": 350,
          "year": 2014
         },
         {
          "cumulative_flights": 9220,
          "day_of_year": 351,
          "year": 2014
         },
         {
          "cumulative_flights": 9220,
          "day_of_year": 352,
          "year": 2014
         },
         {
          "cumulative_flights": 9223,
          "day_of_year": 353,
          "year": 2014
         },
         {
          "cumulative_flights": 9224,
          "day_of_year": 354,
          "year": 2014
         },
         {
          "cumulative_flights": 9230,
          "day_of_year": 355,
          "year": 2014
         },
         {
          "cumulative_flights": 9230,
          "day_of_year": 356,
          "year": 2014
         },
         {
          "cumulative_flights": 9232,
          "day_of_year": 357,
          "year": 2014
         },
         {
          "cumulative_flights": 9239,
          "day_of_year": 358,
          "year": 2014
         },
         {
          "cumulative_flights": 9257,
          "day_of_year": 359,
          "year": 2014
         },
         {
          "cumulative_flights": 9284,
          "day_of_year": 360,
          "year": 2014
         },
         {
          "cumulative_flights": 9320,
          "day_of_year": 361,
          "year": 2014
         },
         {
          "cumulative_flights": 9335,
          "day_of_year": 362,
          "year": 2014
         },
         {
          "cumulative_flights": 9348,
          "day_of_year": 363,
          "year": 2014
         },
         {
          "cumulative_flights": 9359,
          "day_of_year": 364,
          "year": 2014
         },
         {
          "cumulative_flights": 9372,
          "day_of_year": 365,
          "year": 2014
         },
         {
          "cumulative_flights": 10,
          "day_of_year": 1,
          "year": 2015
         },
         {
          "cumulative_flights": 11,
          "day_of_year": 2,
          "year": 2015
         },
         {
          "cumulative_flights": 24,
          "day_of_year": 3,
          "year": 2015
         },
         {
          "cumulative_flights": 24,
          "day_of_year": 4,
          "year": 2015
         },
         {
          "cumulative_flights": 24,
          "day_of_year": 5,
          "year": 2015
         },
         {
          "cumulative_flights": 26,
          "day_of_year": 6,
          "year": 2015
         },
         {
          "cumulative_flights": 27,
          "day_of_year": 7,
          "year": 2015
         },
         {
          "cumulative_flights": 27,
          "day_of_year": 8,
          "year": 2015
         },
         {
          "cumulative_flights": 27,
          "day_of_year": 9,
          "year": 2015
         },
         {
          "cumulative_flights": 27,
          "day_of_year": 10,
          "year": 2015
         },
         {
          "cumulative_flights": 27,
          "day_of_year": 11,
          "year": 2015
         },
         {
          "cumulative_flights": 27,
          "day_of_year": 12,
          "year": 2015
         },
         {
          "cumulative_flights": 35,
          "day_of_year": 13,
          "year": 2015
         },
         {
          "cumulative_flights": 36,
          "day_of_year": 14,
          "year": 2015
         },
         {
          "cumulative_flights": 49,
          "day_of_year": 15,
          "year": 2015
         },
         {
          "cumulative_flights": 72,
          "day_of_year": 16,
          "year": 2015
         },
         {
          "cumulative_flights": 73,
          "day_of_year": 17,
          "year": 2015
         },
         {
          "cumulative_flights": 80,
          "day_of_year": 18,
          "year": 2015
         },
         {
          "cumulative_flights": 83,
          "day_of_year": 19,
          "year": 2015
         },
         {
          "cumulative_flights": 83,
          "day_of_year": 20,
          "year": 2015
         },
         {
          "cumulative_flights": 92,
          "day_of_year": 21,
          "year": 2015
         },
         {
          "cumulative_flights": 92,
          "day_of_year": 22,
          "year": 2015
         },
         {
          "cumulative_flights": 94,
          "day_of_year": 23,
          "year": 2015
         },
         {
          "cumulative_flights": 114,
          "day_of_year": 24,
          "year": 2015
         },
         {
          "cumulative_flights": 130,
          "day_of_year": 25,
          "year": 2015
         },
         {
          "cumulative_flights": 133,
          "day_of_year": 26,
          "year": 2015
         },
         {
          "cumulative_flights": 133,
          "day_of_year": 27,
          "year": 2015
         },
         {
          "cumulative_flights": 138,
          "day_of_year": 28,
          "year": 2015
         },
         {
          "cumulative_flights": 144,
          "day_of_year": 29,
          "year": 2015
         },
         {
          "cumulative_flights": 145,
          "day_of_year": 30,
          "year": 2015
         },
         {
          "cumulative_flights": 162,
          "day_of_year": 31,
          "year": 2015
         },
         {
          "cumulative_flights": 187,
          "day_of_year": 32,
          "year": 2015
         },
         {
          "cumulative_flights": 193,
          "day_of_year": 33,
          "year": 2015
         },
         {
          "cumulative_flights": 201,
          "day_of_year": 34,
          "year": 2015
         },
         {
          "cumulative_flights": 214,
          "day_of_year": 35,
          "year": 2015
         },
         {
          "cumulative_flights": 226,
          "day_of_year": 36,
          "year": 2015
         },
         {
          "cumulative_flights": 228,
          "day_of_year": 37,
          "year": 2015
         },
         {
          "cumulative_flights": 267,
          "day_of_year": 38,
          "year": 2015
         },
         {
          "cumulative_flights": 267,
          "day_of_year": 39,
          "year": 2015
         },
         {
          "cumulative_flights": 267,
          "day_of_year": 40,
          "year": 2015
         },
         {
          "cumulative_flights": 278,
          "day_of_year": 41,
          "year": 2015
         },
         {
          "cumulative_flights": 278,
          "day_of_year": 42,
          "year": 2015
         },
         {
          "cumulative_flights": 288,
          "day_of_year": 43,
          "year": 2015
         },
         {
          "cumulative_flights": 305,
          "day_of_year": 44,
          "year": 2015
         },
         {
          "cumulative_flights": 352,
          "day_of_year": 45,
          "year": 2015
         },
         {
          "cumulative_flights": 392,
          "day_of_year": 46,
          "year": 2015
         },
         {
          "cumulative_flights": 407,
          "day_of_year": 47,
          "year": 2015
         },
         {
          "cumulative_flights": 422,
          "day_of_year": 48,
          "year": 2015
         },
         {
          "cumulative_flights": 422,
          "day_of_year": 49,
          "year": 2015
         },
         {
          "cumulative_flights": 430,
          "day_of_year": 50,
          "year": 2015
         },
         {
          "cumulative_flights": 450,
          "day_of_year": 51,
          "year": 2015
         },
         {
          "cumulative_flights": 521,
          "day_of_year": 52,
          "year": 2015
         },
         {
          "cumulative_flights": 533,
          "day_of_year": 53,
          "year": 2015
         },
         {
          "cumulative_flights": 537,
          "day_of_year": 54,
          "year": 2015
         },
         {
          "cumulative_flights": 541,
          "day_of_year": 55,
          "year": 2015
         },
         {
          "cumulative_flights": 550,
          "day_of_year": 56,
          "year": 2015
         },
         {
          "cumulative_flights": 567,
          "day_of_year": 57,
          "year": 2015
         },
         {
          "cumulative_flights": 584,
          "day_of_year": 58,
          "year": 2015
         },
         {
          "cumulative_flights": 615,
          "day_of_year": 59,
          "year": 2015
         },
         {
          "cumulative_flights": 623,
          "day_of_year": 60,
          "year": 2015
         },
         {
          "cumulative_flights": 625,
          "day_of_year": 61,
          "year": 2015
         },
         {
          "cumulative_flights": 628,
          "day_of_year": 62,
          "year": 2015
         },
         {
          "cumulative_flights": 646,
          "day_of_year": 63,
          "year": 2015
         },
         {
          "cumulative_flights": 650,
          "day_of_year": 64,
          "year": 2015
         },
         {
          "cumulative_flights": 667,
          "day_of_year": 65,
          "year": 2015
         },
         {
          "cumulative_flights": 729,
          "day_of_year": 66,
          "year": 2015
         },
         {
          "cumulative_flights": 840,
          "day_of_year": 67,
          "year": 2015
         },
         {
          "cumulative_flights": 864,
          "day_of_year": 68,
          "year": 2015
         },
         {
          "cumulative_flights": 913,
          "day_of_year": 69,
          "year": 2015
         },
         {
          "cumulative_flights": 922,
          "day_of_year": 70,
          "year": 2015
         },
         {
          "cumulative_flights": 925,
          "day_of_year": 71,
          "year": 2015
         },
         {
          "cumulative_flights": 935,
          "day_of_year": 72,
          "year": 2015
         },
         {
          "cumulative_flights": 938,
          "day_of_year": 73,
          "year": 2015
         },
         {
          "cumulative_flights": 949,
          "day_of_year": 74,
          "year": 2015
         },
         {
          "cumulative_flights": 951,
          "day_of_year": 75,
          "year": 2015
         },
         {
          "cumulative_flights": 961,
          "day_of_year": 76,
          "year": 2015
         },
         {
          "cumulative_flights": 1056,
          "day_of_year": 77,
          "year": 2015
         },
         {
          "cumulative_flights": 1158,
          "day_of_year": 78,
          "year": 2015
         },
         {
          "cumulative_flights": 1261,
          "day_of_year": 79,
          "year": 2015
         },
         {
          "cumulative_flights": 1341,
          "day_of_year": 80,
          "year": 2015
         },
         {
          "cumulative_flights": 1366,
          "day_of_year": 81,
          "year": 2015
         },
         {
          "cumulative_flights": 1405,
          "day_of_year": 82,
          "year": 2015
         },
         {
          "cumulative_flights": 1432,
          "day_of_year": 83,
          "year": 2015
         },
         {
          "cumulative_flights": 1449,
          "day_of_year": 84,
          "year": 2015
         },
         {
          "cumulative_flights": 1453,
          "day_of_year": 85,
          "year": 2015
         },
         {
          "cumulative_flights": 1453,
          "day_of_year": 86,
          "year": 2015
         },
         {
          "cumulative_flights": 1514,
          "day_of_year": 87,
          "year": 2015
         },
         {
          "cumulative_flights": 1517,
          "day_of_year": 88,
          "year": 2015
         },
         {
          "cumulative_flights": 1517,
          "day_of_year": 89,
          "year": 2015
         },
         {
          "cumulative_flights": 1517,
          "day_of_year": 90,
          "year": 2015
         },
         {
          "cumulative_flights": 1517,
          "day_of_year": 91,
          "year": 2015
         },
         {
          "cumulative_flights": 1517,
          "day_of_year": 92,
          "year": 2015
         },
         {
          "cumulative_flights": 1527,
          "day_of_year": 93,
          "year": 2015
         },
         {
          "cumulative_flights": 1609,
          "day_of_year": 94,
          "year": 2015
         },
         {
          "cumulative_flights": 1672,
          "day_of_year": 95,
          "year": 2015
         },
         {
          "cumulative_flights": 1675,
          "day_of_year": 96,
          "year": 2015
         },
         {
          "cumulative_flights": 1707,
          "day_of_year": 97,
          "year": 2015
         },
         {
          "cumulative_flights": 1715,
          "day_of_year": 98,
          "year": 2015
         },
         {
          "cumulative_flights": 1750,
          "day_of_year": 99,
          "year": 2015
         },
         {
          "cumulative_flights": 1855,
          "day_of_year": 100,
          "year": 2015
         },
         {
          "cumulative_flights": 1947,
          "day_of_year": 101,
          "year": 2015
         },
         {
          "cumulative_flights": 2027,
          "day_of_year": 102,
          "year": 2015
         },
         {
          "cumulative_flights": 2029,
          "day_of_year": 103,
          "year": 2015
         },
         {
          "cumulative_flights": 2041,
          "day_of_year": 104,
          "year": 2015
         },
         {
          "cumulative_flights": 2056,
          "day_of_year": 105,
          "year": 2015
         },
         {
          "cumulative_flights": 2074,
          "day_of_year": 106,
          "year": 2015
         },
         {
          "cumulative_flights": 2094,
          "day_of_year": 107,
          "year": 2015
         },
         {
          "cumulative_flights": 2151,
          "day_of_year": 108,
          "year": 2015
         },
         {
          "cumulative_flights": 2364,
          "day_of_year": 109,
          "year": 2015
         },
         {
          "cumulative_flights": 2365,
          "day_of_year": 110,
          "year": 2015
         },
         {
          "cumulative_flights": 2366,
          "day_of_year": 111,
          "year": 2015
         },
         {
          "cumulative_flights": 2464,
          "day_of_year": 112,
          "year": 2015
         },
         {
          "cumulative_flights": 2562,
          "day_of_year": 113,
          "year": 2015
         },
         {
          "cumulative_flights": 2690,
          "day_of_year": 114,
          "year": 2015
         },
         {
          "cumulative_flights": 2743,
          "day_of_year": 115,
          "year": 2015
         },
         {
          "cumulative_flights": 2765,
          "day_of_year": 116,
          "year": 2015
         },
         {
          "cumulative_flights": 2777,
          "day_of_year": 117,
          "year": 2015
         },
         {
          "cumulative_flights": 2777,
          "day_of_year": 118,
          "year": 2015
         },
         {
          "cumulative_flights": 2873,
          "day_of_year": 119,
          "year": 2015
         },
         {
          "cumulative_flights": 2891,
          "day_of_year": 120,
          "year": 2015
         },
         {
          "cumulative_flights": 2903,
          "day_of_year": 121,
          "year": 2015
         },
         {
          "cumulative_flights": 2979,
          "day_of_year": 122,
          "year": 2015
         },
         {
          "cumulative_flights": 3036,
          "day_of_year": 123,
          "year": 2015
         },
         {
          "cumulative_flights": 3047,
          "day_of_year": 124,
          "year": 2015
         },
         {
          "cumulative_flights": 3066,
          "day_of_year": 125,
          "year": 2015
         },
         {
          "cumulative_flights": 3069,
          "day_of_year": 126,
          "year": 2015
         },
         {
          "cumulative_flights": 3093,
          "day_of_year": 127,
          "year": 2015
         },
         {
          "cumulative_flights": 3338,
          "day_of_year": 128,
          "year": 2015
         },
         {
          "cumulative_flights": 3358,
          "day_of_year": 129,
          "year": 2015
         },
         {
          "cumulative_flights": 3370,
          "day_of_year": 130,
          "year": 2015
         },
         {
          "cumulative_flights": 3499,
          "day_of_year": 131,
          "year": 2015
         },
         {
          "cumulative_flights": 3506,
          "day_of_year": 132,
          "year": 2015
         },
         {
          "cumulative_flights": 3583,
          "day_of_year": 133,
          "year": 2015
         },
         {
          "cumulative_flights": 3615,
          "day_of_year": 134,
          "year": 2015
         },
         {
          "cumulative_flights": 3671,
          "day_of_year": 135,
          "year": 2015
         },
         {
          "cumulative_flights": 3877,
          "day_of_year": 136,
          "year": 2015
         },
         {
          "cumulative_flights": 3892,
          "day_of_year": 137,
          "year": 2015
         },
         {
          "cumulative_flights": 3946,
          "day_of_year": 138,
          "year": 2015
         },
         {
          "cumulative_flights": 3948,
          "day_of_year": 139,
          "year": 2015
         },
         {
          "cumulative_flights": 3948,
          "day_of_year": 140,
          "year": 2015
         },
         {
          "cumulative_flights": 3953,
          "day_of_year": 141,
          "year": 2015
         },
         {
          "cumulative_flights": 4034,
          "day_of_year": 142,
          "year": 2015
         },
         {
          "cumulative_flights": 4057,
          "day_of_year": 143,
          "year": 2015
         },
         {
          "cumulative_flights": 4113,
          "day_of_year": 144,
          "year": 2015
         },
         {
          "cumulative_flights": 4119,
          "day_of_year": 145,
          "year": 2015
         },
         {
          "cumulative_flights": 4124,
          "day_of_year": 146,
          "year": 2015
         },
         {
          "cumulative_flights": 4140,
          "day_of_year": 147,
          "year": 2015
         },
         {
          "cumulative_flights": 4208,
          "day_of_year": 148,
          "year": 2015
         },
         {
          "cumulative_flights": 4253,
          "day_of_year": 149,
          "year": 2015
         },
         {
          "cumulative_flights": 4261,
          "day_of_year": 150,
          "year": 2015
         },
         {
          "cumulative_flights": 4440,
          "day_of_year": 151,
          "year": 2015
         },
         {
          "cumulative_flights": 4456,
          "day_of_year": 152,
          "year": 2015
         },
         {
          "cumulative_flights": 4482,
          "day_of_year": 153,
          "year": 2015
         },
         {
          "cumulative_flights": 4515,
          "day_of_year": 154,
          "year": 2015
         },
         {
          "cumulative_flights": 4608,
          "day_of_year": 155,
          "year": 2015
         },
         {
          "cumulative_flights": 4721,
          "day_of_year": 156,
          "year": 2015
         },
         {
          "cumulative_flights": 4830,
          "day_of_year": 157,
          "year": 2015
         },
         {
          "cumulative_flights": 4919,
          "day_of_year": 158,
          "year": 2015
         },
         {
          "cumulative_flights": 4921,
          "day_of_year": 159,
          "year": 2015
         },
         {
          "cumulative_flights": 4922,
          "day_of_year": 160,
          "year": 2015
         },
         {
          "cumulative_flights": 4958,
          "day_of_year": 161,
          "year": 2015
         },
         {
          "cumulative_flights": 5003,
          "day_of_year": 162,
          "year": 2015
         },
         {
          "cumulative_flights": 5039,
          "day_of_year": 163,
          "year": 2015
         },
         {
          "cumulative_flights": 5103,
          "day_of_year": 164,
          "year": 2015
         },
         {
          "cumulative_flights": 5184,
          "day_of_year": 165,
          "year": 2015
         },
         {
          "cumulative_flights": 5186,
          "day_of_year": 166,
          "year": 2015
         },
         {
          "cumulative_flights": 5225,
          "day_of_year": 167,
          "year": 2015
         },
         {
          "cumulative_flights": 5298,
          "day_of_year": 168,
          "year": 2015
         },
         {
          "cumulative_flights": 5307,
          "day_of_year": 169,
          "year": 2015
         },
         {
          "cumulative_flights": 5316,
          "day_of_year": 170,
          "year": 2015
         },
         {
          "cumulative_flights": 5335,
          "day_of_year": 171,
          "year": 2015
         },
         {
          "cumulative_flights": 5370,
          "day_of_year": 172,
          "year": 2015
         },
         {
          "cumulative_flights": 5373,
          "day_of_year": 173,
          "year": 2015
         },
         {
          "cumulative_flights": 5379,
          "day_of_year": 174,
          "year": 2015
         },
         {
          "cumulative_flights": 5418,
          "day_of_year": 175,
          "year": 2015
         },
         {
          "cumulative_flights": 5515,
          "day_of_year": 176,
          "year": 2015
         },
         {
          "cumulative_flights": 5589,
          "day_of_year": 177,
          "year": 2015
         },
         {
          "cumulative_flights": 5604,
          "day_of_year": 178,
          "year": 2015
         },
         {
          "cumulative_flights": 5707,
          "day_of_year": 179,
          "year": 2015
         },
         {
          "cumulative_flights": 5726,
          "day_of_year": 180,
          "year": 2015
         },
         {
          "cumulative_flights": 5777,
          "day_of_year": 181,
          "year": 2015
         },
         {
          "cumulative_flights": 5925,
          "day_of_year": 182,
          "year": 2015
         },
         {
          "cumulative_flights": 6003,
          "day_of_year": 183,
          "year": 2015
         },
         {
          "cumulative_flights": 6141,
          "day_of_year": 184,
          "year": 2015
         },
         {
          "cumulative_flights": 6290,
          "day_of_year": 185,
          "year": 2015
         },
         {
          "cumulative_flights": 6383,
          "day_of_year": 186,
          "year": 2015
         },
         {
          "cumulative_flights": 6398,
          "day_of_year": 187,
          "year": 2015
         },
         {
          "cumulative_flights": 6429,
          "day_of_year": 188,
          "year": 2015
         },
         {
          "cumulative_flights": 6433,
          "day_of_year": 189,
          "year": 2015
         },
         {
          "cumulative_flights": 6438,
          "day_of_year": 190,
          "year": 2015
         },
         {
          "cumulative_flights": 6467,
          "day_of_year": 191,
          "year": 2015
         },
         {
          "cumulative_flights": 6618,
          "day_of_year": 192,
          "year": 2015
         },
         {
          "cumulative_flights": 6664,
          "day_of_year": 193,
          "year": 2015
         },
         {
          "cumulative_flights": 6664,
          "day_of_year": 194,
          "year": 2015
         },
         {
          "cumulative_flights": 6665,
          "day_of_year": 195,
          "year": 2015
         },
         {
          "cumulative_flights": 6686,
          "day_of_year": 196,
          "year": 2015
         },
         {
          "cumulative_flights": 6764,
          "day_of_year": 197,
          "year": 2015
         },
         {
          "cumulative_flights": 6850,
          "day_of_year": 198,
          "year": 2015
         },
         {
          "cumulative_flights": 6902,
          "day_of_year": 199,
          "year": 2015
         },
         {
          "cumulative_flights": 6908,
          "day_of_year": 200,
          "year": 2015
         },
         {
          "cumulative_flights": 6931,
          "day_of_year": 201,
          "year": 2015
         },
         {
          "cumulative_flights": 6969,
          "day_of_year": 202,
          "year": 2015
         },
         {
          "cumulative_flights": 7109,
          "day_of_year": 203,
          "year": 2015
         },
         {
          "cumulative_flights": 7117,
          "day_of_year": 204,
          "year": 2015
         },
         {
          "cumulative_flights": 7168,
          "day_of_year": 205,
          "year": 2015
         },
         {
          "cumulative_flights": 7168,
          "day_of_year": 206,
          "year": 2015
         },
         {
          "cumulative_flights": 7317,
          "day_of_year": 207,
          "year": 2015
         },
         {
          "cumulative_flights": 7317,
          "day_of_year": 208,
          "year": 2015
         },
         {
          "cumulative_flights": 7320,
          "day_of_year": 209,
          "year": 2015
         },
         {
          "cumulative_flights": 7323,
          "day_of_year": 210,
          "year": 2015
         },
         {
          "cumulative_flights": 7373,
          "day_of_year": 211,
          "year": 2015
         },
         {
          "cumulative_flights": 7520,
          "day_of_year": 212,
          "year": 2015
         },
         {
          "cumulative_flights": 7554,
          "day_of_year": 213,
          "year": 2015
         },
         {
          "cumulative_flights": 7625,
          "day_of_year": 214,
          "year": 2015
         },
         {
          "cumulative_flights": 7732,
          "day_of_year": 215,
          "year": 2015
         },
         {
          "cumulative_flights": 7807,
          "day_of_year": 216,
          "year": 2015
         },
         {
          "cumulative_flights": 7890,
          "day_of_year": 217,
          "year": 2015
         },
         {
          "cumulative_flights": 8032,
          "day_of_year": 218,
          "year": 2015
         },
         {
          "cumulative_flights": 8170,
          "day_of_year": 219,
          "year": 2015
         },
         {
          "cumulative_flights": 8233,
          "day_of_year": 220,
          "year": 2015
         },
         {
          "cumulative_flights": 8306,
          "day_of_year": 221,
          "year": 2015
         },
         {
          "cumulative_flights": 8350,
          "day_of_year": 222,
          "year": 2015
         },
         {
          "cumulative_flights": 8391,
          "day_of_year": 223,
          "year": 2015
         },
         {
          "cumulative_flights": 8448,
          "day_of_year": 224,
          "year": 2015
         },
         {
          "cumulative_flights": 8486,
          "day_of_year": 225,
          "year": 2015
         },
         {
          "cumulative_flights": 8498,
          "day_of_year": 226,
          "year": 2015
         },
         {
          "cumulative_flights": 8535,
          "day_of_year": 227,
          "year": 2015
         },
         {
          "cumulative_flights": 8539,
          "day_of_year": 228,
          "year": 2015
         },
         {
          "cumulative_flights": 8540,
          "day_of_year": 229,
          "year": 2015
         },
         {
          "cumulative_flights": 8540,
          "day_of_year": 230,
          "year": 2015
         },
         {
          "cumulative_flights": 8541,
          "day_of_year": 231,
          "year": 2015
         },
         {
          "cumulative_flights": 8557,
          "day_of_year": 232,
          "year": 2015
         },
         {
          "cumulative_flights": 8595,
          "day_of_year": 233,
          "year": 2015
         },
         {
          "cumulative_flights": 8729,
          "day_of_year": 234,
          "year": 2015
         },
         {
          "cumulative_flights": 8772,
          "day_of_year": 235,
          "year": 2015
         },
         {
          "cumulative_flights": 8792,
          "day_of_year": 236,
          "year": 2015
         },
         {
          "cumulative_flights": 8794,
          "day_of_year": 237,
          "year": 2015
         },
         {
          "cumulative_flights": 8937,
          "day_of_year": 238,
          "year": 2015
         },
         {
          "cumulative_flights": 8966,
          "day_of_year": 239,
          "year": 2015
         },
         {
          "cumulative_flights": 9014,
          "day_of_year": 240,
          "year": 2015
         },
         {
          "cumulative_flights": 9174,
          "day_of_year": 241,
          "year": 2015
         },
         {
          "cumulative_flights": 9242,
          "day_of_year": 242,
          "year": 2015
         },
         {
          "cumulative_flights": 9270,
          "day_of_year": 243,
          "year": 2015
         },
         {
          "cumulative_flights": 9326,
          "day_of_year": 244,
          "year": 2015
         },
         {
          "cumulative_flights": 9330,
          "day_of_year": 245,
          "year": 2015
         },
         {
          "cumulative_flights": 9359,
          "day_of_year": 246,
          "year": 2015
         },
         {
          "cumulative_flights": 9404,
          "day_of_year": 247,
          "year": 2015
         },
         {
          "cumulative_flights": 9439,
          "day_of_year": 248,
          "year": 2015
         },
         {
          "cumulative_flights": 9440,
          "day_of_year": 249,
          "year": 2015
         },
         {
          "cumulative_flights": 9446,
          "day_of_year": 250,
          "year": 2015
         },
         {
          "cumulative_flights": 9496,
          "day_of_year": 251,
          "year": 2015
         },
         {
          "cumulative_flights": 9500,
          "day_of_year": 252,
          "year": 2015
         },
         {
          "cumulative_flights": 9503,
          "day_of_year": 253,
          "year": 2015
         },
         {
          "cumulative_flights": 9514,
          "day_of_year": 254,
          "year": 2015
         },
         {
          "cumulative_flights": 9608,
          "day_of_year": 255,
          "year": 2015
         },
         {
          "cumulative_flights": 9657,
          "day_of_year": 256,
          "year": 2015
         },
         {
          "cumulative_flights": 9657,
          "day_of_year": 257,
          "year": 2015
         },
         {
          "cumulative_flights": 9666,
          "day_of_year": 258,
          "year": 2015
         },
         {
          "cumulative_flights": 9681,
          "day_of_year": 259,
          "year": 2015
         },
         {
          "cumulative_flights": 9703,
          "day_of_year": 260,
          "year": 2015
         },
         {
          "cumulative_flights": 9734,
          "day_of_year": 261,
          "year": 2015
         },
         {
          "cumulative_flights": 9885,
          "day_of_year": 262,
          "year": 2015
         },
         {
          "cumulative_flights": 9916,
          "day_of_year": 263,
          "year": 2015
         },
         {
          "cumulative_flights": 9935,
          "day_of_year": 264,
          "year": 2015
         },
         {
          "cumulative_flights": 9956,
          "day_of_year": 265,
          "year": 2015
         },
         {
          "cumulative_flights": 9960,
          "day_of_year": 266,
          "year": 2015
         },
         {
          "cumulative_flights": 9978,
          "day_of_year": 267,
          "year": 2015
         },
         {
          "cumulative_flights": 10017,
          "day_of_year": 268,
          "year": 2015
         },
         {
          "cumulative_flights": 10052,
          "day_of_year": 269,
          "year": 2015
         },
         {
          "cumulative_flights": 10096,
          "day_of_year": 270,
          "year": 2015
         },
         {
          "cumulative_flights": 10135,
          "day_of_year": 271,
          "year": 2015
         },
         {
          "cumulative_flights": 10141,
          "day_of_year": 272,
          "year": 2015
         },
         {
          "cumulative_flights": 10146,
          "day_of_year": 273,
          "year": 2015
         },
         {
          "cumulative_flights": 10194,
          "day_of_year": 274,
          "year": 2015
         },
         {
          "cumulative_flights": 10280,
          "day_of_year": 275,
          "year": 2015
         },
         {
          "cumulative_flights": 10322,
          "day_of_year": 276,
          "year": 2015
         },
         {
          "cumulative_flights": 10370,
          "day_of_year": 277,
          "year": 2015
         },
         {
          "cumulative_flights": 10393,
          "day_of_year": 278,
          "year": 2015
         },
         {
          "cumulative_flights": 10404,
          "day_of_year": 279,
          "year": 2015
         },
         {
          "cumulative_flights": 10406,
          "day_of_year": 280,
          "year": 2015
         },
         {
          "cumulative_flights": 10407,
          "day_of_year": 281,
          "year": 2015
         },
         {
          "cumulative_flights": 10410,
          "day_of_year": 282,
          "year": 2015
         },
         {
          "cumulative_flights": 10454,
          "day_of_year": 283,
          "year": 2015
         },
         {
          "cumulative_flights": 10483,
          "day_of_year": 284,
          "year": 2015
         },
         {
          "cumulative_flights": 10496,
          "day_of_year": 285,
          "year": 2015
         },
         {
          "cumulative_flights": 10500,
          "day_of_year": 286,
          "year": 2015
         },
         {
          "cumulative_flights": 10500,
          "day_of_year": 287,
          "year": 2015
         },
         {
          "cumulative_flights": 10500,
          "day_of_year": 288,
          "year": 2015
         },
         {
          "cumulative_flights": 10500,
          "day_of_year": 289,
          "year": 2015
         },
         {
          "cumulative_flights": 10510,
          "day_of_year": 290,
          "year": 2015
         },
         {
          "cumulative_flights": 10524,
          "day_of_year": 291,
          "year": 2015
         },
         {
          "cumulative_flights": 10529,
          "day_of_year": 292,
          "year": 2015
         },
         {
          "cumulative_flights": 10531,
          "day_of_year": 293,
          "year": 2015
         },
         {
          "cumulative_flights": 10538,
          "day_of_year": 294,
          "year": 2015
         },
         {
          "cumulative_flights": 10557,
          "day_of_year": 295,
          "year": 2015
         },
         {
          "cumulative_flights": 10588,
          "day_of_year": 296,
          "year": 2015
         },
         {
          "cumulative_flights": 10663,
          "day_of_year": 297,
          "year": 2015
         },
         {
          "cumulative_flights": 10694,
          "day_of_year": 298,
          "year": 2015
         },
         {
          "cumulative_flights": 10720,
          "day_of_year": 299,
          "year": 2015
         },
         {
          "cumulative_flights": 10740,
          "day_of_year": 300,
          "year": 2015
         },
         {
          "cumulative_flights": 10804,
          "day_of_year": 301,
          "year": 2015
         },
         {
          "cumulative_flights": 10806,
          "day_of_year": 302,
          "year": 2015
         },
         {
          "cumulative_flights": 10825,
          "day_of_year": 303,
          "year": 2015
         },
         {
          "cumulative_flights": 10912,
          "day_of_year": 304,
          "year": 2015
         },
         {
          "cumulative_flights": 11029,
          "day_of_year": 305,
          "year": 2015
         },
         {
          "cumulative_flights": 11053,
          "day_of_year": 306,
          "year": 2015
         },
         {
          "cumulative_flights": 11067,
          "day_of_year": 307,
          "year": 2015
         },
         {
          "cumulative_flights": 11074,
          "day_of_year": 308,
          "year": 2015
         },
         {
          "cumulative_flights": 11082,
          "day_of_year": 309,
          "year": 2015
         },
         {
          "cumulative_flights": 11086,
          "day_of_year": 310,
          "year": 2015
         },
         {
          "cumulative_flights": 11091,
          "day_of_year": 311,
          "year": 2015
         },
         {
          "cumulative_flights": 11157,
          "day_of_year": 312,
          "year": 2015
         },
         {
          "cumulative_flights": 11157,
          "day_of_year": 313,
          "year": 2015
         },
         {
          "cumulative_flights": 11161,
          "day_of_year": 314,
          "year": 2015
         },
         {
          "cumulative_flights": 11161,
          "day_of_year": 315,
          "year": 2015
         },
         {
          "cumulative_flights": 11168,
          "day_of_year": 316,
          "year": 2015
         },
         {
          "cumulative_flights": 11190,
          "day_of_year": 317,
          "year": 2015
         },
         {
          "cumulative_flights": 11191,
          "day_of_year": 318,
          "year": 2015
         },
         {
          "cumulative_flights": 11191,
          "day_of_year": 319,
          "year": 2015
         },
         {
          "cumulative_flights": 11213,
          "day_of_year": 320,
          "year": 2015
         },
         {
          "cumulative_flights": 11213,
          "day_of_year": 321,
          "year": 2015
         },
         {
          "cumulative_flights": 11213,
          "day_of_year": 322,
          "year": 2015
         },
         {
          "cumulative_flights": 11213,
          "day_of_year": 323,
          "year": 2015
         },
         {
          "cumulative_flights": 11213,
          "day_of_year": 324,
          "year": 2015
         },
         {
          "cumulative_flights": 11215,
          "day_of_year": 325,
          "year": 2015
         },
         {
          "cumulative_flights": 11279,
          "day_of_year": 326,
          "year": 2015
         },
         {
          "cumulative_flights": 11280,
          "day_of_year": 327,
          "year": 2015
         },
         {
          "cumulative_flights": 11294,
          "day_of_year": 328,
          "year": 2015
         },
         {
          "cumulative_flights": 11296,
          "day_of_year": 329,
          "year": 2015
         },
         {
          "cumulative_flights": 11297,
          "day_of_year": 330,
          "year": 2015
         },
         {
          "cumulative_flights": 11299,
          "day_of_year": 331,
          "year": 2015
         },
         {
          "cumulative_flights": 11348,
          "day_of_year": 332,
          "year": 2015
         },
         {
          "cumulative_flights": 11349,
          "day_of_year": 333,
          "year": 2015
         },
         {
          "cumulative_flights": 11353,
          "day_of_year": 334,
          "year": 2015
         },
         {
          "cumulative_flights": 11353,
          "day_of_year": 335,
          "year": 2015
         },
         {
          "cumulative_flights": 11358,
          "day_of_year": 336,
          "year": 2015
         },
         {
          "cumulative_flights": 11368,
          "day_of_year": 337,
          "year": 2015
         },
         {
          "cumulative_flights": 11371,
          "day_of_year": 338,
          "year": 2015
         },
         {
          "cumulative_flights": 11404,
          "day_of_year": 339,
          "year": 2015
         },
         {
          "cumulative_flights": 11428,
          "day_of_year": 340,
          "year": 2015
         },
         {
          "cumulative_flights": 11437,
          "day_of_year": 341,
          "year": 2015
         },
         {
          "cumulative_flights": 11439,
          "day_of_year": 342,
          "year": 2015
         },
         {
          "cumulative_flights": 11439,
          "day_of_year": 343,
          "year": 2015
         },
         {
          "cumulative_flights": 11446,
          "day_of_year": 344,
          "year": 2015
         },
         {
          "cumulative_flights": 11454,
          "day_of_year": 345,
          "year": 2015
         },
         {
          "cumulative_flights": 11477,
          "day_of_year": 346,
          "year": 2015
         },
         {
          "cumulative_flights": 11477,
          "day_of_year": 347,
          "year": 2015
         },
         {
          "cumulative_flights": 11478,
          "day_of_year": 348,
          "year": 2015
         },
         {
          "cumulative_flights": 11479,
          "day_of_year": 349,
          "year": 2015
         },
         {
          "cumulative_flights": 11488,
          "day_of_year": 350,
          "year": 2015
         },
         {
          "cumulative_flights": 11488,
          "day_of_year": 351,
          "year": 2015
         },
         {
          "cumulative_flights": 11488,
          "day_of_year": 352,
          "year": 2015
         },
         {
          "cumulative_flights": 11492,
          "day_of_year": 353,
          "year": 2015
         },
         {
          "cumulative_flights": 11529,
          "day_of_year": 354,
          "year": 2015
         },
         {
          "cumulative_flights": 11534,
          "day_of_year": 355,
          "year": 2015
         },
         {
          "cumulative_flights": 11543,
          "day_of_year": 356,
          "year": 2015
         },
         {
          "cumulative_flights": 11567,
          "day_of_year": 357,
          "year": 2015
         },
         {
          "cumulative_flights": 11585,
          "day_of_year": 358,
          "year": 2015
         },
         {
          "cumulative_flights": 11601,
          "day_of_year": 359,
          "year": 2015
         },
         {
          "cumulative_flights": 11658,
          "day_of_year": 360,
          "year": 2015
         },
         {
          "cumulative_flights": 11679,
          "day_of_year": 361,
          "year": 2015
         },
         {
          "cumulative_flights": 11689,
          "day_of_year": 362,
          "year": 2015
         },
         {
          "cumulative_flights": 11748,
          "day_of_year": 363,
          "year": 2015
         },
         {
          "cumulative_flights": 11805,
          "day_of_year": 364,
          "year": 2015
         },
         {
          "cumulative_flights": 11880,
          "day_of_year": 365,
          "year": 2015
         },
         {
          "cumulative_flights": 7,
          "day_of_year": 1,
          "year": 2016
         },
         {
          "cumulative_flights": 31,
          "day_of_year": 2,
          "year": 2016
         },
         {
          "cumulative_flights": 78,
          "day_of_year": 3,
          "year": 2016
         },
         {
          "cumulative_flights": 78,
          "day_of_year": 4,
          "year": 2016
         },
         {
          "cumulative_flights": 80,
          "day_of_year": 5,
          "year": 2016
         },
         {
          "cumulative_flights": 81,
          "day_of_year": 6,
          "year": 2016
         },
         {
          "cumulative_flights": 81,
          "day_of_year": 7,
          "year": 2016
         },
         {
          "cumulative_flights": 87,
          "day_of_year": 8,
          "year": 2016
         },
         {
          "cumulative_flights": 89,
          "day_of_year": 9,
          "year": 2016
         },
         {
          "cumulative_flights": 95,
          "day_of_year": 10,
          "year": 2016
         },
         {
          "cumulative_flights": 95,
          "day_of_year": 11,
          "year": 2016
         },
         {
          "cumulative_flights": 95,
          "day_of_year": 12,
          "year": 2016
         },
         {
          "cumulative_flights": 95,
          "day_of_year": 13,
          "year": 2016
         },
         {
          "cumulative_flights": 99,
          "day_of_year": 14,
          "year": 2016
         },
         {
          "cumulative_flights": 106,
          "day_of_year": 15,
          "year": 2016
         },
         {
          "cumulative_flights": 121,
          "day_of_year": 16,
          "year": 2016
         },
         {
          "cumulative_flights": 134,
          "day_of_year": 17,
          "year": 2016
         },
         {
          "cumulative_flights": 135,
          "day_of_year": 18,
          "year": 2016
         },
         {
          "cumulative_flights": 140,
          "day_of_year": 19,
          "year": 2016
         },
         {
          "cumulative_flights": 141,
          "day_of_year": 20,
          "year": 2016
         },
         {
          "cumulative_flights": 146,
          "day_of_year": 21,
          "year": 2016
         },
         {
          "cumulative_flights": 152,
          "day_of_year": 22,
          "year": 2016
         },
         {
          "cumulative_flights": 152,
          "day_of_year": 23,
          "year": 2016
         },
         {
          "cumulative_flights": 152,
          "day_of_year": 24,
          "year": 2016
         },
         {
          "cumulative_flights": 152,
          "day_of_year": 25,
          "year": 2016
         },
         {
          "cumulative_flights": 161,
          "day_of_year": 26,
          "year": 2016
         },
         {
          "cumulative_flights": 167,
          "day_of_year": 27,
          "year": 2016
         },
         {
          "cumulative_flights": 171,
          "day_of_year": 28,
          "year": 2016
         },
         {
          "cumulative_flights": 197,
          "day_of_year": 29,
          "year": 2016
         },
         {
          "cumulative_flights": 199,
          "day_of_year": 30,
          "year": 2016
         },
         {
          "cumulative_flights": 208,
          "day_of_year": 31,
          "year": 2016
         },
         {
          "cumulative_flights": 209,
          "day_of_year": 32,
          "year": 2016
         },
         {
          "cumulative_flights": 209,
          "day_of_year": 33,
          "year": 2016
         },
         {
          "cumulative_flights": 214,
          "day_of_year": 34,
          "year": 2016
         },
         {
          "cumulative_flights": 215,
          "day_of_year": 35,
          "year": 2016
         },
         {
          "cumulative_flights": 230,
          "day_of_year": 36,
          "year": 2016
         },
         {
          "cumulative_flights": 285,
          "day_of_year": 37,
          "year": 2016
         },
         {
          "cumulative_flights": 306,
          "day_of_year": 38,
          "year": 2016
         },
         {
          "cumulative_flights": 306,
          "day_of_year": 39,
          "year": 2016
         },
         {
          "cumulative_flights": 306,
          "day_of_year": 40,
          "year": 2016
         },
         {
          "cumulative_flights": 311,
          "day_of_year": 41,
          "year": 2016
         },
         {
          "cumulative_flights": 312,
          "day_of_year": 42,
          "year": 2016
         },
         {
          "cumulative_flights": 330,
          "day_of_year": 43,
          "year": 2016
         },
         {
          "cumulative_flights": 357,
          "day_of_year": 44,
          "year": 2016
         },
         {
          "cumulative_flights": 375,
          "day_of_year": 45,
          "year": 2016
         },
         {
          "cumulative_flights": 391,
          "day_of_year": 46,
          "year": 2016
         },
         {
          "cumulative_flights": 396,
          "day_of_year": 47,
          "year": 2016
         },
         {
          "cumulative_flights": 396,
          "day_of_year": 48,
          "year": 2016
         },
         {
          "cumulative_flights": 402,
          "day_of_year": 49,
          "year": 2016
         },
         {
          "cumulative_flights": 419,
          "day_of_year": 50,
          "year": 2016
         },
         {
          "cumulative_flights": 430,
          "day_of_year": 51,
          "year": 2016
         },
         {
          "cumulative_flights": 430,
          "day_of_year": 52,
          "year": 2016
         },
         {
          "cumulative_flights": 431,
          "day_of_year": 53,
          "year": 2016
         },
         {
          "cumulative_flights": 432,
          "day_of_year": 54,
          "year": 2016
         },
         {
          "cumulative_flights": 447,
          "day_of_year": 55,
          "year": 2016
         },
         {
          "cumulative_flights": 465,
          "day_of_year": 56,
          "year": 2016
         },
         {
          "cumulative_flights": 520,
          "day_of_year": 57,
          "year": 2016
         },
         {
          "cumulative_flights": 574,
          "day_of_year": 58,
          "year": 2016
         },
         {
          "cumulative_flights": 624,
          "day_of_year": 59,
          "year": 2016
         },
         {
          "cumulative_flights": 624,
          "day_of_year": 60,
          "year": 2016
         },
         {
          "cumulative_flights": 625,
          "day_of_year": 61,
          "year": 2016
         },
         {
          "cumulative_flights": 625,
          "day_of_year": 62,
          "year": 2016
         },
         {
          "cumulative_flights": 630,
          "day_of_year": 63,
          "year": 2016
         },
         {
          "cumulative_flights": 679,
          "day_of_year": 64,
          "year": 2016
         },
         {
          "cumulative_flights": 770,
          "day_of_year": 65,
          "year": 2016
         },
         {
          "cumulative_flights": 787,
          "day_of_year": 66,
          "year": 2016
         },
         {
          "cumulative_flights": 792,
          "day_of_year": 67,
          "year": 2016
         },
         {
          "cumulative_flights": 797,
          "day_of_year": 68,
          "year": 2016
         },
         {
          "cumulative_flights": 822,
          "day_of_year": 69,
          "year": 2016
         },
         {
          "cumulative_flights": 839,
          "day_of_year": 70,
          "year": 2016
         },
         {
          "cumulative_flights": 855,
          "day_of_year": 71,
          "year": 2016
         },
         {
          "cumulative_flights": 875,
          "day_of_year": 72,
          "year": 2016
         },
         {
          "cumulative_flights": 886,
          "day_of_year": 73,
          "year": 2016
         },
         {
          "cumulative_flights": 930,
          "day_of_year": 74,
          "year": 2016
         },
         {
          "cumulative_flights": 930,
          "day_of_year": 75,
          "year": 2016
         },
         {
          "cumulative_flights": 936,
          "day_of_year": 76,
          "year": 2016
         },
         {
          "cumulative_flights": 1005,
          "day_of_year": 77,
          "year": 2016
         },
         {
          "cumulative_flights": 1068,
          "day_of_year": 78,
          "year": 2016
         },
         {
          "cumulative_flights": 1108,
          "day_of_year": 79,
          "year": 2016
         },
         {
          "cumulative_flights": 1138,
          "day_of_year": 80,
          "year": 2016
         },
         {
          "cumulative_flights": 1142,
          "day_of_year": 81,
          "year": 2016
         },
         {
          "cumulative_flights": 1153,
          "day_of_year": 82,
          "year": 2016
         },
         {
          "cumulative_flights": 1168,
          "day_of_year": 83,
          "year": 2016
         },
         {
          "cumulative_flights": 1191,
          "day_of_year": 84,
          "year": 2016
         },
         {
          "cumulative_flights": 1232,
          "day_of_year": 85,
          "year": 2016
         },
         {
          "cumulative_flights": 1337,
          "day_of_year": 86,
          "year": 2016
         },
         {
          "cumulative_flights": 1513,
          "day_of_year": 87,
          "year": 2016
         },
         {
          "cumulative_flights": 1598,
          "day_of_year": 88,
          "year": 2016
         },
         {
          "cumulative_flights": 1599,
          "day_of_year": 89,
          "year": 2016
         },
         {
          "cumulative_flights": 1601,
          "day_of_year": 90,
          "year": 2016
         },
         {
          "cumulative_flights": 1624,
          "day_of_year": 91,
          "year": 2016
         },
         {
          "cumulative_flights": 1636,
          "day_of_year": 92,
          "year": 2016
         },
         {
          "cumulative_flights": 1712,
          "day_of_year": 93,
          "year": 2016
         },
         {
          "cumulative_flights": 1879,
          "day_of_year": 94,
          "year": 2016
         },
         {
          "cumulative_flights": 1897,
          "day_of_year": 95,
          "year": 2016
         },
         {
          "cumulative_flights": 2024,
          "day_of_year": 96,
          "year": 2016
         },
         {
          "cumulative_flights": 2033,
          "day_of_year": 97,
          "year": 2016
         },
         {
          "cumulative_flights": 2042,
          "day_of_year": 98,
          "year": 2016
         },
         {
          "cumulative_flights": 2054,
          "day_of_year": 99,
          "year": 2016
         },
         {
          "cumulative_flights": 2109,
          "day_of_year": 100,
          "year": 2016
         },
         {
          "cumulative_flights": 2124,
          "day_of_year": 101,
          "year": 2016
         },
         {
          "cumulative_flights": 2153,
          "day_of_year": 102,
          "year": 2016
         },
         {
          "cumulative_flights": 2187,
          "day_of_year": 103,
          "year": 2016
         },
         {
          "cumulative_flights": 2235,
          "day_of_year": 104,
          "year": 2016
         },
         {
          "cumulative_flights": 2240,
          "day_of_year": 105,
          "year": 2016
         },
         {
          "cumulative_flights": 2263,
          "day_of_year": 106,
          "year": 2016
         },
         {
          "cumulative_flights": 2277,
          "day_of_year": 107,
          "year": 2016
         },
         {
          "cumulative_flights": 2292,
          "day_of_year": 108,
          "year": 2016
         },
         {
          "cumulative_flights": 2304,
          "day_of_year": 109,
          "year": 2016
         },
         {
          "cumulative_flights": 2318,
          "day_of_year": 110,
          "year": 2016
         },
         {
          "cumulative_flights": 2425,
          "day_of_year": 111,
          "year": 2016
         },
         {
          "cumulative_flights": 2649,
          "day_of_year": 112,
          "year": 2016
         },
         {
          "cumulative_flights": 2713,
          "day_of_year": 113,
          "year": 2016
         },
         {
          "cumulative_flights": 2734,
          "day_of_year": 114,
          "year": 2016
         },
         {
          "cumulative_flights": 2764,
          "day_of_year": 115,
          "year": 2016
         },
         {
          "cumulative_flights": 2776,
          "day_of_year": 116,
          "year": 2016
         },
         {
          "cumulative_flights": 2778,
          "day_of_year": 117,
          "year": 2016
         },
         {
          "cumulative_flights": 2778,
          "day_of_year": 118,
          "year": 2016
         },
         {
          "cumulative_flights": 2788,
          "day_of_year": 119,
          "year": 2016
         },
         {
          "cumulative_flights": 3006,
          "day_of_year": 120,
          "year": 2016
         },
         {
          "cumulative_flights": 3278,
          "day_of_year": 121,
          "year": 2016
         },
         {
          "cumulative_flights": 3299,
          "day_of_year": 122,
          "year": 2016
         },
         {
          "cumulative_flights": 3321,
          "day_of_year": 123,
          "year": 2016
         },
         {
          "cumulative_flights": 3332,
          "day_of_year": 124,
          "year": 2016
         },
         {
          "cumulative_flights": 3332,
          "day_of_year": 125,
          "year": 2016
         },
         {
          "cumulative_flights": 3361,
          "day_of_year": 126,
          "year": 2016
         },
         {
          "cumulative_flights": 3469,
          "day_of_year": 127,
          "year": 2016
         },
         {
          "cumulative_flights": 3507,
          "day_of_year": 128,
          "year": 2016
         },
         {
          "cumulative_flights": 3535,
          "day_of_year": 129,
          "year": 2016
         },
         {
          "cumulative_flights": 3558,
          "day_of_year": 130,
          "year": 2016
         },
         {
          "cumulative_flights": 3576,
          "day_of_year": 131,
          "year": 2016
         },
         {
          "cumulative_flights": 3604,
          "day_of_year": 132,
          "year": 2016
         },
         {
          "cumulative_flights": 3611,
          "day_of_year": 133,
          "year": 2016
         },
         {
          "cumulative_flights": 3611,
          "day_of_year": 134,
          "year": 2016
         },
         {
          "cumulative_flights": 3626,
          "day_of_year": 135,
          "year": 2016
         },
         {
          "cumulative_flights": 3630,
          "day_of_year": 136,
          "year": 2016
         },
         {
          "cumulative_flights": 3643,
          "day_of_year": 137,
          "year": 2016
         },
         {
          "cumulative_flights": 3646,
          "day_of_year": 138,
          "year": 2016
         },
         {
          "cumulative_flights": 3659,
          "day_of_year": 139,
          "year": 2016
         },
         {
          "cumulative_flights": 3685,
          "day_of_year": 140,
          "year": 2016
         },
         {
          "cumulative_flights": 3718,
          "day_of_year": 141,
          "year": 2016
         },
         {
          "cumulative_flights": 3913,
          "day_of_year": 142,
          "year": 2016
         },
         {
          "cumulative_flights": 4008,
          "day_of_year": 143,
          "year": 2016
         },
         {
          "cumulative_flights": 4026,
          "day_of_year": 144,
          "year": 2016
         },
         {
          "cumulative_flights": 4028,
          "day_of_year": 145,
          "year": 2016
         },
         {
          "cumulative_flights": 4055,
          "day_of_year": 146,
          "year": 2016
         },
         {
          "cumulative_flights": 4074,
          "day_of_year": 147,
          "year": 2016
         },
         {
          "cumulative_flights": 4091,
          "day_of_year": 148,
          "year": 2016
         },
         {
          "cumulative_flights": 4139,
          "day_of_year": 149,
          "year": 2016
         },
         {
          "cumulative_flights": 4154,
          "day_of_year": 150,
          "year": 2016
         },
         {
          "cumulative_flights": 4169,
          "day_of_year": 151,
          "year": 2016
         },
         {
          "cumulative_flights": 4180,
          "day_of_year": 152,
          "year": 2016
         },
         {
          "cumulative_flights": 4189,
          "day_of_year": 153,
          "year": 2016
         },
         {
          "cumulative_flights": 4195,
          "day_of_year": 154,
          "year": 2016
         },
         {
          "cumulative_flights": 4199,
          "day_of_year": 155,
          "year": 2016
         },
         {
          "cumulative_flights": 4263,
          "day_of_year": 156,
          "year": 2016
         },
         {
          "cumulative_flights": 4309,
          "day_of_year": 157,
          "year": 2016
         },
         {
          "cumulative_flights": 4339,
          "day_of_year": 158,
          "year": 2016
         },
         {
          "cumulative_flights": 4530,
          "day_of_year": 159,
          "year": 2016
         },
         {
          "cumulative_flights": 4640,
          "day_of_year": 160,
          "year": 2016
         },
         {
          "cumulative_flights": 4654,
          "day_of_year": 161,
          "year": 2016
         },
         {
          "cumulative_flights": 4717,
          "day_of_year": 162,
          "year": 2016
         },
         {
          "cumulative_flights": 4740,
          "day_of_year": 163,
          "year": 2016
         },
         {
          "cumulative_flights": 4788,
          "day_of_year": 164,
          "year": 2016
         },
         {
          "cumulative_flights": 4788,
          "day_of_year": 165,
          "year": 2016
         },
         {
          "cumulative_flights": 4817,
          "day_of_year": 166,
          "year": 2016
         },
         {
          "cumulative_flights": 4824,
          "day_of_year": 167,
          "year": 2016
         },
         {
          "cumulative_flights": 4841,
          "day_of_year": 168,
          "year": 2016
         },
         {
          "cumulative_flights": 4841,
          "day_of_year": 169,
          "year": 2016
         },
         {
          "cumulative_flights": 5036,
          "day_of_year": 170,
          "year": 2016
         },
         {
          "cumulative_flights": 5075,
          "day_of_year": 171,
          "year": 2016
         },
         {
          "cumulative_flights": 5089,
          "day_of_year": 172,
          "year": 2016
         },
         {
          "cumulative_flights": 5114,
          "day_of_year": 173,
          "year": 2016
         },
         {
          "cumulative_flights": 5222,
          "day_of_year": 174,
          "year": 2016
         },
         {
          "cumulative_flights": 5379,
          "day_of_year": 175,
          "year": 2016
         },
         {
          "cumulative_flights": 5441,
          "day_of_year": 176,
          "year": 2016
         },
         {
          "cumulative_flights": 5465,
          "day_of_year": 177,
          "year": 2016
         },
         {
          "cumulative_flights": 5486,
          "day_of_year": 178,
          "year": 2016
         },
         {
          "cumulative_flights": 5497,
          "day_of_year": 179,
          "year": 2016
         },
         {
          "cumulative_flights": 5513,
          "day_of_year": 180,
          "year": 2016
         },
         {
          "cumulative_flights": 5561,
          "day_of_year": 181,
          "year": 2016
         },
         {
          "cumulative_flights": 5569,
          "day_of_year": 182,
          "year": 2016
         },
         {
          "cumulative_flights": 5656,
          "day_of_year": 183,
          "year": 2016
         },
         {
          "cumulative_flights": 5684,
          "day_of_year": 184,
          "year": 2016
         },
         {
          "cumulative_flights": 5755,
          "day_of_year": 185,
          "year": 2016
         },
         {
          "cumulative_flights": 5916,
          "day_of_year": 186,
          "year": 2016
         },
         {
          "cumulative_flights": 5990,
          "day_of_year": 187,
          "year": 2016
         },
         {
          "cumulative_flights": 5991,
          "day_of_year": 188,
          "year": 2016
         },
         {
          "cumulative_flights": 6073,
          "day_of_year": 189,
          "year": 2016
         },
         {
          "cumulative_flights": 6137,
          "day_of_year": 190,
          "year": 2016
         },
         {
          "cumulative_flights": 6142,
          "day_of_year": 191,
          "year": 2016
         },
         {
          "cumulative_flights": 6296,
          "day_of_year": 192,
          "year": 2016
         },
         {
          "cumulative_flights": 6306,
          "day_of_year": 193,
          "year": 2016
         },
         {
          "cumulative_flights": 6307,
          "day_of_year": 194,
          "year": 2016
         },
         {
          "cumulative_flights": 6318,
          "day_of_year": 195,
          "year": 2016
         },
         {
          "cumulative_flights": 6318,
          "day_of_year": 196,
          "year": 2016
         },
         {
          "cumulative_flights": 6334,
          "day_of_year": 197,
          "year": 2016
         },
         {
          "cumulative_flights": 6405,
          "day_of_year": 198,
          "year": 2016
         },
         {
          "cumulative_flights": 6413,
          "day_of_year": 199,
          "year": 2016
         },
         {
          "cumulative_flights": 6440,
          "day_of_year": 200,
          "year": 2016
         },
         {
          "cumulative_flights": 6544,
          "day_of_year": 201,
          "year": 2016
         },
         {
          "cumulative_flights": 6649,
          "day_of_year": 202,
          "year": 2016
         },
         {
          "cumulative_flights": 6702,
          "day_of_year": 203,
          "year": 2016
         },
         {
          "cumulative_flights": 6769,
          "day_of_year": 204,
          "year": 2016
         },
         {
          "cumulative_flights": 6867,
          "day_of_year": 205,
          "year": 2016
         },
         {
          "cumulative_flights": 6886,
          "day_of_year": 206,
          "year": 2016
         },
         {
          "cumulative_flights": 6912,
          "day_of_year": 207,
          "year": 2016
         },
         {
          "cumulative_flights": 6929,
          "day_of_year": 208,
          "year": 2016
         },
         {
          "cumulative_flights": 6932,
          "day_of_year": 209,
          "year": 2016
         },
         {
          "cumulative_flights": 6938,
          "day_of_year": 210,
          "year": 2016
         },
         {
          "cumulative_flights": 6962,
          "day_of_year": 211,
          "year": 2016
         },
         {
          "cumulative_flights": 7058,
          "day_of_year": 212,
          "year": 2016
         },
         {
          "cumulative_flights": 7062,
          "day_of_year": 213,
          "year": 2016
         },
         {
          "cumulative_flights": 7119,
          "day_of_year": 214,
          "year": 2016
         },
         {
          "cumulative_flights": 7175,
          "day_of_year": 215,
          "year": 2016
         },
         {
          "cumulative_flights": 7194,
          "day_of_year": 216,
          "year": 2016
         },
         {
          "cumulative_flights": 7302,
          "day_of_year": 217,
          "year": 2016
         },
         {
          "cumulative_flights": 7302,
          "day_of_year": 218,
          "year": 2016
         },
         {
          "cumulative_flights": 7385,
          "day_of_year": 219,
          "year": 2016
         },
         {
          "cumulative_flights": 7635,
          "day_of_year": 220,
          "year": 2016
         },
         {
          "cumulative_flights": 7725,
          "day_of_year": 221,
          "year": 2016
         },
         {
          "cumulative_flights": 7731,
          "day_of_year": 222,
          "year": 2016
         },
         {
          "cumulative_flights": 7732,
          "day_of_year": 223,
          "year": 2016
         },
         {
          "cumulative_flights": 7816,
          "day_of_year": 224,
          "year": 2016
         },
         {
          "cumulative_flights": 7831,
          "day_of_year": 225,
          "year": 2016
         },
         {
          "cumulative_flights": 7886,
          "day_of_year": 226,
          "year": 2016
         },
         {
          "cumulative_flights": 7982,
          "day_of_year": 227,
          "year": 2016
         },
         {
          "cumulative_flights": 8082,
          "day_of_year": 228,
          "year": 2016
         },
         {
          "cumulative_flights": 8122,
          "day_of_year": 229,
          "year": 2016
         },
         {
          "cumulative_flights": 8223,
          "day_of_year": 230,
          "year": 2016
         },
         {
          "cumulative_flights": 8336,
          "day_of_year": 231,
          "year": 2016
         },
         {
          "cumulative_flights": 8507,
          "day_of_year": 232,
          "year": 2016
         },
         {
          "cumulative_flights": 8616,
          "day_of_year": 233,
          "year": 2016
         },
         {
          "cumulative_flights": 8624,
          "day_of_year": 234,
          "year": 2016
         },
         {
          "cumulative_flights": 8649,
          "day_of_year": 235,
          "year": 2016
         },
         {
          "cumulative_flights": 8742,
          "day_of_year": 236,
          "year": 2016
         },
         {
          "cumulative_flights": 8836,
          "day_of_year": 237,
          "year": 2016
         },
         {
          "cumulative_flights": 8929,
          "day_of_year": 238,
          "year": 2016
         },
         {
          "cumulative_flights": 8998,
          "day_of_year": 239,
          "year": 2016
         },
         {
          "cumulative_flights": 9082,
          "day_of_year": 240,
          "year": 2016
         },
         {
          "cumulative_flights": 9129,
          "day_of_year": 241,
          "year": 2016
         },
         {
          "cumulative_flights": 9131,
          "day_of_year": 242,
          "year": 2016
         },
         {
          "cumulative_flights": 9185,
          "day_of_year": 243,
          "year": 2016
         },
         {
          "cumulative_flights": 9291,
          "day_of_year": 244,
          "year": 2016
         },
         {
          "cumulative_flights": 9380,
          "day_of_year": 245,
          "year": 2016
         },
         {
          "cumulative_flights": 9422,
          "day_of_year": 246,
          "year": 2016
         },
         {
          "cumulative_flights": 9527,
          "day_of_year": 247,
          "year": 2016
         },
         {
          "cumulative_flights": 9565,
          "day_of_year": 248,
          "year": 2016
         },
         {
          "cumulative_flights": 9565,
          "day_of_year": 249,
          "year": 2016
         },
         {
          "cumulative_flights": 9584,
          "day_of_year": 250,
          "year": 2016
         },
         {
          "cumulative_flights": 9615,
          "day_of_year": 251,
          "year": 2016
         },
         {
          "cumulative_flights": 9665,
          "day_of_year": 252,
          "year": 2016
         },
         {
          "cumulative_flights": 9789,
          "day_of_year": 253,
          "year": 2016
         },
         {
          "cumulative_flights": 9945,
          "day_of_year": 254,
          "year": 2016
         },
         {
          "cumulative_flights": 10103,
          "day_of_year": 255,
          "year": 2016
         },
         {
          "cumulative_flights": 10163,
          "day_of_year": 256,
          "year": 2016
         },
         {
          "cumulative_flights": 10222,
          "day_of_year": 257,
          "year": 2016
         },
         {
          "cumulative_flights": 10277,
          "day_of_year": 258,
          "year": 2016
         },
         {
          "cumulative_flights": 10312,
          "day_of_year": 259,
          "year": 2016
         },
         {
          "cumulative_flights": 10344,
          "day_of_year": 260,
          "year": 2016
         },
         {
          "cumulative_flights": 10345,
          "day_of_year": 261,
          "year": 2016
         },
         {
          "cumulative_flights": 10347,
          "day_of_year": 262,
          "year": 2016
         },
         {
          "cumulative_flights": 10347,
          "day_of_year": 263,
          "year": 2016
         },
         {
          "cumulative_flights": 10381,
          "day_of_year": 264,
          "year": 2016
         },
         {
          "cumulative_flights": 10388,
          "day_of_year": 265,
          "year": 2016
         },
         {
          "cumulative_flights": 10462,
          "day_of_year": 266,
          "year": 2016
         },
         {
          "cumulative_flights": 10498,
          "day_of_year": 267,
          "year": 2016
         },
         {
          "cumulative_flights": 10601,
          "day_of_year": 268,
          "year": 2016
         },
         {
          "cumulative_flights": 10771,
          "day_of_year": 269,
          "year": 2016
         },
         {
          "cumulative_flights": 10794,
          "day_of_year": 270,
          "year": 2016
         },
         {
          "cumulative_flights": 10868,
          "day_of_year": 271,
          "year": 2016
         },
         {
          "cumulative_flights": 10886,
          "day_of_year": 272,
          "year": 2016
         },
         {
          "cumulative_flights": 10906,
          "day_of_year": 273,
          "year": 2016
         },
         {
          "cumulative_flights": 10933,
          "day_of_year": 274,
          "year": 2016
         },
         {
          "cumulative_flights": 11011,
          "day_of_year": 275,
          "year": 2016
         },
         {
          "cumulative_flights": 11014,
          "day_of_year": 276,
          "year": 2016
         },
         {
          "cumulative_flights": 11017,
          "day_of_year": 277,
          "year": 2016
         },
         {
          "cumulative_flights": 11017,
          "day_of_year": 278,
          "year": 2016
         },
         {
          "cumulative_flights": 11017,
          "day_of_year": 279,
          "year": 2016
         },
         {
          "cumulative_flights": 11018,
          "day_of_year": 280,
          "year": 2016
         },
         {
          "cumulative_flights": 11023,
          "day_of_year": 281,
          "year": 2016
         },
         {
          "cumulative_flights": 11034,
          "day_of_year": 282,
          "year": 2016
         },
         {
          "cumulative_flights": 11044,
          "day_of_year": 283,
          "year": 2016
         },
         {
          "cumulative_flights": 11054,
          "day_of_year": 284,
          "year": 2016
         },
         {
          "cumulative_flights": 11055,
          "day_of_year": 285,
          "year": 2016
         },
         {
          "cumulative_flights": 11055,
          "day_of_year": 286,
          "year": 2016
         },
         {
          "cumulative_flights": 11058,
          "day_of_year": 287,
          "year": 2016
         },
         {
          "cumulative_flights": 11066,
          "day_of_year": 288,
          "year": 2016
         },
         {
          "cumulative_flights": 11103,
          "day_of_year": 289,
          "year": 2016
         },
         {
          "cumulative_flights": 11135,
          "day_of_year": 290,
          "year": 2016
         },
         {
          "cumulative_flights": 11136,
          "day_of_year": 291,
          "year": 2016
         },
         {
          "cumulative_flights": 11138,
          "day_of_year": 292,
          "year": 2016
         },
         {
          "cumulative_flights": 11138,
          "day_of_year": 293,
          "year": 2016
         },
         {
          "cumulative_flights": 11142,
          "day_of_year": 294,
          "year": 2016
         },
         {
          "cumulative_flights": 11143,
          "day_of_year": 295,
          "year": 2016
         },
         {
          "cumulative_flights": 11169,
          "day_of_year": 296,
          "year": 2016
         },
         {
          "cumulative_flights": 11218,
          "day_of_year": 297,
          "year": 2016
         },
         {
          "cumulative_flights": 11226,
          "day_of_year": 298,
          "year": 2016
         },
         {
          "cumulative_flights": 11228,
          "day_of_year": 299,
          "year": 2016
         },
         {
          "cumulative_flights": 11230,
          "day_of_year": 300,
          "year": 2016
         },
         {
          "cumulative_flights": 11255,
          "day_of_year": 301,
          "year": 2016
         },
         {
          "cumulative_flights": 11276,
          "day_of_year": 302,
          "year": 2016
         },
         {
          "cumulative_flights": 11303,
          "day_of_year": 303,
          "year": 2016
         },
         {
          "cumulative_flights": 11328,
          "day_of_year": 304,
          "year": 2016
         },
         {
          "cumulative_flights": 11336,
          "day_of_year": 305,
          "year": 2016
         },
         {
          "cumulative_flights": 11348,
          "day_of_year": 306,
          "year": 2016
         },
         {
          "cumulative_flights": 11350,
          "day_of_year": 307,
          "year": 2016
         },
         {
          "cumulative_flights": 11365,
          "day_of_year": 308,
          "year": 2016
         },
         {
          "cumulative_flights": 11375,
          "day_of_year": 309,
          "year": 2016
         },
         {
          "cumulative_flights": 11390,
          "day_of_year": 310,
          "year": 2016
         },
         {
          "cumulative_flights": 11390,
          "day_of_year": 311,
          "year": 2016
         },
         {
          "cumulative_flights": 11391,
          "day_of_year": 312,
          "year": 2016
         },
         {
          "cumulative_flights": 11396,
          "day_of_year": 313,
          "year": 2016
         },
         {
          "cumulative_flights": 11402,
          "day_of_year": 314,
          "year": 2016
         },
         {
          "cumulative_flights": 11402,
          "day_of_year": 315,
          "year": 2016
         },
         {
          "cumulative_flights": 11403,
          "day_of_year": 316,
          "year": 2016
         },
         {
          "cumulative_flights": 11421,
          "day_of_year": 317,
          "year": 2016
         },
         {
          "cumulative_flights": 11444,
          "day_of_year": 318,
          "year": 2016
         },
         {
          "cumulative_flights": 11450,
          "day_of_year": 319,
          "year": 2016
         },
         {
          "cumulative_flights": 11451,
          "day_of_year": 320,
          "year": 2016
         },
         {
          "cumulative_flights": 11451,
          "day_of_year": 321,
          "year": 2016
         },
         {
          "cumulative_flights": 11453,
          "day_of_year": 322,
          "year": 2016
         },
         {
          "cumulative_flights": 11453,
          "day_of_year": 323,
          "year": 2016
         },
         {
          "cumulative_flights": 11454,
          "day_of_year": 324,
          "year": 2016
         },
         {
          "cumulative_flights": 11483,
          "day_of_year": 325,
          "year": 2016
         },
         {
          "cumulative_flights": 11485,
          "day_of_year": 326,
          "year": 2016
         },
         {
          "cumulative_flights": 11488,
          "day_of_year": 327,
          "year": 2016
         },
         {
          "cumulative_flights": 11491,
          "day_of_year": 328,
          "year": 2016
         },
         {
          "cumulative_flights": 11492,
          "day_of_year": 329,
          "year": 2016
         },
         {
          "cumulative_flights": 11497,
          "day_of_year": 330,
          "year": 2016
         },
         {
          "cumulative_flights": 11509,
          "day_of_year": 331,
          "year": 2016
         },
         {
          "cumulative_flights": 11513,
          "day_of_year": 332,
          "year": 2016
         },
         {
          "cumulative_flights": 11515,
          "day_of_year": 333,
          "year": 2016
         },
         {
          "cumulative_flights": 11530,
          "day_of_year": 334,
          "year": 2016
         },
         {
          "cumulative_flights": 11533,
          "day_of_year": 335,
          "year": 2016
         },
         {
          "cumulative_flights": 11534,
          "day_of_year": 336,
          "year": 2016
         },
         {
          "cumulative_flights": 11538,
          "day_of_year": 337,
          "year": 2016
         },
         {
          "cumulative_flights": 11555,
          "day_of_year": 338,
          "year": 2016
         },
         {
          "cumulative_flights": 11576,
          "day_of_year": 339,
          "year": 2016
         },
         {
          "cumulative_flights": 11578,
          "day_of_year": 340,
          "year": 2016
         },
         {
          "cumulative_flights": 11581,
          "day_of_year": 341,
          "year": 2016
         },
         {
          "cumulative_flights": 11585,
          "day_of_year": 342,
          "year": 2016
         },
         {
          "cumulative_flights": 11586,
          "day_of_year": 343,
          "year": 2016
         },
         {
          "cumulative_flights": 11586,
          "day_of_year": 344,
          "year": 2016
         },
         {
          "cumulative_flights": 11610,
          "day_of_year": 345,
          "year": 2016
         },
         {
          "cumulative_flights": 11610,
          "day_of_year": 346,
          "year": 2016
         },
         {
          "cumulative_flights": 11610,
          "day_of_year": 347,
          "year": 2016
         },
         {
          "cumulative_flights": 11614,
          "day_of_year": 348,
          "year": 2016
         },
         {
          "cumulative_flights": 11615,
          "day_of_year": 349,
          "year": 2016
         },
         {
          "cumulative_flights": 11615,
          "day_of_year": 350,
          "year": 2016
         },
         {
          "cumulative_flights": 11649,
          "day_of_year": 351,
          "year": 2016
         },
         {
          "cumulative_flights": 11672,
          "day_of_year": 352,
          "year": 2016
         },
         {
          "cumulative_flights": 11674,
          "day_of_year": 353,
          "year": 2016
         },
         {
          "cumulative_flights": 11680,
          "day_of_year": 354,
          "year": 2016
         },
         {
          "cumulative_flights": 11685,
          "day_of_year": 355,
          "year": 2016
         },
         {
          "cumulative_flights": 11690,
          "day_of_year": 356,
          "year": 2016
         },
         {
          "cumulative_flights": 11690,
          "day_of_year": 357,
          "year": 2016
         },
         {
          "cumulative_flights": 11698,
          "day_of_year": 358,
          "year": 2016
         },
         {
          "cumulative_flights": 11699,
          "day_of_year": 359,
          "year": 2016
         },
         {
          "cumulative_flights": 11700,
          "day_of_year": 360,
          "year": 2016
         },
         {
          "cumulative_flights": 11703,
          "day_of_year": 361,
          "year": 2016
         },
         {
          "cumulative_flights": 11703,
          "day_of_year": 362,
          "year": 2016
         },
         {
          "cumulative_flights": 11703,
          "day_of_year": 363,
          "year": 2016
         },
         {
          "cumulative_flights": 11716,
          "day_of_year": 364,
          "year": 2016
         },
         {
          "cumulative_flights": 11719,
          "day_of_year": 365,
          "year": 2016
         },
         {
          "cumulative_flights": 11746,
          "day_of_year": 366,
          "year": 2016
         },
         {
          "cumulative_flights": 21,
          "day_of_year": 1,
          "year": 2017
         },
         {
          "cumulative_flights": 21,
          "day_of_year": 2,
          "year": 2017
         },
         {
          "cumulative_flights": 21,
          "day_of_year": 3,
          "year": 2017
         },
         {
          "cumulative_flights": 21,
          "day_of_year": 4,
          "year": 2017
         },
         {
          "cumulative_flights": 21,
          "day_of_year": 5,
          "year": 2017
         },
         {
          "cumulative_flights": 27,
          "day_of_year": 6,
          "year": 2017
         },
         {
          "cumulative_flights": 30,
          "day_of_year": 7,
          "year": 2017
         },
         {
          "cumulative_flights": 31,
          "day_of_year": 8,
          "year": 2017
         },
         {
          "cumulative_flights": 31,
          "day_of_year": 9,
          "year": 2017
         },
         {
          "cumulative_flights": 39,
          "day_of_year": 10,
          "year": 2017
         },
         {
          "cumulative_flights": 39,
          "day_of_year": 11,
          "year": 2017
         },
         {
          "cumulative_flights": 39,
          "day_of_year": 12,
          "year": 2017
         },
         {
          "cumulative_flights": 39,
          "day_of_year": 13,
          "year": 2017
         },
         {
          "cumulative_flights": 41,
          "day_of_year": 14,
          "year": 2017
         },
         {
          "cumulative_flights": 57,
          "day_of_year": 15,
          "year": 2017
         },
         {
          "cumulative_flights": 58,
          "day_of_year": 16,
          "year": 2017
         },
         {
          "cumulative_flights": 62,
          "day_of_year": 17,
          "year": 2017
         },
         {
          "cumulative_flights": 67,
          "day_of_year": 18,
          "year": 2017
         },
         {
          "cumulative_flights": 70,
          "day_of_year": 19,
          "year": 2017
         },
         {
          "cumulative_flights": 73,
          "day_of_year": 20,
          "year": 2017
         },
         {
          "cumulative_flights": 73,
          "day_of_year": 21,
          "year": 2017
         },
         {
          "cumulative_flights": 84,
          "day_of_year": 22,
          "year": 2017
         },
         {
          "cumulative_flights": 86,
          "day_of_year": 23,
          "year": 2017
         },
         {
          "cumulative_flights": 88,
          "day_of_year": 24,
          "year": 2017
         },
         {
          "cumulative_flights": 93,
          "day_of_year": 25,
          "year": 2017
         },
         {
          "cumulative_flights": 98,
          "day_of_year": 26,
          "year": 2017
         },
         {
          "cumulative_flights": 113,
          "day_of_year": 27,
          "year": 2017
         },
         {
          "cumulative_flights": 133,
          "day_of_year": 28,
          "year": 2017
         },
         {
          "cumulative_flights": 135,
          "day_of_year": 29,
          "year": 2017
         },
         {
          "cumulative_flights": 151,
          "day_of_year": 30,
          "year": 2017
         },
         {
          "cumulative_flights": 151,
          "day_of_year": 31,
          "year": 2017
         },
         {
          "cumulative_flights": 151,
          "day_of_year": 32,
          "year": 2017
         },
         {
          "cumulative_flights": 151,
          "day_of_year": 33,
          "year": 2017
         },
         {
          "cumulative_flights": 151,
          "day_of_year": 34,
          "year": 2017
         },
         {
          "cumulative_flights": 156,
          "day_of_year": 35,
          "year": 2017
         },
         {
          "cumulative_flights": 161,
          "day_of_year": 36,
          "year": 2017
         },
         {
          "cumulative_flights": 165,
          "day_of_year": 37,
          "year": 2017
         },
         {
          "cumulative_flights": 168,
          "day_of_year": 38,
          "year": 2017
         },
         {
          "cumulative_flights": 177,
          "day_of_year": 39,
          "year": 2017
         },
         {
          "cumulative_flights": 186,
          "day_of_year": 40,
          "year": 2017
         },
         {
          "cumulative_flights": 187,
          "day_of_year": 41,
          "year": 2017
         },
         {
          "cumulative_flights": 220,
          "day_of_year": 42,
          "year": 2017
         },
         {
          "cumulative_flights": 249,
          "day_of_year": 43,
          "year": 2017
         },
         {
          "cumulative_flights": 262,
          "day_of_year": 44,
          "year": 2017
         },
         {
          "cumulative_flights": 277,
          "day_of_year": 45,
          "year": 2017
         },
         {
          "cumulative_flights": 290,
          "day_of_year": 46,
          "year": 2017
         },
         {
          "cumulative_flights": 309,
          "day_of_year": 47,
          "year": 2017
         },
         {
          "cumulative_flights": 320,
          "day_of_year": 48,
          "year": 2017
         },
         {
          "cumulative_flights": 335,
          "day_of_year": 49,
          "year": 2017
         },
         {
          "cumulative_flights": 366,
          "day_of_year": 50,
          "year": 2017
         },
         {
          "cumulative_flights": 369,
          "day_of_year": 51,
          "year": 2017
         },
         {
          "cumulative_flights": 369,
          "day_of_year": 52,
          "year": 2017
         },
         {
          "cumulative_flights": 369,
          "day_of_year": 53,
          "year": 2017
         },
         {
          "cumulative_flights": 369,
          "day_of_year": 54,
          "year": 2017
         },
         {
          "cumulative_flights": 369,
          "day_of_year": 55,
          "year": 2017
         },
         {
          "cumulative_flights": 486,
          "day_of_year": 56,
          "year": 2017
         },
         {
          "cumulative_flights": 494,
          "day_of_year": 57,
          "year": 2017
         },
         {
          "cumulative_flights": 521,
          "day_of_year": 58,
          "year": 2017
         },
         {
          "cumulative_flights": 524,
          "day_of_year": 59,
          "year": 2017
         },
         {
          "cumulative_flights": 526,
          "day_of_year": 60,
          "year": 2017
         },
         {
          "cumulative_flights": 526,
          "day_of_year": 61,
          "year": 2017
         },
         {
          "cumulative_flights": 578,
          "day_of_year": 62,
          "year": 2017
         },
         {
          "cumulative_flights": 641,
          "day_of_year": 63,
          "year": 2017
         },
         {
          "cumulative_flights": 699,
          "day_of_year": 64,
          "year": 2017
         },
         {
          "cumulative_flights": 700,
          "day_of_year": 65,
          "year": 2017
         },
         {
          "cumulative_flights": 706,
          "day_of_year": 66,
          "year": 2017
         },
         {
          "cumulative_flights": 726,
          "day_of_year": 67,
          "year": 2017
         },
         {
          "cumulative_flights": 731,
          "day_of_year": 68,
          "year": 2017
         },
         {
          "cumulative_flights": 731,
          "day_of_year": 69,
          "year": 2017
         },
         {
          "cumulative_flights": 776,
          "day_of_year": 70,
          "year": 2017
         },
         {
          "cumulative_flights": 883,
          "day_of_year": 71,
          "year": 2017
         },
         {
          "cumulative_flights": 897,
          "day_of_year": 72,
          "year": 2017
         },
         {
          "cumulative_flights": 957,
          "day_of_year": 73,
          "year": 2017
         },
         {
          "cumulative_flights": 965,
          "day_of_year": 74,
          "year": 2017
         },
         {
          "cumulative_flights": 1082,
          "day_of_year": 75,
          "year": 2017
         },
         {
          "cumulative_flights": 1089,
          "day_of_year": 76,
          "year": 2017
         },
         {
          "cumulative_flights": 1089,
          "day_of_year": 77,
          "year": 2017
         },
         {
          "cumulative_flights": 1100,
          "day_of_year": 78,
          "year": 2017
         },
         {
          "cumulative_flights": 1107,
          "day_of_year": 79,
          "year": 2017
         },
         {
          "cumulative_flights": 1118,
          "day_of_year": 80,
          "year": 2017
         },
         {
          "cumulative_flights": 1118,
          "day_of_year": 81,
          "year": 2017
         },
         {
          "cumulative_flights": 1120,
          "day_of_year": 82,
          "year": 2017
         },
         {
          "cumulative_flights": 1166,
          "day_of_year": 83,
          "year": 2017
         },
         {
          "cumulative_flights": 1328,
          "day_of_year": 84,
          "year": 2017
         },
         {
          "cumulative_flights": 1446,
          "day_of_year": 85,
          "year": 2017
         },
         {
          "cumulative_flights": 1510,
          "day_of_year": 86,
          "year": 2017
         },
         {
          "cumulative_flights": 1590,
          "day_of_year": 87,
          "year": 2017
         },
         {
          "cumulative_flights": 1594,
          "day_of_year": 88,
          "year": 2017
         },
         {
          "cumulative_flights": 1608,
          "day_of_year": 89,
          "year": 2017
         },
         {
          "cumulative_flights": 1721,
          "day_of_year": 90,
          "year": 2017
         },
         {
          "cumulative_flights": 1818,
          "day_of_year": 91,
          "year": 2017
         },
         {
          "cumulative_flights": 1914,
          "day_of_year": 92,
          "year": 2017
         },
         {
          "cumulative_flights": 1921,
          "day_of_year": 93,
          "year": 2017
         },
         {
          "cumulative_flights": 1927,
          "day_of_year": 94,
          "year": 2017
         },
         {
          "cumulative_flights": 1943,
          "day_of_year": 95,
          "year": 2017
         },
         {
          "cumulative_flights": 1943,
          "day_of_year": 96,
          "year": 2017
         },
         {
          "cumulative_flights": 1943,
          "day_of_year": 97,
          "year": 2017
         },
         {
          "cumulative_flights": 1985,
          "day_of_year": 98,
          "year": 2017
         },
         {
          "cumulative_flights": 2139,
          "day_of_year": 99,
          "year": 2017
         },
         {
          "cumulative_flights": 2175,
          "day_of_year": 100,
          "year": 2017
         },
         {
          "cumulative_flights": 2179,
          "day_of_year": 101,
          "year": 2017
         },
         {
          "cumulative_flights": 2182,
          "day_of_year": 102,
          "year": 2017
         },
         {
          "cumulative_flights": 2183,
          "day_of_year": 103,
          "year": 2017
         },
         {
          "cumulative_flights": 2245,
          "day_of_year": 104,
          "year": 2017
         },
         {
          "cumulative_flights": 2261,
          "day_of_year": 105,
          "year": 2017
         },
         {
          "cumulative_flights": 2264,
          "day_of_year": 106,
          "year": 2017
         },
         {
          "cumulative_flights": 2277,
          "day_of_year": 107,
          "year": 2017
         },
         {
          "cumulative_flights": 2277,
          "day_of_year": 108,
          "year": 2017
         },
         {
          "cumulative_flights": 2277,
          "day_of_year": 109,
          "year": 2017
         },
         {
          "cumulative_flights": 2301,
          "day_of_year": 110,
          "year": 2017
         },
         {
          "cumulative_flights": 2333,
          "day_of_year": 111,
          "year": 2017
         },
         {
          "cumulative_flights": 2333,
          "day_of_year": 112,
          "year": 2017
         },
         {
          "cumulative_flights": 2335,
          "day_of_year": 113,
          "year": 2017
         },
         {
          "cumulative_flights": 2408,
          "day_of_year": 114,
          "year": 2017
         },
         {
          "cumulative_flights": 2410,
          "day_of_year": 115,
          "year": 2017
         },
         {
          "cumulative_flights": 2410,
          "day_of_year": 116,
          "year": 2017
         },
         {
          "cumulative_flights": 2411,
          "day_of_year": 117,
          "year": 2017
         },
         {
          "cumulative_flights": 2411,
          "day_of_year": 118,
          "year": 2017
         },
         {
          "cumulative_flights": 2429,
          "day_of_year": 119,
          "year": 2017
         },
         {
          "cumulative_flights": 2570,
          "day_of_year": 120,
          "year": 2017
         },
         {
          "cumulative_flights": 2599,
          "day_of_year": 121,
          "year": 2017
         },
         {
          "cumulative_flights": 2609,
          "day_of_year": 122,
          "year": 2017
         },
         {
          "cumulative_flights": 2626,
          "day_of_year": 123,
          "year": 2017
         },
         {
          "cumulative_flights": 2639,
          "day_of_year": 124,
          "year": 2017
         },
         {
          "cumulative_flights": 2641,
          "day_of_year": 125,
          "year": 2017
         },
         {
          "cumulative_flights": 2776,
          "day_of_year": 126,
          "year": 2017
         },
         {
          "cumulative_flights": 2832,
          "day_of_year": 127,
          "year": 2017
         },
         {
          "cumulative_flights": 2857,
          "day_of_year": 128,
          "year": 2017
         },
         {
          "cumulative_flights": 2870,
          "day_of_year": 129,
          "year": 2017
         },
         {
          "cumulative_flights": 2957,
          "day_of_year": 130,
          "year": 2017
         },
         {
          "cumulative_flights": 3128,
          "day_of_year": 131,
          "year": 2017
         },
         {
          "cumulative_flights": 3140,
          "day_of_year": 132,
          "year": 2017
         },
         {
          "cumulative_flights": 3172,
          "day_of_year": 133,
          "year": 2017
         },
         {
          "cumulative_flights": 3307,
          "day_of_year": 134,
          "year": 2017
         },
         {
          "cumulative_flights": 3312,
          "day_of_year": 135,
          "year": 2017
         },
         {
          "cumulative_flights": 3364,
          "day_of_year": 136,
          "year": 2017
         },
         {
          "cumulative_flights": 3544,
          "day_of_year": 137,
          "year": 2017
         },
         {
          "cumulative_flights": 3600,
          "day_of_year": 138,
          "year": 2017
         },
         {
          "cumulative_flights": 3655,
          "day_of_year": 139,
          "year": 2017
         },
         {
          "cumulative_flights": 3668,
          "day_of_year": 140,
          "year": 2017
         },
         {
          "cumulative_flights": 3693,
          "day_of_year": 141,
          "year": 2017
         },
         {
          "cumulative_flights": 3741,
          "day_of_year": 142,
          "year": 2017
         },
         {
          "cumulative_flights": 3823,
          "day_of_year": 143,
          "year": 2017
         },
         {
          "cumulative_flights": 3823,
          "day_of_year": 144,
          "year": 2017
         },
         {
          "cumulative_flights": 3861,
          "day_of_year": 145,
          "year": 2017
         },
         {
          "cumulative_flights": 3921,
          "day_of_year": 146,
          "year": 2017
         },
         {
          "cumulative_flights": 4096,
          "day_of_year": 147,
          "year": 2017
         },
         {
          "cumulative_flights": 4272,
          "day_of_year": 148,
          "year": 2017
         },
         {
          "cumulative_flights": 4309,
          "day_of_year": 149,
          "year": 2017
         },
         {
          "cumulative_flights": 4331,
          "day_of_year": 150,
          "year": 2017
         },
         {
          "cumulative_flights": 4353,
          "day_of_year": 151,
          "year": 2017
         },
         {
          "cumulative_flights": 4425,
          "day_of_year": 152,
          "year": 2017
         },
         {
          "cumulative_flights": 4584,
          "day_of_year": 153,
          "year": 2017
         },
         {
          "cumulative_flights": 4826,
          "day_of_year": 154,
          "year": 2017
         },
         {
          "cumulative_flights": 4826,
          "day_of_year": 155,
          "year": 2017
         },
         {
          "cumulative_flights": 4873,
          "day_of_year": 156,
          "year": 2017
         },
         {
          "cumulative_flights": 4874,
          "day_of_year": 157,
          "year": 2017
         },
         {
          "cumulative_flights": 4883,
          "day_of_year": 158,
          "year": 2017
         },
         {
          "cumulative_flights": 4990,
          "day_of_year": 159,
          "year": 2017
         },
         {
          "cumulative_flights": 5049,
          "day_of_year": 160,
          "year": 2017
         },
         {
          "cumulative_flights": 5114,
          "day_of_year": 161,
          "year": 2017
         },
         {
          "cumulative_flights": 5400,
          "day_of_year": 162,
          "year": 2017
         },
         {
          "cumulative_flights": 5403,
          "day_of_year": 163,
          "year": 2017
         },
         {
          "cumulative_flights": 5420,
          "day_of_year": 164,
          "year": 2017
         },
         {
          "cumulative_flights": 5478,
          "day_of_year": 165,
          "year": 2017
         },
         {
          "cumulative_flights": 5708,
          "day_of_year": 166,
          "year": 2017
         },
         {
          "cumulative_flights": 5708,
          "day_of_year": 167,
          "year": 2017
         },
         {
          "cumulative_flights": 5713,
          "day_of_year": 168,
          "year": 2017
         },
         {
          "cumulative_flights": 5819,
          "day_of_year": 169,
          "year": 2017
         },
         {
          "cumulative_flights": 5979,
          "day_of_year": 170,
          "year": 2017
         },
         {
          "cumulative_flights": 6067,
          "day_of_year": 171,
          "year": 2017
         },
         {
          "cumulative_flights": 6134,
          "day_of_year": 172,
          "year": 2017
         },
         {
          "cumulative_flights": 6174,
          "day_of_year": 173,
          "year": 2017
         },
         {
          "cumulative_flights": 6177,
          "day_of_year": 174,
          "year": 2017
         },
         {
          "cumulative_flights": 6245,
          "day_of_year": 175,
          "year": 2017
         },
         {
          "cumulative_flights": 6260,
          "day_of_year": 176,
          "year": 2017
         },
         {
          "cumulative_flights": 6286,
          "day_of_year": 177,
          "year": 2017
         },
         {
          "cumulative_flights": 6292,
          "day_of_year": 178,
          "year": 2017
         },
         {
          "cumulative_flights": 6298,
          "day_of_year": 179,
          "year": 2017
         },
         {
          "cumulative_flights": 6298,
          "day_of_year": 180,
          "year": 2017
         },
         {
          "cumulative_flights": 6300,
          "day_of_year": 181,
          "year": 2017
         },
         {
          "cumulative_flights": 6309,
          "day_of_year": 182,
          "year": 2017
         },
         {
          "cumulative_flights": 6324,
          "day_of_year": 183,
          "year": 2017
         },
         {
          "cumulative_flights": 6366,
          "day_of_year": 184,
          "year": 2017
         },
         {
          "cumulative_flights": 6383,
          "day_of_year": 185,
          "year": 2017
         },
         {
          "cumulative_flights": 6463,
          "day_of_year": 186,
          "year": 2017
         },
         {
          "cumulative_flights": 6640,
          "day_of_year": 187,
          "year": 2017
         },
         {
          "cumulative_flights": 6642,
          "day_of_year": 188,
          "year": 2017
         },
         {
          "cumulative_flights": 6680,
          "day_of_year": 189,
          "year": 2017
         },
         {
          "cumulative_flights": 6785,
          "day_of_year": 190,
          "year": 2017
         },
         {
          "cumulative_flights": 6785,
          "day_of_year": 191,
          "year": 2017
         },
         {
          "cumulative_flights": 6786,
          "day_of_year": 192,
          "year": 2017
         },
         {
          "cumulative_flights": 6801,
          "day_of_year": 193,
          "year": 2017
         },
         {
          "cumulative_flights": 6850,
          "day_of_year": 194,
          "year": 2017
         },
         {
          "cumulative_flights": 6900,
          "day_of_year": 195,
          "year": 2017
         },
         {
          "cumulative_flights": 6905,
          "day_of_year": 196,
          "year": 2017
         },
         {
          "cumulative_flights": 7077,
          "day_of_year": 197,
          "year": 2017
         },
         {
          "cumulative_flights": 7082,
          "day_of_year": 198,
          "year": 2017
         },
         {
          "cumulative_flights": 7142,
          "day_of_year": 199,
          "year": 2017
         },
         {
          "cumulative_flights": 7222,
          "day_of_year": 200,
          "year": 2017
         },
         {
          "cumulative_flights": 7251,
          "day_of_year": 201,
          "year": 2017
         },
         {
          "cumulative_flights": 7284,
          "day_of_year": 202,
          "year": 2017
         },
         {
          "cumulative_flights": 7361,
          "day_of_year": 203,
          "year": 2017
         },
         {
          "cumulative_flights": 7374,
          "day_of_year": 204,
          "year": 2017
         },
         {
          "cumulative_flights": 7380,
          "day_of_year": 205,
          "year": 2017
         },
         {
          "cumulative_flights": 7392,
          "day_of_year": 206,
          "year": 2017
         },
         {
          "cumulative_flights": 7405,
          "day_of_year": 207,
          "year": 2017
         },
         {
          "cumulative_flights": 7411,
          "day_of_year": 208,
          "year": 2017
         },
         {
          "cumulative_flights": 7427,
          "day_of_year": 209,
          "year": 2017
         },
         {
          "cumulative_flights": 7645,
          "day_of_year": 210,
          "year": 2017
         },
         {
          "cumulative_flights": 7721,
          "day_of_year": 211,
          "year": 2017
         },
         {
          "cumulative_flights": 7782,
          "day_of_year": 212,
          "year": 2017
         },
         {
          "cumulative_flights": 7797,
          "day_of_year": 213,
          "year": 2017
         },
         {
          "cumulative_flights": 7824,
          "day_of_year": 214,
          "year": 2017
         },
         {
          "cumulative_flights": 7859,
          "day_of_year": 215,
          "year": 2017
         },
         {
          "cumulative_flights": 7877,
          "day_of_year": 216,
          "year": 2017
         },
         {
          "cumulative_flights": 8133,
          "day_of_year": 217,
          "year": 2017
         },
         {
          "cumulative_flights": 8170,
          "day_of_year": 218,
          "year": 2017
         },
         {
          "cumulative_flights": 8315,
          "day_of_year": 219,
          "year": 2017
         },
         {
          "cumulative_flights": 8360,
          "day_of_year": 220,
          "year": 2017
         },
         {
          "cumulative_flights": 8400,
          "day_of_year": 221,
          "year": 2017
         },
         {
          "cumulative_flights": 8402,
          "day_of_year": 222,
          "year": 2017
         },
         {
          "cumulative_flights": 8405,
          "day_of_year": 223,
          "year": 2017
         },
         {
          "cumulative_flights": 8417,
          "day_of_year": 224,
          "year": 2017
         },
         {
          "cumulative_flights": 8447,
          "day_of_year": 225,
          "year": 2017
         },
         {
          "cumulative_flights": 8572,
          "day_of_year": 226,
          "year": 2017
         },
         {
          "cumulative_flights": 8727,
          "day_of_year": 227,
          "year": 2017
         },
         {
          "cumulative_flights": 8744,
          "day_of_year": 228,
          "year": 2017
         },
         {
          "cumulative_flights": 8807,
          "day_of_year": 229,
          "year": 2017
         },
         {
          "cumulative_flights": 8857,
          "day_of_year": 230,
          "year": 2017
         },
         {
          "cumulative_flights": 8870,
          "day_of_year": 231,
          "year": 2017
         },
         {
          "cumulative_flights": 8931,
          "day_of_year": 232,
          "year": 2017
         },
         {
          "cumulative_flights": 8984,
          "day_of_year": 233,
          "year": 2017
         },
         {
          "cumulative_flights": 9039,
          "day_of_year": 234,
          "year": 2017
         },
         {
          "cumulative_flights": 9176,
          "day_of_year": 235,
          "year": 2017
         },
         {
          "cumulative_flights": 9207,
          "day_of_year": 236,
          "year": 2017
         },
         {
          "cumulative_flights": 9263,
          "day_of_year": 237,
          "year": 2017
         },
         {
          "cumulative_flights": 9377,
          "day_of_year": 238,
          "year": 2017
         },
         {
          "cumulative_flights": 9446,
          "day_of_year": 239,
          "year": 2017
         },
         {
          "cumulative_flights": 9506,
          "day_of_year": 240,
          "year": 2017
         },
         {
          "cumulative_flights": 9687,
          "day_of_year": 241,
          "year": 2017
         },
         {
          "cumulative_flights": 9781,
          "day_of_year": 242,
          "year": 2017
         },
         {
          "cumulative_flights": 9814,
          "day_of_year": 243,
          "year": 2017
         },
         {
          "cumulative_flights": 9814,
          "day_of_year": 244,
          "year": 2017
         },
         {
          "cumulative_flights": 9824,
          "day_of_year": 245,
          "year": 2017
         },
         {
          "cumulative_flights": 9851,
          "day_of_year": 246,
          "year": 2017
         },
         {
          "cumulative_flights": 9899,
          "day_of_year": 247,
          "year": 2017
         },
         {
          "cumulative_flights": 10014,
          "day_of_year": 248,
          "year": 2017
         },
         {
          "cumulative_flights": 10015,
          "day_of_year": 249,
          "year": 2017
         },
         {
          "cumulative_flights": 10030,
          "day_of_year": 250,
          "year": 2017
         },
         {
          "cumulative_flights": 10052,
          "day_of_year": 251,
          "year": 2017
         },
         {
          "cumulative_flights": 10103,
          "day_of_year": 252,
          "year": 2017
         },
         {
          "cumulative_flights": 10112,
          "day_of_year": 253,
          "year": 2017
         },
         {
          "cumulative_flights": 10119,
          "day_of_year": 254,
          "year": 2017
         },
         {
          "cumulative_flights": 10132,
          "day_of_year": 255,
          "year": 2017
         },
         {
          "cumulative_flights": 10133,
          "day_of_year": 256,
          "year": 2017
         },
         {
          "cumulative_flights": 10134,
          "day_of_year": 257,
          "year": 2017
         },
         {
          "cumulative_flights": 10159,
          "day_of_year": 258,
          "year": 2017
         },
         {
          "cumulative_flights": 10160,
          "day_of_year": 259,
          "year": 2017
         },
         {
          "cumulative_flights": 10169,
          "day_of_year": 260,
          "year": 2017
         },
         {
          "cumulative_flights": 10186,
          "day_of_year": 261,
          "year": 2017
         },
         {
          "cumulative_flights": 10188,
          "day_of_year": 262,
          "year": 2017
         },
         {
          "cumulative_flights": 10216,
          "day_of_year": 263,
          "year": 2017
         },
         {
          "cumulative_flights": 10255,
          "day_of_year": 264,
          "year": 2017
         },
         {
          "cumulative_flights": 10260,
          "day_of_year": 265,
          "year": 2017
         },
         {
          "cumulative_flights": 10310,
          "day_of_year": 266,
          "year": 2017
         },
         {
          "cumulative_flights": 10311,
          "day_of_year": 267,
          "year": 2017
         },
         {
          "cumulative_flights": 10315,
          "day_of_year": 268,
          "year": 2017
         },
         {
          "cumulative_flights": 10324,
          "day_of_year": 269,
          "year": 2017
         },
         {
          "cumulative_flights": 10359,
          "day_of_year": 270,
          "year": 2017
         },
         {
          "cumulative_flights": 10436,
          "day_of_year": 271,
          "year": 2017
         },
         {
          "cumulative_flights": 10549,
          "day_of_year": 272,
          "year": 2017
         },
         {
          "cumulative_flights": 10644,
          "day_of_year": 273,
          "year": 2017
         },
         {
          "cumulative_flights": 10700,
          "day_of_year": 274,
          "year": 2017
         },
         {
          "cumulative_flights": 10703,
          "day_of_year": 275,
          "year": 2017
         },
         {
          "cumulative_flights": 10703,
          "day_of_year": 276,
          "year": 2017
         },
         {
          "cumulative_flights": 10717,
          "day_of_year": 277,
          "year": 2017
         },
         {
          "cumulative_flights": 10717,
          "day_of_year": 278,
          "year": 2017
         },
         {
          "cumulative_flights": 10717,
          "day_of_year": 279,
          "year": 2017
         },
         {
          "cumulative_flights": 10729,
          "day_of_year": 280,
          "year": 2017
         },
         {
          "cumulative_flights": 10731,
          "day_of_year": 281,
          "year": 2017
         },
         {
          "cumulative_flights": 10764,
          "day_of_year": 282,
          "year": 2017
         },
         {
          "cumulative_flights": 10765,
          "day_of_year": 283,
          "year": 2017
         },
         {
          "cumulative_flights": 10774,
          "day_of_year": 284,
          "year": 2017
         },
         {
          "cumulative_flights": 10776,
          "day_of_year": 285,
          "year": 2017
         },
         {
          "cumulative_flights": 10816,
          "day_of_year": 286,
          "year": 2017
         },
         {
          "cumulative_flights": 10910,
          "day_of_year": 287,
          "year": 2017
         },
         {
          "cumulative_flights": 11008,
          "day_of_year": 288,
          "year": 2017
         },
         {
          "cumulative_flights": 11042,
          "day_of_year": 289,
          "year": 2017
         },
         {
          "cumulative_flights": 11083,
          "day_of_year": 290,
          "year": 2017
         },
         {
          "cumulative_flights": 11091,
          "day_of_year": 291,
          "year": 2017
         },
         {
          "cumulative_flights": 11099,
          "day_of_year": 292,
          "year": 2017
         },
         {
          "cumulative_flights": 11118,
          "day_of_year": 293,
          "year": 2017
         },
         {
          "cumulative_flights": 11130,
          "day_of_year": 294,
          "year": 2017
         },
         {
          "cumulative_flights": 11136,
          "day_of_year": 295,
          "year": 2017
         },
         {
          "cumulative_flights": 11139,
          "day_of_year": 296,
          "year": 2017
         },
         {
          "cumulative_flights": 11153,
          "day_of_year": 297,
          "year": 2017
         },
         {
          "cumulative_flights": 11156,
          "day_of_year": 298,
          "year": 2017
         },
         {
          "cumulative_flights": 11193,
          "day_of_year": 299,
          "year": 2017
         },
         {
          "cumulative_flights": 11193,
          "day_of_year": 300,
          "year": 2017
         },
         {
          "cumulative_flights": 11193,
          "day_of_year": 301,
          "year": 2017
         },
         {
          "cumulative_flights": 11193,
          "day_of_year": 302,
          "year": 2017
         },
         {
          "cumulative_flights": 11193,
          "day_of_year": 303,
          "year": 2017
         },
         {
          "cumulative_flights": 11209,
          "day_of_year": 304,
          "year": 2017
         },
         {
          "cumulative_flights": 11211,
          "day_of_year": 305,
          "year": 2017
         },
         {
          "cumulative_flights": 11213,
          "day_of_year": 306,
          "year": 2017
         },
         {
          "cumulative_flights": 11225,
          "day_of_year": 307,
          "year": 2017
         },
         {
          "cumulative_flights": 11240,
          "day_of_year": 308,
          "year": 2017
         },
         {
          "cumulative_flights": 11283,
          "day_of_year": 309,
          "year": 2017
         },
         {
          "cumulative_flights": 11283,
          "day_of_year": 310,
          "year": 2017
         },
         {
          "cumulative_flights": 11291,
          "day_of_year": 311,
          "year": 2017
         },
         {
          "cumulative_flights": 11292,
          "day_of_year": 312,
          "year": 2017
         },
         {
          "cumulative_flights": 11294,
          "day_of_year": 313,
          "year": 2017
         },
         {
          "cumulative_flights": 11297,
          "day_of_year": 314,
          "year": 2017
         },
         {
          "cumulative_flights": 11298,
          "day_of_year": 315,
          "year": 2017
         },
         {
          "cumulative_flights": 11302,
          "day_of_year": 316,
          "year": 2017
         },
         {
          "cumulative_flights": 11306,
          "day_of_year": 317,
          "year": 2017
         },
         {
          "cumulative_flights": 11312,
          "day_of_year": 318,
          "year": 2017
         },
         {
          "cumulative_flights": 11325,
          "day_of_year": 319,
          "year": 2017
         },
         {
          "cumulative_flights": 11340,
          "day_of_year": 320,
          "year": 2017
         },
         {
          "cumulative_flights": 11341,
          "day_of_year": 321,
          "year": 2017
         },
         {
          "cumulative_flights": 11352,
          "day_of_year": 322,
          "year": 2017
         },
         {
          "cumulative_flights": 11357,
          "day_of_year": 323,
          "year": 2017
         },
         {
          "cumulative_flights": 11357,
          "day_of_year": 324,
          "year": 2017
         },
         {
          "cumulative_flights": 11357,
          "day_of_year": 325,
          "year": 2017
         },
         {
          "cumulative_flights": 11365,
          "day_of_year": 326,
          "year": 2017
         },
         {
          "cumulative_flights": 11367,
          "day_of_year": 327,
          "year": 2017
         },
         {
          "cumulative_flights": 11374,
          "day_of_year": 328,
          "year": 2017
         },
         {
          "cumulative_flights": 11387,
          "day_of_year": 329,
          "year": 2017
         },
         {
          "cumulative_flights": 11423,
          "day_of_year": 330,
          "year": 2017
         },
         {
          "cumulative_flights": 11432,
          "day_of_year": 331,
          "year": 2017
         },
         {
          "cumulative_flights": 11434,
          "day_of_year": 332,
          "year": 2017
         },
         {
          "cumulative_flights": 11434,
          "day_of_year": 333,
          "year": 2017
         },
         {
          "cumulative_flights": 11440,
          "day_of_year": 334,
          "year": 2017
         },
         {
          "cumulative_flights": 11443,
          "day_of_year": 335,
          "year": 2017
         },
         {
          "cumulative_flights": 11447,
          "day_of_year": 336,
          "year": 2017
         },
         {
          "cumulative_flights": 11474,
          "day_of_year": 337,
          "year": 2017
         },
         {
          "cumulative_flights": 11474,
          "day_of_year": 338,
          "year": 2017
         },
         {
          "cumulative_flights": 11474,
          "day_of_year": 339,
          "year": 2017
         },
         {
          "cumulative_flights": 11475,
          "day_of_year": 340,
          "year": 2017
         },
         {
          "cumulative_flights": 11495,
          "day_of_year": 341,
          "year": 2017
         },
         {
          "cumulative_flights": 11495,
          "day_of_year": 342,
          "year": 2017
         },
         {
          "cumulative_flights": 11506,
          "day_of_year": 343,
          "year": 2017
         },
         {
          "cumulative_flights": 11519,
          "day_of_year": 344,
          "year": 2017
         },
         {
          "cumulative_flights": 11519,
          "day_of_year": 345,
          "year": 2017
         },
         {
          "cumulative_flights": 11519,
          "day_of_year": 346,
          "year": 2017
         },
         {
          "cumulative_flights": 11538,
          "day_of_year": 347,
          "year": 2017
         },
         {
          "cumulative_flights": 11538,
          "day_of_year": 348,
          "year": 2017
         },
         {
          "cumulative_flights": 11540,
          "day_of_year": 349,
          "year": 2017
         },
         {
          "cumulative_flights": 11546,
          "day_of_year": 350,
          "year": 2017
         },
         {
          "cumulative_flights": 11557,
          "day_of_year": 351,
          "year": 2017
         },
         {
          "cumulative_flights": 11557,
          "day_of_year": 352,
          "year": 2017
         },
         {
          "cumulative_flights": 11559,
          "day_of_year": 353,
          "year": 2017
         },
         {
          "cumulative_flights": 11562,
          "day_of_year": 354,
          "year": 2017
         },
         {
          "cumulative_flights": 11562,
          "day_of_year": 355,
          "year": 2017
         },
         {
          "cumulative_flights": 11563,
          "day_of_year": 356,
          "year": 2017
         },
         {
          "cumulative_flights": 11563,
          "day_of_year": 357,
          "year": 2017
         },
         {
          "cumulative_flights": 11563,
          "day_of_year": 358,
          "year": 2017
         },
         {
          "cumulative_flights": 11588,
          "day_of_year": 359,
          "year": 2017
         },
         {
          "cumulative_flights": 11596,
          "day_of_year": 360,
          "year": 2017
         },
         {
          "cumulative_flights": 11617,
          "day_of_year": 361,
          "year": 2017
         },
         {
          "cumulative_flights": 11618,
          "day_of_year": 362,
          "year": 2017
         },
         {
          "cumulative_flights": 11638,
          "day_of_year": 363,
          "year": 2017
         },
         {
          "cumulative_flights": 11645,
          "day_of_year": 364,
          "year": 2017
         },
         {
          "cumulative_flights": 11647,
          "day_of_year": 365,
          "year": 2017
         },
         {
          "cumulative_flights": 9,
          "day_of_year": 1,
          "year": 2018
         },
         {
          "cumulative_flights": 10,
          "day_of_year": 2,
          "year": 2018
         },
         {
          "cumulative_flights": 10,
          "day_of_year": 3,
          "year": 2018
         },
         {
          "cumulative_flights": 15,
          "day_of_year": 4,
          "year": 2018
         },
         {
          "cumulative_flights": 18,
          "day_of_year": 5,
          "year": 2018
         },
         {
          "cumulative_flights": 58,
          "day_of_year": 6,
          "year": 2018
         },
         {
          "cumulative_flights": 69,
          "day_of_year": 7,
          "year": 2018
         },
         {
          "cumulative_flights": 70,
          "day_of_year": 8,
          "year": 2018
         },
         {
          "cumulative_flights": 73,
          "day_of_year": 9,
          "year": 2018
         },
         {
          "cumulative_flights": 73,
          "day_of_year": 10,
          "year": 2018
         },
         {
          "cumulative_flights": 73,
          "day_of_year": 11,
          "year": 2018
         },
         {
          "cumulative_flights": 73,
          "day_of_year": 12,
          "year": 2018
         },
         {
          "cumulative_flights": 107,
          "day_of_year": 13,
          "year": 2018
         },
         {
          "cumulative_flights": 149,
          "day_of_year": 14,
          "year": 2018
         },
         {
          "cumulative_flights": 170,
          "day_of_year": 15,
          "year": 2018
         },
         {
          "cumulative_flights": 170,
          "day_of_year": 16,
          "year": 2018
         },
         {
          "cumulative_flights": 170,
          "day_of_year": 17,
          "year": 2018
         },
         {
          "cumulative_flights": 170,
          "day_of_year": 18,
          "year": 2018
         },
         {
          "cumulative_flights": 170,
          "day_of_year": 19,
          "year": 2018
         },
         {
          "cumulative_flights": 174,
          "day_of_year": 20,
          "year": 2018
         },
         {
          "cumulative_flights": 183,
          "day_of_year": 21,
          "year": 2018
         },
         {
          "cumulative_flights": 192,
          "day_of_year": 22,
          "year": 2018
         },
         {
          "cumulative_flights": 193,
          "day_of_year": 23,
          "year": 2018
         },
         {
          "cumulative_flights": 195,
          "day_of_year": 24,
          "year": 2018
         },
         {
          "cumulative_flights": 205,
          "day_of_year": 25,
          "year": 2018
         },
         {
          "cumulative_flights": 206,
          "day_of_year": 26,
          "year": 2018
         },
         {
          "cumulative_flights": 207,
          "day_of_year": 27,
          "year": 2018
         },
         {
          "cumulative_flights": 210,
          "day_of_year": 28,
          "year": 2018
         },
         {
          "cumulative_flights": 210,
          "day_of_year": 29,
          "year": 2018
         },
         {
          "cumulative_flights": 219,
          "day_of_year": 30,
          "year": 2018
         },
         {
          "cumulative_flights": 221,
          "day_of_year": 31,
          "year": 2018
         },
         {
          "cumulative_flights": 221,
          "day_of_year": 32,
          "year": 2018
         },
         {
          "cumulative_flights": 229,
          "day_of_year": 33,
          "year": 2018
         },
         {
          "cumulative_flights": 251,
          "day_of_year": 34,
          "year": 2018
         },
         {
          "cumulative_flights": 266,
          "day_of_year": 35,
          "year": 2018
         },
         {
          "cumulative_flights": 280,
          "day_of_year": 36,
          "year": 2018
         },
         {
          "cumulative_flights": 323,
          "day_of_year": 37,
          "year": 2018
         },
         {
          "cumulative_flights": 323,
          "day_of_year": 38,
          "year": 2018
         },
         {
          "cumulative_flights": 332,
          "day_of_year": 39,
          "year": 2018
         },
         {
          "cumulative_flights": 341,
          "day_of_year": 40,
          "year": 2018
         },
         {
          "cumulative_flights": 350,
          "day_of_year": 41,
          "year": 2018
         },
         {
          "cumulative_flights": 387,
          "day_of_year": 42,
          "year": 2018
         },
         {
          "cumulative_flights": 389,
          "day_of_year": 43,
          "year": 2018
         },
         {
          "cumulative_flights": 412,
          "day_of_year": 44,
          "year": 2018
         },
         {
          "cumulative_flights": 424,
          "day_of_year": 45,
          "year": 2018
         },
         {
          "cumulative_flights": 440,
          "day_of_year": 46,
          "year": 2018
         },
         {
          "cumulative_flights": 449,
          "day_of_year": 47,
          "year": 2018
         },
         {
          "cumulative_flights": 456,
          "day_of_year": 48,
          "year": 2018
         },
         {
          "cumulative_flights": 464,
          "day_of_year": 49,
          "year": 2018
         },
         {
          "cumulative_flights": 487,
          "day_of_year": 50,
          "year": 2018
         },
         {
          "cumulative_flights": 492,
          "day_of_year": 51,
          "year": 2018
         },
         {
          "cumulative_flights": 500,
          "day_of_year": 52,
          "year": 2018
         },
         {
          "cumulative_flights": 506,
          "day_of_year": 53,
          "year": 2018
         },
         {
          "cumulative_flights": 513,
          "day_of_year": 54,
          "year": 2018
         },
         {
          "cumulative_flights": 514,
          "day_of_year": 55,
          "year": 2018
         },
         {
          "cumulative_flights": 546,
          "day_of_year": 56,
          "year": 2018
         },
         {
          "cumulative_flights": 549,
          "day_of_year": 57,
          "year": 2018
         },
         {
          "cumulative_flights": 549,
          "day_of_year": 58,
          "year": 2018
         },
         {
          "cumulative_flights": 555,
          "day_of_year": 59,
          "year": 2018
         },
         {
          "cumulative_flights": 556,
          "day_of_year": 60,
          "year": 2018
         },
         {
          "cumulative_flights": 566,
          "day_of_year": 61,
          "year": 2018
         },
         {
          "cumulative_flights": 602,
          "day_of_year": 62,
          "year": 2018
         },
         {
          "cumulative_flights": 681,
          "day_of_year": 63,
          "year": 2018
         },
         {
          "cumulative_flights": 698,
          "day_of_year": 64,
          "year": 2018
         },
         {
          "cumulative_flights": 698,
          "day_of_year": 65,
          "year": 2018
         },
         {
          "cumulative_flights": 698,
          "day_of_year": 66,
          "year": 2018
         },
         {
          "cumulative_flights": 705,
          "day_of_year": 67,
          "year": 2018
         },
         {
          "cumulative_flights": 714,
          "day_of_year": 68,
          "year": 2018
         },
         {
          "cumulative_flights": 747,
          "day_of_year": 69,
          "year": 2018
         },
         {
          "cumulative_flights": 887,
          "day_of_year": 70,
          "year": 2018
         },
         {
          "cumulative_flights": 887,
          "day_of_year": 71,
          "year": 2018
         },
         {
          "cumulative_flights": 898,
          "day_of_year": 72,
          "year": 2018
         },
         {
          "cumulative_flights": 899,
          "day_of_year": 73,
          "year": 2018
         },
         {
          "cumulative_flights": 911,
          "day_of_year": 74,
          "year": 2018
         },
         {
          "cumulative_flights": 911,
          "day_of_year": 75,
          "year": 2018
         },
         {
          "cumulative_flights": 911,
          "day_of_year": 76,
          "year": 2018
         },
         {
          "cumulative_flights": 911,
          "day_of_year": 77,
          "year": 2018
         },
         {
          "cumulative_flights": 918,
          "day_of_year": 78,
          "year": 2018
         },
         {
          "cumulative_flights": 945,
          "day_of_year": 79,
          "year": 2018
         },
         {
          "cumulative_flights": 972,
          "day_of_year": 80,
          "year": 2018
         },
         {
          "cumulative_flights": 996,
          "day_of_year": 81,
          "year": 2018
         },
         {
          "cumulative_flights": 1011,
          "day_of_year": 82,
          "year": 2018
         },
         {
          "cumulative_flights": 1138,
          "day_of_year": 83,
          "year": 2018
         },
         {
          "cumulative_flights": 1286,
          "day_of_year": 84,
          "year": 2018
         },
         {
          "cumulative_flights": 1289,
          "day_of_year": 85,
          "year": 2018
         },
         {
          "cumulative_flights": 1300,
          "day_of_year": 86,
          "year": 2018
         },
         {
          "cumulative_flights": 1311,
          "day_of_year": 87,
          "year": 2018
         },
         {
          "cumulative_flights": 1342,
          "day_of_year": 88,
          "year": 2018
         },
         {
          "cumulative_flights": 1527,
          "day_of_year": 89,
          "year": 2018
         },
         {
          "cumulative_flights": 1529,
          "day_of_year": 90,
          "year": 2018
         },
         {
          "cumulative_flights": 1530,
          "day_of_year": 91,
          "year": 2018
         },
         {
          "cumulative_flights": 1715,
          "day_of_year": 92,
          "year": 2018
         },
         {
          "cumulative_flights": 1749,
          "day_of_year": 93,
          "year": 2018
         },
         {
          "cumulative_flights": 1794,
          "day_of_year": 94,
          "year": 2018
         },
         {
          "cumulative_flights": 1809,
          "day_of_year": 95,
          "year": 2018
         },
         {
          "cumulative_flights": 1919,
          "day_of_year": 96,
          "year": 2018
         },
         {
          "cumulative_flights": 1995,
          "day_of_year": 97,
          "year": 2018
         },
         {
          "cumulative_flights": 2038,
          "day_of_year": 98,
          "year": 2018
         },
         {
          "cumulative_flights": 2064,
          "day_of_year": 99,
          "year": 2018
         },
         {
          "cumulative_flights": 2076,
          "day_of_year": 100,
          "year": 2018
         },
         {
          "cumulative_flights": 2160,
          "day_of_year": 101,
          "year": 2018
         },
         {
          "cumulative_flights": 2180,
          "day_of_year": 102,
          "year": 2018
         },
         {
          "cumulative_flights": 2180,
          "day_of_year": 103,
          "year": 2018
         },
         {
          "cumulative_flights": 2429,
          "day_of_year": 104,
          "year": 2018
         },
         {
          "cumulative_flights": 2518,
          "day_of_year": 105,
          "year": 2018
         },
         {
          "cumulative_flights": 2521,
          "day_of_year": 106,
          "year": 2018
         },
         {
          "cumulative_flights": 2548,
          "day_of_year": 107,
          "year": 2018
         },
         {
          "cumulative_flights": 2611,
          "day_of_year": 108,
          "year": 2018
         },
         {
          "cumulative_flights": 2691,
          "day_of_year": 109,
          "year": 2018
         },
         {
          "cumulative_flights": 2820,
          "day_of_year": 110,
          "year": 2018
         },
         {
          "cumulative_flights": 2955,
          "day_of_year": 111,
          "year": 2018
         },
         {
          "cumulative_flights": 3248,
          "day_of_year": 112,
          "year": 2018
         },
         {
          "cumulative_flights": 3258,
          "day_of_year": 113,
          "year": 2018
         },
         {
          "cumulative_flights": 3276,
          "day_of_year": 114,
          "year": 2018
         },
         {
          "cumulative_flights": 3279,
          "day_of_year": 115,
          "year": 2018
         },
         {
          "cumulative_flights": 3283,
          "day_of_year": 116,
          "year": 2018
         },
         {
          "cumulative_flights": 3393,
          "day_of_year": 117,
          "year": 2018
         },
         {
          "cumulative_flights": 3513,
          "day_of_year": 118,
          "year": 2018
         },
         {
          "cumulative_flights": 3601,
          "day_of_year": 119,
          "year": 2018
         },
         {
          "cumulative_flights": 3612,
          "day_of_year": 120,
          "year": 2018
         },
         {
          "cumulative_flights": 3702,
          "day_of_year": 121,
          "year": 2018
         },
         {
          "cumulative_flights": 3714,
          "day_of_year": 122,
          "year": 2018
         },
         {
          "cumulative_flights": 3730,
          "day_of_year": 123,
          "year": 2018
         },
         {
          "cumulative_flights": 3746,
          "day_of_year": 124,
          "year": 2018
         },
         {
          "cumulative_flights": 3783,
          "day_of_year": 125,
          "year": 2018
         },
         {
          "cumulative_flights": 3836,
          "day_of_year": 126,
          "year": 2018
         },
         {
          "cumulative_flights": 3894,
          "day_of_year": 127,
          "year": 2018
         },
         {
          "cumulative_flights": 3927,
          "day_of_year": 128,
          "year": 2018
         },
         {
          "cumulative_flights": 3934,
          "day_of_year": 129,
          "year": 2018
         },
         {
          "cumulative_flights": 3949,
          "day_of_year": 130,
          "year": 2018
         },
         {
          "cumulative_flights": 3967,
          "day_of_year": 131,
          "year": 2018
         },
         {
          "cumulative_flights": 4074,
          "day_of_year": 132,
          "year": 2018
         },
         {
          "cumulative_flights": 4146,
          "day_of_year": 133,
          "year": 2018
         },
         {
          "cumulative_flights": 4161,
          "day_of_year": 134,
          "year": 2018
         },
         {
          "cumulative_flights": 4166,
          "day_of_year": 135,
          "year": 2018
         },
         {
          "cumulative_flights": 4175,
          "day_of_year": 136,
          "year": 2018
         },
         {
          "cumulative_flights": 4176,
          "day_of_year": 137,
          "year": 2018
         },
         {
          "cumulative_flights": 4227,
          "day_of_year": 138,
          "year": 2018
         },
         {
          "cumulative_flights": 4383,
          "day_of_year": 139,
          "year": 2018
         },
         {
          "cumulative_flights": 4501,
          "day_of_year": 140,
          "year": 2018
         },
         {
          "cumulative_flights": 4524,
          "day_of_year": 141,
          "year": 2018
         },
         {
          "cumulative_flights": 4623,
          "day_of_year": 142,
          "year": 2018
         },
         {
          "cumulative_flights": 4624,
          "day_of_year": 143,
          "year": 2018
         },
         {
          "cumulative_flights": 4629,
          "day_of_year": 144,
          "year": 2018
         },
         {
          "cumulative_flights": 4679,
          "day_of_year": 145,
          "year": 2018
         },
         {
          "cumulative_flights": 4986,
          "day_of_year": 146,
          "year": 2018
         },
         {
          "cumulative_flights": 5234,
          "day_of_year": 147,
          "year": 2018
         },
         {
          "cumulative_flights": 5274,
          "day_of_year": 148,
          "year": 2018
         },
         {
          "cumulative_flights": 5282,
          "day_of_year": 149,
          "year": 2018
         },
         {
          "cumulative_flights": 5313,
          "day_of_year": 150,
          "year": 2018
         },
         {
          "cumulative_flights": 5374,
          "day_of_year": 151,
          "year": 2018
         },
         {
          "cumulative_flights": 5384,
          "day_of_year": 152,
          "year": 2018
         },
         {
          "cumulative_flights": 5486,
          "day_of_year": 153,
          "year": 2018
         },
         {
          "cumulative_flights": 5554,
          "day_of_year": 154,
          "year": 2018
         },
         {
          "cumulative_flights": 5613,
          "day_of_year": 155,
          "year": 2018
         },
         {
          "cumulative_flights": 5629,
          "day_of_year": 156,
          "year": 2018
         },
         {
          "cumulative_flights": 5673,
          "day_of_year": 157,
          "year": 2018
         },
         {
          "cumulative_flights": 5737,
          "day_of_year": 158,
          "year": 2018
         },
         {
          "cumulative_flights": 5780,
          "day_of_year": 159,
          "year": 2018
         },
         {
          "cumulative_flights": 5801,
          "day_of_year": 160,
          "year": 2018
         },
         {
          "cumulative_flights": 5815,
          "day_of_year": 161,
          "year": 2018
         },
         {
          "cumulative_flights": 5829,
          "day_of_year": 162,
          "year": 2018
         },
         {
          "cumulative_flights": 5841,
          "day_of_year": 163,
          "year": 2018
         },
         {
          "cumulative_flights": 5843,
          "day_of_year": 164,
          "year": 2018
         },
         {
          "cumulative_flights": 5884,
          "day_of_year": 165,
          "year": 2018
         },
         {
          "cumulative_flights": 5955,
          "day_of_year": 166,
          "year": 2018
         },
         {
          "cumulative_flights": 6182,
          "day_of_year": 167,
          "year": 2018
         },
         {
          "cumulative_flights": 6366,
          "day_of_year": 168,
          "year": 2018
         },
         {
          "cumulative_flights": 6414,
          "day_of_year": 169,
          "year": 2018
         },
         {
          "cumulative_flights": 6511,
          "day_of_year": 170,
          "year": 2018
         },
         {
          "cumulative_flights": 6667,
          "day_of_year": 171,
          "year": 2018
         },
         {
          "cumulative_flights": 6669,
          "day_of_year": 172,
          "year": 2018
         },
         {
          "cumulative_flights": 6672,
          "day_of_year": 173,
          "year": 2018
         },
         {
          "cumulative_flights": 6672,
          "day_of_year": 174,
          "year": 2018
         },
         {
          "cumulative_flights": 6678,
          "day_of_year": 175,
          "year": 2018
         },
         {
          "cumulative_flights": 6699,
          "day_of_year": 176,
          "year": 2018
         },
         {
          "cumulative_flights": 6716,
          "day_of_year": 177,
          "year": 2018
         },
         {
          "cumulative_flights": 6724,
          "day_of_year": 178,
          "year": 2018
         },
         {
          "cumulative_flights": 6724,
          "day_of_year": 179,
          "year": 2018
         },
         {
          "cumulative_flights": 6733,
          "day_of_year": 180,
          "year": 2018
         },
         {
          "cumulative_flights": 6748,
          "day_of_year": 181,
          "year": 2018
         },
         {
          "cumulative_flights": 6857,
          "day_of_year": 182,
          "year": 2018
         },
         {
          "cumulative_flights": 6970,
          "day_of_year": 183,
          "year": 2018
         },
         {
          "cumulative_flights": 7169,
          "day_of_year": 184,
          "year": 2018
         },
         {
          "cumulative_flights": 7340,
          "day_of_year": 185,
          "year": 2018
         },
         {
          "cumulative_flights": 7461,
          "day_of_year": 186,
          "year": 2018
         },
         {
          "cumulative_flights": 7480,
          "day_of_year": 187,
          "year": 2018
         },
         {
          "cumulative_flights": 7635,
          "day_of_year": 188,
          "year": 2018
         },
         {
          "cumulative_flights": 7746,
          "day_of_year": 189,
          "year": 2018
         },
         {
          "cumulative_flights": 7788,
          "day_of_year": 190,
          "year": 2018
         },
         {
          "cumulative_flights": 7791,
          "day_of_year": 191,
          "year": 2018
         },
         {
          "cumulative_flights": 7797,
          "day_of_year": 192,
          "year": 2018
         },
         {
          "cumulative_flights": 7815,
          "day_of_year": 193,
          "year": 2018
         },
         {
          "cumulative_flights": 7889,
          "day_of_year": 194,
          "year": 2018
         },
         {
          "cumulative_flights": 8014,
          "day_of_year": 195,
          "year": 2018
         },
         {
          "cumulative_flights": 8155,
          "day_of_year": 196,
          "year": 2018
         },
         {
          "cumulative_flights": 8229,
          "day_of_year": 197,
          "year": 2018
         },
         {
          "cumulative_flights": 8234,
          "day_of_year": 198,
          "year": 2018
         },
         {
          "cumulative_flights": 8234,
          "day_of_year": 199,
          "year": 2018
         },
         {
          "cumulative_flights": 8270,
          "day_of_year": 200,
          "year": 2018
         },
         {
          "cumulative_flights": 8401,
          "day_of_year": 201,
          "year": 2018
         },
         {
          "cumulative_flights": 8619,
          "day_of_year": 202,
          "year": 2018
         },
         {
          "cumulative_flights": 8639,
          "day_of_year": 203,
          "year": 2018
         },
         {
          "cumulative_flights": 8659,
          "day_of_year": 204,
          "year": 2018
         },
         {
          "cumulative_flights": 8779,
          "day_of_year": 205,
          "year": 2018
         },
         {
          "cumulative_flights": 8815,
          "day_of_year": 206,
          "year": 2018
         },
         {
          "cumulative_flights": 8835,
          "day_of_year": 207,
          "year": 2018
         },
         {
          "cumulative_flights": 8853,
          "day_of_year": 208,
          "year": 2018
         },
         {
          "cumulative_flights": 8959,
          "day_of_year": 209,
          "year": 2018
         },
         {
          "cumulative_flights": 9066,
          "day_of_year": 210,
          "year": 2018
         },
         {
          "cumulative_flights": 9130,
          "day_of_year": 211,
          "year": 2018
         },
         {
          "cumulative_flights": 9252,
          "day_of_year": 212,
          "year": 2018
         },
         {
          "cumulative_flights": 9311,
          "day_of_year": 213,
          "year": 2018
         },
         {
          "cumulative_flights": 9348,
          "day_of_year": 214,
          "year": 2018
         },
         {
          "cumulative_flights": 9412,
          "day_of_year": 215,
          "year": 2018
         },
         {
          "cumulative_flights": 9566,
          "day_of_year": 216,
          "year": 2018
         },
         {
          "cumulative_flights": 9591,
          "day_of_year": 217,
          "year": 2018
         },
         {
          "cumulative_flights": 9754,
          "day_of_year": 218,
          "year": 2018
         },
         {
          "cumulative_flights": 9829,
          "day_of_year": 219,
          "year": 2018
         },
         {
          "cumulative_flights": 9856,
          "day_of_year": 220,
          "year": 2018
         },
         {
          "cumulative_flights": 9891,
          "day_of_year": 221,
          "year": 2018
         },
         {
          "cumulative_flights": 9896,
          "day_of_year": 222,
          "year": 2018
         },
         {
          "cumulative_flights": 9960,
          "day_of_year": 223,
          "year": 2018
         },
         {
          "cumulative_flights": 10192,
          "day_of_year": 224,
          "year": 2018
         },
         {
          "cumulative_flights": 10223,
          "day_of_year": 225,
          "year": 2018
         },
         {
          "cumulative_flights": 10228,
          "day_of_year": 226,
          "year": 2018
         },
         {
          "cumulative_flights": 10291,
          "day_of_year": 227,
          "year": 2018
         },
         {
          "cumulative_flights": 10430,
          "day_of_year": 228,
          "year": 2018
         },
         {
          "cumulative_flights": 10635,
          "day_of_year": 229,
          "year": 2018
         },
         {
          "cumulative_flights": 10732,
          "day_of_year": 230,
          "year": 2018
         },
         {
          "cumulative_flights": 10934,
          "day_of_year": 231,
          "year": 2018
         },
         {
          "cumulative_flights": 10972,
          "day_of_year": 232,
          "year": 2018
         },
         {
          "cumulative_flights": 11035,
          "day_of_year": 233,
          "year": 2018
         },
         {
          "cumulative_flights": 11125,
          "day_of_year": 234,
          "year": 2018
         },
         {
          "cumulative_flights": 11191,
          "day_of_year": 235,
          "year": 2018
         },
         {
          "cumulative_flights": 11196,
          "day_of_year": 236,
          "year": 2018
         },
         {
          "cumulative_flights": 11214,
          "day_of_year": 237,
          "year": 2018
         },
         {
          "cumulative_flights": 11329,
          "day_of_year": 238,
          "year": 2018
         },
         {
          "cumulative_flights": 11369,
          "day_of_year": 239,
          "year": 2018
         },
         {
          "cumulative_flights": 11422,
          "day_of_year": 240,
          "year": 2018
         },
         {
          "cumulative_flights": 11542,
          "day_of_year": 241,
          "year": 2018
         },
         {
          "cumulative_flights": 11552,
          "day_of_year": 242,
          "year": 2018
         },
         {
          "cumulative_flights": 11573,
          "day_of_year": 243,
          "year": 2018
         },
         {
          "cumulative_flights": 11588,
          "day_of_year": 244,
          "year": 2018
         },
         {
          "cumulative_flights": 11598,
          "day_of_year": 245,
          "year": 2018
         },
         {
          "cumulative_flights": 11600,
          "day_of_year": 246,
          "year": 2018
         },
         {
          "cumulative_flights": 11623,
          "day_of_year": 247,
          "year": 2018
         },
         {
          "cumulative_flights": 11655,
          "day_of_year": 248,
          "year": 2018
         },
         {
          "cumulative_flights": 11802,
          "day_of_year": 249,
          "year": 2018
         },
         {
          "cumulative_flights": 11839,
          "day_of_year": 250,
          "year": 2018
         },
         {
          "cumulative_flights": 11964,
          "day_of_year": 251,
          "year": 2018
         },
         {
          "cumulative_flights": 12136,
          "day_of_year": 252,
          "year": 2018
         },
         {
          "cumulative_flights": 12190,
          "day_of_year": 253,
          "year": 2018
         },
         {
          "cumulative_flights": 12216,
          "day_of_year": 254,
          "year": 2018
         },
         {
          "cumulative_flights": 12291,
          "day_of_year": 255,
          "year": 2018
         },
         {
          "cumulative_flights": 12307,
          "day_of_year": 256,
          "year": 2018
         },
         {
          "cumulative_flights": 12315,
          "day_of_year": 257,
          "year": 2018
         },
         {
          "cumulative_flights": 12385,
          "day_of_year": 258,
          "year": 2018
         },
         {
          "cumulative_flights": 12629,
          "day_of_year": 259,
          "year": 2018
         },
         {
          "cumulative_flights": 12691,
          "day_of_year": 260,
          "year": 2018
         },
         {
          "cumulative_flights": 12738,
          "day_of_year": 261,
          "year": 2018
         },
         {
          "cumulative_flights": 12785,
          "day_of_year": 262,
          "year": 2018
         },
         {
          "cumulative_flights": 12891,
          "day_of_year": 263,
          "year": 2018
         },
         {
          "cumulative_flights": 12899,
          "day_of_year": 264,
          "year": 2018
         },
         {
          "cumulative_flights": 12913,
          "day_of_year": 265,
          "year": 2018
         },
         {
          "cumulative_flights": 12919,
          "day_of_year": 266,
          "year": 2018
         },
         {
          "cumulative_flights": 12919,
          "day_of_year": 267,
          "year": 2018
         },
         {
          "cumulative_flights": 12940,
          "day_of_year": 268,
          "year": 2018
         },
         {
          "cumulative_flights": 12963,
          "day_of_year": 269,
          "year": 2018
         },
         {
          "cumulative_flights": 12994,
          "day_of_year": 270,
          "year": 2018
         },
         {
          "cumulative_flights": 13046,
          "day_of_year": 271,
          "year": 2018
         },
         {
          "cumulative_flights": 13102,
          "day_of_year": 272,
          "year": 2018
         },
         {
          "cumulative_flights": 13244,
          "day_of_year": 273,
          "year": 2018
         },
         {
          "cumulative_flights": 13247,
          "day_of_year": 274,
          "year": 2018
         },
         {
          "cumulative_flights": 13247,
          "day_of_year": 275,
          "year": 2018
         },
         {
          "cumulative_flights": 13247,
          "day_of_year": 276,
          "year": 2018
         },
         {
          "cumulative_flights": 13271,
          "day_of_year": 277,
          "year": 2018
         },
         {
          "cumulative_flights": 13396,
          "day_of_year": 278,
          "year": 2018
         },
         {
          "cumulative_flights": 13480,
          "day_of_year": 279,
          "year": 2018
         },
         {
          "cumulative_flights": 13503,
          "day_of_year": 280,
          "year": 2018
         },
         {
          "cumulative_flights": 13516,
          "day_of_year": 281,
          "year": 2018
         },
         {
          "cumulative_flights": 13552,
          "day_of_year": 282,
          "year": 2018
         },
         {
          "cumulative_flights": 13579,
          "day_of_year": 283,
          "year": 2018
         },
         {
          "cumulative_flights": 13623,
          "day_of_year": 284,
          "year": 2018
         },
         {
          "cumulative_flights": 13699,
          "day_of_year": 285,
          "year": 2018
         },
         {
          "cumulative_flights": 13845,
          "day_of_year": 286,
          "year": 2018
         },
         {
          "cumulative_flights": 13927,
          "day_of_year": 287,
          "year": 2018
         },
         {
          "cumulative_flights": 13972,
          "day_of_year": 288,
          "year": 2018
         },
         {
          "cumulative_flights": 14023,
          "day_of_year": 289,
          "year": 2018
         },
         {
          "cumulative_flights": 14062,
          "day_of_year": 290,
          "year": 2018
         },
         {
          "cumulative_flights": 14076,
          "day_of_year": 291,
          "year": 2018
         },
         {
          "cumulative_flights": 14091,
          "day_of_year": 292,
          "year": 2018
         },
         {
          "cumulative_flights": 14156,
          "day_of_year": 293,
          "year": 2018
         },
         {
          "cumulative_flights": 14191,
          "day_of_year": 294,
          "year": 2018
         },
         {
          "cumulative_flights": 14216,
          "day_of_year": 295,
          "year": 2018
         },
         {
          "cumulative_flights": 14219,
          "day_of_year": 296,
          "year": 2018
         },
         {
          "cumulative_flights": 14219,
          "day_of_year": 297,
          "year": 2018
         },
         {
          "cumulative_flights": 14219,
          "day_of_year": 298,
          "year": 2018
         },
         {
          "cumulative_flights": 14238,
          "day_of_year": 299,
          "year": 2018
         },
         {
          "cumulative_flights": 14256,
          "day_of_year": 300,
          "year": 2018
         },
         {
          "cumulative_flights": 14256,
          "day_of_year": 301,
          "year": 2018
         },
         {
          "cumulative_flights": 14256,
          "day_of_year": 302,
          "year": 2018
         },
         {
          "cumulative_flights": 14256,
          "day_of_year": 303,
          "year": 2018
         },
         {
          "cumulative_flights": 14313,
          "day_of_year": 304,
          "year": 2018
         },
         {
          "cumulative_flights": 14318,
          "day_of_year": 305,
          "year": 2018
         },
         {
          "cumulative_flights": 14329,
          "day_of_year": 306,
          "year": 2018
         },
         {
          "cumulative_flights": 14356,
          "day_of_year": 307,
          "year": 2018
         },
         {
          "cumulative_flights": 14390,
          "day_of_year": 308,
          "year": 2018
         },
         {
          "cumulative_flights": 14403,
          "day_of_year": 309,
          "year": 2018
         },
         {
          "cumulative_flights": 14463,
          "day_of_year": 310,
          "year": 2018
         },
         {
          "cumulative_flights": 14493,
          "day_of_year": 311,
          "year": 2018
         },
         {
          "cumulative_flights": 14497,
          "day_of_year": 312,
          "year": 2018
         },
         {
          "cumulative_flights": 14502,
          "day_of_year": 313,
          "year": 2018
         },
         {
          "cumulative_flights": 14570,
          "day_of_year": 314,
          "year": 2018
         },
         {
          "cumulative_flights": 14591,
          "day_of_year": 315,
          "year": 2018
         },
         {
          "cumulative_flights": 14598,
          "day_of_year": 316,
          "year": 2018
         },
         {
          "cumulative_flights": 14604,
          "day_of_year": 317,
          "year": 2018
         },
         {
          "cumulative_flights": 14617,
          "day_of_year": 318,
          "year": 2018
         },
         {
          "cumulative_flights": 14635,
          "day_of_year": 319,
          "year": 2018
         },
         {
          "cumulative_flights": 14681,
          "day_of_year": 320,
          "year": 2018
         },
         {
          "cumulative_flights": 14725,
          "day_of_year": 321,
          "year": 2018
         },
         {
          "cumulative_flights": 14758,
          "day_of_year": 322,
          "year": 2018
         },
         {
          "cumulative_flights": 14762,
          "day_of_year": 323,
          "year": 2018
         },
         {
          "cumulative_flights": 14762,
          "day_of_year": 324,
          "year": 2018
         },
         {
          "cumulative_flights": 14762,
          "day_of_year": 325,
          "year": 2018
         },
         {
          "cumulative_flights": 14762,
          "day_of_year": 326,
          "year": 2018
         },
         {
          "cumulative_flights": 14771,
          "day_of_year": 327,
          "year": 2018
         },
         {
          "cumulative_flights": 14771,
          "day_of_year": 328,
          "year": 2018
         },
         {
          "cumulative_flights": 14773,
          "day_of_year": 329,
          "year": 2018
         },
         {
          "cumulative_flights": 14774,
          "day_of_year": 330,
          "year": 2018
         },
         {
          "cumulative_flights": 14782,
          "day_of_year": 331,
          "year": 2018
         },
         {
          "cumulative_flights": 14793,
          "day_of_year": 332,
          "year": 2018
         },
         {
          "cumulative_flights": 14818,
          "day_of_year": 333,
          "year": 2018
         },
         {
          "cumulative_flights": 14832,
          "day_of_year": 334,
          "year": 2018
         },
         {
          "cumulative_flights": 14833,
          "day_of_year": 335,
          "year": 2018
         },
         {
          "cumulative_flights": 14835,
          "day_of_year": 336,
          "year": 2018
         },
         {
          "cumulative_flights": 14835,
          "day_of_year": 337,
          "year": 2018
         },
         {
          "cumulative_flights": 14839,
          "day_of_year": 338,
          "year": 2018
         },
         {
          "cumulative_flights": 14845,
          "day_of_year": 339,
          "year": 2018
         },
         {
          "cumulative_flights": 14846,
          "day_of_year": 340,
          "year": 2018
         },
         {
          "cumulative_flights": 14847,
          "day_of_year": 341,
          "year": 2018
         },
         {
          "cumulative_flights": 14853,
          "day_of_year": 342,
          "year": 2018
         },
         {
          "cumulative_flights": 14853,
          "day_of_year": 343,
          "year": 2018
         },
         {
          "cumulative_flights": 14853,
          "day_of_year": 344,
          "year": 2018
         },
         {
          "cumulative_flights": 14853,
          "day_of_year": 345,
          "year": 2018
         },
         {
          "cumulative_flights": 14856,
          "day_of_year": 346,
          "year": 2018
         },
         {
          "cumulative_flights": 14864,
          "day_of_year": 347,
          "year": 2018
         },
         {
          "cumulative_flights": 14875,
          "day_of_year": 348,
          "year": 2018
         },
         {
          "cumulative_flights": 14876,
          "day_of_year": 349,
          "year": 2018
         },
         {
          "cumulative_flights": 14899,
          "day_of_year": 350,
          "year": 2018
         },
         {
          "cumulative_flights": 14902,
          "day_of_year": 351,
          "year": 2018
         },
         {
          "cumulative_flights": 14903,
          "day_of_year": 352,
          "year": 2018
         },
         {
          "cumulative_flights": 14914,
          "day_of_year": 353,
          "year": 2018
         },
         {
          "cumulative_flights": 14914,
          "day_of_year": 354,
          "year": 2018
         },
         {
          "cumulative_flights": 14914,
          "day_of_year": 355,
          "year": 2018
         },
         {
          "cumulative_flights": 14914,
          "day_of_year": 356,
          "year": 2018
         },
         {
          "cumulative_flights": 14918,
          "day_of_year": 357,
          "year": 2018
         },
         {
          "cumulative_flights": 14921,
          "day_of_year": 358,
          "year": 2018
         },
         {
          "cumulative_flights": 14922,
          "day_of_year": 359,
          "year": 2018
         },
         {
          "cumulative_flights": 14923,
          "day_of_year": 360,
          "year": 2018
         },
         {
          "cumulative_flights": 14938,
          "day_of_year": 361,
          "year": 2018
         },
         {
          "cumulative_flights": 14968,
          "day_of_year": 362,
          "year": 2018
         },
         {
          "cumulative_flights": 14978,
          "day_of_year": 363,
          "year": 2018
         },
         {
          "cumulative_flights": 14978,
          "day_of_year": 364,
          "year": 2018
         },
         {
          "cumulative_flights": 15005,
          "day_of_year": 365,
          "year": 2018
         },
         {
          "cumulative_flights": 0,
          "day_of_year": 1,
          "year": 2019
         },
         {
          "cumulative_flights": 0,
          "day_of_year": 2,
          "year": 2019
         },
         {
          "cumulative_flights": 0,
          "day_of_year": 3,
          "year": 2019
         },
         {
          "cumulative_flights": 0,
          "day_of_year": 4,
          "year": 2019
         },
         {
          "cumulative_flights": 0,
          "day_of_year": 5,
          "year": 2019
         },
         {
          "cumulative_flights": 8,
          "day_of_year": 6,
          "year": 2019
         },
         {
          "cumulative_flights": 14,
          "day_of_year": 7,
          "year": 2019
         },
         {
          "cumulative_flights": 14,
          "day_of_year": 8,
          "year": 2019
         },
         {
          "cumulative_flights": 15,
          "day_of_year": 9,
          "year": 2019
         },
         {
          "cumulative_flights": 15,
          "day_of_year": 10,
          "year": 2019
         },
         {
          "cumulative_flights": 16,
          "day_of_year": 11,
          "year": 2019
         },
         {
          "cumulative_flights": 17,
          "day_of_year": 12,
          "year": 2019
         },
         {
          "cumulative_flights": 17,
          "day_of_year": 13,
          "year": 2019
         },
         {
          "cumulative_flights": 17,
          "day_of_year": 14,
          "year": 2019
         },
         {
          "cumulative_flights": 17,
          "day_of_year": 15,
          "year": 2019
         },
         {
          "cumulative_flights": 25,
          "day_of_year": 16,
          "year": 2019
         },
         {
          "cumulative_flights": 27,
          "day_of_year": 17,
          "year": 2019
         },
         {
          "cumulative_flights": 41,
          "day_of_year": 18,
          "year": 2019
         },
         {
          "cumulative_flights": 81,
          "day_of_year": 19,
          "year": 2019
         },
         {
          "cumulative_flights": 92,
          "day_of_year": 20,
          "year": 2019
         },
         {
          "cumulative_flights": 101,
          "day_of_year": 21,
          "year": 2019
         },
         {
          "cumulative_flights": 115,
          "day_of_year": 22,
          "year": 2019
         },
         {
          "cumulative_flights": 129,
          "day_of_year": 23,
          "year": 2019
         },
         {
          "cumulative_flights": 136,
          "day_of_year": 24,
          "year": 2019
         },
         {
          "cumulative_flights": 142,
          "day_of_year": 25,
          "year": 2019
         },
         {
          "cumulative_flights": 142,
          "day_of_year": 26,
          "year": 2019
         },
         {
          "cumulative_flights": 146,
          "day_of_year": 27,
          "year": 2019
         },
         {
          "cumulative_flights": 149,
          "day_of_year": 28,
          "year": 2019
         },
         {
          "cumulative_flights": 157,
          "day_of_year": 29,
          "year": 2019
         },
         {
          "cumulative_flights": 187,
          "day_of_year": 30,
          "year": 2019
         },
         {
          "cumulative_flights": 206,
          "day_of_year": 31,
          "year": 2019
         },
         {
          "cumulative_flights": 218,
          "day_of_year": 32,
          "year": 2019
         },
         {
          "cumulative_flights": 218,
          "day_of_year": 33,
          "year": 2019
         },
         {
          "cumulative_flights": 218,
          "day_of_year": 34,
          "year": 2019
         },
         {
          "cumulative_flights": 220,
          "day_of_year": 35,
          "year": 2019
         },
         {
          "cumulative_flights": 230,
          "day_of_year": 36,
          "year": 2019
         },
         {
          "cumulative_flights": 240,
          "day_of_year": 37,
          "year": 2019
         },
         {
          "cumulative_flights": 252,
          "day_of_year": 38,
          "year": 2019
         },
         {
          "cumulative_flights": 258,
          "day_of_year": 39,
          "year": 2019
         },
         {
          "cumulative_flights": 263,
          "day_of_year": 40,
          "year": 2019
         },
         {
          "cumulative_flights": 264,
          "day_of_year": 41,
          "year": 2019
         },
         {
          "cumulative_flights": 264,
          "day_of_year": 42,
          "year": 2019
         },
         {
          "cumulative_flights": 264,
          "day_of_year": 43,
          "year": 2019
         },
         {
          "cumulative_flights": 271,
          "day_of_year": 44,
          "year": 2019
         },
         {
          "cumulative_flights": 277,
          "day_of_year": 45,
          "year": 2019
         },
         {
          "cumulative_flights": 283,
          "day_of_year": 46,
          "year": 2019
         },
         {
          "cumulative_flights": 351,
          "day_of_year": 47,
          "year": 2019
         },
         {
          "cumulative_flights": 403,
          "day_of_year": 48,
          "year": 2019
         },
         {
          "cumulative_flights": 418,
          "day_of_year": 49,
          "year": 2019
         },
         {
          "cumulative_flights": 434,
          "day_of_year": 50,
          "year": 2019
         },
         {
          "cumulative_flights": 464,
          "day_of_year": 51,
          "year": 2019
         },
         {
          "cumulative_flights": 469,
          "day_of_year": 52,
          "year": 2019
         },
         {
          "cumulative_flights": 472,
          "day_of_year": 53,
          "year": 2019
         },
         {
          "cumulative_flights": 540,
          "day_of_year": 54,
          "year": 2019
         },
         {
          "cumulative_flights": 550,
          "day_of_year": 55,
          "year": 2019
         },
         {
          "cumulative_flights": 577,
          "day_of_year": 56,
          "year": 2019
         },
         {
          "cumulative_flights": 593,
          "day_of_year": 57,
          "year": 2019
         },
         {
          "cumulative_flights": 638,
          "day_of_year": 58,
          "year": 2019
         },
         {
          "cumulative_flights": 641,
          "day_of_year": 59,
          "year": 2019
         },
         {
          "cumulative_flights": 643,
          "day_of_year": 60,
          "year": 2019
         },
         {
          "cumulative_flights": 657,
          "day_of_year": 61,
          "year": 2019
         },
         {
          "cumulative_flights": 671,
          "day_of_year": 62,
          "year": 2019
         },
         {
          "cumulative_flights": 672,
          "day_of_year": 63,
          "year": 2019
         },
         {
          "cumulative_flights": 672,
          "day_of_year": 64,
          "year": 2019
         },
         {
          "cumulative_flights": 724,
          "day_of_year": 65,
          "year": 2019
         },
         {
          "cumulative_flights": 724,
          "day_of_year": 66,
          "year": 2019
         },
         {
          "cumulative_flights": 724,
          "day_of_year": 67,
          "year": 2019
         },
         {
          "cumulative_flights": 724,
          "day_of_year": 68,
          "year": 2019
         },
         {
          "cumulative_flights": 724,
          "day_of_year": 69,
          "year": 2019
         },
         {
          "cumulative_flights": 724,
          "day_of_year": 70,
          "year": 2019
         },
         {
          "cumulative_flights": 733,
          "day_of_year": 71,
          "year": 2019
         },
         {
          "cumulative_flights": 734,
          "day_of_year": 72,
          "year": 2019
         },
         {
          "cumulative_flights": 734,
          "day_of_year": 73,
          "year": 2019
         },
         {
          "cumulative_flights": 734,
          "day_of_year": 74,
          "year": 2019
         },
         {
          "cumulative_flights": 734,
          "day_of_year": 75,
          "year": 2019
         },
         {
          "cumulative_flights": 772,
          "day_of_year": 76,
          "year": 2019
         },
         {
          "cumulative_flights": 773,
          "day_of_year": 77,
          "year": 2019
         },
         {
          "cumulative_flights": 826,
          "day_of_year": 78,
          "year": 2019
         },
         {
          "cumulative_flights": 933,
          "day_of_year": 79,
          "year": 2019
         },
         {
          "cumulative_flights": 978,
          "day_of_year": 80,
          "year": 2019
         },
         {
          "cumulative_flights": 1066,
          "day_of_year": 81,
          "year": 2019
         },
         {
          "cumulative_flights": 1254,
          "day_of_year": 82,
          "year": 2019
         },
         {
          "cumulative_flights": 1276,
          "day_of_year": 83,
          "year": 2019
         },
         {
          "cumulative_flights": 1276,
          "day_of_year": 84,
          "year": 2019
         },
         {
          "cumulative_flights": 1277,
          "day_of_year": 85,
          "year": 2019
         },
         {
          "cumulative_flights": 1306,
          "day_of_year": 86,
          "year": 2019
         },
         {
          "cumulative_flights": 1306,
          "day_of_year": 87,
          "year": 2019
         },
         {
          "cumulative_flights": 1388,
          "day_of_year": 88,
          "year": 2019
         },
         {
          "cumulative_flights": 1584,
          "day_of_year": 89,
          "year": 2019
         },
         {
          "cumulative_flights": 1733,
          "day_of_year": 90,
          "year": 2019
         },
         {
          "cumulative_flights": 1752,
          "day_of_year": 91,
          "year": 2019
         },
         {
          "cumulative_flights": 1789,
          "day_of_year": 92,
          "year": 2019
         },
         {
          "cumulative_flights": 1801,
          "day_of_year": 93,
          "year": 2019
         },
         {
          "cumulative_flights": 1801,
          "day_of_year": 94,
          "year": 2019
         },
         {
          "cumulative_flights": 1834,
          "day_of_year": 95,
          "year": 2019
         },
         {
          "cumulative_flights": 1866,
          "day_of_year": 96,
          "year": 2019
         },
         {
          "cumulative_flights": 2015,
          "day_of_year": 97,
          "year": 2019
         },
         {
          "cumulative_flights": 2066,
          "day_of_year": 98,
          "year": 2019
         },
         {
          "cumulative_flights": 2093,
          "day_of_year": 99,
          "year": 2019
         },
         {
          "cumulative_flights": 2112,
          "day_of_year": 100,
          "year": 2019
         },
         {
          "cumulative_flights": 2117,
          "day_of_year": 101,
          "year": 2019
         },
         {
          "cumulative_flights": 2143,
          "day_of_year": 102,
          "year": 2019
         },
         {
          "cumulative_flights": 2194,
          "day_of_year": 103,
          "year": 2019
         },
         {
          "cumulative_flights": 2201,
          "day_of_year": 104,
          "year": 2019
         },
         {
          "cumulative_flights": 2269,
          "day_of_year": 105,
          "year": 2019
         },
         {
          "cumulative_flights": 2391,
          "day_of_year": 106,
          "year": 2019
         },
         {
          "cumulative_flights": 2420,
          "day_of_year": 107,
          "year": 2019
         },
         {
          "cumulative_flights": 2447,
          "day_of_year": 108,
          "year": 2019
         },
         {
          "cumulative_flights": 2557,
          "day_of_year": 109,
          "year": 2019
         },
         {
          "cumulative_flights": 2847,
          "day_of_year": 110,
          "year": 2019
         },
         {
          "cumulative_flights": 3098,
          "day_of_year": 111,
          "year": 2019
         },
         {
          "cumulative_flights": 3107,
          "day_of_year": 112,
          "year": 2019
         },
         {
          "cumulative_flights": 3107,
          "day_of_year": 113,
          "year": 2019
         },
         {
          "cumulative_flights": 3112,
          "day_of_year": 114,
          "year": 2019
         },
         {
          "cumulative_flights": 3169,
          "day_of_year": 115,
          "year": 2019
         },
         {
          "cumulative_flights": 3183,
          "day_of_year": 116,
          "year": 2019
         },
         {
          "cumulative_flights": 3194,
          "day_of_year": 117,
          "year": 2019
         },
         {
          "cumulative_flights": 3257,
          "day_of_year": 118,
          "year": 2019
         },
         {
          "cumulative_flights": 3257,
          "day_of_year": 119,
          "year": 2019
         },
         {
          "cumulative_flights": 3261,
          "day_of_year": 120,
          "year": 2019
         },
         {
          "cumulative_flights": 3306,
          "day_of_year": 121,
          "year": 2019
         },
         {
          "cumulative_flights": 3318,
          "day_of_year": 122,
          "year": 2019
         },
         {
          "cumulative_flights": 3332,
          "day_of_year": 123,
          "year": 2019
         },
         {
          "cumulative_flights": 3346,
          "day_of_year": 124,
          "year": 2019
         },
         {
          "cumulative_flights": 3352,
          "day_of_year": 125,
          "year": 2019
         },
         {
          "cumulative_flights": 3367,
          "day_of_year": 126,
          "year": 2019
         },
         {
          "cumulative_flights": 3380,
          "day_of_year": 127,
          "year": 2019
         },
         {
          "cumulative_flights": 3459,
          "day_of_year": 128,
          "year": 2019
         },
         {
          "cumulative_flights": 3460,
          "day_of_year": 129,
          "year": 2019
         },
         {
          "cumulative_flights": 3477,
          "day_of_year": 130,
          "year": 2019
         },
         {
          "cumulative_flights": 3549,
          "day_of_year": 131,
          "year": 2019
         },
         {
          "cumulative_flights": 3550,
          "day_of_year": 132,
          "year": 2019
         },
         {
          "cumulative_flights": 3555,
          "day_of_year": 133,
          "year": 2019
         },
         {
          "cumulative_flights": 3555,
          "day_of_year": 134,
          "year": 2019
         },
         {
          "cumulative_flights": 3556,
          "day_of_year": 135,
          "year": 2019
         },
         {
          "cumulative_flights": 3560,
          "day_of_year": 136,
          "year": 2019
         },
         {
          "cumulative_flights": 3669,
          "day_of_year": 137,
          "year": 2019
         },
         {
          "cumulative_flights": 3868,
          "day_of_year": 138,
          "year": 2019
         },
         {
          "cumulative_flights": 3968,
          "day_of_year": 139,
          "year": 2019
         },
         {
          "cumulative_flights": 3968,
          "day_of_year": 140,
          "year": 2019
         },
         {
          "cumulative_flights": 3997,
          "day_of_year": 141,
          "year": 2019
         },
         {
          "cumulative_flights": 3997,
          "day_of_year": 142,
          "year": 2019
         },
         {
          "cumulative_flights": 4086,
          "day_of_year": 143,
          "year": 2019
         },
         {
          "cumulative_flights": 4205,
          "day_of_year": 144,
          "year": 2019
         },
         {
          "cumulative_flights": 4386,
          "day_of_year": 145,
          "year": 2019
         },
         {
          "cumulative_flights": 4543,
          "day_of_year": 146,
          "year": 2019
         },
         {
          "cumulative_flights": 4555,
          "day_of_year": 147,
          "year": 2019
         },
         {
          "cumulative_flights": 4555,
          "day_of_year": 148,
          "year": 2019
         },
         {
          "cumulative_flights": 4559,
          "day_of_year": 149,
          "year": 2019
         },
         {
          "cumulative_flights": 4760,
          "day_of_year": 150,
          "year": 2019
         },
         {
          "cumulative_flights": 4822,
          "day_of_year": 151,
          "year": 2019
         },
         {
          "cumulative_flights": 5065,
          "day_of_year": 152,
          "year": 2019
         },
         {
          "cumulative_flights": 5425,
          "day_of_year": 153,
          "year": 2019
         },
         {
          "cumulative_flights": 5530,
          "day_of_year": 154,
          "year": 2019
         },
         {
          "cumulative_flights": 5620,
          "day_of_year": 155,
          "year": 2019
         },
         {
          "cumulative_flights": 5733,
          "day_of_year": 156,
          "year": 2019
         },
         {
          "cumulative_flights": 5737,
          "day_of_year": 157,
          "year": 2019
         },
         {
          "cumulative_flights": 5785,
          "day_of_year": 158,
          "year": 2019
         },
         {
          "cumulative_flights": 5831,
          "day_of_year": 159,
          "year": 2019
         },
         {
          "cumulative_flights": 5994,
          "day_of_year": 160,
          "year": 2019
         },
         {
          "cumulative_flights": 6023,
          "day_of_year": 161,
          "year": 2019
         },
         {
          "cumulative_flights": 6053,
          "day_of_year": 162,
          "year": 2019
         },
         {
          "cumulative_flights": 6058,
          "day_of_year": 163,
          "year": 2019
         },
         {
          "cumulative_flights": 6103,
          "day_of_year": 164,
          "year": 2019
         },
         {
          "cumulative_flights": 6160,
          "day_of_year": 165,
          "year": 2019
         },
         {
          "cumulative_flights": 6197,
          "day_of_year": 166,
          "year": 2019
         },
         {
          "cumulative_flights": 6207,
          "day_of_year": 167,
          "year": 2019
         },
         {
          "cumulative_flights": 6302,
          "day_of_year": 168,
          "year": 2019
         },
         {
          "cumulative_flights": 6401,
          "day_of_year": 169,
          "year": 2019
         },
         {
          "cumulative_flights": 6462,
          "day_of_year": 170,
          "year": 2019
         },
         {
          "cumulative_flights": 6471,
          "day_of_year": 171,
          "year": 2019
         },
         {
          "cumulative_flights": 6501,
          "day_of_year": 172,
          "year": 2019
         },
         {
          "cumulative_flights": 6515,
          "day_of_year": 173,
          "year": 2019
         },
         {
          "cumulative_flights": 6535,
          "day_of_year": 174,
          "year": 2019
         },
         {
          "cumulative_flights": 6609,
          "day_of_year": 175,
          "year": 2019
         },
         {
          "cumulative_flights": 6718,
          "day_of_year": 176,
          "year": 2019
         },
         {
          "cumulative_flights": 6786,
          "day_of_year": 177,
          "year": 2019
         },
         {
          "cumulative_flights": 6789,
          "day_of_year": 178,
          "year": 2019
         },
         {
          "cumulative_flights": 6858,
          "day_of_year": 179,
          "year": 2019
         },
         {
          "cumulative_flights": 7132,
          "day_of_year": 180,
          "year": 2019
         },
         {
          "cumulative_flights": 7151,
          "day_of_year": 181,
          "year": 2019
         },
         {
          "cumulative_flights": 7154,
          "day_of_year": 182,
          "year": 2019
         },
         {
          "cumulative_flights": 7185,
          "day_of_year": 183,
          "year": 2019
         },
         {
          "cumulative_flights": 7337,
          "day_of_year": 184,
          "year": 2019
         },
         {
          "cumulative_flights": 7511,
          "day_of_year": 185,
          "year": 2019
         },
         {
          "cumulative_flights": 7530,
          "day_of_year": 186,
          "year": 2019
         },
         {
          "cumulative_flights": 7588,
          "day_of_year": 187,
          "year": 2019
         },
         {
          "cumulative_flights": 7618,
          "day_of_year": 188,
          "year": 2019
         },
         {
          "cumulative_flights": 7631,
          "day_of_year": 189,
          "year": 2019
         },
         {
          "cumulative_flights": 7659,
          "day_of_year": 190,
          "year": 2019
         },
         {
          "cumulative_flights": 7758,
          "day_of_year": 191,
          "year": 2019
         },
         {
          "cumulative_flights": 7793,
          "day_of_year": 192,
          "year": 2019
         },
         {
          "cumulative_flights": 7795,
          "day_of_year": 193,
          "year": 2019
         },
         {
          "cumulative_flights": 7798,
          "day_of_year": 194,
          "year": 2019
         },
         {
          "cumulative_flights": 7805,
          "day_of_year": 195,
          "year": 2019
         },
         {
          "cumulative_flights": 7894,
          "day_of_year": 196,
          "year": 2019
         },
         {
          "cumulative_flights": 7976,
          "day_of_year": 197,
          "year": 2019
         },
         {
          "cumulative_flights": 8054,
          "day_of_year": 198,
          "year": 2019
         },
         {
          "cumulative_flights": 8257,
          "day_of_year": 199,
          "year": 2019
         },
         {
          "cumulative_flights": 8268,
          "day_of_year": 200,
          "year": 2019
         },
         {
          "cumulative_flights": 8507,
          "day_of_year": 201,
          "year": 2019
         },
         {
          "cumulative_flights": 8509,
          "day_of_year": 202,
          "year": 2019
         },
         {
          "cumulative_flights": 8556,
          "day_of_year": 203,
          "year": 2019
         },
         {
          "cumulative_flights": 8602,
          "day_of_year": 204,
          "year": 2019
         },
         {
          "cumulative_flights": 8747,
          "day_of_year": 205,
          "year": 2019
         },
         {
          "cumulative_flights": 8945,
          "day_of_year": 206,
          "year": 2019
         },
         {
          "cumulative_flights": 9071,
          "day_of_year": 207,
          "year": 2019
         },
         {
          "cumulative_flights": 9139,
          "day_of_year": 208,
          "year": 2019
         },
         {
          "cumulative_flights": 9166,
          "day_of_year": 209,
          "year": 2019
         },
         {
          "cumulative_flights": 9194,
          "day_of_year": 210,
          "year": 2019
         },
         {
          "cumulative_flights": 9207,
          "day_of_year": 211,
          "year": 2019
         },
         {
          "cumulative_flights": 9214,
          "day_of_year": 212,
          "year": 2019
         },
         {
          "cumulative_flights": 9319,
          "day_of_year": 213,
          "year": 2019
         },
         {
          "cumulative_flights": 9379,
          "day_of_year": 214,
          "year": 2019
         },
         {
          "cumulative_flights": 9393,
          "day_of_year": 215,
          "year": 2019
         },
         {
          "cumulative_flights": 9582,
          "day_of_year": 216,
          "year": 2019
         },
         {
          "cumulative_flights": 9608,
          "day_of_year": 217,
          "year": 2019
         },
         {
          "cumulative_flights": 9637,
          "day_of_year": 218,
          "year": 2019
         },
         {
          "cumulative_flights": 9644,
          "day_of_year": 219,
          "year": 2019
         },
         {
          "cumulative_flights": 9697,
          "day_of_year": 220,
          "year": 2019
         },
         {
          "cumulative_flights": 9875,
          "day_of_year": 221,
          "year": 2019
         },
         {
          "cumulative_flights": 9877,
          "day_of_year": 222,
          "year": 2019
         },
         {
          "cumulative_flights": 10160,
          "day_of_year": 223,
          "year": 2019
         },
         {
          "cumulative_flights": 10163,
          "day_of_year": 224,
          "year": 2019
         },
         {
          "cumulative_flights": 10194,
          "day_of_year": 225,
          "year": 2019
         },
         {
          "cumulative_flights": 10266,
          "day_of_year": 226,
          "year": 2019
         },
         {
          "cumulative_flights": 10377,
          "day_of_year": 227,
          "year": 2019
         },
         {
          "cumulative_flights": 10427,
          "day_of_year": 228,
          "year": 2019
         },
         {
          "cumulative_flights": 10531,
          "day_of_year": 229,
          "year": 2019
         },
         {
          "cumulative_flights": 10592,
          "day_of_year": 230,
          "year": 2019
         },
         {
          "cumulative_flights": 10596,
          "day_of_year": 231,
          "year": 2019
         },
         {
          "cumulative_flights": 10600,
          "day_of_year": 232,
          "year": 2019
         },
         {
          "cumulative_flights": 10616,
          "day_of_year": 233,
          "year": 2019
         },
         {
          "cumulative_flights": 10731,
          "day_of_year": 234,
          "year": 2019
         },
         {
          "cumulative_flights": 10909,
          "day_of_year": 235,
          "year": 2019
         },
         {
          "cumulative_flights": 11020,
          "day_of_year": 236,
          "year": 2019
         },
         {
          "cumulative_flights": 11098,
          "day_of_year": 237,
          "year": 2019
         },
         {
          "cumulative_flights": 11133,
          "day_of_year": 238,
          "year": 2019
         },
         {
          "cumulative_flights": 11186,
          "day_of_year": 239,
          "year": 2019
         },
         {
          "cumulative_flights": 11241,
          "day_of_year": 240,
          "year": 2019
         },
         {
          "cumulative_flights": 11282,
          "day_of_year": 241,
          "year": 2019
         },
         {
          "cumulative_flights": 11329,
          "day_of_year": 242,
          "year": 2019
         },
         {
          "cumulative_flights": 11503,
          "day_of_year": 243,
          "year": 2019
         },
         {
          "cumulative_flights": 11578,
          "day_of_year": 244,
          "year": 2019
         },
         {
          "cumulative_flights": 11587,
          "day_of_year": 245,
          "year": 2019
         },
         {
          "cumulative_flights": 11725,
          "day_of_year": 246,
          "year": 2019
         },
         {
          "cumulative_flights": 11867,
          "day_of_year": 247,
          "year": 2019
         },
         {
          "cumulative_flights": 11908,
          "day_of_year": 248,
          "year": 2019
         },
         {
          "cumulative_flights": 11964,
          "day_of_year": 249,
          "year": 2019
         },
         {
          "cumulative_flights": 11966,
          "day_of_year": 250,
          "year": 2019
         },
         {
          "cumulative_flights": 12005,
          "day_of_year": 251,
          "year": 2019
         },
         {
          "cumulative_flights": 12005,
          "day_of_year": 252,
          "year": 2019
         },
         {
          "cumulative_flights": 12040,
          "day_of_year": 253,
          "year": 2019
         },
         {
          "cumulative_flights": 12117,
          "day_of_year": 254,
          "year": 2019
         },
         {
          "cumulative_flights": 12184,
          "day_of_year": 255,
          "year": 2019
         },
         {
          "cumulative_flights": 12229,
          "day_of_year": 256,
          "year": 2019
         },
         {
          "cumulative_flights": 12406,
          "day_of_year": 257,
          "year": 2019
         },
         {
          "cumulative_flights": 12510,
          "day_of_year": 258,
          "year": 2019
         },
         {
          "cumulative_flights": 12520,
          "day_of_year": 259,
          "year": 2019
         },
         {
          "cumulative_flights": 12526,
          "day_of_year": 260,
          "year": 2019
         },
         {
          "cumulative_flights": 12571,
          "day_of_year": 261,
          "year": 2019
         },
         {
          "cumulative_flights": 12626,
          "day_of_year": 262,
          "year": 2019
         },
         {
          "cumulative_flights": 12712,
          "day_of_year": 263,
          "year": 2019
         },
         {
          "cumulative_flights": 12898,
          "day_of_year": 264,
          "year": 2019
         },
         {
          "cumulative_flights": 13023,
          "day_of_year": 265,
          "year": 2019
         },
         {
          "cumulative_flights": 13034,
          "day_of_year": 266,
          "year": 2019
         },
         {
          "cumulative_flights": 13040,
          "day_of_year": 267,
          "year": 2019
         },
         {
          "cumulative_flights": 13041,
          "day_of_year": 268,
          "year": 2019
         },
         {
          "cumulative_flights": 13047,
          "day_of_year": 269,
          "year": 2019
         },
         {
          "cumulative_flights": 13050,
          "day_of_year": 270,
          "year": 2019
         },
         {
          "cumulative_flights": 13054,
          "day_of_year": 271,
          "year": 2019
         },
         {
          "cumulative_flights": 13081,
          "day_of_year": 272,
          "year": 2019
         },
         {
          "cumulative_flights": 13081,
          "day_of_year": 273,
          "year": 2019
         },
         {
          "cumulative_flights": 13082,
          "day_of_year": 274,
          "year": 2019
         },
         {
          "cumulative_flights": 13083,
          "day_of_year": 275,
          "year": 2019
         },
         {
          "cumulative_flights": 13083,
          "day_of_year": 276,
          "year": 2019
         },
         {
          "cumulative_flights": 13097,
          "day_of_year": 277,
          "year": 2019
         },
         {
          "cumulative_flights": 13097,
          "day_of_year": 278,
          "year": 2019
         },
         {
          "cumulative_flights": 13214,
          "day_of_year": 279,
          "year": 2019
         },
         {
          "cumulative_flights": 13264,
          "day_of_year": 280,
          "year": 2019
         },
         {
          "cumulative_flights": 13264,
          "day_of_year": 281,
          "year": 2019
         },
         {
          "cumulative_flights": 13268,
          "day_of_year": 282,
          "year": 2019
         },
         {
          "cumulative_flights": 13268,
          "day_of_year": 283,
          "year": 2019
         },
         {
          "cumulative_flights": 13274,
          "day_of_year": 284,
          "year": 2019
         },
         {
          "cumulative_flights": 13321,
          "day_of_year": 285,
          "year": 2019
         },
         {
          "cumulative_flights": 13469,
          "day_of_year": 286,
          "year": 2019
         },
         {
          "cumulative_flights": 13549,
          "day_of_year": 287,
          "year": 2019
         },
         {
          "cumulative_flights": 13581,
          "day_of_year": 288,
          "year": 2019
         },
         {
          "cumulative_flights": 13584,
          "day_of_year": 289,
          "year": 2019
         },
         {
          "cumulative_flights": 13614,
          "day_of_year": 290,
          "year": 2019
         },
         {
          "cumulative_flights": 13641,
          "day_of_year": 291,
          "year": 2019
         },
         {
          "cumulative_flights": 13686,
          "day_of_year": 292,
          "year": 2019
         },
         {
          "cumulative_flights": 13775,
          "day_of_year": 293,
          "year": 2019
         },
         {
          "cumulative_flights": 13790,
          "day_of_year": 294,
          "year": 2019
         },
         {
          "cumulative_flights": 13801,
          "day_of_year": 295,
          "year": 2019
         },
         {
          "cumulative_flights": 13849,
          "day_of_year": 296,
          "year": 2019
         },
         {
          "cumulative_flights": 13873,
          "day_of_year": 297,
          "year": 2019
         },
         {
          "cumulative_flights": 13898,
          "day_of_year": 298,
          "year": 2019
         },
         {
          "cumulative_flights": 13984,
          "day_of_year": 299,
          "year": 2019
         },
         {
          "cumulative_flights": 14016,
          "day_of_year": 300,
          "year": 2019
         },
         {
          "cumulative_flights": 14075,
          "day_of_year": 301,
          "year": 2019
         },
         {
          "cumulative_flights": 14086,
          "day_of_year": 302,
          "year": 2019
         },
         {
          "cumulative_flights": 14118,
          "day_of_year": 303,
          "year": 2019
         },
         {
          "cumulative_flights": 14165,
          "day_of_year": 304,
          "year": 2019
         },
         {
          "cumulative_flights": 14235,
          "day_of_year": 305,
          "year": 2019
         },
         {
          "cumulative_flights": 14235,
          "day_of_year": 306,
          "year": 2019
         },
         {
          "cumulative_flights": 14236,
          "day_of_year": 307,
          "year": 2019
         },
         {
          "cumulative_flights": 14244,
          "day_of_year": 308,
          "year": 2019
         },
         {
          "cumulative_flights": 14252,
          "day_of_year": 309,
          "year": 2019
         },
         {
          "cumulative_flights": 14267,
          "day_of_year": 310,
          "year": 2019
         },
         {
          "cumulative_flights": 14285,
          "day_of_year": 311,
          "year": 2019
         },
         {
          "cumulative_flights": 14308,
          "day_of_year": 312,
          "year": 2019
         },
         {
          "cumulative_flights": 14309,
          "day_of_year": 313,
          "year": 2019
         },
         {
          "cumulative_flights": 14336,
          "day_of_year": 314,
          "year": 2019
         },
         {
          "cumulative_flights": 14347,
          "day_of_year": 315,
          "year": 2019
         },
         {
          "cumulative_flights": 14347,
          "day_of_year": 316,
          "year": 2019
         },
         {
          "cumulative_flights": 14347,
          "day_of_year": 317,
          "year": 2019
         },
         {
          "cumulative_flights": 14373,
          "day_of_year": 318,
          "year": 2019
         },
         {
          "cumulative_flights": 14387,
          "day_of_year": 319,
          "year": 2019
         },
         {
          "cumulative_flights": 14420,
          "day_of_year": 320,
          "year": 2019
         },
         {
          "cumulative_flights": 14437,
          "day_of_year": 321,
          "year": 2019
         },
         {
          "cumulative_flights": 14438,
          "day_of_year": 322,
          "year": 2019
         },
         {
          "cumulative_flights": 14464,
          "day_of_year": 323,
          "year": 2019
         },
         {
          "cumulative_flights": 14466,
          "day_of_year": 324,
          "year": 2019
         },
         {
          "cumulative_flights": 14466,
          "day_of_year": 325,
          "year": 2019
         },
         {
          "cumulative_flights": 14478,
          "day_of_year": 326,
          "year": 2019
         },
         {
          "cumulative_flights": 14509,
          "day_of_year": 327,
          "year": 2019
         },
         {
          "cumulative_flights": 14594,
          "day_of_year": 328,
          "year": 2019
         },
         {
          "cumulative_flights": 14606,
          "day_of_year": 329,
          "year": 2019
         },
         {
          "cumulative_flights": 14611,
          "day_of_year": 330,
          "year": 2019
         },
         {
          "cumulative_flights": 14629,
          "day_of_year": 331,
          "year": 2019
         },
         {
          "cumulative_flights": 14629,
          "day_of_year": 332,
          "year": 2019
         },
         {
          "cumulative_flights": 14629,
          "day_of_year": 333,
          "year": 2019
         },
         {
          "cumulative_flights": 14707,
          "day_of_year": 334,
          "year": 2019
         },
         {
          "cumulative_flights": 14746,
          "day_of_year": 335,
          "year": 2019
         },
         {
          "cumulative_flights": 14759,
          "day_of_year": 336,
          "year": 2019
         },
         {
          "cumulative_flights": 14761,
          "day_of_year": 337,
          "year": 2019
         },
         {
          "cumulative_flights": 14808,
          "day_of_year": 338,
          "year": 2019
         },
         {
          "cumulative_flights": 14809,
          "day_of_year": 339,
          "year": 2019
         },
         {
          "cumulative_flights": 14828,
          "day_of_year": 340,
          "year": 2019
         },
         {
          "cumulative_flights": 14828,
          "day_of_year": 341,
          "year": 2019
         },
         {
          "cumulative_flights": 14833,
          "day_of_year": 342,
          "year": 2019
         },
         {
          "cumulative_flights": 14837,
          "day_of_year": 343,
          "year": 2019
         },
         {
          "cumulative_flights": 14855,
          "day_of_year": 344,
          "year": 2019
         },
         {
          "cumulative_flights": 14879,
          "day_of_year": 345,
          "year": 2019
         },
         {
          "cumulative_flights": 14879,
          "day_of_year": 346,
          "year": 2019
         },
         {
          "cumulative_flights": 14886,
          "day_of_year": 347,
          "year": 2019
         },
         {
          "cumulative_flights": 14889,
          "day_of_year": 348,
          "year": 2019
         },
         {
          "cumulative_flights": 14891,
          "day_of_year": 349,
          "year": 2019
         },
         {
          "cumulative_flights": 14901,
          "day_of_year": 350,
          "year": 2019
         },
         {
          "cumulative_flights": 14902,
          "day_of_year": 351,
          "year": 2019
         },
         {
          "cumulative_flights": 14908,
          "day_of_year": 352,
          "year": 2019
         },
         {
          "cumulative_flights": 14912,
          "day_of_year": 353,
          "year": 2019
         },
         {
          "cumulative_flights": 14934,
          "day_of_year": 354,
          "year": 2019
         },
         {
          "cumulative_flights": 14936,
          "day_of_year": 355,
          "year": 2019
         },
         {
          "cumulative_flights": 14937,
          "day_of_year": 356,
          "year": 2019
         },
         {
          "cumulative_flights": 14940,
          "day_of_year": 357,
          "year": 2019
         },
         {
          "cumulative_flights": 14952,
          "day_of_year": 358,
          "year": 2019
         },
         {
          "cumulative_flights": 14952,
          "day_of_year": 359,
          "year": 2019
         },
         {
          "cumulative_flights": 15006,
          "day_of_year": 360,
          "year": 2019
         },
         {
          "cumulative_flights": 15026,
          "day_of_year": 361,
          "year": 2019
         },
         {
          "cumulative_flights": 15034,
          "day_of_year": 362,
          "year": 2019
         },
         {
          "cumulative_flights": 15052,
          "day_of_year": 363,
          "year": 2019
         },
         {
          "cumulative_flights": 15085,
          "day_of_year": 364,
          "year": 2019
         },
         {
          "cumulative_flights": 15118,
          "day_of_year": 365,
          "year": 2019
         },
         {
          "cumulative_flights": 27,
          "day_of_year": 1,
          "year": 2020
         },
         {
          "cumulative_flights": 39,
          "day_of_year": 2,
          "year": 2020
         },
         {
          "cumulative_flights": 45,
          "day_of_year": 3,
          "year": 2020
         },
         {
          "cumulative_flights": 51,
          "day_of_year": 4,
          "year": 2020
         },
         {
          "cumulative_flights": 136,
          "day_of_year": 5,
          "year": 2020
         },
         {
          "cumulative_flights": 138,
          "day_of_year": 6,
          "year": 2020
         },
         {
          "cumulative_flights": 143,
          "day_of_year": 7,
          "year": 2020
         },
         {
          "cumulative_flights": 146,
          "day_of_year": 8,
          "year": 2020
         },
         {
          "cumulative_flights": 147,
          "day_of_year": 9,
          "year": 2020
         },
         {
          "cumulative_flights": 165,
          "day_of_year": 10,
          "year": 2020
         },
         {
          "cumulative_flights": 219,
          "day_of_year": 11,
          "year": 2020
         },
         {
          "cumulative_flights": 286,
          "day_of_year": 12,
          "year": 2020
         },
         {
          "cumulative_flights": 293,
          "day_of_year": 13,
          "year": 2020
         },
         {
          "cumulative_flights": 301,
          "day_of_year": 14,
          "year": 2020
         },
         {
          "cumulative_flights": 327,
          "day_of_year": 15,
          "year": 2020
         },
         {
          "cumulative_flights": 334,
          "day_of_year": 16,
          "year": 2020
         },
         {
          "cumulative_flights": 337,
          "day_of_year": 17,
          "year": 2020
         },
         {
          "cumulative_flights": 340,
          "day_of_year": 18,
          "year": 2020
         },
         {
          "cumulative_flights": 367,
          "day_of_year": 19,
          "year": 2020
         },
         {
          "cumulative_flights": 372,
          "day_of_year": 20,
          "year": 2020
         },
         {
          "cumulative_flights": 383,
          "day_of_year": 21,
          "year": 2020
         },
         {
          "cumulative_flights": 399,
          "day_of_year": 22,
          "year": 2020
         },
         {
          "cumulative_flights": 413,
          "day_of_year": 23,
          "year": 2020
         },
         {
          "cumulative_flights": 426,
          "day_of_year": 24,
          "year": 2020
         },
         {
          "cumulative_flights": 446,
          "day_of_year": 25,
          "year": 2020
         },
         {
          "cumulative_flights": 453,
          "day_of_year": 26,
          "year": 2020
         },
         {
          "cumulative_flights": 465,
          "day_of_year": 27,
          "year": 2020
         },
         {
          "cumulative_flights": 465,
          "day_of_year": 28,
          "year": 2020
         },
         {
          "cumulative_flights": 470,
          "day_of_year": 29,
          "year": 2020
         },
         {
          "cumulative_flights": 478,
          "day_of_year": 30,
          "year": 2020
         },
         {
          "cumulative_flights": 478,
          "day_of_year": 31,
          "year": 2020
         },
         {
          "cumulative_flights": 496,
          "day_of_year": 32,
          "year": 2020
         },
         {
          "cumulative_flights": 497,
          "day_of_year": 33,
          "year": 2020
         },
         {
          "cumulative_flights": 497,
          "day_of_year": 34,
          "year": 2020
         },
         {
          "cumulative_flights": 497,
          "day_of_year": 35,
          "year": 2020
         },
         {
          "cumulative_flights": 500,
          "day_of_year": 36,
          "year": 2020
         },
         {
          "cumulative_flights": 520,
          "day_of_year": 37,
          "year": 2020
         },
         {
          "cumulative_flights": 526,
          "day_of_year": 38,
          "year": 2020
         },
         {
          "cumulative_flights": 621,
          "day_of_year": 39,
          "year": 2020
         },
         {
          "cumulative_flights": 654,
          "day_of_year": 40,
          "year": 2020
         },
         {
          "cumulative_flights": 654,
          "day_of_year": 41,
          "year": 2020
         },
         {
          "cumulative_flights": 654,
          "day_of_year": 42,
          "year": 2020
         },
         {
          "cumulative_flights": 654,
          "day_of_year": 43,
          "year": 2020
         },
         {
          "cumulative_flights": 680,
          "day_of_year": 44,
          "year": 2020
         },
         {
          "cumulative_flights": 681,
          "day_of_year": 45,
          "year": 2020
         },
         {
          "cumulative_flights": 748,
          "day_of_year": 46,
          "year": 2020
         },
         {
          "cumulative_flights": 749,
          "day_of_year": 47,
          "year": 2020
         },
         {
          "cumulative_flights": 763,
          "day_of_year": 48,
          "year": 2020
         },
         {
          "cumulative_flights": 764,
          "day_of_year": 49,
          "year": 2020
         },
         {
          "cumulative_flights": 764,
          "day_of_year": 50,
          "year": 2020
         },
         {
          "cumulative_flights": 794,
          "day_of_year": 51,
          "year": 2020
         },
         {
          "cumulative_flights": 794,
          "day_of_year": 52,
          "year": 2020
         },
         {
          "cumulative_flights": 813,
          "day_of_year": 53,
          "year": 2020
         },
         {
          "cumulative_flights": 813,
          "day_of_year": 54,
          "year": 2020
         },
         {
          "cumulative_flights": 826,
          "day_of_year": 55,
          "year": 2020
         },
         {
          "cumulative_flights": 826,
          "day_of_year": 56,
          "year": 2020
         },
         {
          "cumulative_flights": 826,
          "day_of_year": 57,
          "year": 2020
         },
         {
          "cumulative_flights": 834,
          "day_of_year": 58,
          "year": 2020
         },
         {
          "cumulative_flights": 834,
          "day_of_year": 59,
          "year": 2020
         },
         {
          "cumulative_flights": 835,
          "day_of_year": 60,
          "year": 2020
         },
         {
          "cumulative_flights": 849,
          "day_of_year": 61,
          "year": 2020
         },
         {
          "cumulative_flights": 871,
          "day_of_year": 62,
          "year": 2020
         },
         {
          "cumulative_flights": 871,
          "day_of_year": 63,
          "year": 2020
         },
         {
          "cumulative_flights": 893,
          "day_of_year": 64,
          "year": 2020
         },
         {
          "cumulative_flights": 944,
          "day_of_year": 65,
          "year": 2020
         },
         {
          "cumulative_flights": 944,
          "day_of_year": 66,
          "year": 2020
         },
         {
          "cumulative_flights": 946,
          "day_of_year": 67,
          "year": 2020
         },
         {
          "cumulative_flights": 1111,
          "day_of_year": 68,
          "year": 2020
         },
         {
          "cumulative_flights": 1120,
          "day_of_year": 69,
          "year": 2020
         },
         {
          "cumulative_flights": 1128,
          "day_of_year": 70,
          "year": 2020
         },
         {
          "cumulative_flights": 1128,
          "day_of_year": 71,
          "year": 2020
         },
         {
          "cumulative_flights": 1128,
          "day_of_year": 72,
          "year": 2020
         },
         {
          "cumulative_flights": 1128,
          "day_of_year": 73,
          "year": 2020
         },
         {
          "cumulative_flights": 1340,
          "day_of_year": 74,
          "year": 2020
         },
         {
          "cumulative_flights": 1496,
          "day_of_year": 75,
          "year": 2020
         },
         {
          "cumulative_flights": 1529,
          "day_of_year": 76,
          "year": 2020
         },
         {
          "cumulative_flights": 1531,
          "day_of_year": 77,
          "year": 2020
         },
         {
          "cumulative_flights": 1532,
          "day_of_year": 78,
          "year": 2020
         },
         {
          "cumulative_flights": 1533,
          "day_of_year": 79,
          "year": 2020
         },
         {
          "cumulative_flights": 1533,
          "day_of_year": 80,
          "year": 2020
         },
         {
          "cumulative_flights": 1533,
          "day_of_year": 81,
          "year": 2020
         },
         {
          "cumulative_flights": 1533,
          "day_of_year": 82,
          "year": 2020
         },
         {
          "cumulative_flights": 1533,
          "day_of_year": 83,
          "year": 2020
         },
         {
          "cumulative_flights": 1533,
          "day_of_year": 84,
          "year": 2020
         },
         {
          "cumulative_flights": 1534,
          "day_of_year": 85,
          "year": 2020
         },
         {
          "cumulative_flights": 1536,
          "day_of_year": 86,
          "year": 2020
         },
         {
          "cumulative_flights": 1542,
          "day_of_year": 87,
          "year": 2020
         },
         {
          "cumulative_flights": 1543,
          "day_of_year": 88,
          "year": 2020
         },
         {
          "cumulative_flights": 1543,
          "day_of_year": 89,
          "year": 2020
         },
         {
          "cumulative_flights": 1545,
          "day_of_year": 90,
          "year": 2020
         },
         {
          "cumulative_flights": 1545,
          "day_of_year": 91,
          "year": 2020
         },
         {
          "cumulative_flights": 1553,
          "day_of_year": 92,
          "year": 2020
         },
         {
          "cumulative_flights": 1563,
          "day_of_year": 93,
          "year": 2020
         },
         {
          "cumulative_flights": 1567,
          "day_of_year": 94,
          "year": 2020
         },
         {
          "cumulative_flights": 1568,
          "day_of_year": 95,
          "year": 2020
         },
         {
          "cumulative_flights": 1576,
          "day_of_year": 96,
          "year": 2020
         },
         {
          "cumulative_flights": 1581,
          "day_of_year": 97,
          "year": 2020
         },
         {
          "cumulative_flights": 1706,
          "day_of_year": 98,
          "year": 2020
         },
         {
          "cumulative_flights": 1893,
          "day_of_year": 99,
          "year": 2020
         },
         {
          "cumulative_flights": 2033,
          "day_of_year": 100,
          "year": 2020
         },
         {
          "cumulative_flights": 2255,
          "day_of_year": 101,
          "year": 2020
         },
         {
          "cumulative_flights": 2678,
          "day_of_year": 102,
          "year": 2020
         },
         {
          "cumulative_flights": 2972,
          "day_of_year": 103,
          "year": 2020
         },
         {
          "cumulative_flights": 2975,
          "day_of_year": 104,
          "year": 2020
         },
         {
          "cumulative_flights": 2988,
          "day_of_year": 105,
          "year": 2020
         },
         {
          "cumulative_flights": 3115,
          "day_of_year": 106,
          "year": 2020
         },
         {
          "cumulative_flights": 3227,
          "day_of_year": 107,
          "year": 2020
         },
         {
          "cumulative_flights": 3365,
          "day_of_year": 108,
          "year": 2020
         },
         {
          "cumulative_flights": 3740,
          "day_of_year": 109,
          "year": 2020
         },
         {
          "cumulative_flights": 3759,
          "day_of_year": 110,
          "year": 2020
         },
         {
          "cumulative_flights": 3770,
          "day_of_year": 111,
          "year": 2020
         },
         {
          "cumulative_flights": 3776,
          "day_of_year": 112,
          "year": 2020
         },
         {
          "cumulative_flights": 3815,
          "day_of_year": 113,
          "year": 2020
         },
         {
          "cumulative_flights": 4094,
          "day_of_year": 114,
          "year": 2020
         },
         {
          "cumulative_flights": 4153,
          "day_of_year": 115,
          "year": 2020
         },
         {
          "cumulative_flights": 4206,
          "day_of_year": 116,
          "year": 2020
         },
         {
          "cumulative_flights": 4574,
          "day_of_year": 117,
          "year": 2020
         },
         {
          "cumulative_flights": 4736,
          "day_of_year": 118,
          "year": 2020
         },
         {
          "cumulative_flights": 4818,
          "day_of_year": 119,
          "year": 2020
         },
         {
          "cumulative_flights": 4819,
          "day_of_year": 120,
          "year": 2020
         },
         {
          "cumulative_flights": 4858,
          "day_of_year": 121,
          "year": 2020
         },
         {
          "cumulative_flights": 4891,
          "day_of_year": 122,
          "year": 2020
         },
         {
          "cumulative_flights": 4911,
          "day_of_year": 123,
          "year": 2020
         },
         {
          "cumulative_flights": 4984,
          "day_of_year": 124,
          "year": 2020
         },
         {
          "cumulative_flights": 5012,
          "day_of_year": 125,
          "year": 2020
         },
         {
          "cumulative_flights": 5025,
          "day_of_year": 126,
          "year": 2020
         },
         {
          "cumulative_flights": 5083,
          "day_of_year": 127,
          "year": 2020
         },
         {
          "cumulative_flights": 5143,
          "day_of_year": 128,
          "year": 2020
         },
         {
          "cumulative_flights": 5510,
          "day_of_year": 129,
          "year": 2020
         },
         {
          "cumulative_flights": 5777,
          "day_of_year": 130,
          "year": 2020
         },
         {
          "cumulative_flights": 5829,
          "day_of_year": 131,
          "year": 2020
         },
         {
          "cumulative_flights": 5835,
          "day_of_year": 132,
          "year": 2020
         },
         {
          "cumulative_flights": 5965,
          "day_of_year": 133,
          "year": 2020
         },
         {
          "cumulative_flights": 6012,
          "day_of_year": 134,
          "year": 2020
         },
         {
          "cumulative_flights": 6029,
          "day_of_year": 135,
          "year": 2020
         },
         {
          "cumulative_flights": 6082,
          "day_of_year": 136,
          "year": 2020
         },
         {
          "cumulative_flights": 6544,
          "day_of_year": 137,
          "year": 2020
         },
         {
          "cumulative_flights": 6785,
          "day_of_year": 138,
          "year": 2020
         },
         {
          "cumulative_flights": 6996,
          "day_of_year": 139,
          "year": 2020
         },
         {
          "cumulative_flights": 7075,
          "day_of_year": 140,
          "year": 2020
         },
         {
          "cumulative_flights": 7099,
          "day_of_year": 141,
          "year": 2020
         },
         {
          "cumulative_flights": 7254,
          "day_of_year": 142,
          "year": 2020
         },
         {
          "cumulative_flights": 7420,
          "day_of_year": 143,
          "year": 2020
         },
         {
          "cumulative_flights": 7420,
          "day_of_year": 144,
          "year": 2020
         },
         {
          "cumulative_flights": 7424,
          "day_of_year": 145,
          "year": 2020
         },
         {
          "cumulative_flights": 7424,
          "day_of_year": 146,
          "year": 2020
         },
         {
          "cumulative_flights": 7434,
          "day_of_year": 147,
          "year": 2020
         },
         {
          "cumulative_flights": 7589,
          "day_of_year": 148,
          "year": 2020
         },
         {
          "cumulative_flights": 7592,
          "day_of_year": 149,
          "year": 2020
         },
         {
          "cumulative_flights": 7607,
          "day_of_year": 150,
          "year": 2020
         },
         {
          "cumulative_flights": 7712,
          "day_of_year": 151,
          "year": 2020
         },
         {
          "cumulative_flights": 7723,
          "day_of_year": 152,
          "year": 2020
         },
         {
          "cumulative_flights": 7760,
          "day_of_year": 153,
          "year": 2020
         },
         {
          "cumulative_flights": 7773,
          "day_of_year": 154,
          "year": 2020
         },
         {
          "cumulative_flights": 7835,
          "day_of_year": 155,
          "year": 2020
         },
         {
          "cumulative_flights": 7879,
          "day_of_year": 156,
          "year": 2020
         },
         {
          "cumulative_flights": 7879,
          "day_of_year": 157,
          "year": 2020
         },
         {
          "cumulative_flights": 7894,
          "day_of_year": 158,
          "year": 2020
         },
         {
          "cumulative_flights": 7905,
          "day_of_year": 159,
          "year": 2020
         },
         {
          "cumulative_flights": 7939,
          "day_of_year": 160,
          "year": 2020
         },
         {
          "cumulative_flights": 7957,
          "day_of_year": 161,
          "year": 2020
         },
         {
          "cumulative_flights": 7963,
          "day_of_year": 162,
          "year": 2020
         },
         {
          "cumulative_flights": 8030,
          "day_of_year": 163,
          "year": 2020
         },
         {
          "cumulative_flights": 8217,
          "day_of_year": 164,
          "year": 2020
         },
         {
          "cumulative_flights": 8358,
          "day_of_year": 165,
          "year": 2020
         },
         {
          "cumulative_flights": 8361,
          "day_of_year": 166,
          "year": 2020
         },
         {
          "cumulative_flights": 8472,
          "day_of_year": 167,
          "year": 2020
         },
         {
          "cumulative_flights": 8518,
          "day_of_year": 168,
          "year": 2020
         },
         {
          "cumulative_flights": 8569,
          "day_of_year": 169,
          "year": 2020
         },
         {
          "cumulative_flights": 8571,
          "day_of_year": 170,
          "year": 2020
         },
         {
          "cumulative_flights": 8591,
          "day_of_year": 171,
          "year": 2020
         },
         {
          "cumulative_flights": 8619,
          "day_of_year": 172,
          "year": 2020
         },
         {
          "cumulative_flights": 8649,
          "day_of_year": 173,
          "year": 2020
         },
         {
          "cumulative_flights": 8670,
          "day_of_year": 174,
          "year": 2020
         },
         {
          "cumulative_flights": 8784,
          "day_of_year": 175,
          "year": 2020
         },
         {
          "cumulative_flights": 8805,
          "day_of_year": 176,
          "year": 2020
         },
         {
          "cumulative_flights": 8866,
          "day_of_year": 177,
          "year": 2020
         },
         {
          "cumulative_flights": 8891,
          "day_of_year": 178,
          "year": 2020
         },
         {
          "cumulative_flights": 9013,
          "day_of_year": 179,
          "year": 2020
         },
         {
          "cumulative_flights": 9175,
          "day_of_year": 180,
          "year": 2020
         },
         {
          "cumulative_flights": 9178,
          "day_of_year": 181,
          "year": 2020
         },
         {
          "cumulative_flights": 9183,
          "day_of_year": 182,
          "year": 2020
         },
         {
          "cumulative_flights": 9267,
          "day_of_year": 183,
          "year": 2020
         },
         {
          "cumulative_flights": 9271,
          "day_of_year": 184,
          "year": 2020
         },
         {
          "cumulative_flights": 9362,
          "day_of_year": 185,
          "year": 2020
         },
         {
          "cumulative_flights": 9679,
          "day_of_year": 186,
          "year": 2020
         },
         {
          "cumulative_flights": 9730,
          "day_of_year": 187,
          "year": 2020
         },
         {
          "cumulative_flights": 9735,
          "day_of_year": 188,
          "year": 2020
         },
         {
          "cumulative_flights": 9848,
          "day_of_year": 189,
          "year": 2020
         },
         {
          "cumulative_flights": 9854,
          "day_of_year": 190,
          "year": 2020
         },
         {
          "cumulative_flights": 9871,
          "day_of_year": 191,
          "year": 2020
         },
         {
          "cumulative_flights": 9890,
          "day_of_year": 192,
          "year": 2020
         },
         {
          "cumulative_flights": 9916,
          "day_of_year": 193,
          "year": 2020
         },
         {
          "cumulative_flights": 10130,
          "day_of_year": 194,
          "year": 2020
         },
         {
          "cumulative_flights": 10426,
          "day_of_year": 195,
          "year": 2020
         },
         {
          "cumulative_flights": 10683,
          "day_of_year": 196,
          "year": 2020
         },
         {
          "cumulative_flights": 10717,
          "day_of_year": 197,
          "year": 2020
         },
         {
          "cumulative_flights": 10718,
          "day_of_year": 198,
          "year": 2020
         },
         {
          "cumulative_flights": 10752,
          "day_of_year": 199,
          "year": 2020
         },
         {
          "cumulative_flights": 10803,
          "day_of_year": 200,
          "year": 2020
         },
         {
          "cumulative_flights": 10817,
          "day_of_year": 201,
          "year": 2020
         },
         {
          "cumulative_flights": 10845,
          "day_of_year": 202,
          "year": 2020
         },
         {
          "cumulative_flights": 10860,
          "day_of_year": 203,
          "year": 2020
         },
         {
          "cumulative_flights": 11202,
          "day_of_year": 204,
          "year": 2020
         },
         {
          "cumulative_flights": 11352,
          "day_of_year": 205,
          "year": 2020
         },
         {
          "cumulative_flights": 11397,
          "day_of_year": 206,
          "year": 2020
         },
         {
          "cumulative_flights": 11590,
          "day_of_year": 207,
          "year": 2020
         },
         {
          "cumulative_flights": 11631,
          "day_of_year": 208,
          "year": 2020
         },
         {
          "cumulative_flights": 11768,
          "day_of_year": 209,
          "year": 2020
         },
         {
          "cumulative_flights": 11779,
          "day_of_year": 210,
          "year": 2020
         },
         {
          "cumulative_flights": 11857,
          "day_of_year": 211,
          "year": 2020
         },
         {
          "cumulative_flights": 12044,
          "day_of_year": 212,
          "year": 2020
         },
         {
          "cumulative_flights": 12284,
          "day_of_year": 213,
          "year": 2020
         },
         {
          "cumulative_flights": 12721,
          "day_of_year": 214,
          "year": 2020
         },
         {
          "cumulative_flights": 12805,
          "day_of_year": 215,
          "year": 2020
         },
         {
          "cumulative_flights": 12805,
          "day_of_year": 216,
          "year": 2020
         },
         {
          "cumulative_flights": 12806,
          "day_of_year": 217,
          "year": 2020
         },
         {
          "cumulative_flights": 12942,
          "day_of_year": 218,
          "year": 2020
         },
         {
          "cumulative_flights": 13014,
          "day_of_year": 219,
          "year": 2020
         },
         {
          "cumulative_flights": 13188,
          "day_of_year": 220,
          "year": 2020
         },
         {
          "cumulative_flights": 13452,
          "day_of_year": 221,
          "year": 2020
         },
         {
          "cumulative_flights": 13595,
          "day_of_year": 222,
          "year": 2020
         },
         {
          "cumulative_flights": 13637,
          "day_of_year": 223,
          "year": 2020
         },
         {
          "cumulative_flights": 13667,
          "day_of_year": 224,
          "year": 2020
         },
         {
          "cumulative_flights": 13833,
          "day_of_year": 225,
          "year": 2020
         },
         {
          "cumulative_flights": 13976,
          "day_of_year": 226,
          "year": 2020
         },
         {
          "cumulative_flights": 13979,
          "day_of_year": 227,
          "year": 2020
         },
         {
          "cumulative_flights": 14011,
          "day_of_year": 228,
          "year": 2020
         },
         {
          "cumulative_flights": 14237,
          "day_of_year": 229,
          "year": 2020
         },
         {
          "cumulative_flights": 14298,
          "day_of_year": 230,
          "year": 2020
         },
         {
          "cumulative_flights": 14300,
          "day_of_year": 231,
          "year": 2020
         },
         {
          "cumulative_flights": 14336,
          "day_of_year": 232,
          "year": 2020
         },
         {
          "cumulative_flights": 14505,
          "day_of_year": 233,
          "year": 2020
         },
         {
          "cumulative_flights": 14636,
          "day_of_year": 234,
          "year": 2020
         },
         {
          "cumulative_flights": 14682,
          "day_of_year": 235,
          "year": 2020
         },
         {
          "cumulative_flights": 14725,
          "day_of_year": 236,
          "year": 2020
         },
         {
          "cumulative_flights": 14778,
          "day_of_year": 237,
          "year": 2020
         },
         {
          "cumulative_flights": 14988,
          "day_of_year": 238,
          "year": 2020
         },
         {
          "cumulative_flights": 14988,
          "day_of_year": 239,
          "year": 2020
         },
         {
          "cumulative_flights": 15020,
          "day_of_year": 240,
          "year": 2020
         },
         {
          "cumulative_flights": 15046,
          "day_of_year": 241,
          "year": 2020
         },
         {
          "cumulative_flights": 15050,
          "day_of_year": 242,
          "year": 2020
         },
         {
          "cumulative_flights": 15050,
          "day_of_year": 243,
          "year": 2020
         },
         {
          "cumulative_flights": 15053,
          "day_of_year": 244,
          "year": 2020
         },
         {
          "cumulative_flights": 15056,
          "day_of_year": 245,
          "year": 2020
         },
         {
          "cumulative_flights": 15125,
          "day_of_year": 246,
          "year": 2020
         },
         {
          "cumulative_flights": 15293,
          "day_of_year": 247,
          "year": 2020
         },
         {
          "cumulative_flights": 15333,
          "day_of_year": 248,
          "year": 2020
         },
         {
          "cumulative_flights": 15368,
          "day_of_year": 249,
          "year": 2020
         },
         {
          "cumulative_flights": 15444,
          "day_of_year": 250,
          "year": 2020
         },
         {
          "cumulative_flights": 15477,
          "day_of_year": 251,
          "year": 2020
         },
         {
          "cumulative_flights": 15585,
          "day_of_year": 252,
          "year": 2020
         },
         {
          "cumulative_flights": 15740,
          "day_of_year": 253,
          "year": 2020
         },
         {
          "cumulative_flights": 15747,
          "day_of_year": 254,
          "year": 2020
         },
         {
          "cumulative_flights": 15841,
          "day_of_year": 255,
          "year": 2020
         },
         {
          "cumulative_flights": 16034,
          "day_of_year": 256,
          "year": 2020
         },
         {
          "cumulative_flights": 16210,
          "day_of_year": 257,
          "year": 2020
         },
         {
          "cumulative_flights": 16299,
          "day_of_year": 258,
          "year": 2020
         },
         {
          "cumulative_flights": 16394,
          "day_of_year": 259,
          "year": 2020
         },
         {
          "cumulative_flights": 16488,
          "day_of_year": 260,
          "year": 2020
         },
         {
          "cumulative_flights": 16491,
          "day_of_year": 261,
          "year": 2020
         },
         {
          "cumulative_flights": 16602,
          "day_of_year": 262,
          "year": 2020
         },
         {
          "cumulative_flights": 16749,
          "day_of_year": 263,
          "year": 2020
         },
         {
          "cumulative_flights": 16893,
          "day_of_year": 264,
          "year": 2020
         },
         {
          "cumulative_flights": 16993,
          "day_of_year": 265,
          "year": 2020
         },
         {
          "cumulative_flights": 17084,
          "day_of_year": 266,
          "year": 2020
         },
         {
          "cumulative_flights": 17122,
          "day_of_year": 267,
          "year": 2020
         },
         {
          "cumulative_flights": 17158,
          "day_of_year": 268,
          "year": 2020
         },
         {
          "cumulative_flights": 17158,
          "day_of_year": 269,
          "year": 2020
         },
         {
          "cumulative_flights": 17158,
          "day_of_year": 270,
          "year": 2020
         },
         {
          "cumulative_flights": 17213,
          "day_of_year": 271,
          "year": 2020
         },
         {
          "cumulative_flights": 17213,
          "day_of_year": 272,
          "year": 2020
         },
         {
          "cumulative_flights": 17227,
          "day_of_year": 273,
          "year": 2020
         },
         {
          "cumulative_flights": 17253,
          "day_of_year": 274,
          "year": 2020
         },
         {
          "cumulative_flights": 17300,
          "day_of_year": 275,
          "year": 2020
         },
         {
          "cumulative_flights": 17333,
          "day_of_year": 276,
          "year": 2020
         },
         {
          "cumulative_flights": 17335,
          "day_of_year": 277,
          "year": 2020
         },
         {
          "cumulative_flights": 17410,
          "day_of_year": 278,
          "year": 2020
         },
         {
          "cumulative_flights": 17411,
          "day_of_year": 279,
          "year": 2020
         },
         {
          "cumulative_flights": 17455,
          "day_of_year": 280,
          "year": 2020
         },
         {
          "cumulative_flights": 17458,
          "day_of_year": 281,
          "year": 2020
         },
         {
          "cumulative_flights": 17493,
          "day_of_year": 282,
          "year": 2020
         },
         {
          "cumulative_flights": 17540,
          "day_of_year": 283,
          "year": 2020
         },
         {
          "cumulative_flights": 17557,
          "day_of_year": 284,
          "year": 2020
         },
         {
          "cumulative_flights": 17588,
          "day_of_year": 285,
          "year": 2020
         },
         {
          "cumulative_flights": 17637,
          "day_of_year": 286,
          "year": 2020
         },
         {
          "cumulative_flights": 17641,
          "day_of_year": 287,
          "year": 2020
         },
         {
          "cumulative_flights": 17641,
          "day_of_year": 288,
          "year": 2020
         },
         {
          "cumulative_flights": 17643,
          "day_of_year": 289,
          "year": 2020
         },
         {
          "cumulative_flights": 17643,
          "day_of_year": 290,
          "year": 2020
         },
         {
          "cumulative_flights": 17647,
          "day_of_year": 291,
          "year": 2020
         },
         {
          "cumulative_flights": 17712,
          "day_of_year": 292,
          "year": 2020
         },
         {
          "cumulative_flights": 17734,
          "day_of_year": 293,
          "year": 2020
         },
         {
          "cumulative_flights": 17783,
          "day_of_year": 294,
          "year": 2020
         },
         {
          "cumulative_flights": 17861,
          "day_of_year": 295,
          "year": 2020
         },
         {
          "cumulative_flights": 17925,
          "day_of_year": 296,
          "year": 2020
         },
         {
          "cumulative_flights": 17947,
          "day_of_year": 297,
          "year": 2020
         },
         {
          "cumulative_flights": 18041,
          "day_of_year": 298,
          "year": 2020
         },
         {
          "cumulative_flights": 18116,
          "day_of_year": 299,
          "year": 2020
         },
         {
          "cumulative_flights": 18125,
          "day_of_year": 300,
          "year": 2020
         },
         {
          "cumulative_flights": 18158,
          "day_of_year": 301,
          "year": 2020
         },
         {
          "cumulative_flights": 18199,
          "day_of_year": 302,
          "year": 2020
         },
         {
          "cumulative_flights": 18201,
          "day_of_year": 303,
          "year": 2020
         },
         {
          "cumulative_flights": 18201,
          "day_of_year": 304,
          "year": 2020
         },
         {
          "cumulative_flights": 18222,
          "day_of_year": 305,
          "year": 2020
         },
         {
          "cumulative_flights": 18228,
          "day_of_year": 306,
          "year": 2020
         },
         {
          "cumulative_flights": 18232,
          "day_of_year": 307,
          "year": 2020
         },
         {
          "cumulative_flights": 18236,
          "day_of_year": 308,
          "year": 2020
         },
         {
          "cumulative_flights": 18262,
          "day_of_year": 309,
          "year": 2020
         },
         {
          "cumulative_flights": 18309,
          "day_of_year": 310,
          "year": 2020
         },
         {
          "cumulative_flights": 18345,
          "day_of_year": 311,
          "year": 2020
         },
         {
          "cumulative_flights": 18453,
          "day_of_year": 312,
          "year": 2020
         },
         {
          "cumulative_flights": 18515,
          "day_of_year": 313,
          "year": 2020
         },
         {
          "cumulative_flights": 18519,
          "day_of_year": 314,
          "year": 2020
         },
         {
          "cumulative_flights": 18521,
          "day_of_year": 315,
          "year": 2020
         },
         {
          "cumulative_flights": 18523,
          "day_of_year": 316,
          "year": 2020
         },
         {
          "cumulative_flights": 18556,
          "day_of_year": 317,
          "year": 2020
         },
         {
          "cumulative_flights": 18593,
          "day_of_year": 318,
          "year": 2020
         },
         {
          "cumulative_flights": 18647,
          "day_of_year": 319,
          "year": 2020
         },
         {
          "cumulative_flights": 18738,
          "day_of_year": 320,
          "year": 2020
         },
         {
          "cumulative_flights": 18742,
          "day_of_year": 321,
          "year": 2020
         },
         {
          "cumulative_flights": 18838,
          "day_of_year": 322,
          "year": 2020
         },
         {
          "cumulative_flights": 18900,
          "day_of_year": 323,
          "year": 2020
         },
         {
          "cumulative_flights": 18902,
          "day_of_year": 324,
          "year": 2020
         },
         {
          "cumulative_flights": 18963,
          "day_of_year": 325,
          "year": 2020
         },
         {
          "cumulative_flights": 19104,
          "day_of_year": 326,
          "year": 2020
         },
         {
          "cumulative_flights": 19159,
          "day_of_year": 327,
          "year": 2020
         },
         {
          "cumulative_flights": 19171,
          "day_of_year": 328,
          "year": 2020
         },
         {
          "cumulative_flights": 19181,
          "day_of_year": 329,
          "year": 2020
         },
         {
          "cumulative_flights": 19185,
          "day_of_year": 330,
          "year": 2020
         },
         {
          "cumulative_flights": 19191,
          "day_of_year": 331,
          "year": 2020
         },
         {
          "cumulative_flights": 19193,
          "day_of_year": 332,
          "year": 2020
         },
         {
          "cumulative_flights": 19206,
          "day_of_year": 333,
          "year": 2020
         },
         {
          "cumulative_flights": 19236,
          "day_of_year": 334,
          "year": 2020
         },
         {
          "cumulative_flights": 19250,
          "day_of_year": 335,
          "year": 2020
         },
         {
          "cumulative_flights": 19265,
          "day_of_year": 336,
          "year": 2020
         },
         {
          "cumulative_flights": 19326,
          "day_of_year": 337,
          "year": 2020
         },
         {
          "cumulative_flights": 19336,
          "day_of_year": 338,
          "year": 2020
         },
         {
          "cumulative_flights": 19361,
          "day_of_year": 339,
          "year": 2020
         },
         {
          "cumulative_flights": 19393,
          "day_of_year": 340,
          "year": 2020
         },
         {
          "cumulative_flights": 19408,
          "day_of_year": 341,
          "year": 2020
         },
         {
          "cumulative_flights": 19412,
          "day_of_year": 342,
          "year": 2020
         },
         {
          "cumulative_flights": 19475,
          "day_of_year": 343,
          "year": 2020
         },
         {
          "cumulative_flights": 19479,
          "day_of_year": 344,
          "year": 2020
         },
         {
          "cumulative_flights": 19483,
          "day_of_year": 345,
          "year": 2020
         },
         {
          "cumulative_flights": 19506,
          "day_of_year": 346,
          "year": 2020
         },
         {
          "cumulative_flights": 19531,
          "day_of_year": 347,
          "year": 2020
         },
         {
          "cumulative_flights": 19533,
          "day_of_year": 348,
          "year": 2020
         },
         {
          "cumulative_flights": 19546,
          "day_of_year": 349,
          "year": 2020
         },
         {
          "cumulative_flights": 19575,
          "day_of_year": 350,
          "year": 2020
         },
         {
          "cumulative_flights": 19580,
          "day_of_year": 351,
          "year": 2020
         },
         {
          "cumulative_flights": 19594,
          "day_of_year": 352,
          "year": 2020
         },
         {
          "cumulative_flights": 19597,
          "day_of_year": 353,
          "year": 2020
         },
         {
          "cumulative_flights": 19650,
          "day_of_year": 354,
          "year": 2020
         },
         {
          "cumulative_flights": 19701,
          "day_of_year": 355,
          "year": 2020
         },
         {
          "cumulative_flights": 19709,
          "day_of_year": 356,
          "year": 2020
         },
         {
          "cumulative_flights": 19709,
          "day_of_year": 357,
          "year": 2020
         },
         {
          "cumulative_flights": 19710,
          "day_of_year": 358,
          "year": 2020
         },
         {
          "cumulative_flights": 19710,
          "day_of_year": 359,
          "year": 2020
         },
         {
          "cumulative_flights": 19712,
          "day_of_year": 360,
          "year": 2020
         },
         {
          "cumulative_flights": 19804,
          "day_of_year": 361,
          "year": 2020
         },
         {
          "cumulative_flights": 19836,
          "day_of_year": 362,
          "year": 2020
         },
         {
          "cumulative_flights": 19866,
          "day_of_year": 363,
          "year": 2020
         },
         {
          "cumulative_flights": 19895,
          "day_of_year": 364,
          "year": 2020
         },
         {
          "cumulative_flights": 19946,
          "day_of_year": 365,
          "year": 2020
         },
         {
          "cumulative_flights": 20005,
          "day_of_year": 366,
          "year": 2020
         },
         {
          "cumulative_flights": 24,
          "day_of_year": 1,
          "year": 2021
         },
         {
          "cumulative_flights": 40,
          "day_of_year": 2,
          "year": 2021
         },
         {
          "cumulative_flights": 43,
          "day_of_year": 3,
          "year": 2021
         },
         {
          "cumulative_flights": 43,
          "day_of_year": 4,
          "year": 2021
         },
         {
          "cumulative_flights": 43,
          "day_of_year": 5,
          "year": 2021
         },
         {
          "cumulative_flights": 44,
          "day_of_year": 6,
          "year": 2021
         },
         {
          "cumulative_flights": 52,
          "day_of_year": 7,
          "year": 2021
         },
         {
          "cumulative_flights": 76,
          "day_of_year": 8,
          "year": 2021
         },
         {
          "cumulative_flights": 105,
          "day_of_year": 9,
          "year": 2021
         },
         {
          "cumulative_flights": 112,
          "day_of_year": 10,
          "year": 2021
         },
         {
          "cumulative_flights": 145,
          "day_of_year": 11,
          "year": 2021
         },
         {
          "cumulative_flights": 145,
          "day_of_year": 12,
          "year": 2021
         },
         {
          "cumulative_flights": 146,
          "day_of_year": 13,
          "year": 2021
         },
         {
          "cumulative_flights": 152,
          "day_of_year": 14,
          "year": 2021
         },
         {
          "cumulative_flights": 157,
          "day_of_year": 15,
          "year": 2021
         },
         {
          "cumulative_flights": 204,
          "day_of_year": 16,
          "year": 2021
         },
         {
          "cumulative_flights": 220,
          "day_of_year": 17,
          "year": 2021
         },
         {
          "cumulative_flights": 227,
          "day_of_year": 18,
          "year": 2021
         },
         {
          "cumulative_flights": 227,
          "day_of_year": 19,
          "year": 2021
         },
         {
          "cumulative_flights": 247,
          "day_of_year": 20,
          "year": 2021
         },
         {
          "cumulative_flights": 268,
          "day_of_year": 21,
          "year": 2021
         },
         {
          "cumulative_flights": 289,
          "day_of_year": 22,
          "year": 2021
         },
         {
          "cumulative_flights": 291,
          "day_of_year": 23,
          "year": 2021
         },
         {
          "cumulative_flights": 294,
          "day_of_year": 24,
          "year": 2021
         },
         {
          "cumulative_flights": 316,
          "day_of_year": 25,
          "year": 2021
         },
         {
          "cumulative_flights": 331,
          "day_of_year": 26,
          "year": 2021
         },
         {
          "cumulative_flights": 363,
          "day_of_year": 27,
          "year": 2021
         },
         {
          "cumulative_flights": 376,
          "day_of_year": 28,
          "year": 2021
         },
         {
          "cumulative_flights": 376,
          "day_of_year": 29,
          "year": 2021
         },
         {
          "cumulative_flights": 387,
          "day_of_year": 30,
          "year": 2021
         },
         {
          "cumulative_flights": 460,
          "day_of_year": 31,
          "year": 2021
         },
         {
          "cumulative_flights": 491,
          "day_of_year": 32,
          "year": 2021
         },
         {
          "cumulative_flights": 502,
          "day_of_year": 33,
          "year": 2021
         },
         {
          "cumulative_flights": 502,
          "day_of_year": 34,
          "year": 2021
         },
         {
          "cumulative_flights": 506,
          "day_of_year": 35,
          "year": 2021
         },
         {
          "cumulative_flights": 507,
          "day_of_year": 36,
          "year": 2021
         },
         {
          "cumulative_flights": 508,
          "day_of_year": 37,
          "year": 2021
         },
         {
          "cumulative_flights": 516,
          "day_of_year": 38,
          "year": 2021
         },
         {
          "cumulative_flights": 519,
          "day_of_year": 39,
          "year": 2021
         },
         {
          "cumulative_flights": 521,
          "day_of_year": 40,
          "year": 2021
         },
         {
          "cumulative_flights": 521,
          "day_of_year": 41,
          "year": 2021
         },
         {
          "cumulative_flights": 530,
          "day_of_year": 42,
          "year": 2021
         },
         {
          "cumulative_flights": 539,
          "day_of_year": 43,
          "year": 2021
         },
         {
          "cumulative_flights": 569,
          "day_of_year": 44,
          "year": 2021
         },
         {
          "cumulative_flights": 596,
          "day_of_year": 45,
          "year": 2021
         },
         {
          "cumulative_flights": 604,
          "day_of_year": 46,
          "year": 2021
         },
         {
          "cumulative_flights": 605,
          "day_of_year": 47,
          "year": 2021
         },
         {
          "cumulative_flights": 607,
          "day_of_year": 48,
          "year": 2021
         },
         {
          "cumulative_flights": 627,
          "day_of_year": 49,
          "year": 2021
         },
         {
          "cumulative_flights": 673,
          "day_of_year": 50,
          "year": 2021
         },
         {
          "cumulative_flights": 762,
          "day_of_year": 51,
          "year": 2021
         },
         {
          "cumulative_flights": 782,
          "day_of_year": 52,
          "year": 2021
         },
         {
          "cumulative_flights": 793,
          "day_of_year": 53,
          "year": 2021
         },
         {
          "cumulative_flights": 803,
          "day_of_year": 54,
          "year": 2021
         },
         {
          "cumulative_flights": 853,
          "day_of_year": 55,
          "year": 2021
         },
         {
          "cumulative_flights": 891,
          "day_of_year": 56,
          "year": 2021
         },
         {
          "cumulative_flights": 949,
          "day_of_year": 57,
          "year": 2021
         },
         {
          "cumulative_flights": 1126,
          "day_of_year": 58,
          "year": 2021
         },
         {
          "cumulative_flights": 1294,
          "day_of_year": 59,
          "year": 2021
         },
         {
          "cumulative_flights": 1303,
          "day_of_year": 60,
          "year": 2021
         },
         {
          "cumulative_flights": 1318,
          "day_of_year": 61,
          "year": 2021
         },
         {
          "cumulative_flights": 1336,
          "day_of_year": 62,
          "year": 2021
         },
         {
          "cumulative_flights": 1336,
          "day_of_year": 63,
          "year": 2021
         },
         {
          "cumulative_flights": 1336,
          "day_of_year": 64,
          "year": 2021
         },
         {
          "cumulative_flights": 1435,
          "day_of_year": 65,
          "year": 2021
         },
         {
          "cumulative_flights": 1509,
          "day_of_year": 66,
          "year": 2021
         },
         {
          "cumulative_flights": 1517,
          "day_of_year": 67,
          "year": 2021
         },
         {
          "cumulative_flights": 1539,
          "day_of_year": 68,
          "year": 2021
         },
         {
          "cumulative_flights": 1569,
          "day_of_year": 69,
          "year": 2021
         },
         {
          "cumulative_flights": 1569,
          "day_of_year": 70,
          "year": 2021
         },
         {
          "cumulative_flights": 1571,
          "day_of_year": 71,
          "year": 2021
         },
         {
          "cumulative_flights": 1571,
          "day_of_year": 72,
          "year": 2021
         },
         {
          "cumulative_flights": 1573,
          "day_of_year": 73,
          "year": 2021
         },
         {
          "cumulative_flights": 1589,
          "day_of_year": 74,
          "year": 2021
         },
         {
          "cumulative_flights": 1592,
          "day_of_year": 75,
          "year": 2021
         },
         {
          "cumulative_flights": 1592,
          "day_of_year": 76,
          "year": 2021
         },
         {
          "cumulative_flights": 1608,
          "day_of_year": 77,
          "year": 2021
         },
         {
          "cumulative_flights": 1616,
          "day_of_year": 78,
          "year": 2021
         },
         {
          "cumulative_flights": 1662,
          "day_of_year": 79,
          "year": 2021
         },
         {
          "cumulative_flights": 1665,
          "day_of_year": 80,
          "year": 2021
         },
         {
          "cumulative_flights": 1683,
          "day_of_year": 81,
          "year": 2021
         },
         {
          "cumulative_flights": 1708,
          "day_of_year": 82,
          "year": 2021
         },
         {
          "cumulative_flights": 1753,
          "day_of_year": 83,
          "year": 2021
         },
         {
          "cumulative_flights": 1821,
          "day_of_year": 84,
          "year": 2021
         },
         {
          "cumulative_flights": 1917,
          "day_of_year": 85,
          "year": 2021
         },
         {
          "cumulative_flights": 1918,
          "day_of_year": 86,
          "year": 2021
         },
         {
          "cumulative_flights": 2015,
          "day_of_year": 87,
          "year": 2021
         },
         {
          "cumulative_flights": 2088,
          "day_of_year": 88,
          "year": 2021
         },
         {
          "cumulative_flights": 2184,
          "day_of_year": 89,
          "year": 2021
         },
         {
          "cumulative_flights": 2314,
          "day_of_year": 90,
          "year": 2021
         },
         {
          "cumulative_flights": 2356,
          "day_of_year": 91,
          "year": 2021
         },
         {
          "cumulative_flights": 2424,
          "day_of_year": 92,
          "year": 2021
         },
         {
          "cumulative_flights": 2425,
          "day_of_year": 93,
          "year": 2021
         },
         {
          "cumulative_flights": 2637,
          "day_of_year": 94,
          "year": 2021
         },
         {
          "cumulative_flights": 2638,
          "day_of_year": 95,
          "year": 2021
         },
         {
          "cumulative_flights": 2639,
          "day_of_year": 96,
          "year": 2021
         },
         {
          "cumulative_flights": 2644,
          "day_of_year": 97,
          "year": 2021
         },
         {
          "cumulative_flights": 2650,
          "day_of_year": 98,
          "year": 2021
         },
         {
          "cumulative_flights": 2671,
          "day_of_year": 99,
          "year": 2021
         },
         {
          "cumulative_flights": 2714,
          "day_of_year": 100,
          "year": 2021
         },
         {
          "cumulative_flights": 2886,
          "day_of_year": 101,
          "year": 2021
         },
         {
          "cumulative_flights": 2893,
          "day_of_year": 102,
          "year": 2021
         },
         {
          "cumulative_flights": 2906,
          "day_of_year": 103,
          "year": 2021
         },
         {
          "cumulative_flights": 2915,
          "day_of_year": 104,
          "year": 2021
         },
         {
          "cumulative_flights": 2915,
          "day_of_year": 105,
          "year": 2021
         },
         {
          "cumulative_flights": 2948,
          "day_of_year": 106,
          "year": 2021
         },
         {
          "cumulative_flights": 2951,
          "day_of_year": 107,
          "year": 2021
         },
         {
          "cumulative_flights": 2967,
          "day_of_year": 108,
          "year": 2021
         },
         {
          "cumulative_flights": 2982,
          "day_of_year": 109,
          "year": 2021
         },
         {
          "cumulative_flights": 3019,
          "day_of_year": 110,
          "year": 2021
         },
         {
          "cumulative_flights": 3091,
          "day_of_year": 111,
          "year": 2021
         },
         {
          "cumulative_flights": 3125,
          "day_of_year": 112,
          "year": 2021
         },
         {
          "cumulative_flights": 3170,
          "day_of_year": 113,
          "year": 2021
         },
         {
          "cumulative_flights": 3542,
          "day_of_year": 114,
          "year": 2021
         },
         {
          "cumulative_flights": 3684,
          "day_of_year": 115,
          "year": 2021
         },
         {
          "cumulative_flights": 3892,
          "day_of_year": 116,
          "year": 2021
         },
         {
          "cumulative_flights": 4008,
          "day_of_year": 117,
          "year": 2021
         },
         {
          "cumulative_flights": 4197,
          "day_of_year": 118,
          "year": 2021
         },
         {
          "cumulative_flights": 4204,
          "day_of_year": 119,
          "year": 2021
         },
         {
          "cumulative_flights": 4342,
          "day_of_year": 120,
          "year": 2021
         },
         {
          "cumulative_flights": 4379,
          "day_of_year": 121,
          "year": 2021
         },
         {
          "cumulative_flights": 4381,
          "day_of_year": 122,
          "year": 2021
         },
         {
          "cumulative_flights": 4409,
          "day_of_year": 123,
          "year": 2021
         },
         {
          "cumulative_flights": 4409,
          "day_of_year": 124,
          "year": 2021
         },
         {
          "cumulative_flights": 4409,
          "day_of_year": 125,
          "year": 2021
         },
         {
          "cumulative_flights": 4410,
          "day_of_year": 126,
          "year": 2021
         },
         {
          "cumulative_flights": 4410,
          "day_of_year": 127,
          "year": 2021
         },
         {
          "cumulative_flights": 4775,
          "day_of_year": 128,
          "year": 2021
         },
         {
          "cumulative_flights": 4905,
          "day_of_year": 129,
          "year": 2021
         },
         {
          "cumulative_flights": 5028,
          "day_of_year": 130,
          "year": 2021
         },
         {
          "cumulative_flights": 5076,
          "day_of_year": 131,
          "year": 2021
         },
         {
          "cumulative_flights": 5088,
          "day_of_year": 132,
          "year": 2021
         },
         {
          "cumulative_flights": 5088,
          "day_of_year": 133,
          "year": 2021
         },
         {
          "cumulative_flights": 5103,
          "day_of_year": 134,
          "year": 2021
         },
         {
          "cumulative_flights": 5189,
          "day_of_year": 135,
          "year": 2021
         },
         {
          "cumulative_flights": 5255,
          "day_of_year": 136,
          "year": 2021
         },
         {
          "cumulative_flights": 5255,
          "day_of_year": 137,
          "year": 2021
         },
         {
          "cumulative_flights": 5265,
          "day_of_year": 138,
          "year": 2021
         },
         {
          "cumulative_flights": 5278,
          "day_of_year": 139,
          "year": 2021
         },
         {
          "cumulative_flights": 5311,
          "day_of_year": 140,
          "year": 2021
         },
         {
          "cumulative_flights": 5317,
          "day_of_year": 141,
          "year": 2021
         },
         {
          "cumulative_flights": 5318,
          "day_of_year": 142,
          "year": 2021
         },
         {
          "cumulative_flights": 5337,
          "day_of_year": 143,
          "year": 2021
         },
         {
          "cumulative_flights": 5405,
          "day_of_year": 144,
          "year": 2021
         },
         {
          "cumulative_flights": 5408,
          "day_of_year": 145,
          "year": 2021
         },
         {
          "cumulative_flights": 5413,
          "day_of_year": 146,
          "year": 2021
         },
         {
          "cumulative_flights": 5477,
          "day_of_year": 147,
          "year": 2021
         },
         {
          "cumulative_flights": 5561,
          "day_of_year": 148,
          "year": 2021
         },
         {
          "cumulative_flights": 5599,
          "day_of_year": 149,
          "year": 2021
         },
         {
          "cumulative_flights": 5700,
          "day_of_year": 150,
          "year": 2021
         },
         {
          "cumulative_flights": 5803,
          "day_of_year": 151,
          "year": 2021
         },
         {
          "cumulative_flights": 5908,
          "day_of_year": 152,
          "year": 2021
         },
         {
          "cumulative_flights": 6098,
          "day_of_year": 153,
          "year": 2021
         },
         {
          "cumulative_flights": 6374,
          "day_of_year": 154,
          "year": 2021
         },
         {
          "cumulative_flights": 6663,
          "day_of_year": 155,
          "year": 2021
         },
         {
          "cumulative_flights": 6720,
          "day_of_year": 156,
          "year": 2021
         },
         {
          "cumulative_flights": 6968,
          "day_of_year": 157,
          "year": 2021
         },
         {
          "cumulative_flights": 7128,
          "day_of_year": 158,
          "year": 2021
         },
         {
          "cumulative_flights": 7266,
          "day_of_year": 159,
          "year": 2021
         },
         {
          "cumulative_flights": 7318,
          "day_of_year": 160,
          "year": 2021
         },
         {
          "cumulative_flights": 7375,
          "day_of_year": 161,
          "year": 2021
         },
         {
          "cumulative_flights": 7442,
          "day_of_year": 162,
          "year": 2021
         },
         {
          "cumulative_flights": 7469,
          "day_of_year": 163,
          "year": 2021
         },
         {
          "cumulative_flights": 7485,
          "day_of_year": 164,
          "year": 2021
         },
         {
          "cumulative_flights": 7754,
          "day_of_year": 165,
          "year": 2021
         },
         {
          "cumulative_flights": 7959,
          "day_of_year": 166,
          "year": 2021
         },
         {
          "cumulative_flights": 8176,
          "day_of_year": 167,
          "year": 2021
         },
         {
          "cumulative_flights": 8313,
          "day_of_year": 168,
          "year": 2021
         },
         {
          "cumulative_flights": 8431,
          "day_of_year": 169,
          "year": 2021
         },
         {
          "cumulative_flights": 8716,
          "day_of_year": 170,
          "year": 2021
         },
         {
          "cumulative_flights": 8859,
          "day_of_year": 171,
          "year": 2021
         },
         {
          "cumulative_flights": 8915,
          "day_of_year": 172,
          "year": 2021
         },
         {
          "cumulative_flights": 8928,
          "day_of_year": 173,
          "year": 2021
         },
         {
          "cumulative_flights": 8939,
          "day_of_year": 174,
          "year": 2021
         },
         {
          "cumulative_flights": 8949,
          "day_of_year": 175,
          "year": 2021
         },
         {
          "cumulative_flights": 8949,
          "day_of_year": 176,
          "year": 2021
         },
         {
          "cumulative_flights": 8969,
          "day_of_year": 177,
          "year": 2021
         },
         {
          "cumulative_flights": 9262,
          "day_of_year": 178,
          "year": 2021
         },
         {
          "cumulative_flights": 9452,
          "day_of_year": 179,
          "year": 2021
         },
         {
          "cumulative_flights": 9462,
          "day_of_year": 180,
          "year": 2021
         },
         {
          "cumulative_flights": 9479,
          "day_of_year": 181,
          "year": 2021
         },
         {
          "cumulative_flights": 9493,
          "day_of_year": 182,
          "year": 2021
         },
         {
          "cumulative_flights": 9495,
          "day_of_year": 183,
          "year": 2021
         },
         {
          "cumulative_flights": 9656,
          "day_of_year": 184,
          "year": 2021
         },
         {
          "cumulative_flights": 9859,
          "day_of_year": 185,
          "year": 2021
         },
         {
          "cumulative_flights": 9920,
          "day_of_year": 186,
          "year": 2021
         },
         {
          "cumulative_flights": 10159,
          "day_of_year": 187,
          "year": 2021
         },
         {
          "cumulative_flights": 10179,
          "day_of_year": 188,
          "year": 2021
         },
         {
          "cumulative_flights": 10192,
          "day_of_year": 189,
          "year": 2021
         },
         {
          "cumulative_flights": 10196,
          "day_of_year": 190,
          "year": 2021
         },
         {
          "cumulative_flights": 10486,
          "day_of_year": 191,
          "year": 2021
         },
         {
          "cumulative_flights": 10529,
          "day_of_year": 192,
          "year": 2021
         },
         {
          "cumulative_flights": 10629,
          "day_of_year": 193,
          "year": 2021
         },
         {
          "cumulative_flights": 10669,
          "day_of_year": 194,
          "year": 2021
         },
         {
          "cumulative_flights": 10678,
          "day_of_year": 195,
          "year": 2021
         },
         {
          "cumulative_flights": 10695,
          "day_of_year": 196,
          "year": 2021
         },
         {
          "cumulative_flights": 10762,
          "day_of_year": 197,
          "year": 2021
         },
         {
          "cumulative_flights": 10766,
          "day_of_year": 198,
          "year": 2021
         },
         {
          "cumulative_flights": 10826,
          "day_of_year": 199,
          "year": 2021
         },
         {
          "cumulative_flights": 10854,
          "day_of_year": 200,
          "year": 2021
         },
         {
          "cumulative_flights": 10937,
          "day_of_year": 201,
          "year": 2021
         },
         {
          "cumulative_flights": 11048,
          "day_of_year": 202,
          "year": 2021
         },
         {
          "cumulative_flights": 11179,
          "day_of_year": 203,
          "year": 2021
         },
         {
          "cumulative_flights": 11380,
          "day_of_year": 204,
          "year": 2021
         },
         {
          "cumulative_flights": 11713,
          "day_of_year": 205,
          "year": 2021
         },
         {
          "cumulative_flights": 11745,
          "day_of_year": 206,
          "year": 2021
         },
         {
          "cumulative_flights": 11754,
          "day_of_year": 207,
          "year": 2021
         },
         {
          "cumulative_flights": 11836,
          "day_of_year": 208,
          "year": 2021
         },
         {
          "cumulative_flights": 11866,
          "day_of_year": 209,
          "year": 2021
         },
         {
          "cumulative_flights": 11945,
          "day_of_year": 210,
          "year": 2021
         },
         {
          "cumulative_flights": 12091,
          "day_of_year": 211,
          "year": 2021
         },
         {
          "cumulative_flights": 12152,
          "day_of_year": 212,
          "year": 2021
         },
         {
          "cumulative_flights": 12153,
          "day_of_year": 213,
          "year": 2021
         },
         {
          "cumulative_flights": 12162,
          "day_of_year": 214,
          "year": 2021
         },
         {
          "cumulative_flights": 12220,
          "day_of_year": 215,
          "year": 2021
         },
         {
          "cumulative_flights": 12228,
          "day_of_year": 216,
          "year": 2021
         },
         {
          "cumulative_flights": 12228,
          "day_of_year": 217,
          "year": 2021
         },
         {
          "cumulative_flights": 12254,
          "day_of_year": 218,
          "year": 2021
         },
         {
          "cumulative_flights": 12493,
          "day_of_year": 219,
          "year": 2021
         },
         {
          "cumulative_flights": 12523,
          "day_of_year": 220,
          "year": 2021
         },
         {
          "cumulative_flights": 12635,
          "day_of_year": 221,
          "year": 2021
         },
         {
          "cumulative_flights": 12696,
          "day_of_year": 222,
          "year": 2021
         },
         {
          "cumulative_flights": 12812,
          "day_of_year": 223,
          "year": 2021
         },
         {
          "cumulative_flights": 13070,
          "day_of_year": 224,
          "year": 2021
         },
         {
          "cumulative_flights": 13244,
          "day_of_year": 225,
          "year": 2021
         },
         {
          "cumulative_flights": 13501,
          "day_of_year": 226,
          "year": 2021
         },
         {
          "cumulative_flights": 13765,
          "day_of_year": 227,
          "year": 2021
         },
         {
          "cumulative_flights": 13770,
          "day_of_year": 228,
          "year": 2021
         },
         {
          "cumulative_flights": 13775,
          "day_of_year": 229,
          "year": 2021
         },
         {
          "cumulative_flights": 13808,
          "day_of_year": 230,
          "year": 2021
         },
         {
          "cumulative_flights": 13863,
          "day_of_year": 231,
          "year": 2021
         },
         {
          "cumulative_flights": 13905,
          "day_of_year": 232,
          "year": 2021
         },
         {
          "cumulative_flights": 14246,
          "day_of_year": 233,
          "year": 2021
         },
         {
          "cumulative_flights": 14297,
          "day_of_year": 234,
          "year": 2021
         },
         {
          "cumulative_flights": 14302,
          "day_of_year": 235,
          "year": 2021
         },
         {
          "cumulative_flights": 14304,
          "day_of_year": 236,
          "year": 2021
         },
         {
          "cumulative_flights": 14559,
          "day_of_year": 237,
          "year": 2021
         },
         {
          "cumulative_flights": 14560,
          "day_of_year": 238,
          "year": 2021
         },
         {
          "cumulative_flights": 14560,
          "day_of_year": 239,
          "year": 2021
         },
         {
          "cumulative_flights": 14576,
          "day_of_year": 240,
          "year": 2021
         },
         {
          "cumulative_flights": 14604,
          "day_of_year": 241,
          "year": 2021
         },
         {
          "cumulative_flights": 14612,
          "day_of_year": 242,
          "year": 2021
         },
         {
          "cumulative_flights": 14613,
          "day_of_year": 243,
          "year": 2021
         },
         {
          "cumulative_flights": 14679,
          "day_of_year": 244,
          "year": 2021
         },
         {
          "cumulative_flights": 14768,
          "day_of_year": 245,
          "year": 2021
         },
         {
          "cumulative_flights": 15020,
          "day_of_year": 246,
          "year": 2021
         },
         {
          "cumulative_flights": 15407,
          "day_of_year": 247,
          "year": 2021
         },
         {
          "cumulative_flights": 15646,
          "day_of_year": 248,
          "year": 2021
         },
         {
          "cumulative_flights": 15750,
          "day_of_year": 249,
          "year": 2021
         },
         {
          "cumulative_flights": 15765,
          "day_of_year": 250,
          "year": 2021
         },
         {
          "cumulative_flights": 15916,
          "day_of_year": 251,
          "year": 2021
         },
         {
          "cumulative_flights": 15967,
          "day_of_year": 252,
          "year": 2021
         },
         {
          "cumulative_flights": 16063,
          "day_of_year": 253,
          "year": 2021
         },
         {
          "cumulative_flights": 16124,
          "day_of_year": 254,
          "year": 2021
         },
         {
          "cumulative_flights": 16175,
          "day_of_year": 255,
          "year": 2021
         },
         {
          "cumulative_flights": 16205,
          "day_of_year": 256,
          "year": 2021
         },
         {
          "cumulative_flights": 16350,
          "day_of_year": 257,
          "year": 2021
         },
         {
          "cumulative_flights": 16394,
          "day_of_year": 258,
          "year": 2021
         },
         {
          "cumulative_flights": 16396,
          "day_of_year": 259,
          "year": 2021
         },
         {
          "cumulative_flights": 16455,
          "day_of_year": 260,
          "year": 2021
         },
         {
          "cumulative_flights": 16568,
          "day_of_year": 261,
          "year": 2021
         },
         {
          "cumulative_flights": 16626,
          "day_of_year": 262,
          "year": 2021
         },
         {
          "cumulative_flights": 16636,
          "day_of_year": 263,
          "year": 2021
         },
         {
          "cumulative_flights": 16665,
          "day_of_year": 264,
          "year": 2021
         },
         {
          "cumulative_flights": 16693,
          "day_of_year": 265,
          "year": 2021
         },
         {
          "cumulative_flights": 16743,
          "day_of_year": 266,
          "year": 2021
         },
         {
          "cumulative_flights": 16756,
          "day_of_year": 267,
          "year": 2021
         },
         {
          "cumulative_flights": 16910,
          "day_of_year": 268,
          "year": 2021
         },
         {
          "cumulative_flights": 17119,
          "day_of_year": 269,
          "year": 2021
         },
         {
          "cumulative_flights": 17126,
          "day_of_year": 270,
          "year": 2021
         },
         {
          "cumulative_flights": 17194,
          "day_of_year": 271,
          "year": 2021
         },
         {
          "cumulative_flights": 17201,
          "day_of_year": 272,
          "year": 2021
         },
         {
          "cumulative_flights": 17324,
          "day_of_year": 273,
          "year": 2021
         },
         {
          "cumulative_flights": 17504,
          "day_of_year": 274,
          "year": 2021
         },
         {
          "cumulative_flights": 17618,
          "day_of_year": 275,
          "year": 2021
         },
         {
          "cumulative_flights": 17711,
          "day_of_year": 276,
          "year": 2021
         },
         {
          "cumulative_flights": 17785,
          "day_of_year": 277,
          "year": 2021
         },
         {
          "cumulative_flights": 17785,
          "day_of_year": 278,
          "year": 2021
         },
         {
          "cumulative_flights": 17790,
          "day_of_year": 279,
          "year": 2021
         },
         {
          "cumulative_flights": 17805,
          "day_of_year": 280,
          "year": 2021
         },
         {
          "cumulative_flights": 17861,
          "day_of_year": 281,
          "year": 2021
         },
         {
          "cumulative_flights": 17994,
          "day_of_year": 282,
          "year": 2021
         },
         {
          "cumulative_flights": 18094,
          "day_of_year": 283,
          "year": 2021
         },
         {
          "cumulative_flights": 18129,
          "day_of_year": 284,
          "year": 2021
         },
         {
          "cumulative_flights": 18138,
          "day_of_year": 285,
          "year": 2021
         },
         {
          "cumulative_flights": 18166,
          "day_of_year": 286,
          "year": 2021
         },
         {
          "cumulative_flights": 18168,
          "day_of_year": 287,
          "year": 2021
         },
         {
          "cumulative_flights": 18179,
          "day_of_year": 288,
          "year": 2021
         },
         {
          "cumulative_flights": 18273,
          "day_of_year": 289,
          "year": 2021
         },
         {
          "cumulative_flights": 18336,
          "day_of_year": 290,
          "year": 2021
         },
         {
          "cumulative_flights": 18364,
          "day_of_year": 291,
          "year": 2021
         },
         {
          "cumulative_flights": 18401,
          "day_of_year": 292,
          "year": 2021
         },
         {
          "cumulative_flights": 18430,
          "day_of_year": 293,
          "year": 2021
         },
         {
          "cumulative_flights": 18430,
          "day_of_year": 294,
          "year": 2021
         },
         {
          "cumulative_flights": 18431,
          "day_of_year": 295,
          "year": 2021
         },
         {
          "cumulative_flights": 18468,
          "day_of_year": 296,
          "year": 2021
         },
         {
          "cumulative_flights": 18697,
          "day_of_year": 297,
          "year": 2021
         },
         {
          "cumulative_flights": 18722,
          "day_of_year": 298,
          "year": 2021
         },
         {
          "cumulative_flights": 18746,
          "day_of_year": 299,
          "year": 2021
         },
         {
          "cumulative_flights": 18772,
          "day_of_year": 300,
          "year": 2021
         },
         {
          "cumulative_flights": 18864,
          "day_of_year": 301,
          "year": 2021
         },
         {
          "cumulative_flights": 18901,
          "day_of_year": 302,
          "year": 2021
         },
         {
          "cumulative_flights": 18963,
          "day_of_year": 303,
          "year": 2021
         },
         {
          "cumulative_flights": 19121,
          "day_of_year": 304,
          "year": 2021
         },
         {
          "cumulative_flights": 19121,
          "day_of_year": 305,
          "year": 2021
         },
         {
          "cumulative_flights": 19122,
          "day_of_year": 306,
          "year": 2021
         },
         {
          "cumulative_flights": 19131,
          "day_of_year": 307,
          "year": 2021
         },
         {
          "cumulative_flights": 19131,
          "day_of_year": 308,
          "year": 2021
         },
         {
          "cumulative_flights": 19144,
          "day_of_year": 309,
          "year": 2021
         },
         {
          "cumulative_flights": 19244,
          "day_of_year": 310,
          "year": 2021
         },
         {
          "cumulative_flights": 19283,
          "day_of_year": 311,
          "year": 2021
         },
         {
          "cumulative_flights": 19298,
          "day_of_year": 312,
          "year": 2021
         },
         {
          "cumulative_flights": 19339,
          "day_of_year": 313,
          "year": 2021
         },
         {
          "cumulative_flights": 19341,
          "day_of_year": 314,
          "year": 2021
         },
         {
          "cumulative_flights": 19353,
          "day_of_year": 315,
          "year": 2021
         },
         {
          "cumulative_flights": 19357,
          "day_of_year": 316,
          "year": 2021
         },
         {
          "cumulative_flights": 19371,
          "day_of_year": 317,
          "year": 2021
         },
         {
          "cumulative_flights": 19378,
          "day_of_year": 318,
          "year": 2021
         },
         {
          "cumulative_flights": 19385,
          "day_of_year": 319,
          "year": 2021
         },
         {
          "cumulative_flights": 19413,
          "day_of_year": 320,
          "year": 2021
         },
         {
          "cumulative_flights": 19434,
          "day_of_year": 321,
          "year": 2021
         },
         {
          "cumulative_flights": 19451,
          "day_of_year": 322,
          "year": 2021
         },
         {
          "cumulative_flights": 19461,
          "day_of_year": 323,
          "year": 2021
         },
         {
          "cumulative_flights": 19538,
          "day_of_year": 324,
          "year": 2021
         },
         {
          "cumulative_flights": 19577,
          "day_of_year": 325,
          "year": 2021
         },
         {
          "cumulative_flights": 19581,
          "day_of_year": 326,
          "year": 2021
         },
         {
          "cumulative_flights": 19595,
          "day_of_year": 327,
          "year": 2021
         },
         {
          "cumulative_flights": 19616,
          "day_of_year": 328,
          "year": 2021
         },
         {
          "cumulative_flights": 19623,
          "day_of_year": 329,
          "year": 2021
         },
         {
          "cumulative_flights": 19623,
          "day_of_year": 330,
          "year": 2021
         },
         {
          "cumulative_flights": 19659,
          "day_of_year": 331,
          "year": 2021
         },
         {
          "cumulative_flights": 19659,
          "day_of_year": 332,
          "year": 2021
         },
         {
          "cumulative_flights": 19664,
          "day_of_year": 333,
          "year": 2021
         },
         {
          "cumulative_flights": 19664,
          "day_of_year": 334,
          "year": 2021
         },
         {
          "cumulative_flights": 19664,
          "day_of_year": 335,
          "year": 2021
         },
         {
          "cumulative_flights": 19668,
          "day_of_year": 336,
          "year": 2021
         },
         {
          "cumulative_flights": 19708,
          "day_of_year": 337,
          "year": 2021
         },
         {
          "cumulative_flights": 19708,
          "day_of_year": 338,
          "year": 2021
         },
         {
          "cumulative_flights": 19716,
          "day_of_year": 339,
          "year": 2021
         },
         {
          "cumulative_flights": 19723,
          "day_of_year": 340,
          "year": 2021
         },
         {
          "cumulative_flights": 19725,
          "day_of_year": 341,
          "year": 2021
         },
         {
          "cumulative_flights": 19745,
          "day_of_year": 342,
          "year": 2021
         },
         {
          "cumulative_flights": 19745,
          "day_of_year": 343,
          "year": 2021
         },
         {
          "cumulative_flights": 19748,
          "day_of_year": 344,
          "year": 2021
         },
         {
          "cumulative_flights": 19749,
          "day_of_year": 345,
          "year": 2021
         },
         {
          "cumulative_flights": 19805,
          "day_of_year": 346,
          "year": 2021
         },
         {
          "cumulative_flights": 19805,
          "day_of_year": 347,
          "year": 2021
         },
         {
          "cumulative_flights": 19805,
          "day_of_year": 348,
          "year": 2021
         },
         {
          "cumulative_flights": 19811,
          "day_of_year": 349,
          "year": 2021
         },
         {
          "cumulative_flights": 19812,
          "day_of_year": 350,
          "year": 2021
         },
         {
          "cumulative_flights": 19835,
          "day_of_year": 351,
          "year": 2021
         },
         {
          "cumulative_flights": 19873,
          "day_of_year": 352,
          "year": 2021
         },
         {
          "cumulative_flights": 19874,
          "day_of_year": 353,
          "year": 2021
         },
         {
          "cumulative_flights": 19909,
          "day_of_year": 354,
          "year": 2021
         },
         {
          "cumulative_flights": 19914,
          "day_of_year": 355,
          "year": 2021
         },
         {
          "cumulative_flights": 19933,
          "day_of_year": 356,
          "year": 2021
         },
         {
          "cumulative_flights": 19969,
          "day_of_year": 357,
          "year": 2021
         },
         {
          "cumulative_flights": 19969,
          "day_of_year": 358,
          "year": 2021
         },
         {
          "cumulative_flights": 19972,
          "day_of_year": 359,
          "year": 2021
         },
         {
          "cumulative_flights": 19988,
          "day_of_year": 360,
          "year": 2021
         },
         {
          "cumulative_flights": 20002,
          "day_of_year": 361,
          "year": 2021
         },
         {
          "cumulative_flights": 20017,
          "day_of_year": 362,
          "year": 2021
         },
         {
          "cumulative_flights": 20019,
          "day_of_year": 363,
          "year": 2021
         },
         {
          "cumulative_flights": 20019,
          "day_of_year": 364,
          "year": 2021
         },
         {
          "cumulative_flights": 20061,
          "day_of_year": 365,
          "year": 2021
         },
         {
          "cumulative_flights": 38,
          "day_of_year": 1,
          "year": 2022
         },
         {
          "cumulative_flights": 104,
          "day_of_year": 2,
          "year": 2022
         },
         {
          "cumulative_flights": 104,
          "day_of_year": 3,
          "year": 2022
         },
         {
          "cumulative_flights": 104,
          "day_of_year": 4,
          "year": 2022
         },
         {
          "cumulative_flights": 104,
          "day_of_year": 5,
          "year": 2022
         },
         {
          "cumulative_flights": 130,
          "day_of_year": 6,
          "year": 2022
         },
         {
          "cumulative_flights": 183,
          "day_of_year": 7,
          "year": 2022
         },
         {
          "cumulative_flights": 198,
          "day_of_year": 8,
          "year": 2022
         },
         {
          "cumulative_flights": 204,
          "day_of_year": 9,
          "year": 2022
         },
         {
          "cumulative_flights": 206,
          "day_of_year": 10,
          "year": 2022
         },
         {
          "cumulative_flights": 213,
          "day_of_year": 11,
          "year": 2022
         },
         {
          "cumulative_flights": 214,
          "day_of_year": 12,
          "year": 2022
         },
         {
          "cumulative_flights": 234,
          "day_of_year": 13,
          "year": 2022
         },
         {
          "cumulative_flights": 271,
          "day_of_year": 14,
          "year": 2022
         },
         {
          "cumulative_flights": 306,
          "day_of_year": 15,
          "year": 2022
         },
         {
          "cumulative_flights": 361,
          "day_of_year": 16,
          "year": 2022
         },
         {
          "cumulative_flights": 361,
          "day_of_year": 17,
          "year": 2022
         },
         {
          "cumulative_flights": 391,
          "day_of_year": 18,
          "year": 2022
         },
         {
          "cumulative_flights": 429,
          "day_of_year": 19,
          "year": 2022
         },
         {
          "cumulative_flights": 429,
          "day_of_year": 20,
          "year": 2022
         },
         {
          "cumulative_flights": 435,
          "day_of_year": 21,
          "year": 2022
         },
         {
          "cumulative_flights": 457,
          "day_of_year": 22,
          "year": 2022
         },
         {
          "cumulative_flights": 514,
          "day_of_year": 23,
          "year": 2022
         },
         {
          "cumulative_flights": 516,
          "day_of_year": 24,
          "year": 2022
         },
         {
          "cumulative_flights": 539,
          "day_of_year": 25,
          "year": 2022
         },
         {
          "cumulative_flights": 578,
          "day_of_year": 26,
          "year": 2022
         },
         {
          "cumulative_flights": 581,
          "day_of_year": 27,
          "year": 2022
         },
         {
          "cumulative_flights": 581,
          "day_of_year": 28,
          "year": 2022
         },
         {
          "cumulative_flights": 585,
          "day_of_year": 29,
          "year": 2022
         },
         {
          "cumulative_flights": 585,
          "day_of_year": 30,
          "year": 2022
         },
         {
          "cumulative_flights": 586,
          "day_of_year": 31,
          "year": 2022
         },
         {
          "cumulative_flights": 586,
          "day_of_year": 32,
          "year": 2022
         },
         {
          "cumulative_flights": 586,
          "day_of_year": 33,
          "year": 2022
         },
         {
          "cumulative_flights": 604,
          "day_of_year": 34,
          "year": 2022
         },
         {
          "cumulative_flights": 616,
          "day_of_year": 35,
          "year": 2022
         },
         {
          "cumulative_flights": 616,
          "day_of_year": 36,
          "year": 2022
         },
         {
          "cumulative_flights": 616,
          "day_of_year": 37,
          "year": 2022
         },
         {
          "cumulative_flights": 616,
          "day_of_year": 38,
          "year": 2022
         },
         {
          "cumulative_flights": 617,
          "day_of_year": 39,
          "year": 2022
         },
         {
          "cumulative_flights": 649,
          "day_of_year": 40,
          "year": 2022
         },
         {
          "cumulative_flights": 680,
          "day_of_year": 41,
          "year": 2022
         },
         {
          "cumulative_flights": 680,
          "day_of_year": 42,
          "year": 2022
         },
         {
          "cumulative_flights": 863,
          "day_of_year": 43,
          "year": 2022
         },
         {
          "cumulative_flights": 944,
          "day_of_year": 44,
          "year": 2022
         },
         {
          "cumulative_flights": 995,
          "day_of_year": 45,
          "year": 2022
         },
         {
          "cumulative_flights": 1023,
          "day_of_year": 46,
          "year": 2022
         },
         {
          "cumulative_flights": 1023,
          "day_of_year": 47,
          "year": 2022
         },
         {
          "cumulative_flights": 1023,
          "day_of_year": 48,
          "year": 2022
         },
         {
          "cumulative_flights": 1031,
          "day_of_year": 49,
          "year": 2022
         },
         {
          "cumulative_flights": 1031,
          "day_of_year": 50,
          "year": 2022
         },
         {
          "cumulative_flights": 1031,
          "day_of_year": 51,
          "year": 2022
         },
         {
          "cumulative_flights": 1031,
          "day_of_year": 52,
          "year": 2022
         },
         {
          "cumulative_flights": 1036,
          "day_of_year": 53,
          "year": 2022
         },
         {
          "cumulative_flights": 1047,
          "day_of_year": 54,
          "year": 2022
         },
         {
          "cumulative_flights": 1079,
          "day_of_year": 55,
          "year": 2022
         },
         {
          "cumulative_flights": 1101,
          "day_of_year": 56,
          "year": 2022
         },
         {
          "cumulative_flights": 1141,
          "day_of_year": 57,
          "year": 2022
         },
         {
          "cumulative_flights": 1260,
          "day_of_year": 58,
          "year": 2022
         },
         {
          "cumulative_flights": 1307,
          "day_of_year": 59,
          "year": 2022
         },
         {
          "cumulative_flights": 1386,
          "day_of_year": 60,
          "year": 2022
         },
         {
          "cumulative_flights": 1431,
          "day_of_year": 61,
          "year": 2022
         },
         {
          "cumulative_flights": 1493,
          "day_of_year": 62,
          "year": 2022
         },
         {
          "cumulative_flights": 1499,
          "day_of_year": 63,
          "year": 2022
         },
         {
          "cumulative_flights": 1559,
          "day_of_year": 64,
          "year": 2022
         },
         {
          "cumulative_flights": 1643,
          "day_of_year": 65,
          "year": 2022
         },
         {
          "cumulative_flights": 1663,
          "day_of_year": 66,
          "year": 2022
         },
         {
          "cumulative_flights": 1726,
          "day_of_year": 67,
          "year": 2022
         },
         {
          "cumulative_flights": 1774,
          "day_of_year": 68,
          "year": 2022
         },
         {
          "cumulative_flights": 1878,
          "day_of_year": 69,
          "year": 2022
         },
         {
          "cumulative_flights": 1914,
          "day_of_year": 70,
          "year": 2022
         },
         {
          "cumulative_flights": 1985,
          "day_of_year": 71,
          "year": 2022
         },
         {
          "cumulative_flights": 2071,
          "day_of_year": 72,
          "year": 2022
         },
         {
          "cumulative_flights": 2109,
          "day_of_year": 73,
          "year": 2022
         },
         {
          "cumulative_flights": 2130,
          "day_of_year": 74,
          "year": 2022
         },
         {
          "cumulative_flights": 2144,
          "day_of_year": 75,
          "year": 2022
         },
         {
          "cumulative_flights": 2280,
          "day_of_year": 76,
          "year": 2022
         },
         {
          "cumulative_flights": 2328,
          "day_of_year": 77,
          "year": 2022
         },
         {
          "cumulative_flights": 2393,
          "day_of_year": 78,
          "year": 2022
         },
         {
          "cumulative_flights": 2451,
          "day_of_year": 79,
          "year": 2022
         },
         {
          "cumulative_flights": 2564,
          "day_of_year": 80,
          "year": 2022
         },
         {
          "cumulative_flights": 2688,
          "day_of_year": 81,
          "year": 2022
         },
         {
          "cumulative_flights": 2759,
          "day_of_year": 82,
          "year": 2022
         },
         {
          "cumulative_flights": 2870,
          "day_of_year": 83,
          "year": 2022
         },
         {
          "cumulative_flights": 3056,
          "day_of_year": 84,
          "year": 2022
         },
         {
          "cumulative_flights": 3301,
          "day_of_year": 85,
          "year": 2022
         },
         {
          "cumulative_flights": 3476,
          "day_of_year": 86,
          "year": 2022
         },
         {
          "cumulative_flights": 3586,
          "day_of_year": 87,
          "year": 2022
         },
         {
          "cumulative_flights": 3611,
          "day_of_year": 88,
          "year": 2022
         },
         {
          "cumulative_flights": 3611,
          "day_of_year": 89,
          "year": 2022
         },
         {
          "cumulative_flights": 3611,
          "day_of_year": 90,
          "year": 2022
         },
         {
          "cumulative_flights": 3611,
          "day_of_year": 91,
          "year": 2022
         },
         {
          "cumulative_flights": 3612,
          "day_of_year": 92,
          "year": 2022
         },
         {
          "cumulative_flights": 3654,
          "day_of_year": 93,
          "year": 2022
         },
         {
          "cumulative_flights": 3655,
          "day_of_year": 94,
          "year": 2022
         },
         {
          "cumulative_flights": 3655,
          "day_of_year": 95,
          "year": 2022
         },
         {
          "cumulative_flights": 3663,
          "day_of_year": 96,
          "year": 2022
         },
         {
          "cumulative_flights": 3663,
          "day_of_year": 97,
          "year": 2022
         },
         {
          "cumulative_flights": 3663,
          "day_of_year": 98,
          "year": 2022
         },
         {
          "cumulative_flights": 3671,
          "day_of_year": 99,
          "year": 2022
         },
         {
          "cumulative_flights": 3689,
          "day_of_year": 100,
          "year": 2022
         },
         {
          "cumulative_flights": 3767,
          "day_of_year": 101,
          "year": 2022
         },
         {
          "cumulative_flights": 3926,
          "day_of_year": 102,
          "year": 2022
         },
         {
          "cumulative_flights": 4063,
          "day_of_year": 103,
          "year": 2022
         },
         {
          "cumulative_flights": 4137,
          "day_of_year": 104,
          "year": 2022
         },
         {
          "cumulative_flights": 4147,
          "day_of_year": 105,
          "year": 2022
         },
         {
          "cumulative_flights": 4152,
          "day_of_year": 106,
          "year": 2022
         },
         {
          "cumulative_flights": 4283,
          "day_of_year": 107,
          "year": 2022
         },
         {
          "cumulative_flights": 4362,
          "day_of_year": 108,
          "year": 2022
         },
         {
          "cumulative_flights": 4364,
          "day_of_year": 109,
          "year": 2022
         },
         {
          "cumulative_flights": 4400,
          "day_of_year": 110,
          "year": 2022
         },
         {
          "cumulative_flights": 4464,
          "day_of_year": 111,
          "year": 2022
         },
         {
          "cumulative_flights": 4472,
          "day_of_year": 112,
          "year": 2022
         },
         {
          "cumulative_flights": 4613,
          "day_of_year": 113,
          "year": 2022
         },
         {
          "cumulative_flights": 4613,
          "day_of_year": 114,
          "year": 2022
         },
         {
          "cumulative_flights": 4623,
          "day_of_year": 115,
          "year": 2022
         },
         {
          "cumulative_flights": 4668,
          "day_of_year": 116,
          "year": 2022
         },
         {
          "cumulative_flights": 4697,
          "day_of_year": 117,
          "year": 2022
         },
         {
          "cumulative_flights": 4820,
          "day_of_year": 118,
          "year": 2022
         },
         {
          "cumulative_flights": 5115,
          "day_of_year": 119,
          "year": 2022
         },
         {
          "cumulative_flights": 5354,
          "day_of_year": 120,
          "year": 2022
         },
         {
          "cumulative_flights": 5419,
          "day_of_year": 121,
          "year": 2022
         },
         {
          "cumulative_flights": 5439,
          "day_of_year": 122,
          "year": 2022
         },
         {
          "cumulative_flights": 5446,
          "day_of_year": 123,
          "year": 2022
         },
         {
          "cumulative_flights": 5480,
          "day_of_year": 124,
          "year": 2022
         },
         {
          "cumulative_flights": 5539,
          "day_of_year": 125,
          "year": 2022
         },
         {
          "cumulative_flights": 5607,
          "day_of_year": 126,
          "year": 2022
         },
         {
          "cumulative_flights": 5784,
          "day_of_year": 127,
          "year": 2022
         },
         {
          "cumulative_flights": 5893,
          "day_of_year": 128,
          "year": 2022
         },
         {
          "cumulative_flights": 6038,
          "day_of_year": 129,
          "year": 2022
         },
         {
          "cumulative_flights": 6353,
          "day_of_year": 130,
          "year": 2022
         },
         {
          "cumulative_flights": 6399,
          "day_of_year": 131,
          "year": 2022
         },
         {
          "cumulative_flights": 6407,
          "day_of_year": 132,
          "year": 2022
         },
         {
          "cumulative_flights": 6421,
          "day_of_year": 133,
          "year": 2022
         },
         {
          "cumulative_flights": 6614,
          "day_of_year": 134,
          "year": 2022
         },
         {
          "cumulative_flights": 7031,
          "day_of_year": 135,
          "year": 2022
         },
         {
          "cumulative_flights": 7150,
          "day_of_year": 136,
          "year": 2022
         },
         {
          "cumulative_flights": 7152,
          "day_of_year": 137,
          "year": 2022
         },
         {
          "cumulative_flights": 7358,
          "day_of_year": 138,
          "year": 2022
         },
         {
          "cumulative_flights": 7444,
          "day_of_year": 139,
          "year": 2022
         },
         {
          "cumulative_flights": 7487,
          "day_of_year": 140,
          "year": 2022
         },
         {
          "cumulative_flights": 7504,
          "day_of_year": 141,
          "year": 2022
         },
         {
          "cumulative_flights": 7730,
          "day_of_year": 142,
          "year": 2022
         },
         {
          "cumulative_flights": 7842,
          "day_of_year": 143,
          "year": 2022
         },
         {
          "cumulative_flights": 7847,
          "day_of_year": 144,
          "year": 2022
         },
         {
          "cumulative_flights": 7879,
          "day_of_year": 145,
          "year": 2022
         },
         {
          "cumulative_flights": 7896,
          "day_of_year": 146,
          "year": 2022
         },
         {
          "cumulative_flights": 7899,
          "day_of_year": 147,
          "year": 2022
         },
         {
          "cumulative_flights": 7906,
          "day_of_year": 148,
          "year": 2022
         },
         {
          "cumulative_flights": 8012,
          "day_of_year": 149,
          "year": 2022
         },
         {
          "cumulative_flights": 8052,
          "day_of_year": 150,
          "year": 2022
         },
         {
          "cumulative_flights": 8178,
          "day_of_year": 151,
          "year": 2022
         },
         {
          "cumulative_flights": 8224,
          "day_of_year": 152,
          "year": 2022
         },
         {
          "cumulative_flights": 8354,
          "day_of_year": 153,
          "year": 2022
         },
         {
          "cumulative_flights": 8462,
          "day_of_year": 154,
          "year": 2022
         },
         {
          "cumulative_flights": 8517,
          "day_of_year": 155,
          "year": 2022
         },
         {
          "cumulative_flights": 8718,
          "day_of_year": 156,
          "year": 2022
         },
         {
          "cumulative_flights": 8738,
          "day_of_year": 157,
          "year": 2022
         },
         {
          "cumulative_flights": 8750,
          "day_of_year": 158,
          "year": 2022
         },
         {
          "cumulative_flights": 8795,
          "day_of_year": 159,
          "year": 2022
         },
         {
          "cumulative_flights": 8797,
          "day_of_year": 160,
          "year": 2022
         },
         {
          "cumulative_flights": 8847,
          "day_of_year": 161,
          "year": 2022
         },
         {
          "cumulative_flights": 9070,
          "day_of_year": 162,
          "year": 2022
         },
         {
          "cumulative_flights": 9414,
          "day_of_year": 163,
          "year": 2022
         },
         {
          "cumulative_flights": 9418,
          "day_of_year": 164,
          "year": 2022
         },
         {
          "cumulative_flights": 9508,
          "day_of_year": 165,
          "year": 2022
         },
         {
          "cumulative_flights": 9772,
          "day_of_year": 166,
          "year": 2022
         },
         {
          "cumulative_flights": 9822,
          "day_of_year": 167,
          "year": 2022
         },
         {
          "cumulative_flights": 9969,
          "day_of_year": 168,
          "year": 2022
         },
         {
          "cumulative_flights": 10257,
          "day_of_year": 169,
          "year": 2022
         },
         {
          "cumulative_flights": 10271,
          "day_of_year": 170,
          "year": 2022
         },
         {
          "cumulative_flights": 10273,
          "day_of_year": 171,
          "year": 2022
         },
         {
          "cumulative_flights": 10322,
          "day_of_year": 172,
          "year": 2022
         },
         {
          "cumulative_flights": 10468,
          "day_of_year": 173,
          "year": 2022
         },
         {
          "cumulative_flights": 10788,
          "day_of_year": 174,
          "year": 2022
         },
         {
          "cumulative_flights": 10823,
          "day_of_year": 175,
          "year": 2022
         },
         {
          "cumulative_flights": 10832,
          "day_of_year": 176,
          "year": 2022
         },
         {
          "cumulative_flights": 11105,
          "day_of_year": 177,
          "year": 2022
         },
         {
          "cumulative_flights": 11160,
          "day_of_year": 178,
          "year": 2022
         },
         {
          "cumulative_flights": 11176,
          "day_of_year": 179,
          "year": 2022
         },
         {
          "cumulative_flights": 11182,
          "day_of_year": 180,
          "year": 2022
         },
         {
          "cumulative_flights": 11208,
          "day_of_year": 181,
          "year": 2022
         },
         {
          "cumulative_flights": 11219,
          "day_of_year": 182,
          "year": 2022
         },
         {
          "cumulative_flights": 11451,
          "day_of_year": 183,
          "year": 2022
         },
         {
          "cumulative_flights": 11681,
          "day_of_year": 184,
          "year": 2022
         },
         {
          "cumulative_flights": 11717,
          "day_of_year": 185,
          "year": 2022
         },
         {
          "cumulative_flights": 11763,
          "day_of_year": 186,
          "year": 2022
         },
         {
          "cumulative_flights": 11832,
          "day_of_year": 187,
          "year": 2022
         },
         {
          "cumulative_flights": 11842,
          "day_of_year": 188,
          "year": 2022
         },
         {
          "cumulative_flights": 11856,
          "day_of_year": 189,
          "year": 2022
         },
         {
          "cumulative_flights": 11884,
          "day_of_year": 190,
          "year": 2022
         },
         {
          "cumulative_flights": 11894,
          "day_of_year": 191,
          "year": 2022
         },
         {
          "cumulative_flights": 11926,
          "day_of_year": 192,
          "year": 2022
         },
         {
          "cumulative_flights": 11969,
          "day_of_year": 193,
          "year": 2022
         },
         {
          "cumulative_flights": 12056,
          "day_of_year": 194,
          "year": 2022
         },
         {
          "cumulative_flights": 12065,
          "day_of_year": 195,
          "year": 2022
         },
         {
          "cumulative_flights": 12175,
          "day_of_year": 196,
          "year": 2022
         },
         {
          "cumulative_flights": 12206,
          "day_of_year": 197,
          "year": 2022
         },
         {
          "cumulative_flights": 12503,
          "day_of_year": 198,
          "year": 2022
         },
         {
          "cumulative_flights": 12605,
          "day_of_year": 199,
          "year": 2022
         },
         {
          "cumulative_flights": 12810,
          "day_of_year": 200,
          "year": 2022
         },
         {
          "cumulative_flights": 12965,
          "day_of_year": 201,
          "year": 2022
         },
         {
          "cumulative_flights": 13012,
          "day_of_year": 202,
          "year": 2022
         },
         {
          "cumulative_flights": 13159,
          "day_of_year": 203,
          "year": 2022
         },
         {
          "cumulative_flights": 13165,
          "day_of_year": 204,
          "year": 2022
         },
         {
          "cumulative_flights": 13425,
          "day_of_year": 205,
          "year": 2022
         },
         {
          "cumulative_flights": 13491,
          "day_of_year": 206,
          "year": 2022
         },
         {
          "cumulative_flights": 13512,
          "day_of_year": 207,
          "year": 2022
         },
         {
          "cumulative_flights": 13532,
          "day_of_year": 208,
          "year": 2022
         },
         {
          "cumulative_flights": 13709,
          "day_of_year": 209,
          "year": 2022
         },
         {
          "cumulative_flights": 13715,
          "day_of_year": 210,
          "year": 2022
         },
         {
          "cumulative_flights": 13716,
          "day_of_year": 211,
          "year": 2022
         },
         {
          "cumulative_flights": 13811,
          "day_of_year": 212,
          "year": 2022
         },
         {
          "cumulative_flights": 13829,
          "day_of_year": 213,
          "year": 2022
         },
         {
          "cumulative_flights": 13870,
          "day_of_year": 214,
          "year": 2022
         },
         {
          "cumulative_flights": 14144,
          "day_of_year": 215,
          "year": 2022
         },
         {
          "cumulative_flights": 14307,
          "day_of_year": 216,
          "year": 2022
         },
         {
          "cumulative_flights": 14380,
          "day_of_year": 217,
          "year": 2022
         },
         {
          "cumulative_flights": 14401,
          "day_of_year": 218,
          "year": 2022
         },
         {
          "cumulative_flights": 14560,
          "day_of_year": 219,
          "year": 2022
         },
         {
          "cumulative_flights": 14637,
          "day_of_year": 220,
          "year": 2022
         },
         {
          "cumulative_flights": 14744,
          "day_of_year": 221,
          "year": 2022
         },
         {
          "cumulative_flights": 14887,
          "day_of_year": 222,
          "year": 2022
         },
         {
          "cumulative_flights": 15011,
          "day_of_year": 223,
          "year": 2022
         },
         {
          "cumulative_flights": 15110,
          "day_of_year": 224,
          "year": 2022
         },
         {
          "cumulative_flights": 15169,
          "day_of_year": 225,
          "year": 2022
         },
         {
          "cumulative_flights": 15244,
          "day_of_year": 226,
          "year": 2022
         },
         {
          "cumulative_flights": 15257,
          "day_of_year": 227,
          "year": 2022
         },
         {
          "cumulative_flights": 15378,
          "day_of_year": 228,
          "year": 2022
         },
         {
          "cumulative_flights": 15702,
          "day_of_year": 229,
          "year": 2022
         },
         {
          "cumulative_flights": 15757,
          "day_of_year": 230,
          "year": 2022
         },
         {
          "cumulative_flights": 15770,
          "day_of_year": 231,
          "year": 2022
         },
         {
          "cumulative_flights": 15773,
          "day_of_year": 232,
          "year": 2022
         },
         {
          "cumulative_flights": 15782,
          "day_of_year": 233,
          "year": 2022
         },
         {
          "cumulative_flights": 15784,
          "day_of_year": 234,
          "year": 2022
         },
         {
          "cumulative_flights": 15785,
          "day_of_year": 235,
          "year": 2022
         },
         {
          "cumulative_flights": 15799,
          "day_of_year": 236,
          "year": 2022
         },
         {
          "cumulative_flights": 15818,
          "day_of_year": 237,
          "year": 2022
         },
         {
          "cumulative_flights": 15858,
          "day_of_year": 238,
          "year": 2022
         },
         {
          "cumulative_flights": 15867,
          "day_of_year": 239,
          "year": 2022
         },
         {
          "cumulative_flights": 15900,
          "day_of_year": 240,
          "year": 2022
         },
         {
          "cumulative_flights": 15968,
          "day_of_year": 241,
          "year": 2022
         },
         {
          "cumulative_flights": 16099,
          "day_of_year": 242,
          "year": 2022
         },
         {
          "cumulative_flights": 16134,
          "day_of_year": 243,
          "year": 2022
         },
         {
          "cumulative_flights": 16188,
          "day_of_year": 244,
          "year": 2022
         },
         {
          "cumulative_flights": 16288,
          "day_of_year": 245,
          "year": 2022
         },
         {
          "cumulative_flights": 16498,
          "day_of_year": 246,
          "year": 2022
         },
         {
          "cumulative_flights": 16599,
          "day_of_year": 247,
          "year": 2022
         },
         {
          "cumulative_flights": 16649,
          "day_of_year": 248,
          "year": 2022
         },
         {
          "cumulative_flights": 16675,
          "day_of_year": 249,
          "year": 2022
         },
         {
          "cumulative_flights": 16709,
          "day_of_year": 250,
          "year": 2022
         },
         {
          "cumulative_flights": 16710,
          "day_of_year": 251,
          "year": 2022
         },
         {
          "cumulative_flights": 16771,
          "day_of_year": 252,
          "year": 2022
         },
         {
          "cumulative_flights": 16787,
          "day_of_year": 253,
          "year": 2022
         },
         {
          "cumulative_flights": 16808,
          "day_of_year": 254,
          "year": 2022
         },
         {
          "cumulative_flights": 16822,
          "day_of_year": 255,
          "year": 2022
         },
         {
          "cumulative_flights": 16896,
          "day_of_year": 256,
          "year": 2022
         },
         {
          "cumulative_flights": 16896,
          "day_of_year": 257,
          "year": 2022
         },
         {
          "cumulative_flights": 16900,
          "day_of_year": 258,
          "year": 2022
         },
         {
          "cumulative_flights": 16938,
          "day_of_year": 259,
          "year": 2022
         },
         {
          "cumulative_flights": 16949,
          "day_of_year": 260,
          "year": 2022
         },
         {
          "cumulative_flights": 16949,
          "day_of_year": 261,
          "year": 2022
         },
         {
          "cumulative_flights": 16951,
          "day_of_year": 262,
          "year": 2022
         },
         {
          "cumulative_flights": 16953,
          "day_of_year": 263,
          "year": 2022
         },
         {
          "cumulative_flights": 16970,
          "day_of_year": 264,
          "year": 2022
         },
         {
          "cumulative_flights": 16974,
          "day_of_year": 265,
          "year": 2022
         },
         {
          "cumulative_flights": 17144,
          "day_of_year": 266,
          "year": 2022
         },
         {
          "cumulative_flights": 17264,
          "day_of_year": 267,
          "year": 2022
         },
         {
          "cumulative_flights": 17295,
          "day_of_year": 268,
          "year": 2022
         },
         {
          "cumulative_flights": 17321,
          "day_of_year": 269,
          "year": 2022
         },
         {
          "cumulative_flights": 17321,
          "day_of_year": 270,
          "year": 2022
         },
         {
          "cumulative_flights": 17336,
          "day_of_year": 271,
          "year": 2022
         },
         {
          "cumulative_flights": 17355,
          "day_of_year": 272,
          "year": 2022
         },
         {
          "cumulative_flights": 17400,
          "day_of_year": 273,
          "year": 2022
         },
         {
          "cumulative_flights": 17429,
          "day_of_year": 274,
          "year": 2022
         },
         {
          "cumulative_flights": 17438,
          "day_of_year": 275,
          "year": 2022
         },
         {
          "cumulative_flights": 17444,
          "day_of_year": 276,
          "year": 2022
         },
         {
          "cumulative_flights": 17460,
          "day_of_year": 277,
          "year": 2022
         },
         {
          "cumulative_flights": 17504,
          "day_of_year": 278,
          "year": 2022
         },
         {
          "cumulative_flights": 17557,
          "day_of_year": 279,
          "year": 2022
         },
         {
          "cumulative_flights": 17644,
          "day_of_year": 280,
          "year": 2022
         },
         {
          "cumulative_flights": 17689,
          "day_of_year": 281,
          "year": 2022
         },
         {
          "cumulative_flights": 17927,
          "day_of_year": 282,
          "year": 2022
         },
         {
          "cumulative_flights": 17952,
          "day_of_year": 283,
          "year": 2022
         },
         {
          "cumulative_flights": 17970,
          "day_of_year": 284,
          "year": 2022
         },
         {
          "cumulative_flights": 18059,
          "day_of_year": 285,
          "year": 2022
         },
         {
          "cumulative_flights": 18100,
          "day_of_year": 286,
          "year": 2022
         },
         {
          "cumulative_flights": 18117,
          "day_of_year": 287,
          "year": 2022
         },
         {
          "cumulative_flights": 18137,
          "day_of_year": 288,
          "year": 2022
         },
         {
          "cumulative_flights": 18221,
          "day_of_year": 289,
          "year": 2022
         },
         {
          "cumulative_flights": 18317,
          "day_of_year": 290,
          "year": 2022
         },
         {
          "cumulative_flights": 18329,
          "day_of_year": 291,
          "year": 2022
         },
         {
          "cumulative_flights": 18358,
          "day_of_year": 292,
          "year": 2022
         },
         {
          "cumulative_flights": 18524,
          "day_of_year": 293,
          "year": 2022
         },
         {
          "cumulative_flights": 18525,
          "day_of_year": 294,
          "year": 2022
         },
         {
          "cumulative_flights": 18535,
          "day_of_year": 295,
          "year": 2022
         },
         {
          "cumulative_flights": 18619,
          "day_of_year": 296,
          "year": 2022
         },
         {
          "cumulative_flights": 18620,
          "day_of_year": 297,
          "year": 2022
         },
         {
          "cumulative_flights": 18665,
          "day_of_year": 298,
          "year": 2022
         },
         {
          "cumulative_flights": 18686,
          "day_of_year": 299,
          "year": 2022
         },
         {
          "cumulative_flights": 18705,
          "day_of_year": 300,
          "year": 2022
         },
         {
          "cumulative_flights": 18725,
          "day_of_year": 301,
          "year": 2022
         },
         {
          "cumulative_flights": 18759,
          "day_of_year": 302,
          "year": 2022
         },
         {
          "cumulative_flights": 18802,
          "day_of_year": 303,
          "year": 2022
         },
         {
          "cumulative_flights": 18829,
          "day_of_year": 304,
          "year": 2022
         },
         {
          "cumulative_flights": 18830,
          "day_of_year": 305,
          "year": 2022
         },
         {
          "cumulative_flights": 18861,
          "day_of_year": 306,
          "year": 2022
         },
         {
          "cumulative_flights": 18890,
          "day_of_year": 307,
          "year": 2022
         },
         {
          "cumulative_flights": 18890,
          "day_of_year": 308,
          "year": 2022
         },
         {
          "cumulative_flights": 18906,
          "day_of_year": 309,
          "year": 2022
         },
         {
          "cumulative_flights": 18979,
          "day_of_year": 310,
          "year": 2022
         },
         {
          "cumulative_flights": 18998,
          "day_of_year": 311,
          "year": 2022
         },
         {
          "cumulative_flights": 19052,
          "day_of_year": 312,
          "year": 2022
         },
         {
          "cumulative_flights": 19063,
          "day_of_year": 313,
          "year": 2022
         },
         {
          "cumulative_flights": 19101,
          "day_of_year": 314,
          "year": 2022
         },
         {
          "cumulative_flights": 19104,
          "day_of_year": 315,
          "year": 2022
         },
         {
          "cumulative_flights": 19143,
          "day_of_year": 316,
          "year": 2022
         },
         {
          "cumulative_flights": 19203,
          "day_of_year": 317,
          "year": 2022
         },
         {
          "cumulative_flights": 19239,
          "day_of_year": 318,
          "year": 2022
         },
         {
          "cumulative_flights": 19248,
          "day_of_year": 319,
          "year": 2022
         },
         {
          "cumulative_flights": 19249,
          "day_of_year": 320,
          "year": 2022
         },
         {
          "cumulative_flights": 19252,
          "day_of_year": 321,
          "year": 2022
         },
         {
          "cumulative_flights": 19252,
          "day_of_year": 322,
          "year": 2022
         },
         {
          "cumulative_flights": 19300,
          "day_of_year": 323,
          "year": 2022
         },
         {
          "cumulative_flights": 19304,
          "day_of_year": 324,
          "year": 2022
         },
         {
          "cumulative_flights": 19305,
          "day_of_year": 325,
          "year": 2022
         },
         {
          "cumulative_flights": 19309,
          "day_of_year": 326,
          "year": 2022
         },
         {
          "cumulative_flights": 19311,
          "day_of_year": 327,
          "year": 2022
         },
         {
          "cumulative_flights": 19314,
          "day_of_year": 328,
          "year": 2022
         },
         {
          "cumulative_flights": 19322,
          "day_of_year": 329,
          "year": 2022
         },
         {
          "cumulative_flights": 19376,
          "day_of_year": 330,
          "year": 2022
         },
         {
          "cumulative_flights": 19384,
          "day_of_year": 331,
          "year": 2022
         },
         {
          "cumulative_flights": 19401,
          "day_of_year": 332,
          "year": 2022
         },
         {
          "cumulative_flights": 19413,
          "day_of_year": 333,
          "year": 2022
         },
         {
          "cumulative_flights": 19419,
          "day_of_year": 334,
          "year": 2022
         },
         {
          "cumulative_flights": 19419,
          "day_of_year": 335,
          "year": 2022
         },
         {
          "cumulative_flights": 19422,
          "day_of_year": 336,
          "year": 2022
         },
         {
          "cumulative_flights": 19424,
          "day_of_year": 337,
          "year": 2022
         },
         {
          "cumulative_flights": 19454,
          "day_of_year": 338,
          "year": 2022
         },
         {
          "cumulative_flights": 19456,
          "day_of_year": 339,
          "year": 2022
         },
         {
          "cumulative_flights": 19462,
          "day_of_year": 340,
          "year": 2022
         },
         {
          "cumulative_flights": 19466,
          "day_of_year": 341,
          "year": 2022
         },
         {
          "cumulative_flights": 19481,
          "day_of_year": 342,
          "year": 2022
         },
         {
          "cumulative_flights": 19484,
          "day_of_year": 343,
          "year": 2022
         },
         {
          "cumulative_flights": 19488,
          "day_of_year": 344,
          "year": 2022
         },
         {
          "cumulative_flights": 19504,
          "day_of_year": 345,
          "year": 2022
         },
         {
          "cumulative_flights": 19508,
          "day_of_year": 346,
          "year": 2022
         },
         {
          "cumulative_flights": 19515,
          "day_of_year": 347,
          "year": 2022
         },
         {
          "cumulative_flights": 19517,
          "day_of_year": 348,
          "year": 2022
         },
         {
          "cumulative_flights": 19517,
          "day_of_year": 349,
          "year": 2022
         },
         {
          "cumulative_flights": 19517,
          "day_of_year": 350,
          "year": 2022
         },
         {
          "cumulative_flights": 19529,
          "day_of_year": 351,
          "year": 2022
         },
         {
          "cumulative_flights": 19551,
          "day_of_year": 352,
          "year": 2022
         },
         {
          "cumulative_flights": 19551,
          "day_of_year": 353,
          "year": 2022
         },
         {
          "cumulative_flights": 19558,
          "day_of_year": 354,
          "year": 2022
         },
         {
          "cumulative_flights": 19558,
          "day_of_year": 355,
          "year": 2022
         },
         {
          "cumulative_flights": 19558,
          "day_of_year": 356,
          "year": 2022
         },
         {
          "cumulative_flights": 19568,
          "day_of_year": 357,
          "year": 2022
         },
         {
          "cumulative_flights": 19571,
          "day_of_year": 358,
          "year": 2022
         },
         {
          "cumulative_flights": 19576,
          "day_of_year": 359,
          "year": 2022
         },
         {
          "cumulative_flights": 19583,
          "day_of_year": 360,
          "year": 2022
         },
         {
          "cumulative_flights": 19619,
          "day_of_year": 361,
          "year": 2022
         },
         {
          "cumulative_flights": 19630,
          "day_of_year": 362,
          "year": 2022
         },
         {
          "cumulative_flights": 19647,
          "day_of_year": 363,
          "year": 2022
         },
         {
          "cumulative_flights": 19713,
          "day_of_year": 364,
          "year": 2022
         },
         {
          "cumulative_flights": 19723,
          "day_of_year": 365,
          "year": 2022
         },
         {
          "cumulative_flights": 64,
          "day_of_year": 1,
          "year": 2023
         },
         {
          "cumulative_flights": 72,
          "day_of_year": 2,
          "year": 2023
         },
         {
          "cumulative_flights": 116,
          "day_of_year": 3,
          "year": 2023
         },
         {
          "cumulative_flights": 125,
          "day_of_year": 4,
          "year": 2023
         },
         {
          "cumulative_flights": 126,
          "day_of_year": 5,
          "year": 2023
         },
         {
          "cumulative_flights": 137,
          "day_of_year": 6,
          "year": 2023
         },
         {
          "cumulative_flights": 211,
          "day_of_year": 7,
          "year": 2023
         },
         {
          "cumulative_flights": 261,
          "day_of_year": 8,
          "year": 2023
         },
         {
          "cumulative_flights": 267,
          "day_of_year": 9,
          "year": 2023
         },
         {
          "cumulative_flights": 281,
          "day_of_year": 10,
          "year": 2023
         },
         {
          "cumulative_flights": 288,
          "day_of_year": 11,
          "year": 2023
         },
         {
          "cumulative_flights": 300,
          "day_of_year": 12,
          "year": 2023
         },
         {
          "cumulative_flights": 301,
          "day_of_year": 13,
          "year": 2023
         },
         {
          "cumulative_flights": 381,
          "day_of_year": 14,
          "year": 2023
         },
         {
          "cumulative_flights": 382,
          "day_of_year": 15,
          "year": 2023
         },
         {
          "cumulative_flights": 442,
          "day_of_year": 16,
          "year": 2023
         },
         {
          "cumulative_flights": 482,
          "day_of_year": 17,
          "year": 2023
         },
         {
          "cumulative_flights": 484,
          "day_of_year": 18,
          "year": 2023
         },
         {
          "cumulative_flights": 504,
          "day_of_year": 19,
          "year": 2023
         },
         {
          "cumulative_flights": 516,
          "day_of_year": 20,
          "year": 2023
         },
         {
          "cumulative_flights": 519,
          "day_of_year": 21,
          "year": 2023
         },
         {
          "cumulative_flights": 523,
          "day_of_year": 22,
          "year": 2023
         },
         {
          "cumulative_flights": 523,
          "day_of_year": 23,
          "year": 2023
         },
         {
          "cumulative_flights": 528,
          "day_of_year": 24,
          "year": 2023
         },
         {
          "cumulative_flights": 529,
          "day_of_year": 25,
          "year": 2023
         },
         {
          "cumulative_flights": 529,
          "day_of_year": 26,
          "year": 2023
         },
         {
          "cumulative_flights": 549,
          "day_of_year": 27,
          "year": 2023
         },
         {
          "cumulative_flights": 568,
          "day_of_year": 28,
          "year": 2023
         },
         {
          "cumulative_flights": 614,
          "day_of_year": 29,
          "year": 2023
         },
         {
          "cumulative_flights": 614,
          "day_of_year": 30,
          "year": 2023
         },
         {
          "cumulative_flights": 614,
          "day_of_year": 31,
          "year": 2023
         },
         {
          "cumulative_flights": 614,
          "day_of_year": 32,
          "year": 2023
         },
         {
          "cumulative_flights": 615,
          "day_of_year": 33,
          "year": 2023
         },
         {
          "cumulative_flights": 615,
          "day_of_year": 34,
          "year": 2023
         },
         {
          "cumulative_flights": 626,
          "day_of_year": 35,
          "year": 2023
         },
         {
          "cumulative_flights": 674,
          "day_of_year": 36,
          "year": 2023
         },
         {
          "cumulative_flights": 676,
          "day_of_year": 37,
          "year": 2023
         },
         {
          "cumulative_flights": 695,
          "day_of_year": 38,
          "year": 2023
         },
         {
          "cumulative_flights": 762,
          "day_of_year": 39,
          "year": 2023
         },
         {
          "cumulative_flights": 811,
          "day_of_year": 40,
          "year": 2023
         },
         {
          "cumulative_flights": 862,
          "day_of_year": 41,
          "year": 2023
         },
         {
          "cumulative_flights": 878,
          "day_of_year": 42,
          "year": 2023
         },
         {
          "cumulative_flights": 897,
          "day_of_year": 43,
          "year": 2023
         },
         {
          "cumulative_flights": 900,
          "day_of_year": 44,
          "year": 2023
         },
         {
          "cumulative_flights": 904,
          "day_of_year": 45,
          "year": 2023
         },
         {
          "cumulative_flights": 922,
          "day_of_year": 46,
          "year": 2023
         },
         {
          "cumulative_flights": 949,
          "day_of_year": 47,
          "year": 2023
         },
         {
          "cumulative_flights": 950,
          "day_of_year": 48,
          "year": 2023
         },
         {
          "cumulative_flights": 950,
          "day_of_year": 49,
          "year": 2023
         },
         {
          "cumulative_flights": 952,
          "day_of_year": 50,
          "year": 2023
         },
         {
          "cumulative_flights": 957,
          "day_of_year": 51,
          "year": 2023
         },
         {
          "cumulative_flights": 964,
          "day_of_year": 52,
          "year": 2023
         },
         {
          "cumulative_flights": 1011,
          "day_of_year": 53,
          "year": 2023
         },
         {
          "cumulative_flights": 1039,
          "day_of_year": 54,
          "year": 2023
         },
         {
          "cumulative_flights": 1051,
          "day_of_year": 55,
          "year": 2023
         },
         {
          "cumulative_flights": 1051,
          "day_of_year": 56,
          "year": 2023
         },
         {
          "cumulative_flights": 1061,
          "day_of_year": 57,
          "year": 2023
         },
         {
          "cumulative_flights": 1075,
          "day_of_year": 58,
          "year": 2023
         },
         {
          "cumulative_flights": 1118,
          "day_of_year": 59,
          "year": 2023
         },
         {
          "cumulative_flights": 1211,
          "day_of_year": 60,
          "year": 2023
         },
         {
          "cumulative_flights": 1278,
          "day_of_year": 61,
          "year": 2023
         },
         {
          "cumulative_flights": 1345,
          "day_of_year": 62,
          "year": 2023
         },
         {
          "cumulative_flights": 1351,
          "day_of_year": 63,
          "year": 2023
         },
         {
          "cumulative_flights": 1355,
          "day_of_year": 64,
          "year": 2023
         },
         {
          "cumulative_flights": 1373,
          "day_of_year": 65,
          "year": 2023
         },
         {
          "cumulative_flights": 1373,
          "day_of_year": 66,
          "year": 2023
         },
         {
          "cumulative_flights": 1376,
          "day_of_year": 67,
          "year": 2023
         },
         {
          "cumulative_flights": 1377,
          "day_of_year": 68,
          "year": 2023
         },
         {
          "cumulative_flights": 1394,
          "day_of_year": 69,
          "year": 2023
         },
         {
          "cumulative_flights": 1397,
          "day_of_year": 70,
          "year": 2023
         },
         {
          "cumulative_flights": 1502,
          "day_of_year": 71,
          "year": 2023
         },
         {
          "cumulative_flights": 1503,
          "day_of_year": 72,
          "year": 2023
         },
         {
          "cumulative_flights": 1504,
          "day_of_year": 73,
          "year": 2023
         },
         {
          "cumulative_flights": 1520,
          "day_of_year": 74,
          "year": 2023
         },
         {
          "cumulative_flights": 1690,
          "day_of_year": 75,
          "year": 2023
         },
         {
          "cumulative_flights": 1786,
          "day_of_year": 76,
          "year": 2023
         },
         {
          "cumulative_flights": 1910,
          "day_of_year": 77,
          "year": 2023
         },
         {
          "cumulative_flights": 2044,
          "day_of_year": 78,
          "year": 2023
         },
         {
          "cumulative_flights": 2074,
          "day_of_year": 79,
          "year": 2023
         },
         {
          "cumulative_flights": 2094,
          "day_of_year": 80,
          "year": 2023
         },
         {
          "cumulative_flights": 2148,
          "day_of_year": 81,
          "year": 2023
         },
         {
          "cumulative_flights": 2158,
          "day_of_year": 82,
          "year": 2023
         },
         {
          "cumulative_flights": 2162,
          "day_of_year": 83,
          "year": 2023
         },
         {
          "cumulative_flights": 2162,
          "day_of_year": 84,
          "year": 2023
         },
         {
          "cumulative_flights": 2190,
          "day_of_year": 85,
          "year": 2023
         },
         {
          "cumulative_flights": 2190,
          "day_of_year": 86,
          "year": 2023
         },
         {
          "cumulative_flights": 2191,
          "day_of_year": 87,
          "year": 2023
         },
         {
          "cumulative_flights": 2264,
          "day_of_year": 88,
          "year": 2023
         },
         {
          "cumulative_flights": 2266,
          "day_of_year": 89,
          "year": 2023
         },
         {
          "cumulative_flights": 2267,
          "day_of_year": 90,
          "year": 2023
         },
         {
          "cumulative_flights": 2276,
          "day_of_year": 91,
          "year": 2023
         },
         {
          "cumulative_flights": 2279,
          "day_of_year": 92,
          "year": 2023
         },
         {
          "cumulative_flights": 2281,
          "day_of_year": 93,
          "year": 2023
         },
         {
          "cumulative_flights": 2307,
          "day_of_year": 94,
          "year": 2023
         },
         {
          "cumulative_flights": 2359,
          "day_of_year": 95,
          "year": 2023
         },
         {
          "cumulative_flights": 2490,
          "day_of_year": 96,
          "year": 2023
         },
         {
          "cumulative_flights": 2573,
          "day_of_year": 97,
          "year": 2023
         },
         {
          "cumulative_flights": 2592,
          "day_of_year": 98,
          "year": 2023
         },
         {
          "cumulative_flights": 2676,
          "day_of_year": 99,
          "year": 2023
         },
         {
          "cumulative_flights": 2899,
          "day_of_year": 100,
          "year": 2023
         },
         {
          "cumulative_flights": 2899,
          "day_of_year": 101,
          "year": 2023
         },
         {
          "cumulative_flights": 2967,
          "day_of_year": 102,
          "year": 2023
         },
         {
          "cumulative_flights": 2972,
          "day_of_year": 103,
          "year": 2023
         },
         {
          "cumulative_flights": 2972,
          "day_of_year": 104,
          "year": 2023
         },
         {
          "cumulative_flights": 3011,
          "day_of_year": 105,
          "year": 2023
         },
         {
          "cumulative_flights": 3102,
          "day_of_year": 106,
          "year": 2023
         },
         {
          "cumulative_flights": 3116,
          "day_of_year": 107,
          "year": 2023
         },
         {
          "cumulative_flights": 3126,
          "day_of_year": 108,
          "year": 2023
         },
         {
          "cumulative_flights": 3145,
          "day_of_year": 109,
          "year": 2023
         },
         {
          "cumulative_flights": 3183,
          "day_of_year": 110,
          "year": 2023
         },
         {
          "cumulative_flights": 3297,
          "day_of_year": 111,
          "year": 2023
         },
         {
          "cumulative_flights": 3721,
          "day_of_year": 112,
          "year": 2023
         },
         {
          "cumulative_flights": 3745,
          "day_of_year": 113,
          "year": 2023
         },
         {
          "cumulative_flights": 3746,
          "day_of_year": 114,
          "year": 2023
         },
         {
          "cumulative_flights": 3767,
          "day_of_year": 115,
          "year": 2023
         },
         {
          "cumulative_flights": 3838,
          "day_of_year": 116,
          "year": 2023
         },
         {
          "cumulative_flights": 3978,
          "day_of_year": 117,
          "year": 2023
         },
         {
          "cumulative_flights": 4014,
          "day_of_year": 118,
          "year": 2023
         },
         {
          "cumulative_flights": 4014,
          "day_of_year": 119,
          "year": 2023
         },
         {
          "cumulative_flights": 4156,
          "day_of_year": 120,
          "year": 2023
         },
         {
          "cumulative_flights": 4332,
          "day_of_year": 121,
          "year": 2023
         },
         {
          "cumulative_flights": 4336,
          "day_of_year": 122,
          "year": 2023
         },
         {
          "cumulative_flights": 4417,
          "day_of_year": 123,
          "year": 2023
         },
         {
          "cumulative_flights": 4593,
          "day_of_year": 124,
          "year": 2023
         },
         {
          "cumulative_flights": 4808,
          "day_of_year": 125,
          "year": 2023
         },
         {
          "cumulative_flights": 4825,
          "day_of_year": 126,
          "year": 2023
         },
         {
          "cumulative_flights": 4903,
          "day_of_year": 127,
          "year": 2023
         },
         {
          "cumulative_flights": 5037,
          "day_of_year": 128,
          "year": 2023
         },
         {
          "cumulative_flights": 5100,
          "day_of_year": 129,
          "year": 2023
         },
         {
          "cumulative_flights": 5142,
          "day_of_year": 130,
          "year": 2023
         },
         {
          "cumulative_flights": 5175,
          "day_of_year": 131,
          "year": 2023
         },
         {
          "cumulative_flights": 5210,
          "day_of_year": 132,
          "year": 2023
         },
         {
          "cumulative_flights": 5246,
          "day_of_year": 133,
          "year": 2023
         },
         {
          "cumulative_flights": 5307,
          "day_of_year": 134,
          "year": 2023
         },
         {
          "cumulative_flights": 5324,
          "day_of_year": 135,
          "year": 2023
         },
         {
          "cumulative_flights": 5330,
          "day_of_year": 136,
          "year": 2023
         },
         {
          "cumulative_flights": 5338,
          "day_of_year": 137,
          "year": 2023
         },
         {
          "cumulative_flights": 5382,
          "day_of_year": 138,
          "year": 2023
         },
         {
          "cumulative_flights": 5427,
          "day_of_year": 139,
          "year": 2023
         },
         {
          "cumulative_flights": 5505,
          "day_of_year": 140,
          "year": 2023
         },
         {
          "cumulative_flights": 5708,
          "day_of_year": 141,
          "year": 2023
         },
         {
          "cumulative_flights": 5884,
          "day_of_year": 142,
          "year": 2023
         },
         {
          "cumulative_flights": 5886,
          "day_of_year": 143,
          "year": 2023
         },
         {
          "cumulative_flights": 5948,
          "day_of_year": 144,
          "year": 2023
         },
         {
          "cumulative_flights": 6069,
          "day_of_year": 145,
          "year": 2023
         },
         {
          "cumulative_flights": 6155,
          "day_of_year": 146,
          "year": 2023
         },
         {
          "cumulative_flights": 6451,
          "day_of_year": 147,
          "year": 2023
         },
         {
          "cumulative_flights": 6862,
          "day_of_year": 148,
          "year": 2023
         },
         {
          "cumulative_flights": 6970,
          "day_of_year": 149,
          "year": 2023
         },
         {
          "cumulative_flights": 6997,
          "day_of_year": 150,
          "year": 2023
         },
         {
          "cumulative_flights": 7085,
          "day_of_year": 151,
          "year": 2023
         },
         {
          "cumulative_flights": 7313,
          "day_of_year": 152,
          "year": 2023
         },
         {
          "cumulative_flights": 7416,
          "day_of_year": 153,
          "year": 2023
         },
         {
          "cumulative_flights": 7508,
          "day_of_year": 154,
          "year": 2023
         },
         {
          "cumulative_flights": 7887,
          "day_of_year": 155,
          "year": 2023
         },
         {
          "cumulative_flights": 7897,
          "day_of_year": 156,
          "year": 2023
         },
         {
          "cumulative_flights": 7900,
          "day_of_year": 157,
          "year": 2023
         },
         {
          "cumulative_flights": 7907,
          "day_of_year": 158,
          "year": 2023
         },
         {
          "cumulative_flights": 7926,
          "day_of_year": 159,
          "year": 2023
         },
         {
          "cumulative_flights": 7960,
          "day_of_year": 160,
          "year": 2023
         },
         {
          "cumulative_flights": 7991,
          "day_of_year": 161,
          "year": 2023
         },
         {
          "cumulative_flights": 8077,
          "day_of_year": 162,
          "year": 2023
         },
         {
          "cumulative_flights": 8124,
          "day_of_year": 163,
          "year": 2023
         },
         {
          "cumulative_flights": 8171,
          "day_of_year": 164,
          "year": 2023
         },
         {
          "cumulative_flights": 8214,
          "day_of_year": 165,
          "year": 2023
         },
         {
          "cumulative_flights": 8277,
          "day_of_year": 166,
          "year": 2023
         },
         {
          "cumulative_flights": 8338,
          "day_of_year": 167,
          "year": 2023
         },
         {
          "cumulative_flights": 8365,
          "day_of_year": 168,
          "year": 2023
         },
         {
          "cumulative_flights": 8712,
          "day_of_year": 169,
          "year": 2023
         },
         {
          "cumulative_flights": 8802,
          "day_of_year": 170,
          "year": 2023
         },
         {
          "cumulative_flights": 8883,
          "day_of_year": 171,
          "year": 2023
         },
         {
          "cumulative_flights": 8900,
          "day_of_year": 172,
          "year": 2023
         },
         {
          "cumulative_flights": 9003,
          "day_of_year": 173,
          "year": 2023
         },
         {
          "cumulative_flights": 9007,
          "day_of_year": 174,
          "year": 2023
         },
         {
          "cumulative_flights": 9078,
          "day_of_year": 175,
          "year": 2023
         },
         {
          "cumulative_flights": 9375,
          "day_of_year": 176,
          "year": 2023
         },
         {
          "cumulative_flights": 9526,
          "day_of_year": 177,
          "year": 2023
         },
         {
          "cumulative_flights": 9529,
          "day_of_year": 178,
          "year": 2023
         },
         {
          "cumulative_flights": 9546,
          "day_of_year": 179,
          "year": 2023
         },
         {
          "cumulative_flights": 9784,
          "day_of_year": 180,
          "year": 2023
         },
         {
          "cumulative_flights": 9829,
          "day_of_year": 181,
          "year": 2023
         },
         {
          "cumulative_flights": 9884,
          "day_of_year": 182,
          "year": 2023
         },
         {
          "cumulative_flights": 9894,
          "day_of_year": 183,
          "year": 2023
         },
         {
          "cumulative_flights": 9910,
          "day_of_year": 184,
          "year": 2023
         },
         {
          "cumulative_flights": 9977,
          "day_of_year": 185,
          "year": 2023
         },
         {
          "cumulative_flights": 9984,
          "day_of_year": 186,
          "year": 2023
         },
         {
          "cumulative_flights": 10151,
          "day_of_year": 187,
          "year": 2023
         },
         {
          "cumulative_flights": 10425,
          "day_of_year": 188,
          "year": 2023
         },
         {
          "cumulative_flights": 10706,
          "day_of_year": 189,
          "year": 2023
         },
         {
          "cumulative_flights": 10956,
          "day_of_year": 190,
          "year": 2023
         },
         {
          "cumulative_flights": 10960,
          "day_of_year": 191,
          "year": 2023
         },
         {
          "cumulative_flights": 11091,
          "day_of_year": 192,
          "year": 2023
         },
         {
          "cumulative_flights": 11095,
          "day_of_year": 193,
          "year": 2023
         },
         {
          "cumulative_flights": 11105,
          "day_of_year": 194,
          "year": 2023
         },
         {
          "cumulative_flights": 11304,
          "day_of_year": 195,
          "year": 2023
         },
         {
          "cumulative_flights": 11403,
          "day_of_year": 196,
          "year": 2023
         },
         {
          "cumulative_flights": 11438,
          "day_of_year": 197,
          "year": 2023
         },
         {
          "cumulative_flights": 11445,
          "day_of_year": 198,
          "year": 2023
         },
         {
          "cumulative_flights": 11659,
          "day_of_year": 199,
          "year": 2023
         },
         {
          "cumulative_flights": 11675,
          "day_of_year": 200,
          "year": 2023
         },
         {
          "cumulative_flights": 11697,
          "day_of_year": 201,
          "year": 2023
         },
         {
          "cumulative_flights": 11712,
          "day_of_year": 202,
          "year": 2023
         },
         {
          "cumulative_flights": 11806,
          "day_of_year": 203,
          "year": 2023
         },
         {
          "cumulative_flights": 11810,
          "day_of_year": 204,
          "year": 2023
         },
         {
          "cumulative_flights": 11818,
          "day_of_year": 205,
          "year": 2023
         },
         {
          "cumulative_flights": 11832,
          "day_of_year": 206,
          "year": 2023
         },
         {
          "cumulative_flights": 11844,
          "day_of_year": 207,
          "year": 2023
         },
         {
          "cumulative_flights": 11949,
          "day_of_year": 208,
          "year": 2023
         },
         {
          "cumulative_flights": 11963,
          "day_of_year": 209,
          "year": 2023
         },
         {
          "cumulative_flights": 11998,
          "day_of_year": 210,
          "year": 2023
         },
         {
          "cumulative_flights": 12019,
          "day_of_year": 211,
          "year": 2023
         },
         {
          "cumulative_flights": 12061,
          "day_of_year": 212,
          "year": 2023
         },
         {
          "cumulative_flights": 12061,
          "day_of_year": 213,
          "year": 2023
         },
         {
          "cumulative_flights": 12071,
          "day_of_year": 214,
          "year": 2023
         },
         {
          "cumulative_flights": 12072,
          "day_of_year": 215,
          "year": 2023
         },
         {
          "cumulative_flights": 12124,
          "day_of_year": 216,
          "year": 2023
         },
         {
          "cumulative_flights": 12124,
          "day_of_year": 217,
          "year": 2023
         },
         {
          "cumulative_flights": 12126,
          "day_of_year": 218,
          "year": 2023
         },
         {
          "cumulative_flights": 12126,
          "day_of_year": 219,
          "year": 2023
         },
         {
          "cumulative_flights": 12150,
          "day_of_year": 220,
          "year": 2023
         },
         {
          "cumulative_flights": 12164,
          "day_of_year": 221,
          "year": 2023
         },
         {
          "cumulative_flights": 12312,
          "day_of_year": 222,
          "year": 2023
         },
         {
          "cumulative_flights": 12514,
          "day_of_year": 223,
          "year": 2023
         },
         {
          "cumulative_flights": 12702,
          "day_of_year": 224,
          "year": 2023
         },
         {
          "cumulative_flights": 12837,
          "day_of_year": 225,
          "year": 2023
         },
         {
          "cumulative_flights": 12895,
          "day_of_year": 226,
          "year": 2023
         },
         {
          "cumulative_flights": 12984,
          "day_of_year": 227,
          "year": 2023
         },
         {
          "cumulative_flights": 13014,
          "day_of_year": 228,
          "year": 2023
         },
         {
          "cumulative_flights": 13074,
          "day_of_year": 229,
          "year": 2023
         },
         {
          "cumulative_flights": 13125,
          "day_of_year": 230,
          "year": 2023
         },
         {
          "cumulative_flights": 13380,
          "day_of_year": 231,
          "year": 2023
         },
         {
          "cumulative_flights": 13499,
          "day_of_year": 232,
          "year": 2023
         },
         {
          "cumulative_flights": 13578,
          "day_of_year": 233,
          "year": 2023
         },
         {
          "cumulative_flights": 13670,
          "day_of_year": 234,
          "year": 2023
         },
         {
          "cumulative_flights": 13815,
          "day_of_year": 235,
          "year": 2023
         },
         {
          "cumulative_flights": 13955,
          "day_of_year": 236,
          "year": 2023
         },
         {
          "cumulative_flights": 13990,
          "day_of_year": 237,
          "year": 2023
         },
         {
          "cumulative_flights": 14001,
          "day_of_year": 238,
          "year": 2023
         },
         {
          "cumulative_flights": 14004,
          "day_of_year": 239,
          "year": 2023
         },
         {
          "cumulative_flights": 14008,
          "day_of_year": 240,
          "year": 2023
         },
         {
          "cumulative_flights": 14011,
          "day_of_year": 241,
          "year": 2023
         },
         {
          "cumulative_flights": 14017,
          "day_of_year": 242,
          "year": 2023
         },
         {
          "cumulative_flights": 14049,
          "day_of_year": 243,
          "year": 2023
         },
         {
          "cumulative_flights": 14082,
          "day_of_year": 244,
          "year": 2023
         },
         {
          "cumulative_flights": 14195,
          "day_of_year": 245,
          "year": 2023
         },
         {
          "cumulative_flights": 14257,
          "day_of_year": 246,
          "year": 2023
         },
         {
          "cumulative_flights": 14346,
          "day_of_year": 247,
          "year": 2023
         },
         {
          "cumulative_flights": 14507,
          "day_of_year": 248,
          "year": 2023
         },
         {
          "cumulative_flights": 14659,
          "day_of_year": 249,
          "year": 2023
         },
         {
          "cumulative_flights": 14783,
          "day_of_year": 250,
          "year": 2023
         },
         {
          "cumulative_flights": 14988,
          "day_of_year": 251,
          "year": 2023
         },
         {
          "cumulative_flights": 15215,
          "day_of_year": 252,
          "year": 2023
         },
         {
          "cumulative_flights": 15453,
          "day_of_year": 253,
          "year": 2023
         },
         {
          "cumulative_flights": 15568,
          "day_of_year": 254,
          "year": 2023
         },
         {
          "cumulative_flights": 15682,
          "day_of_year": 255,
          "year": 2023
         },
         {
          "cumulative_flights": 15695,
          "day_of_year": 256,
          "year": 2023
         },
         {
          "cumulative_flights": 15721,
          "day_of_year": 257,
          "year": 2023
         },
         {
          "cumulative_flights": 15887,
          "day_of_year": 258,
          "year": 2023
         },
         {
          "cumulative_flights": 16078,
          "day_of_year": 259,
          "year": 2023
         },
         {
          "cumulative_flights": 16380,
          "day_of_year": 260,
          "year": 2023
         },
         {
          "cumulative_flights": 16382,
          "day_of_year": 261,
          "year": 2023
         },
         {
          "cumulative_flights": 16401,
          "day_of_year": 262,
          "year": 2023
         },
         {
          "cumulative_flights": 16541,
          "day_of_year": 263,
          "year": 2023
         },
         {
          "cumulative_flights": 16583,
          "day_of_year": 264,
          "year": 2023
         },
         {
          "cumulative_flights": 16586,
          "day_of_year": 265,
          "year": 2023
         },
         {
          "cumulative_flights": 16653,
          "day_of_year": 266,
          "year": 2023
         },
         {
          "cumulative_flights": 16784,
          "day_of_year": 267,
          "year": 2023
         },
         {
          "cumulative_flights": 16807,
          "day_of_year": 268,
          "year": 2023
         },
         {
          "cumulative_flights": 16889,
          "day_of_year": 269,
          "year": 2023
         },
         {
          "cumulative_flights": 16941,
          "day_of_year": 270,
          "year": 2023
         },
         {
          "cumulative_flights": 17038,
          "day_of_year": 271,
          "year": 2023
         },
         {
          "cumulative_flights": 17100,
          "day_of_year": 272,
          "year": 2023
         },
         {
          "cumulative_flights": 17155,
          "day_of_year": 273,
          "year": 2023
         },
         {
          "cumulative_flights": 17257,
          "day_of_year": 274,
          "year": 2023
         },
         {
          "cumulative_flights": 17306,
          "day_of_year": 275,
          "year": 2023
         },
         {
          "cumulative_flights": 17320,
          "day_of_year": 276,
          "year": 2023
         },
         {
          "cumulative_flights": 17360,
          "day_of_year": 277,
          "year": 2023
         },
         {
          "cumulative_flights": 17398,
          "day_of_year": 278,
          "year": 2023
         },
         {
          "cumulative_flights": 17482,
          "day_of_year": 279,
          "year": 2023
         },
         {
          "cumulative_flights": 17488,
          "day_of_year": 280,
          "year": 2023
         },
         {
          "cumulative_flights": 17488,
          "day_of_year": 281,
          "year": 2023
         },
         {
          "cumulative_flights": 17488,
          "day_of_year": 282,
          "year": 2023
         },
         {
          "cumulative_flights": 17500,
          "day_of_year": 283,
          "year": 2023
         },
         {
          "cumulative_flights": 17527,
          "day_of_year": 284,
          "year": 2023
         },
         {
          "cumulative_flights": 17529,
          "day_of_year": 285,
          "year": 2023
         },
         {
          "cumulative_flights": 17570,
          "day_of_year": 286,
          "year": 2023
         },
         {
          "cumulative_flights": 17576,
          "day_of_year": 287,
          "year": 2023
         },
         {
          "cumulative_flights": 17620,
          "day_of_year": 288,
          "year": 2023
         },
         {
          "cumulative_flights": 17665,
          "day_of_year": 289,
          "year": 2023
         },
         {
          "cumulative_flights": 17699,
          "day_of_year": 290,
          "year": 2023
         },
         {
          "cumulative_flights": 17798,
          "day_of_year": 291,
          "year": 2023
         },
         {
          "cumulative_flights": 17799,
          "day_of_year": 292,
          "year": 2023
         },
         {
          "cumulative_flights": 17800,
          "day_of_year": 293,
          "year": 2023
         },
         {
          "cumulative_flights": 17861,
          "day_of_year": 294,
          "year": 2023
         },
         {
          "cumulative_flights": 17891,
          "day_of_year": 295,
          "year": 2023
         },
         {
          "cumulative_flights": 17982,
          "day_of_year": 296,
          "year": 2023
         },
         {
          "cumulative_flights": 17992,
          "day_of_year": 297,
          "year": 2023
         },
         {
          "cumulative_flights": 18016,
          "day_of_year": 298,
          "year": 2023
         },
         {
          "cumulative_flights": 18022,
          "day_of_year": 299,
          "year": 2023
         },
         {
          "cumulative_flights": 18022,
          "day_of_year": 300,
          "year": 2023
         },
         {
          "cumulative_flights": 18043,
          "day_of_year": 301,
          "year": 2023
         },
         {
          "cumulative_flights": 18113,
          "day_of_year": 302,
          "year": 2023
         },
         {
          "cumulative_flights": 18161,
          "day_of_year": 303,
          "year": 2023
         },
         {
          "cumulative_flights": 18164,
          "day_of_year": 304,
          "year": 2023
         },
         {
          "cumulative_flights": 18223,
          "day_of_year": 305,
          "year": 2023
         },
         {
          "cumulative_flights": 18246,
          "day_of_year": 306,
          "year": 2023
         },
         {
          "cumulative_flights": 18247,
          "day_of_year": 307,
          "year": 2023
         },
         {
          "cumulative_flights": 18325,
          "day_of_year": 308,
          "year": 2023
         },
         {
          "cumulative_flights": 18329,
          "day_of_year": 309,
          "year": 2023
         },
         {
          "cumulative_flights": 18331,
          "day_of_year": 310,
          "year": 2023
         },
         {
          "cumulative_flights": 18372,
          "day_of_year": 311,
          "year": 2023
         },
         {
          "cumulative_flights": 18377,
          "day_of_year": 312,
          "year": 2023
         },
         {
          "cumulative_flights": 18416,
          "day_of_year": 313,
          "year": 2023
         },
         {
          "cumulative_flights": 18437,
          "day_of_year": 314,
          "year": 2023
         },
         {
          "cumulative_flights": 18441,
          "day_of_year": 315,
          "year": 2023
         },
         {
          "cumulative_flights": 18504,
          "day_of_year": 316,
          "year": 2023
         },
         {
          "cumulative_flights": 18508,
          "day_of_year": 317,
          "year": 2023
         },
         {
          "cumulative_flights": 18508,
          "day_of_year": 318,
          "year": 2023
         },
         {
          "cumulative_flights": 18508,
          "day_of_year": 319,
          "year": 2023
         },
         {
          "cumulative_flights": 18528,
          "day_of_year": 320,
          "year": 2023
         },
         {
          "cumulative_flights": 18541,
          "day_of_year": 321,
          "year": 2023
         },
         {
          "cumulative_flights": 18579,
          "day_of_year": 322,
          "year": 2023
         },
         {
          "cumulative_flights": 18579,
          "day_of_year": 323,
          "year": 2023
         },
         {
          "cumulative_flights": 18580,
          "day_of_year": 324,
          "year": 2023
         },
         {
          "cumulative_flights": 18582,
          "day_of_year": 325,
          "year": 2023
         },
         {
          "cumulative_flights": 18594,
          "day_of_year": 326,
          "year": 2023
         },
         {
          "cumulative_flights": 18595,
          "day_of_year": 327,
          "year": 2023
         },
         {
          "cumulative_flights": 18595,
          "day_of_year": 328,
          "year": 2023
         },
         {
          "cumulative_flights": 18602,
          "day_of_year": 329,
          "year": 2023
         },
         {
          "cumulative_flights": 18612,
          "day_of_year": 330,
          "year": 2023
         },
         {
          "cumulative_flights": 18613,
          "day_of_year": 331,
          "year": 2023
         },
         {
          "cumulative_flights": 18613,
          "day_of_year": 332,
          "year": 2023
         },
         {
          "cumulative_flights": 18621,
          "day_of_year": 333,
          "year": 2023
         },
         {
          "cumulative_flights": 18623,
          "day_of_year": 334,
          "year": 2023
         },
         {
          "cumulative_flights": 18624,
          "day_of_year": 335,
          "year": 2023
         },
         {
          "cumulative_flights": 18632,
          "day_of_year": 336,
          "year": 2023
         },
         {
          "cumulative_flights": 18641,
          "day_of_year": 337,
          "year": 2023
         },
         {
          "cumulative_flights": 18644,
          "day_of_year": 338,
          "year": 2023
         },
         {
          "cumulative_flights": 18646,
          "day_of_year": 339,
          "year": 2023
         },
         {
          "cumulative_flights": 18646,
          "day_of_year": 340,
          "year": 2023
         },
         {
          "cumulative_flights": 18652,
          "day_of_year": 341,
          "year": 2023
         },
         {
          "cumulative_flights": 18663,
          "day_of_year": 342,
          "year": 2023
         },
         {
          "cumulative_flights": 18663,
          "day_of_year": 343,
          "year": 2023
         },
         {
          "cumulative_flights": 18663,
          "day_of_year": 344,
          "year": 2023
         },
         {
          "cumulative_flights": 18663,
          "day_of_year": 345,
          "year": 2023
         },
         {
          "cumulative_flights": 18668,
          "day_of_year": 346,
          "year": 2023
         },
         {
          "cumulative_flights": 18671,
          "day_of_year": 347,
          "year": 2023
         },
         {
          "cumulative_flights": 18680,
          "day_of_year": 348,
          "year": 2023
         },
         {
          "cumulative_flights": 18697,
          "day_of_year": 349,
          "year": 2023
         },
         {
          "cumulative_flights": 18765,
          "day_of_year": 350,
          "year": 2023
         },
         {
          "cumulative_flights": 18792,
          "day_of_year": 351,
          "year": 2023
         },
         {
          "cumulative_flights": 18818,
          "day_of_year": 352,
          "year": 2023
         },
         {
          "cumulative_flights": 18831,
          "day_of_year": 353,
          "year": 2023
         },
         {
          "cumulative_flights": 18831,
          "day_of_year": 354,
          "year": 2023
         },
         {
          "cumulative_flights": 18831,
          "day_of_year": 355,
          "year": 2023
         },
         {
          "cumulative_flights": 18831,
          "day_of_year": 356,
          "year": 2023
         },
         {
          "cumulative_flights": 18832,
          "day_of_year": 357,
          "year": 2023
         },
         {
          "cumulative_flights": 18832,
          "day_of_year": 358,
          "year": 2023
         },
         {
          "cumulative_flights": 18832,
          "day_of_year": 359,
          "year": 2023
         },
         {
          "cumulative_flights": 18832,
          "day_of_year": 360,
          "year": 2023
         },
         {
          "cumulative_flights": 18879,
          "day_of_year": 361,
          "year": 2023
         },
         {
          "cumulative_flights": 18884,
          "day_of_year": 362,
          "year": 2023
         },
         {
          "cumulative_flights": 18902,
          "day_of_year": 363,
          "year": 2023
         },
         {
          "cumulative_flights": 18907,
          "day_of_year": 364,
          "year": 2023
         },
         {
          "cumulative_flights": 18945,
          "day_of_year": 365,
          "year": 2023
         },
         {
          "cumulative_flights": 26,
          "day_of_year": 1,
          "year": 2024
         },
         {
          "cumulative_flights": 27,
          "day_of_year": 2,
          "year": 2024
         },
         {
          "cumulative_flights": 29,
          "day_of_year": 3,
          "year": 2024
         },
         {
          "cumulative_flights": 29,
          "day_of_year": 4,
          "year": 2024
         },
         {
          "cumulative_flights": 55,
          "day_of_year": 5,
          "year": 2024
         },
         {
          "cumulative_flights": 58,
          "day_of_year": 6,
          "year": 2024
         },
         {
          "cumulative_flights": 63,
          "day_of_year": 7,
          "year": 2024
         },
         {
          "cumulative_flights": 66,
          "day_of_year": 8,
          "year": 2024
         },
         {
          "cumulative_flights": 99,
          "day_of_year": 9,
          "year": 2024
         },
         {
          "cumulative_flights": 138,
          "day_of_year": 10,
          "year": 2024
         },
         {
          "cumulative_flights": 144,
          "day_of_year": 11,
          "year": 2024
         },
         {
          "cumulative_flights": 172,
          "day_of_year": 12,
          "year": 2024
         },
         {
          "cumulative_flights": 198,
          "day_of_year": 13,
          "year": 2024
         },
         {
          "cumulative_flights": 208,
          "day_of_year": 14,
          "year": 2024
         },
         {
          "cumulative_flights": 208,
          "day_of_year": 15,
          "year": 2024
         },
         {
          "cumulative_flights": 214,
          "day_of_year": 16,
          "year": 2024
         },
         {
          "cumulative_flights": 219,
          "day_of_year": 17,
          "year": 2024
         },
         {
          "cumulative_flights": 219,
          "day_of_year": 18,
          "year": 2024
         },
         {
          "cumulative_flights": 242,
          "day_of_year": 19,
          "year": 2024
         },
         {
          "cumulative_flights": 302,
          "day_of_year": 20,
          "year": 2024
         },
         {
          "cumulative_flights": 340,
          "day_of_year": 21,
          "year": 2024
         },
         {
          "cumulative_flights": 342,
          "day_of_year": 22,
          "year": 2024
         },
         {
          "cumulative_flights": 345,
          "day_of_year": 23,
          "year": 2024
         },
         {
          "cumulative_flights": 345,
          "day_of_year": 24,
          "year": 2024
         },
         {
          "cumulative_flights": 345,
          "day_of_year": 25,
          "year": 2024
         },
         {
          "cumulative_flights": 347,
          "day_of_year": 26,
          "year": 2024
         },
         {
          "cumulative_flights": 369,
          "day_of_year": 27,
          "year": 2024
         },
         {
          "cumulative_flights": 450,
          "day_of_year": 28,
          "year": 2024
         },
         {
          "cumulative_flights": 486,
          "day_of_year": 29,
          "year": 2024
         },
         {
          "cumulative_flights": 496,
          "day_of_year": 30,
          "year": 2024
         },
         {
          "cumulative_flights": 499,
          "day_of_year": 31,
          "year": 2024
         },
         {
          "cumulative_flights": 504,
          "day_of_year": 32,
          "year": 2024
         },
         {
          "cumulative_flights": 515,
          "day_of_year": 33,
          "year": 2024
         },
         {
          "cumulative_flights": 519,
          "day_of_year": 34,
          "year": 2024
         },
         {
          "cumulative_flights": 519,
          "day_of_year": 35,
          "year": 2024
         },
         {
          "cumulative_flights": 519,
          "day_of_year": 36,
          "year": 2024
         },
         {
          "cumulative_flights": 522,
          "day_of_year": 37,
          "year": 2024
         },
         {
          "cumulative_flights": 522,
          "day_of_year": 38,
          "year": 2024
         },
         {
          "cumulative_flights": 522,
          "day_of_year": 39,
          "year": 2024
         },
         {
          "cumulative_flights": 536,
          "day_of_year": 40,
          "year": 2024
         },
         {
          "cumulative_flights": 634,
          "day_of_year": 41,
          "year": 2024
         },
         {
          "cumulative_flights": 634,
          "day_of_year": 42,
          "year": 2024
         },
         {
          "cumulative_flights": 651,
          "day_of_year": 43,
          "year": 2024
         },
         {
          "cumulative_flights": 697,
          "day_of_year": 44,
          "year": 2024
         },
         {
          "cumulative_flights": 723,
          "day_of_year": 45,
          "year": 2024
         },
         {
          "cumulative_flights": 738,
          "day_of_year": 46,
          "year": 2024
         },
         {
          "cumulative_flights": 827,
          "day_of_year": 47,
          "year": 2024
         },
         {
          "cumulative_flights": 891,
          "day_of_year": 48,
          "year": 2024
         },
         {
          "cumulative_flights": 1016,
          "day_of_year": 49,
          "year": 2024
         },
         {
          "cumulative_flights": 1016,
          "day_of_year": 50,
          "year": 2024
         },
         {
          "cumulative_flights": 1024,
          "day_of_year": 51,
          "year": 2024
         },
         {
          "cumulative_flights": 1044,
          "day_of_year": 52,
          "year": 2024
         },
         {
          "cumulative_flights": 1044,
          "day_of_year": 53,
          "year": 2024
         },
         {
          "cumulative_flights": 1075,
          "day_of_year": 54,
          "year": 2024
         },
         {
          "cumulative_flights": 1227,
          "day_of_year": 55,
          "year": 2024
         },
         {
          "cumulative_flights": 1364,
          "day_of_year": 56,
          "year": 2024
         },
         {
          "cumulative_flights": 1365,
          "day_of_year": 57,
          "year": 2024
         },
         {
          "cumulative_flights": 1391,
          "day_of_year": 58,
          "year": 2024
         },
         {
          "cumulative_flights": 1410,
          "day_of_year": 59,
          "year": 2024
         },
         {
          "cumulative_flights": 1441,
          "day_of_year": 60,
          "year": 2024
         },
         {
          "cumulative_flights": 1449,
          "day_of_year": 61,
          "year": 2024
         },
         {
          "cumulative_flights": 1496,
          "day_of_year": 62,
          "year": 2024
         },
         {
          "cumulative_flights": 1687,
          "day_of_year": 63,
          "year": 2024
         },
         {
          "cumulative_flights": 1739,
          "day_of_year": 64,
          "year": 2024
         },
         {
          "cumulative_flights": 1743,
          "day_of_year": 65,
          "year": 2024
         },
         {
          "cumulative_flights": 1797,
          "day_of_year": 66,
          "year": 2024
         },
         {
          "cumulative_flights": 1812,
          "day_of_year": 67,
          "year": 2024
         },
         {
          "cumulative_flights": 1880,
          "day_of_year": 68,
          "year": 2024
         },
         {
          "cumulative_flights": 1942,
          "day_of_year": 69,
          "year": 2024
         },
         {
          "cumulative_flights": 1975,
          "day_of_year": 70,
          "year": 2024
         },
         {
          "cumulative_flights": 2013,
          "day_of_year": 71,
          "year": 2024
         },
         {
          "cumulative_flights": 2034,
          "day_of_year": 72,
          "year": 2024
         },
         {
          "cumulative_flights": 2092,
          "day_of_year": 73,
          "year": 2024
         },
         {
          "cumulative_flights": 2122,
          "day_of_year": 74,
          "year": 2024
         },
         {
          "cumulative_flights": 2209,
          "day_of_year": 75,
          "year": 2024
         },
         {
          "cumulative_flights": 2217,
          "day_of_year": 76,
          "year": 2024
         },
         {
          "cumulative_flights": 2505,
          "day_of_year": 77,
          "year": 2024
         },
         {
          "cumulative_flights": 2544,
          "day_of_year": 78,
          "year": 2024
         },
         {
          "cumulative_flights": 2648,
          "day_of_year": 79,
          "year": 2024
         },
         {
          "cumulative_flights": 2725,
          "day_of_year": 80,
          "year": 2024
         },
         {
          "cumulative_flights": 2738,
          "day_of_year": 81,
          "year": 2024
         },
         {
          "cumulative_flights": 2803,
          "day_of_year": 82,
          "year": 2024
         },
         {
          "cumulative_flights": 2817,
          "day_of_year": 83,
          "year": 2024
         },
         {
          "cumulative_flights": 2830,
          "day_of_year": 84,
          "year": 2024
         },
         {
          "cumulative_flights": 2835,
          "day_of_year": 85,
          "year": 2024
         },
         {
          "cumulative_flights": 2885,
          "day_of_year": 86,
          "year": 2024
         },
         {
          "cumulative_flights": 2897,
          "day_of_year": 87,
          "year": 2024
         },
         {
          "cumulative_flights": 2899,
          "day_of_year": 88,
          "year": 2024
         },
         {
          "cumulative_flights": 2943,
          "day_of_year": 89,
          "year": 2024
         },
         {
          "cumulative_flights": 3167,
          "day_of_year": 90,
          "year": 2024
         },
         {
          "cumulative_flights": 3343,
          "day_of_year": 91,
          "year": 2024
         },
         {
          "cumulative_flights": 3345,
          "day_of_year": 92,
          "year": 2024
         },
         {
          "cumulative_flights": 3345,
          "day_of_year": 93,
          "year": 2024
         },
         {
          "cumulative_flights": 3366,
          "day_of_year": 94,
          "year": 2024
         },
         {
          "cumulative_flights": 3375,
          "day_of_year": 95,
          "year": 2024
         },
         {
          "cumulative_flights": 3414,
          "day_of_year": 96,
          "year": 2024
         },
         {
          "cumulative_flights": 3668,
          "day_of_year": 97,
          "year": 2024
         },
         {
          "cumulative_flights": 3918,
          "day_of_year": 98,
          "year": 2024
         },
         {
          "cumulative_flights": 3973,
          "day_of_year": 99,
          "year": 2024
         },
         {
          "cumulative_flights": 3984,
          "day_of_year": 100,
          "year": 2024
         },
         {
          "cumulative_flights": 3996,
          "day_of_year": 101,
          "year": 2024
         },
         {
          "cumulative_flights": 4250,
          "day_of_year": 102,
          "year": 2024
         },
         {
          "cumulative_flights": 4498,
          "day_of_year": 103,
          "year": 2024
         },
         {
          "cumulative_flights": 4747,
          "day_of_year": 104,
          "year": 2024
         },
         {
          "cumulative_flights": 4757,
          "day_of_year": 105,
          "year": 2024
         },
         {
          "cumulative_flights": 4764,
          "day_of_year": 106,
          "year": 2024
         },
         {
          "cumulative_flights": 4769,
          "day_of_year": 107,
          "year": 2024
         },
         {
          "cumulative_flights": 4792,
          "day_of_year": 108,
          "year": 2024
         },
         {
          "cumulative_flights": 4810,
          "day_of_year": 109,
          "year": 2024
         },
         {
          "cumulative_flights": 4810,
          "day_of_year": 110,
          "year": 2024
         },
         {
          "cumulative_flights": 4812,
          "day_of_year": 111,
          "year": 2024
         },
         {
          "cumulative_flights": 4868,
          "day_of_year": 112,
          "year": 2024
         },
         {
          "cumulative_flights": 4932,
          "day_of_year": 113,
          "year": 2024
         },
         {
          "cumulative_flights": 4958,
          "day_of_year": 114,
          "year": 2024
         },
         {
          "cumulative_flights": 4968,
          "day_of_year": 115,
          "year": 2024
         },
         {
          "cumulative_flights": 4976,
          "day_of_year": 116,
          "year": 2024
         },
         {
          "cumulative_flights": 5047,
          "day_of_year": 117,
          "year": 2024
         },
         {
          "cumulative_flights": 5243,
          "day_of_year": 118,
          "year": 2024
         },
         {
          "cumulative_flights": 5472,
          "day_of_year": 119,
          "year": 2024
         },
         {
          "cumulative_flights": 5538,
          "day_of_year": 120,
          "year": 2024
         },
         {
          "cumulative_flights": 5581,
          "day_of_year": 121,
          "year": 2024
         },
         {
          "cumulative_flights": 5612,
          "day_of_year": 122,
          "year": 2024
         },
         {
          "cumulative_flights": 5613,
          "day_of_year": 123,
          "year": 2024
         },
         {
          "cumulative_flights": 5625,
          "day_of_year": 124,
          "year": 2024
         },
         {
          "cumulative_flights": 5806,
          "day_of_year": 125,
          "year": 2024
         },
         {
          "cumulative_flights": 5856,
          "day_of_year": 126,
          "year": 2024
         },
         {
          "cumulative_flights": 5873,
          "day_of_year": 127,
          "year": 2024
         },
         {
          "cumulative_flights": 5874,
          "day_of_year": 128,
          "year": 2024
         },
         {
          "cumulative_flights": 5946,
          "day_of_year": 129,
          "year": 2024
         },
         {
          "cumulative_flights": 6216,
          "day_of_year": 130,
          "year": 2024
         },
         {
          "cumulative_flights": 6366,
          "day_of_year": 131,
          "year": 2024
         },
         {
          "cumulative_flights": 6446,
          "day_of_year": 132,
          "year": 2024
         },
         {
          "cumulative_flights": 6726,
          "day_of_year": 133,
          "year": 2024
         },
         {
          "cumulative_flights": 6893,
          "day_of_year": 134,
          "year": 2024
         },
         {
          "cumulative_flights": 6983,
          "day_of_year": 135,
          "year": 2024
         },
         {
          "cumulative_flights": 6987,
          "day_of_year": 136,
          "year": 2024
         },
         {
          "cumulative_flights": 6992,
          "day_of_year": 137,
          "year": 2024
         },
         {
          "cumulative_flights": 6992,
          "day_of_year": 138,
          "year": 2024
         },
         {
          "cumulative_flights": 7040,
          "day_of_year": 139,
          "year": 2024
         },
         {
          "cumulative_flights": 7054,
          "day_of_year": 140,
          "year": 2024
         },
         {
          "cumulative_flights": 7211,
          "day_of_year": 141,
          "year": 2024
         },
         {
          "cumulative_flights": 7213,
          "day_of_year": 142,
          "year": 2024
         },
         {
          "cumulative_flights": 7226,
          "day_of_year": 143,
          "year": 2024
         },
         {
          "cumulative_flights": 7330,
          "day_of_year": 144,
          "year": 2024
         },
         {
          "cumulative_flights": 7332,
          "day_of_year": 145,
          "year": 2024
         },
         {
          "cumulative_flights": 7386,
          "day_of_year": 146,
          "year": 2024
         },
         {
          "cumulative_flights": 7438,
          "day_of_year": 147,
          "year": 2024
         },
         {
          "cumulative_flights": 7466,
          "day_of_year": 148,
          "year": 2024
         },
         {
          "cumulative_flights": 7477,
          "day_of_year": 149,
          "year": 2024
         },
         {
          "cumulative_flights": 7648,
          "day_of_year": 150,
          "year": 2024
         },
         {
          "cumulative_flights": 7660,
          "day_of_year": 151,
          "year": 2024
         },
         {
          "cumulative_flights": 7664,
          "day_of_year": 152,
          "year": 2024
         },
         {
          "cumulative_flights": 7670,
          "day_of_year": 153,
          "year": 2024
         },
         {
          "cumulative_flights": 7687,
          "day_of_year": 154,
          "year": 2024
         },
         {
          "cumulative_flights": 7705,
          "day_of_year": 155,
          "year": 2024
         },
         {
          "cumulative_flights": 7739,
          "day_of_year": 156,
          "year": 2024
         },
         {
          "cumulative_flights": 7827,
          "day_of_year": 157,
          "year": 2024
         },
         {
          "cumulative_flights": 7942,
          "day_of_year": 158,
          "year": 2024
         },
         {
          "cumulative_flights": 8122,
          "day_of_year": 159,
          "year": 2024
         },
         {
          "cumulative_flights": 8437,
          "day_of_year": 160,
          "year": 2024
         },
         {
          "cumulative_flights": 8632,
          "day_of_year": 161,
          "year": 2024
         },
         {
          "cumulative_flights": 8667,
          "day_of_year": 162,
          "year": 2024
         },
         {
          "cumulative_flights": 8721,
          "day_of_year": 163,
          "year": 2024
         },
         {
          "cumulative_flights": 8746,
          "day_of_year": 164,
          "year": 2024
         },
         {
          "cumulative_flights": 8773,
          "day_of_year": 165,
          "year": 2024
         },
         {
          "cumulative_flights": 8856,
          "day_of_year": 166,
          "year": 2024
         },
         {
          "cumulative_flights": 8892,
          "day_of_year": 167,
          "year": 2024
         },
         {
          "cumulative_flights": 9102,
          "day_of_year": 168,
          "year": 2024
         },
         {
          "cumulative_flights": 9161,
          "day_of_year": 169,
          "year": 2024
         },
         {
          "cumulative_flights": 9315,
          "day_of_year": 170,
          "year": 2024
         },
         {
          "cumulative_flights": 9340,
          "day_of_year": 171,
          "year": 2024
         },
         {
          "cumulative_flights": 9489,
          "day_of_year": 172,
          "year": 2024
         },
         {
          "cumulative_flights": 9559,
          "day_of_year": 173,
          "year": 2024
         },
         {
          "cumulative_flights": 9640,
          "day_of_year": 174,
          "year": 2024
         },
         {
          "cumulative_flights": 9902,
          "day_of_year": 175,
          "year": 2024
         },
         {
          "cumulative_flights": 10069,
          "day_of_year": 176,
          "year": 2024
         },
         {
          "cumulative_flights": 10225,
          "day_of_year": 177,
          "year": 2024
         },
         {
          "cumulative_flights": 10248,
          "day_of_year": 178,
          "year": 2024
         },
         {
          "cumulative_flights": 10260,
          "day_of_year": 179,
          "year": 2024
         },
         {
          "cumulative_flights": 10288,
          "day_of_year": 180,
          "year": 2024
         },
         {
          "cumulative_flights": 10658,
          "day_of_year": 181,
          "year": 2024
         },
         {
          "cumulative_flights": 10661,
          "day_of_year": 182,
          "year": 2024
         }
        ]
       },
       "encoding": {
        "color": {
         "field": "year",
         "type": "nominal"
        },
        "tooltip": [
         {
          "field": "year",
          "type": "nominal"
         },
         {
          "field": "day_of_year",
          "type": "quantitative"
         },
         {
          "field": "cumulative_flights",
          "type": "quantitative"
         }
        ],
        "x": {
         "axis": {
          "title": "Day of Year"
         },
         "field": "day_of_year",
         "type": "quantitative"
        },
        "y": {
         "axis": {
          "title": "Cumulative Flights"
         },
         "field": "cumulative_flights",
         "type": "quantitative"
        }
       },
       "height": 400,
       "mark": {
        "type": "line"
       },
       "title": "Cumulative Flights by Day of Year",
       "width": 600
      },
      "image/png": "[encoded data removed]",
      "text/plain": [
       "<VegaLite 5 object>\n",
       "\n",
       "If you see this message, it means the renderer has not been properly enabled\n",
       "for the frontend that you are using. For more information, see\n",
       "https://altair-viz.github.io/user_guide/display_frontends.html#troubleshooting\n"
      ]
     },
     "execution_count": 5,
     "metadata": {},
     "output_type": "execute_result"
    }
   ],
   "source": [
    "query = \"\"\"\n",
    "WITH calendar AS (\n",
    "    SELECT GENERATE_SERIES('2011-01-01'::date, '2024-06-30'::date, '1 day') AS date\n",
    "),\n",
    "daily_flights AS (\n",
    "    SELECT\n",
    "        date,\n",
    "        DATE_PART('year', date) AS year,\n",
    "        count(*) AS total_flights\n",
    "    FROM source.flights\n",
    "    GROUP BY date\n",
    "),\n",
    "all_days AS (\n",
    "    SELECT\n",
    "        c.date,\n",
    "        EXTRACT(DOY FROM c.date) AS day_of_year,\n",
    "        DATE_PART('year', c.date) AS year,\n",
    "        COALESCE(total_flights, 0) AS total_flights\n",
    "    FROM calendar c\n",
    "    LEFT JOIN daily_flights df\n",
    "        ON c.date = df.date\n",
    ")\n",
    "SELECT\n",
    "    year,\n",
    "    day_of_year,\n",
    "    SUM(total_flights) OVER (PARTITION BY year ORDER BY day_of_year) AS cumulative_flights\n",
    "FROM all_days\n",
    "\"\"\"\n",
    "df = pd.read_sql(query, engine)\n",
    "line_chart = alt.Chart(df).mark_line().encode(\n",
    "    x=alt.X('day_of_year:Q', axis=alt.Axis(title='Day of Year')),\n",
    "    y=alt.Y('cumulative_flights:Q', axis=alt.Axis(title='Cumulative Flights')),\n",
    "    color='year:N',\n",
    "    tooltip=['year:N', 'day_of_year:Q', 'cumulative_flights:Q']\n",
    ").properties(\n",
    "    width=600,\n",
    "    height=400,\n",
    "    title='Cumulative Flights by Day of Year'\n",
    ")\n",
    "line_chart"
   ]
  },
  {
   "cell_type": "code",
   "execution_count": 6,
   "id": "11634802-9ba5-452b-8c22-8d2dd8832a47",
   "metadata": {},
   "outputs": [
    {
     "data": {
      "application/vnd.vegalite.v5+json": {
       "$schema": "https://vega.github.io/schema/vega-lite/v5.17.0.json",
       "config": {
        "view": {
         "continuousHeight": 300,
         "continuousWidth": 300
        }
       },
       "data": {
        "name": "data-525647deba860d7ebb5e4fea933afad7"
       },
       "datasets": {
        "data-525647deba860d7ebb5e4fea933afad7": [
         {
          "flying_days": 18,
          "month": "2011-01",
          "total_flights": 117
         },
         {
          "flying_days": 21,
          "month": "2011-02",
          "total_flights": 214
         },
         {
          "flying_days": 28,
          "month": "2011-03",
          "total_flights": 600
         },
         {
          "flying_days": 23,
          "month": "2011-04",
          "total_flights": 771
         },
         {
          "flying_days": 30,
          "month": "2011-05",
          "total_flights": 837
         },
         {
          "flying_days": 25,
          "month": "2011-06",
          "total_flights": 525
         },
         {
          "flying_days": 27,
          "month": "2011-07",
          "total_flights": 616
         },
         {
          "flying_days": 24,
          "month": "2011-08",
          "total_flights": 695
         },
         {
          "flying_days": 23,
          "month": "2011-09",
          "total_flights": 561
         },
         {
          "flying_days": 22,
          "month": "2011-10",
          "total_flights": 272
         },
         {
          "flying_days": 21,
          "month": "2011-11",
          "total_flights": 117
         },
         {
          "flying_days": 15,
          "month": "2011-12",
          "total_flights": 94
         },
         {
          "flying_days": 14,
          "month": "2012-01",
          "total_flights": 104
         },
         {
          "flying_days": 13,
          "month": "2012-02",
          "total_flights": 89
         },
         {
          "flying_days": 26,
          "month": "2012-03",
          "total_flights": 630
         },
         {
          "flying_days": 26,
          "month": "2012-04",
          "total_flights": 739
         },
         {
          "flying_days": 29,
          "month": "2012-05",
          "total_flights": 1023
         },
         {
          "flying_days": 27,
          "month": "2012-06",
          "total_flights": 512
         },
         {
          "flying_days": 22,
          "month": "2012-07",
          "total_flights": 472
         },
         {
          "flying_days": 30,
          "month": "2012-08",
          "total_flights": 1129
         },
         {
          "flying_days": 29,
          "month": "2012-09",
          "total_flights": 652
         },
         {
          "flying_days": 25,
          "month": "2012-10",
          "total_flights": 292
         },
         {
          "flying_days": 19,
          "month": "2012-11",
          "total_flights": 121
         },
         {
          "flying_days": 20,
          "month": "2012-12",
          "total_flights": 104
         },
         {
          "flying_days": 14,
          "month": "2013-01",
          "total_flights": 115
         },
         {
          "flying_days": 19,
          "month": "2013-02",
          "total_flights": 94
         },
         {
          "flying_days": 23,
          "month": "2013-03",
          "total_flights": 368
         },
         {
          "flying_days": 24,
          "month": "2013-04",
          "total_flights": 750
         },
         {
          "flying_days": 26,
          "month": "2013-05",
          "total_flights": 620
         },
         {
          "flying_days": 26,
          "month": "2013-06",
          "total_flights": 931
         },
         {
          "flying_days": 31,
          "month": "2013-07",
          "total_flights": 1957
         },
         {
          "flying_days": 28,
          "month": "2013-08",
          "total_flights": 1374
         },
         {
          "flying_days": 26,
          "month": "2013-09",
          "total_flights": 566
         },
         {
          "flying_days": 28,
          "month": "2013-10",
          "total_flights": 416
         },
         {
          "flying_days": 23,
          "month": "2013-11",
          "total_flights": 136
         },
         {
          "flying_days": 24,
          "month": "2013-12",
          "total_flights": 221
         },
         {
          "flying_days": 22,
          "month": "2014-01",
          "total_flights": 155
         },
         {
          "flying_days": 27,
          "month": "2014-02",
          "total_flights": 490
         },
         {
          "flying_days": 25,
          "month": "2014-03",
          "total_flights": 1003
         },
         {
          "flying_days": 26,
          "month": "2014-04",
          "total_flights": 982
         },
         {
          "flying_days": 24,
          "month": "2014-05",
          "total_flights": 920
         },
         {
          "flying_days": 28,
          "month": "2014-06",
          "total_flights": 1486
         },
         {
          "flying_days": 29,
          "month": "2014-07",
          "total_flights": 1283
         },
         {
          "flying_days": 28,
          "month": "2014-08",
          "total_flights": 1032
         },
         {
          "flying_days": 26,
          "month": "2014-09",
          "total_flights": 796
         },
         {
          "flying_days": 28,
          "month": "2014-10",
          "total_flights": 557
         },
         {
          "flying_days": 27,
          "month": "2014-11",
          "total_flights": 446
         },
         {
          "flying_days": 21,
          "month": "2014-12",
          "total_flights": 222
         },
         {
          "flying_days": 21,
          "month": "2015-01",
          "total_flights": 162
         },
         {
          "flying_days": 24,
          "month": "2015-02",
          "total_flights": 453
         },
         {
          "flying_days": 28,
          "month": "2015-03",
          "total_flights": 902
         },
         {
          "flying_days": 27,
          "month": "2015-04",
          "total_flights": 1374
         },
         {
          "flying_days": 30,
          "month": "2015-05",
          "total_flights": 1549
         },
         {
          "flying_days": 30,
          "month": "2015-06",
          "total_flights": 1337
         },
         {
          "flying_days": 28,
          "month": "2015-07",
          "total_flights": 1743
         },
         {
          "flying_days": 30,
          "month": "2015-08",
          "total_flights": 1750
         },
         {
          "flying_days": 29,
          "month": "2015-09",
          "total_flights": 876
         },
         {
          "flying_days": 28,
          "month": "2015-10",
          "total_flights": 766
         },
         {
          "flying_days": 23,
          "month": "2015-11",
          "total_flights": 441
         },
         {
          "flying_days": 26,
          "month": "2015-12",
          "total_flights": 527
         },
         {
          "flying_days": 23,
          "month": "2016-01",
          "total_flights": 208
         },
         {
          "flying_days": 23,
          "month": "2016-02",
          "total_flights": 416
         },
         {
          "flying_days": 29,
          "month": "2016-03",
          "total_flights": 1000
         },
         {
          "flying_days": 29,
          "month": "2016-04",
          "total_flights": 1654
         },
         {
          "flying_days": 29,
          "month": "2016-05",
          "total_flights": 902
         },
         {
          "flying_days": 28,
          "month": "2016-06",
          "total_flights": 1389
         },
         {
          "flying_days": 30,
          "month": "2016-07",
          "total_flights": 1493
         },
         {
          "flying_days": 30,
          "month": "2016-08",
          "total_flights": 2229
         },
         {
          "flying_days": 28,
          "month": "2016-09",
          "total_flights": 1642
         },
         {
          "flying_days": 27,
          "month": "2016-10",
          "total_flights": 403
         },
         {
          "flying_days": 26,
          "month": "2016-11",
          "total_flights": 197
         },
         {
          "flying_days": 24,
          "month": "2016-12",
          "total_flights": 213
         },
         {
          "flying_days": 21,
          "month": "2017-01",
          "total_flights": 151
         },
         {
          "flying_days": 21,
          "month": "2017-02",
          "total_flights": 373
         },
         {
          "flying_days": 27,
          "month": "2017-03",
          "total_flights": 1197
         },
         {
          "flying_days": 23,
          "month": "2017-04",
          "total_flights": 849
         },
         {
          "flying_days": 30,
          "month": "2017-05",
          "total_flights": 1783
         },
         {
          "flying_days": 27,
          "month": "2017-06",
          "total_flights": 1947
         },
         {
          "flying_days": 30,
          "month": "2017-07",
          "total_flights": 1482
         },
         {
          "flying_days": 31,
          "month": "2017-08",
          "total_flights": 2032
         },
         {
          "flying_days": 29,
          "month": "2017-09",
          "total_flights": 830
         },
         {
          "flying_days": 24,
          "month": "2017-10",
          "total_flights": 565
         },
         {
          "flying_days": 26,
          "month": "2017-11",
          "total_flights": 231
         },
         {
          "flying_days": 21,
          "month": "2017-12",
          "total_flights": 207
         },
         {
          "flying_days": 22,
          "month": "2018-01",
          "total_flights": 221
         },
         {
          "flying_days": 25,
          "month": "2018-02",
          "total_flights": 334
         },
         {
          "flying_days": 25,
          "month": "2018-03",
          "total_flights": 974
         },
         {
          "flying_days": 29,
          "month": "2018-04",
          "total_flights": 2083
         },
         {
          "flying_days": 31,
          "month": "2018-05",
          "total_flights": 1762
         },
         {
          "flying_days": 28,
          "month": "2018-06",
          "total_flights": 1374
         },
         {
          "flying_days": 30,
          "month": "2018-07",
          "total_flights": 2504
         },
         {
          "flying_days": 31,
          "month": "2018-08",
          "total_flights": 2321
         },
         {
          "flying_days": 29,
          "month": "2018-09",
          "total_flights": 1671
         },
         {
          "flying_days": 24,
          "month": "2018-10",
          "total_flights": 1069
         },
         {
          "flying_days": 26,
          "month": "2018-11",
          "total_flights": 519
         },
         {
          "flying_days": 23,
          "month": "2018-12",
          "total_flights": 173
         },
         {
          "flying_days": 20,
          "month": "2019-01",
          "total_flights": 206
         },
         {
          "flying_days": 24,
          "month": "2019-02",
          "total_flights": 435
         },
         {
          "flying_days": 20,
          "month": "2019-03",
          "total_flights": 1092
         },
         {
          "flying_days": 27,
          "month": "2019-04",
          "total_flights": 1528
         },
         {
          "flying_days": 27,
          "month": "2019-05",
          "total_flights": 1561
         },
         {
          "flying_days": 30,
          "month": "2019-06",
          "total_flights": 2329
         },
         {
          "flying_days": 31,
          "month": "2019-07",
          "total_flights": 2063
         },
         {
          "flying_days": 31,
          "month": "2019-08",
          "total_flights": 2289
         },
         {
          "flying_days": 28,
          "month": "2019-09",
          "total_flights": 1578
         },
         {
          "flying_days": 27,
          "month": "2019-10",
          "total_flights": 1084
         },
         {
          "flying_days": 24,
          "month": "2019-11",
          "total_flights": 542
         },
         {
          "flying_days": 28,
          "month": "2019-12",
          "total_flights": 411
         },
         {
          "flying_days": 29,
          "month": "2020-01",
          "total_flights": 478
         },
         {
          "flying_days": 18,
          "month": "2020-02",
          "total_flights": 357
         },
         {
          "flying_days": 19,
          "month": "2020-03",
          "total_flights": 710
         },
         {
          "flying_days": 30,
          "month": "2020-04",
          "total_flights": 3313
         },
         {
          "flying_days": 29,
          "month": "2020-05",
          "total_flights": 2865
         },
         {
          "flying_days": 29,
          "month": "2020-06",
          "total_flights": 1460
         },
         {
          "flying_days": 31,
          "month": "2020-07",
          "total_flights": 3101
         },
         {
          "flying_days": 28,
          "month": "2020-08",
          "total_flights": 2769
         },
         {
          "flying_days": 27,
          "month": "2020-09",
          "total_flights": 2200
         },
         {
          "flying_days": 28,
          "month": "2020-10",
          "total_flights": 969
         },
         {
          "flying_days": 30,
          "month": "2020-11",
          "total_flights": 1028
         },
         {
          "flying_days": 29,
          "month": "2020-12",
          "total_flights": 755
         },
         {
          "flying_days": 26,
          "month": "2021-01",
          "total_flights": 460
         },
         {
          "flying_days": 26,
          "month": "2021-02",
          "total_flights": 834
         },
         {
          "flying_days": 26,
          "month": "2021-03",
          "total_flights": 1020
         },
         {
          "flying_days": 29,
          "month": "2021-04",
          "total_flights": 2028
         },
         {
          "flying_days": 26,
          "month": "2021-05",
          "total_flights": 1461
         },
         {
          "flying_days": 29,
          "month": "2021-06",
          "total_flights": 3676
         },
         {
          "flying_days": 31,
          "month": "2021-07",
          "total_flights": 2673
         },
         {
          "flying_days": 29,
          "month": "2021-08",
          "total_flights": 2461
         },
         {
          "flying_days": 30,
          "month": "2021-09",
          "total_flights": 2711
         },
         {
          "flying_days": 29,
          "month": "2021-10",
          "total_flights": 1797
         },
         {
          "flying_days": 25,
          "month": "2021-11",
          "total_flights": 543
         },
         {
          "flying_days": 24,
          "month": "2021-12",
          "total_flights": 397
         },
         {
          "flying_days": 24,
          "month": "2022-01",
          "total_flights": 586
         },
         {
          "flying_days": 17,
          "month": "2022-02",
          "total_flights": 721
         },
         {
          "flying_days": 29,
          "month": "2022-03",
          "total_flights": 2304
         },
         {
          "flying_days": 25,
          "month": "2022-04",
          "total_flights": 1743
         },
         {
          "flying_days": 31,
          "month": "2022-05",
          "total_flights": 2824
         },
         {
          "flying_days": 30,
          "month": "2022-06",
          "total_flights": 3030
         },
         {
          "flying_days": 31,
          "month": "2022-07",
          "total_flights": 2603
         },
         {
          "flying_days": 31,
          "month": "2022-08",
          "total_flights": 2323
         },
         {
          "flying_days": 27,
          "month": "2022-09",
          "total_flights": 1266
         },
         {
          "flying_days": 31,
          "month": "2022-10",
          "total_flights": 1429
         },
         {
          "flying_days": 28,
          "month": "2022-11",
          "total_flights": 590
         },
         {
          "flying_days": 25,
          "month": "2022-12",
          "total_flights": 304
         },
         {
          "flying_days": 27,
          "month": "2023-01",
          "total_flights": 614
         },
         {
          "flying_days": 24,
          "month": "2023-02",
          "total_flights": 504
         },
         {
          "flying_days": 28,
          "month": "2023-03",
          "total_flights": 1149
         },
         {
          "flying_days": 27,
          "month": "2023-04",
          "total_flights": 1889
         },
         {
          "flying_days": 31,
          "month": "2023-05",
          "total_flights": 2929
         },
         {
          "flying_days": 30,
          "month": "2023-06",
          "total_flights": 2744
         },
         {
          "flying_days": 31,
          "month": "2023-07",
          "total_flights": 2232
         },
         {
          "flying_days": 28,
          "month": "2023-08",
          "total_flights": 1988
         },
         {
          "flying_days": 30,
          "month": "2023-09",
          "total_flights": 3106
         },
         {
          "flying_days": 28,
          "month": "2023-10",
          "total_flights": 1009
         },
         {
          "flying_days": 25,
          "month": "2023-11",
          "total_flights": 459
         },
         {
          "flying_days": 21,
          "month": "2023-12",
          "total_flights": 322
         },
         {
          "flying_days": 26,
          "month": "2024-01",
          "total_flights": 499
         },
         {
          "flying_days": 22,
          "month": "2024-02",
          "total_flights": 942
         },
         {
          "flying_days": 31,
          "month": "2024-03",
          "total_flights": 1902
         },
         {
          "flying_days": 28,
          "month": "2024-04",
          "total_flights": 2238
         },
         {
          "flying_days": 30,
          "month": "2024-05",
          "total_flights": 2083
         },
         {
          "flying_days": 30,
          "month": "2024-06",
          "total_flights": 2997
         }
        ]
       },
       "height": 400,
       "layer": [
        {
         "encoding": {
          "tooltip": [
           {
            "field": "month",
            "type": "nominal"
           },
           {
            "field": "total_flights",
            "type": "quantitative"
           },
           {
            "field": "flying_days",
            "type": "quantitative"
           }
          ],
          "x": {
           "axis": {
            "title": "Year"
           },
           "field": "month",
           "type": "nominal"
          },
          "y": {
           "axis": {
            "title": "Number of registered flights"
           },
           "field": "total_flights",
           "type": "quantitative"
          }
         },
         "mark": {
          "color": "blue",
          "type": "bar"
         }
        },
        {
         "encoding": {
          "tooltip": [
           {
            "field": "month",
            "type": "nominal"
           },
           {
            "field": "total_flights",
            "type": "quantitative"
           },
           {
            "field": "flying_days",
            "type": "quantitative"
           }
          ],
          "x": {
           "axis": {
            "title": "Year"
           },
           "field": "month",
           "type": "nominal"
          },
          "y": {
           "axis": {
            "title": "Number of flying days"
           },
           "field": "flying_days",
           "type": "quantitative"
          }
         },
         "mark": {
          "color": "red",
          "type": "line"
         },
         "transform": [
          {
           "as": "var2",
           "calculate": "datum.flying_days"
          }
         ]
        }
       ],
       "resolve": {
        "scale": {
         "y": "independent"
        }
       },
       "title": "XContest activity over time (monthly)",
       "width": 1600
      },
      "image/png": "[encoded data removed]",
      "text/plain": [
       "<VegaLite 5 object>\n",
       "\n",
       "If you see this message, it means the renderer has not been properly enabled\n",
       "for the frontend that you are using. For more information, see\n",
       "https://altair-viz.github.io/user_guide/display_frontends.html#troubleshooting\n"
      ]
     },
     "metadata": {},
     "output_type": "display_data"
    }
   ],
   "source": [
    "query = \"\"\"\n",
    "WITH flights AS (\n",
    "    SELECT\n",
    "        *,\n",
    "        TO_CHAR(date, 'YYYY-MM') as month\n",
    "    FROM source.flights\n",
    ")\n",
    "SELECT\n",
    "    month,\n",
    "    COUNT(*) AS total_flights,\n",
    "    COUNT(DISTINCT date) AS flying_days\n",
    "FROM flights\n",
    "GROUP BY month\n",
    "ORDER BY month\n",
    "\"\"\"\n",
    "df = pd.read_sql(query, engine)\n",
    "base = alt.Chart(df).encode(\n",
    "    x=alt.X('month:N', axis=alt.Axis(title='Year')),\n",
    "    tooltip=['month:N', 'total_flights:Q', 'flying_days:Q']\n",
    ")\n",
    "bar = base.mark_bar(color='blue').encode(\n",
    "    y=alt.Y('total_flights:Q', axis=alt.Axis(title='Number of registered flights'))\n",
    ")\n",
    "line1 = base.mark_line(color='red').encode(\n",
    "    y=alt.Y('flying_days:Q', axis=alt.Axis(title='Number of flying days')),\n",
    ").transform_calculate(\n",
    "    var2='datum.flying_days'\n",
    ")\n",
    "combined = alt.layer(bar, line1).resolve_scale(\n",
    "    y='independent'\n",
    ").properties(\n",
    "    width=1600,\n",
    "    height=400,\n",
    "    title=\"XContest activity over time (monthly)\"\n",
    ")\n",
    "combined.show()"
   ]
  },
  {
   "cell_type": "code",
   "execution_count": null,
   "id": "72afa439-c491-426e-8129-5625eb1044bb",
   "metadata": {},
   "outputs": [],
   "source": []
  }
 ],
 "metadata": {
  "kernelspec": {
   "display_name": "env-jl",
   "language": "python",
   "name": "env-jl"
  },
  "language_info": {
   "codemirror_mode": {
    "name": "ipython",
    "version": 3
   },
   "file_extension": ".py",
   "mimetype": "text/x-python",
   "name": "python",
   "nbconvert_exporter": "python",
   "pygments_lexer": "ipython3",
   "version": "3.10.12"
  }
 },
 "nbformat": 4,
 "nbformat_minor": 5
}
