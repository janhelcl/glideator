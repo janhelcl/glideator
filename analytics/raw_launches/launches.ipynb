{
 "cells": [
  {
   "cell_type": "code",
   "execution_count": 1,
   "id": "279f6886-63a4-467a-9739-154f683a468b",
   "metadata": {},
   "outputs": [],
   "source": [
    "import os\n",
    "\n",
    "import pandas as pd\n",
    "from dotenv import load_dotenv\n",
    "from sqlalchemy import create_engine\n",
    "import altair as alt"
   ]
  },
  {
   "cell_type": "code",
   "execution_count": 2,
   "id": "68d44d59-0589-47ad-89ce-3a04795b1c49",
   "metadata": {},
   "outputs": [],
   "source": [
    "alt.renderers.enable(\"mimetype\");"
   ]
  },
  {
   "cell_type": "code",
   "execution_count": 3,
   "id": "aa8c921a-95b1-46a6-a58a-b43d0be840ce",
   "metadata": {},
   "outputs": [],
   "source": [
    "load_dotenv()\n",
    "\n",
    "connection_string = \"postgresql://{user}:{password}@{host}:{port}/{db}\".format(\n",
    "    user=os.getenv('DB_USER'),\n",
    "    password=os.getenv('DB_PASSWORD'),\n",
    "    host=os.getenv('DB_HOST'),\n",
    "    port=os.getenv('DB_PORT'),\n",
    "    db=os.getenv('DB_NAME')\n",
    ")\n",
    "engine = create_engine(connection_string)"
   ]
  },
  {
   "cell_type": "markdown",
   "id": "fa20b53e-b949-49bd-8495-57ae103e21f5",
   "metadata": {},
   "source": [
    "### Launches"
   ]
  },
  {
   "cell_type": "code",
   "execution_count": 4,
   "id": "89b7128d-317f-4720-8a6e-0d75a8c344bd",
   "metadata": {},
   "outputs": [
    {
     "data": {
      "application/vnd.vegalite.v5+json": {
       "$schema": "https://vega.github.io/schema/vega-lite/v5.17.0.json",
       "config": {
        "view": {
         "continuousHeight": 300,
         "continuousWidth": 300
        }
       },
       "data": {
        "name": "data-ea4bcb561c1d452b8b8f4c30d30016bd"
       },
       "datasets": {
        "data-ea4bcb561c1d452b8b8f4c30d30016bd": [
         {
          "count": 36,
          "flying_status": 1
         },
         {
          "count": 99,
          "flying_status": 3
         },
         {
          "count": 53,
          "flying_status": 5
         },
         {
          "count": 23,
          "flying_status": 2
         },
         {
          "count": 17,
          "flying_status": 4
         }
        ]
       },
       "encoding": {
        "tooltip": [
         {
          "field": "flying_status",
          "type": "nominal"
         },
         {
          "field": "count",
          "type": "quantitative"
         }
        ],
        "x": {
         "field": "flying_status",
         "title": "Status",
         "type": "nominal"
        },
        "y": {
         "field": "count",
         "title": "Total Flights",
         "type": "quantitative"
        }
       },
       "height": 400,
       "mark": {
        "color": "steelblue",
        "type": "bar"
       },
       "title": "Total Launch Sites by Status",
       "width": 800
      },
      "image/png": "[encoded data removed]",
      "text/plain": [
       "<VegaLite 5 object>\n",
       "\n",
       "If you see this message, it means the renderer has not been properly enabled\n",
       "for the frontend that you are using. For more information, see\n",
       "https://altair-viz.github.io/user_guide/display_frontends.html#troubleshooting\n"
      ]
     },
     "metadata": {},
     "output_type": "display_data"
    }
   ],
   "source": [
    "query = \"\"\"\n",
    "SELECT\n",
    "    flying_status,\n",
    "    COUNT(*) AS count\n",
    "FROM source.launches\n",
    "GROUP BY flying_status\n",
    "\"\"\"\n",
    "df = pd.read_sql(query, engine)\n",
    "barchart = alt.Chart(df).mark_bar(color='steelblue').encode(\n",
    "    x=alt.X('flying_status:N', title='Status'),\n",
    "    y=alt.Y('count:Q', title='Total Flights'),\n",
    "    tooltip=['flying_status:N', 'count:Q']\n",
    ").properties(\n",
    "    width=800,\n",
    "    height=400,\n",
    "    title='Total Launch Sites by Status'\n",
    ")\n",
    "barchart.show()\n",
    "# 1 Oficiální (placené)\n",
    "# 2 Oficiální (neplacené)\n",
    "# 3 Tolerováno\n",
    "# 4 Zakázáno\n",
    "# 5 Neuvedeno"
   ]
  },
  {
   "cell_type": "code",
   "execution_count": 5,
   "id": "c3a199f7-7dec-471c-9dd7-b4338e9e052d",
   "metadata": {},
   "outputs": [
    {
     "data": {
      "application/vnd.vegalite.v5+json": {
       "$schema": "https://vega.github.io/schema/vega-lite/v5.17.0.json",
       "config": {
        "view": {
         "continuousHeight": 300,
         "continuousWidth": 300
        }
       },
       "data": {
        "name": "data-630f346cd9c056593625fea69bda6cf9"
       },
       "datasets": {
        "data-630f346cd9c056593625fea69bda6cf9": [
         {
          "altitude": 1243,
          "name": "Černá hora",
          "superelevation": 570
         },
         {
          "altitude": 639,
          "name": "Zvičina S",
          "superelevation": 150
         },
         {
          "altitude": 652,
          "name": "Zvičina V",
          "superelevation": 150
         },
         {
          "altitude": 741,
          "name": "Kozákov",
          "superelevation": 250
         },
         {
          "altitude": 449,
          "name": "Hodkovická hrana",
          "superelevation": 40
         },
         {
          "altitude": 793,
          "name": "Rašovka",
          "superelevation": 410
         },
         {
          "altitude": 910,
          "name": "Studenov",
          "superelevation": 300
         },
         {
          "altitude": 1190,
          "name": "Mísečky-Medvědín",
          "superelevation": 330
         },
         {
          "altitude": 1230,
          "name": "Medvědín",
          "superelevation": 350
         },
         {
          "altitude": 1170,
          "name": "Pláně",
          "superelevation": 520
         },
         {
          "altitude": 1010,
          "name": "Čertova hora SV",
          "superelevation": 350
         },
         {
          "altitude": 1010,
          "name": "Čertova hora V",
          "superelevation": 310
         },
         {
          "altitude": 414,
          "name": "Raná SZ",
          "superelevation": 140
         },
         {
          "altitude": 415,
          "name": "Raná JV",
          "superelevation": 140
         },
         {
          "altitude": 1150,
          "name": "Klínovec",
          "superelevation": 230
         },
         {
          "altitude": 630,
          "name": "Krupka",
          "superelevation": 390
         },
         {
          "altitude": 770,
          "name": "Srní",
          "superelevation": 480
         },
         {
          "altitude": 1173,
          "name": "Špičák",
          "superelevation": 337
         },
         {
          "altitude": 500,
          "name": "Havraní skála",
          "superelevation": 310
         },
         {
          "altitude": 471,
          "name": "Zlatník",
          "superelevation": 240
         },
         {
          "altitude": 370,
          "name": "Cukrák",
          "superelevation": 160
         },
         {
          "altitude": 346,
          "name": "Staňkovka",
          "superelevation": 160
         },
         {
          "altitude": 550,
          "name": "Dubičné",
          "superelevation": 60
         },
         {
          "altitude": 685,
          "name": "Godula",
          "superelevation": 278
         },
         {
          "altitude": 923,
          "name": "Javorový",
          "superelevation": 480
         },
         {
          "altitude": 780,
          "name": "Kyčera",
          "superelevation": 320
         },
         {
          "altitude": 940,
          "name": "Malý Travný",
          "superelevation": 410
         },
         {
          "altitude": 931,
          "name": "Ondřejník-Skalka",
          "superelevation": 480
         },
         {
          "altitude": 420,
          "name": "Palkovice",
          "superelevation": 80
         },
         {
          "altitude": 1100,
          "name": "Radhošť",
          "superelevation": 470
         },
         {
          "altitude": 903,
          "name": "Velký Javorník",
          "superelevation": 460
         },
         {
          "altitude": 450,
          "name": "Vidče",
          "superelevation": 40
         },
         {
          "altitude": 420,
          "name": "Vlčovice",
          "superelevation": 50
         },
         {
          "altitude": 280,
          "name": "Kolébky",
          "superelevation": 28
         },
         {
          "altitude": 423,
          "name": "Chlum",
          "superelevation": 90
         },
         {
          "altitude": 450,
          "name": "Ratiboř",
          "superelevation": 90
         },
         {
          "altitude": 780,
          "name": "Jakubovice",
          "superelevation": 150
         },
         {
          "altitude": 1197,
          "name": "Kamenec - start č.1",
          "superelevation": 700
         },
         {
          "altitude": 600,
          "name": "Mohyla",
          "superelevation": 70
         },
         {
          "altitude": 1068,
          "name": "Dolní Morava",
          "superelevation": 380
         },
         {
          "altitude": 1050,
          "name": "Šerák - Mračná hora",
          "superelevation": 350
         },
         {
          "altitude": 1230,
          "name": "Tetřeví hora",
          "superelevation": 400
         },
         {
          "altitude": 400,
          "name": "Vrchy",
          "superelevation": 70
         },
         {
          "altitude": 373,
          "name": "Odry - Vítovka",
          "superelevation": 50
         },
         {
          "altitude": 258,
          "name": "Jeviněves",
          "superelevation": 40
         },
         {
          "altitude": 450,
          "name": "Brná",
          "superelevation": 300
         },
         {
          "altitude": 235,
          "name": "Hostovice",
          "superelevation": 75
         },
         {
          "altitude": 419,
          "name": "Frňák",
          "superelevation": 150
         },
         {
          "altitude": 670,
          "name": "Doubrava",
          "superelevation": 280
         },
         {
          "altitude": 370,
          "name": "Koterov",
          "superelevation": 60
         },
         {
          "altitude": 830,
          "name": "Svatobor SV",
          "superelevation": 330
         },
         {
          "altitude": 479,
          "name": "Švihov",
          "superelevation": 50
         },
         {
          "altitude": 820,
          "name": "Třebouňák",
          "superelevation": 70
         },
         {
          "altitude": 690,
          "name": "Prašivá",
          "superelevation": 260
         },
         {
          "altitude": 762,
          "name": "Omlenice",
          "superelevation": 50
         },
         {
          "altitude": 880,
          "name": "Ještěd SV",
          "superelevation": 520
         },
         {
          "altitude": 866,
          "name": "Velký Lopeník",
          "superelevation": 161
         },
         {
          "altitude": 362,
          "name": "Radobýl",
          "superelevation": 150
         },
         {
          "altitude": 500,
          "name": "Čerťák",
          "superelevation": 300
         },
         {
          "altitude": 390,
          "name": "Dobětice",
          "superelevation": 160
         },
         {
          "altitude": 350,
          "name": "Homole",
          "superelevation": 200
         },
         {
          "altitude": 1080,
          "name": "Lysá hora",
          "superelevation": 430
         },
         {
          "altitude": 850,
          "name": "Anenský vrch",
          "superelevation": 150
         },
         {
          "altitude": 375,
          "name": "Býkovice",
          "superelevation": 30
         },
         {
          "altitude": 399,
          "name": "Hájov",
          "superelevation": 80
         },
         {
          "altitude": 690,
          "name": "Huslenky - U Sivků (Ochmelov)",
          "superelevation": 280
         },
         {
          "altitude": 488,
          "name": "Letovice",
          "superelevation": 100
         },
         {
          "altitude": 455,
          "name": "Lysice",
          "superelevation": 70
         },
         {
          "altitude": 280,
          "name": "Němčany",
          "superelevation": 40
         },
         {
          "altitude": 705,
          "name": "Šanov - Luzný",
          "superelevation": 100
         },
         {
          "altitude": 675,
          "name": "Vír (Javorův kopec)",
          "superelevation": 80
         },
         {
          "altitude": 550,
          "name": "Perštejn",
          "superelevation": 140
         },
         {
          "altitude": 602,
          "name": "Černý vrch",
          "superelevation": 340
         },
         {
          "altitude": 340,
          "name": "Andrlák",
          "superelevation": 70
         },
         {
          "altitude": 370,
          "name": "Koukolova hora",
          "superelevation": 100
         },
         {
          "altitude": 443,
          "name": "Pálava – Stolová hora",
          "superelevation": 120
         },
         {
          "altitude": 710,
          "name": "Kalovy",
          "superelevation": 200
         },
         {
          "altitude": 450,
          "name": "Říp JV",
          "superelevation": 150
         },
         {
          "altitude": 330,
          "name": "Karlík",
          "superelevation": 130
         },
         {
          "altitude": 670,
          "name": "Zásada",
          "superelevation": 80
         },
         {
          "altitude": 606,
          "name": "Víťova vyhlídka  - Náčkovice",
          "superelevation": 10
         },
         {
          "altitude": 526,
          "name": "Zbyslavec",
          "superelevation": 130
         },
         {
          "altitude": 521,
          "name": "Jílové u Děčína - Výrovna SZ",
          "superelevation": 200
         },
         {
          "altitude": 406,
          "name": "Jílové u Děčína SV",
          "superelevation": 100
         },
         {
          "altitude": 640,
          "name": "Olešnice",
          "superelevation": 30
         },
         {
          "altitude": 705,
          "name": "Klíč",
          "superelevation": 360
         },
         {
          "altitude": 600,
          "name": "Mieroszów - Špičák",
          "superelevation": 70
         },
         {
          "altitude": 764,
          "name": "Jedlová",
          "superelevation": 299
         },
         {
          "altitude": 590,
          "name": "Chudenín",
          "superelevation": 90
         },
         {
          "altitude": 369,
          "name": "Srbce",
          "superelevation": 50
         },
         {
          "altitude": 474,
          "name": "Sopotnice",
          "superelevation": 80
         },
         {
          "altitude": 200,
          "name": "Keblice",
          "superelevation": 40
         },
         {
          "altitude": 510,
          "name": "Křížovice",
          "superelevation": 190
         },
         {
          "altitude": 469,
          "name": "Oblík",
          "superelevation": 240
         },
         {
          "altitude": 362,
          "name": "Větrník (Dražovice)",
          "superelevation": 70
         },
         {
          "altitude": 675,
          "name": "Šanov Kamenáč (Prdelník)",
          "superelevation": 80
         },
         {
          "altitude": 532,
          "name": "Hradiště - Hlinná",
          "superelevation": 145
         },
         {
          "altitude": 295,
          "name": "Děčín - Přípeř",
          "superelevation": 160
         },
         {
          "altitude": 445,
          "name": "Bítov",
          "superelevation": 80
         },
         {
          "altitude": 408,
          "name": "Suchomasty - Klonk",
          "superelevation": 50
         },
         {
          "altitude": 500,
          "name": "Řevničov",
          "superelevation": 25
         },
         {
          "altitude": 398,
          "name": "Beroun - vysílač",
          "superelevation": 100
         },
         {
          "altitude": 500,
          "name": "Kateřinice",
          "superelevation": 70
         },
         {
          "altitude": 590,
          "name": "Červený kámen Z",
          "superelevation": 250
         },
         {
          "altitude": 680,
          "name": "Červený kámen S",
          "superelevation": 300
         },
         {
          "altitude": 661,
          "name": "Rýžoviště u Rýmařova",
          "superelevation": 50
         },
         {
          "altitude": 790,
          "name": "Čupel",
          "superelevation": 350
         },
         {
          "altitude": 507,
          "name": "Pálava - Děvín",
          "superelevation": 170
         },
         {
          "altitude": 420,
          "name": "Doudleby - Vrbice",
          "superelevation": 100
         },
         {
          "altitude": 850,
          "name": "Stropník",
          "superelevation": 540
         },
         {
          "altitude": 238,
          "name": "Kobylská skála",
          "superelevation": 40
         },
         {
          "altitude": 431,
          "name": "Uhřínov - Hrabůvka (nový)",
          "superelevation": 80
         },
         {
          "altitude": 450,
          "name": "Říp JZ",
          "superelevation": 150
         },
         {
          "altitude": 260,
          "name": "Děhylov",
          "superelevation": 30
         },
         {
          "altitude": 550,
          "name": "Lovoš",
          "superelevation": 250
         },
         {
          "altitude": 645,
          "name": "Olešnice - ski areál",
          "superelevation": 74
         },
         {
          "altitude": 560,
          "name": "Vrhaveč",
          "superelevation": 100
         },
         {
          "altitude": 470,
          "name": "Obrvaň",
          "superelevation": 115
         },
         {
          "altitude": 600,
          "name": "Pohnánec",
          "superelevation": 50
         },
         {
          "altitude": 470,
          "name": "Kolina",
          "superelevation": 70
         },
         {
          "altitude": 303,
          "name": "Stranná",
          "superelevation": 80
         },
         {
          "altitude": 482,
          "name": "Jahodiska",
          "superelevation": 110
         },
         {
          "altitude": 706,
          "name": "Štarkov",
          "superelevation": 60
         },
         {
          "altitude": 583,
          "name": "Lačnov",
          "superelevation": 66
         },
         {
          "altitude": 224,
          "name": "Cítov",
          "superelevation": 30
         },
         {
          "altitude": 852,
          "name": "Sádek",
          "superelevation": 320
         },
         {
          "altitude": 381,
          "name": "Brtev",
          "superelevation": 30
         },
         {
          "altitude": 153,
          "name": "Krasetín",
          "superelevation": 40
         },
         {
          "altitude": 560,
          "name": "Kapucín",
          "superelevation": 300
         },
         {
          "altitude": 315,
          "name": "Kamenec u Holic",
          "superelevation": 20
         },
         {
          "altitude": 696,
          "name": "Meziboří - sjezdovka",
          "superelevation": 140
         },
         {
          "altitude": 735,
          "name": "Kuří",
          "superelevation": 110
         },
         {
          "altitude": 620,
          "name": "Jistebnice",
          "superelevation": 30
         },
         {
          "altitude": 341,
          "name": "Radovesická výsypka",
          "superelevation": 40
         },
         {
          "altitude": 216,
          "name": "Na Viničkách",
          "superelevation": 30
         },
         {
          "altitude": 463,
          "name": "Myšlín",
          "superelevation": 40
         },
         {
          "altitude": 457,
          "name": "Všestary",
          "superelevation": 30
         },
         {
          "altitude": 486,
          "name": "Nuzovský vrch",
          "superelevation": 35
         },
         {
          "altitude": 260,
          "name": "Doubrava (Orlová)",
          "superelevation": 29
         },
         {
          "altitude": 541,
          "name": "Úhošť",
          "superelevation": 140
         },
         {
          "altitude": 692,
          "name": "Dlouhý Vrch - Žlutice",
          "superelevation": 60
         },
         {
          "altitude": 480,
          "name": "důl Tuchlovice",
          "superelevation": 45
         },
         {
          "altitude": 560,
          "name": "Hůrka",
          "superelevation": 55
         },
         {
          "altitude": 774,
          "name": "Mikulčin Vrch",
          "superelevation": 200
         },
         {
          "altitude": 589,
          "name": "Špičák u Smilova",
          "superelevation": 250
         },
         {
          "altitude": 589,
          "name": "Valchov",
          "superelevation": 90
         },
         {
          "altitude": 488,
          "name": "Krchov u Orlíka",
          "superelevation": 80
         },
         {
          "altitude": 222,
          "name": "Chržín",
          "superelevation": 9
         },
         {
          "altitude": 429,
          "name": "zřícenina hradu Košťálov",
          "superelevation": 200
         },
         {
          "altitude": 514,
          "name": "Kalich",
          "superelevation": 260
         },
         {
          "altitude": 191,
          "name": "Tuháň - Červená Píska",
          "superelevation": 30
         },
         {
          "altitude": 257,
          "name": "Jezero Most JZ Gajbl",
          "superelevation": 50
         },
         {
          "altitude": 296,
          "name": "Růžodolská výsypka (cvičná louka)",
          "superelevation": 10
         },
         {
          "altitude": 819,
          "name": "Vitiška",
          "superelevation": 200
         },
         {
          "altitude": 247,
          "name": "Jezero Most SZ",
          "superelevation": 30
         },
         {
          "altitude": 233,
          "name": "Jezero Most - SV (cvičná louka)",
          "superelevation": 15
         },
         {
          "altitude": 0,
          "name": "Královecký Špičák",
          "superelevation": 300
         },
         {
          "altitude": 902,
          "name": "Křeplický vrch",
          "superelevation": 290
         },
         {
          "altitude": 753,
          "name": "Dubový vrch",
          "superelevation": 100
         },
         {
          "altitude": 813,
          "name": "Svatobor JZ",
          "superelevation": 280
         },
         {
          "altitude": 600,
          "name": "Kladky",
          "superelevation": 80
         },
         {
          "altitude": 938,
          "name": "Buková hora",
          "superelevation": 430
         },
         {
          "altitude": 392,
          "name": "Strážovice",
          "superelevation": 40
         },
         {
          "altitude": 577,
          "name": "Kašava",
          "superelevation": 110
         },
         {
          "altitude": 589,
          "name": "Bohdašín",
          "superelevation": 30
         },
         {
          "altitude": 521,
          "name": "Heřmánkovice",
          "superelevation": 70
         },
         {
          "altitude": 559,
          "name": "Mračný vrch",
          "superelevation": 60
         },
         {
          "altitude": 524,
          "name": "Damníkov",
          "superelevation": 110
         },
         {
          "altitude": 1213,
          "name": "Slamník",
          "superelevation": 540
         },
         {
          "altitude": 550,
          "name": "Zadní skála (Stráž)",
          "superelevation": 50
         },
         {
          "altitude": 401,
          "name": "Oskava",
          "superelevation": 30
         },
         {
          "altitude": 406,
          "name": "Lánský vrch",
          "superelevation": 40
         },
         {
          "altitude": 554,
          "name": "Zbyslavec 2",
          "superelevation": 130
         },
         {
          "altitude": 378,
          "name": "Kamínek",
          "superelevation": 20
         },
         {
          "altitude": 456,
          "name": "Velký Chlum - Bořitov",
          "superelevation": 100
         },
         {
          "altitude": 483,
          "name": "Malý Chlum",
          "superelevation": 100
         },
         {
          "altitude": 424,
          "name": "Hukvaldy",
          "superelevation": 120
         },
         {
          "altitude": 530,
          "name": "Jemnice - Nad Červeným rybníkem",
          "superelevation": 75
         },
         {
          "altitude": 517,
          "name": "Jemnice na rozhledně",
          "superelevation": 90
         },
         {
          "altitude": 968,
          "name": "Hynčice pod Sušinou",
          "superelevation": 140
         },
         {
          "altitude": 397,
          "name": "Knížkovice",
          "superelevation": 50
         },
         {
          "altitude": 482,
          "name": "Střemošice jih",
          "superelevation": 70
         },
         {
          "altitude": 462,
          "name": "Kunčice SSV",
          "superelevation": 100
         },
         {
          "altitude": 370,
          "name": "Mezihoří (Trnávka)",
          "superelevation": 50
         },
         {
          "altitude": 423,
          "name": "Černovír",
          "superelevation": 40
         },
         {
          "altitude": 467,
          "name": "Městečko Trnávka",
          "superelevation": 110
         },
         {
          "altitude": 452,
          "name": "Doubravice",
          "superelevation": 150
         },
         {
          "altitude": 573,
          "name": "Trpík",
          "superelevation": 130
         },
         {
          "altitude": 412,
          "name": "Tatenice (Malá Huba)",
          "superelevation": 90
         },
         {
          "altitude": 584,
          "name": "PODIVICE",
          "superelevation": 40
         },
         {
          "altitude": 376,
          "name": "Svitávka - Hradisko",
          "superelevation": 70
         },
         {
          "altitude": 369,
          "name": "Česká Třebová",
          "superelevation": 0
         }
        ]
       },
       "encoding": {
        "x": {
         "bin": {
          "maxbins": 30
         },
         "field": "altitude",
         "title": "Value",
         "type": "quantitative"
        },
        "y": {
         "aggregate": "count",
         "title": "Frequency",
         "type": "quantitative"
        }
       },
       "height": 400,
       "mark": {
        "type": "bar"
       },
       "title": "Histogram of Altitute",
       "width": 600
      },
      "image/png": "[encoded data removed]",
      "text/plain": [
       "<VegaLite 5 object>\n",
       "\n",
       "If you see this message, it means the renderer has not been properly enabled\n",
       "for the frontend that you are using. For more information, see\n",
       "https://altair-viz.github.io/user_guide/display_frontends.html#troubleshooting\n"
      ]
     },
     "metadata": {},
     "output_type": "display_data"
    }
   ],
   "source": [
    "query = \"\"\"\n",
    "SELECT\n",
    "    name,\n",
    "    altitude,\n",
    "    superelevation\n",
    "FROM source.launches\n",
    "WHERE active\n",
    "\"\"\"\n",
    "launches = pd.read_sql(query, engine)\n",
    "histogram = alt.Chart(launches).mark_bar().encode(\n",
    "    alt.X('altitude:Q', bin=alt.Bin(maxbins=30), title='Value'),\n",
    "    alt.Y('count()', title='Frequency')\n",
    ").properties(\n",
    "    width=600,\n",
    "    height=400,\n",
    "    title='Histogram of Altitute'\n",
    ")\n",
    "alt.data_transformers.disable_max_rows()\n",
    "histogram.show()"
   ]
  },
  {
   "cell_type": "code",
   "execution_count": 6,
   "id": "7229c1d2-408a-43ea-b0c8-e3c8c7e7c6c0",
   "metadata": {},
   "outputs": [
    {
     "data": {
      "application/vnd.vegalite.v5+json": {
       "$schema": "https://vega.github.io/schema/vega-lite/v5.17.0.json",
       "config": {
        "view": {
         "continuousHeight": 300,
         "continuousWidth": 300
        }
       },
       "data": {
        "name": "data-630f346cd9c056593625fea69bda6cf9"
       },
       "datasets": {
        "data-630f346cd9c056593625fea69bda6cf9": [
         {
          "altitude": 1243,
          "name": "Černá hora",
          "superelevation": 570
         },
         {
          "altitude": 639,
          "name": "Zvičina S",
          "superelevation": 150
         },
         {
          "altitude": 652,
          "name": "Zvičina V",
          "superelevation": 150
         },
         {
          "altitude": 741,
          "name": "Kozákov",
          "superelevation": 250
         },
         {
          "altitude": 449,
          "name": "Hodkovická hrana",
          "superelevation": 40
         },
         {
          "altitude": 793,
          "name": "Rašovka",
          "superelevation": 410
         },
         {
          "altitude": 910,
          "name": "Studenov",
          "superelevation": 300
         },
         {
          "altitude": 1190,
          "name": "Mísečky-Medvědín",
          "superelevation": 330
         },
         {
          "altitude": 1230,
          "name": "Medvědín",
          "superelevation": 350
         },
         {
          "altitude": 1170,
          "name": "Pláně",
          "superelevation": 520
         },
         {
          "altitude": 1010,
          "name": "Čertova hora SV",
          "superelevation": 350
         },
         {
          "altitude": 1010,
          "name": "Čertova hora V",
          "superelevation": 310
         },
         {
          "altitude": 414,
          "name": "Raná SZ",
          "superelevation": 140
         },
         {
          "altitude": 415,
          "name": "Raná JV",
          "superelevation": 140
         },
         {
          "altitude": 1150,
          "name": "Klínovec",
          "superelevation": 230
         },
         {
          "altitude": 630,
          "name": "Krupka",
          "superelevation": 390
         },
         {
          "altitude": 770,
          "name": "Srní",
          "superelevation": 480
         },
         {
          "altitude": 1173,
          "name": "Špičák",
          "superelevation": 337
         },
         {
          "altitude": 500,
          "name": "Havraní skála",
          "superelevation": 310
         },
         {
          "altitude": 471,
          "name": "Zlatník",
          "superelevation": 240
         },
         {
          "altitude": 370,
          "name": "Cukrák",
          "superelevation": 160
         },
         {
          "altitude": 346,
          "name": "Staňkovka",
          "superelevation": 160
         },
         {
          "altitude": 550,
          "name": "Dubičné",
          "superelevation": 60
         },
         {
          "altitude": 685,
          "name": "Godula",
          "superelevation": 278
         },
         {
          "altitude": 923,
          "name": "Javorový",
          "superelevation": 480
         },
         {
          "altitude": 780,
          "name": "Kyčera",
          "superelevation": 320
         },
         {
          "altitude": 940,
          "name": "Malý Travný",
          "superelevation": 410
         },
         {
          "altitude": 931,
          "name": "Ondřejník-Skalka",
          "superelevation": 480
         },
         {
          "altitude": 420,
          "name": "Palkovice",
          "superelevation": 80
         },
         {
          "altitude": 1100,
          "name": "Radhošť",
          "superelevation": 470
         },
         {
          "altitude": 903,
          "name": "Velký Javorník",
          "superelevation": 460
         },
         {
          "altitude": 450,
          "name": "Vidče",
          "superelevation": 40
         },
         {
          "altitude": 420,
          "name": "Vlčovice",
          "superelevation": 50
         },
         {
          "altitude": 280,
          "name": "Kolébky",
          "superelevation": 28
         },
         {
          "altitude": 423,
          "name": "Chlum",
          "superelevation": 90
         },
         {
          "altitude": 450,
          "name": "Ratiboř",
          "superelevation": 90
         },
         {
          "altitude": 780,
          "name": "Jakubovice",
          "superelevation": 150
         },
         {
          "altitude": 1197,
          "name": "Kamenec - start č.1",
          "superelevation": 700
         },
         {
          "altitude": 600,
          "name": "Mohyla",
          "superelevation": 70
         },
         {
          "altitude": 1068,
          "name": "Dolní Morava",
          "superelevation": 380
         },
         {
          "altitude": 1050,
          "name": "Šerák - Mračná hora",
          "superelevation": 350
         },
         {
          "altitude": 1230,
          "name": "Tetřeví hora",
          "superelevation": 400
         },
         {
          "altitude": 400,
          "name": "Vrchy",
          "superelevation": 70
         },
         {
          "altitude": 373,
          "name": "Odry - Vítovka",
          "superelevation": 50
         },
         {
          "altitude": 258,
          "name": "Jeviněves",
          "superelevation": 40
         },
         {
          "altitude": 450,
          "name": "Brná",
          "superelevation": 300
         },
         {
          "altitude": 235,
          "name": "Hostovice",
          "superelevation": 75
         },
         {
          "altitude": 419,
          "name": "Frňák",
          "superelevation": 150
         },
         {
          "altitude": 670,
          "name": "Doubrava",
          "superelevation": 280
         },
         {
          "altitude": 370,
          "name": "Koterov",
          "superelevation": 60
         },
         {
          "altitude": 830,
          "name": "Svatobor SV",
          "superelevation": 330
         },
         {
          "altitude": 479,
          "name": "Švihov",
          "superelevation": 50
         },
         {
          "altitude": 820,
          "name": "Třebouňák",
          "superelevation": 70
         },
         {
          "altitude": 690,
          "name": "Prašivá",
          "superelevation": 260
         },
         {
          "altitude": 762,
          "name": "Omlenice",
          "superelevation": 50
         },
         {
          "altitude": 880,
          "name": "Ještěd SV",
          "superelevation": 520
         },
         {
          "altitude": 866,
          "name": "Velký Lopeník",
          "superelevation": 161
         },
         {
          "altitude": 362,
          "name": "Radobýl",
          "superelevation": 150
         },
         {
          "altitude": 500,
          "name": "Čerťák",
          "superelevation": 300
         },
         {
          "altitude": 390,
          "name": "Dobětice",
          "superelevation": 160
         },
         {
          "altitude": 350,
          "name": "Homole",
          "superelevation": 200
         },
         {
          "altitude": 1080,
          "name": "Lysá hora",
          "superelevation": 430
         },
         {
          "altitude": 850,
          "name": "Anenský vrch",
          "superelevation": 150
         },
         {
          "altitude": 375,
          "name": "Býkovice",
          "superelevation": 30
         },
         {
          "altitude": 399,
          "name": "Hájov",
          "superelevation": 80
         },
         {
          "altitude": 690,
          "name": "Huslenky - U Sivků (Ochmelov)",
          "superelevation": 280
         },
         {
          "altitude": 488,
          "name": "Letovice",
          "superelevation": 100
         },
         {
          "altitude": 455,
          "name": "Lysice",
          "superelevation": 70
         },
         {
          "altitude": 280,
          "name": "Němčany",
          "superelevation": 40
         },
         {
          "altitude": 705,
          "name": "Šanov - Luzný",
          "superelevation": 100
         },
         {
          "altitude": 675,
          "name": "Vír (Javorův kopec)",
          "superelevation": 80
         },
         {
          "altitude": 550,
          "name": "Perštejn",
          "superelevation": 140
         },
         {
          "altitude": 602,
          "name": "Černý vrch",
          "superelevation": 340
         },
         {
          "altitude": 340,
          "name": "Andrlák",
          "superelevation": 70
         },
         {
          "altitude": 370,
          "name": "Koukolova hora",
          "superelevation": 100
         },
         {
          "altitude": 443,
          "name": "Pálava – Stolová hora",
          "superelevation": 120
         },
         {
          "altitude": 710,
          "name": "Kalovy",
          "superelevation": 200
         },
         {
          "altitude": 450,
          "name": "Říp JV",
          "superelevation": 150
         },
         {
          "altitude": 330,
          "name": "Karlík",
          "superelevation": 130
         },
         {
          "altitude": 670,
          "name": "Zásada",
          "superelevation": 80
         },
         {
          "altitude": 606,
          "name": "Víťova vyhlídka  - Náčkovice",
          "superelevation": 10
         },
         {
          "altitude": 526,
          "name": "Zbyslavec",
          "superelevation": 130
         },
         {
          "altitude": 521,
          "name": "Jílové u Děčína - Výrovna SZ",
          "superelevation": 200
         },
         {
          "altitude": 406,
          "name": "Jílové u Děčína SV",
          "superelevation": 100
         },
         {
          "altitude": 640,
          "name": "Olešnice",
          "superelevation": 30
         },
         {
          "altitude": 705,
          "name": "Klíč",
          "superelevation": 360
         },
         {
          "altitude": 600,
          "name": "Mieroszów - Špičák",
          "superelevation": 70
         },
         {
          "altitude": 764,
          "name": "Jedlová",
          "superelevation": 299
         },
         {
          "altitude": 590,
          "name": "Chudenín",
          "superelevation": 90
         },
         {
          "altitude": 369,
          "name": "Srbce",
          "superelevation": 50
         },
         {
          "altitude": 474,
          "name": "Sopotnice",
          "superelevation": 80
         },
         {
          "altitude": 200,
          "name": "Keblice",
          "superelevation": 40
         },
         {
          "altitude": 510,
          "name": "Křížovice",
          "superelevation": 190
         },
         {
          "altitude": 469,
          "name": "Oblík",
          "superelevation": 240
         },
         {
          "altitude": 362,
          "name": "Větrník (Dražovice)",
          "superelevation": 70
         },
         {
          "altitude": 675,
          "name": "Šanov Kamenáč (Prdelník)",
          "superelevation": 80
         },
         {
          "altitude": 532,
          "name": "Hradiště - Hlinná",
          "superelevation": 145
         },
         {
          "altitude": 295,
          "name": "Děčín - Přípeř",
          "superelevation": 160
         },
         {
          "altitude": 445,
          "name": "Bítov",
          "superelevation": 80
         },
         {
          "altitude": 408,
          "name": "Suchomasty - Klonk",
          "superelevation": 50
         },
         {
          "altitude": 500,
          "name": "Řevničov",
          "superelevation": 25
         },
         {
          "altitude": 398,
          "name": "Beroun - vysílač",
          "superelevation": 100
         },
         {
          "altitude": 500,
          "name": "Kateřinice",
          "superelevation": 70
         },
         {
          "altitude": 590,
          "name": "Červený kámen Z",
          "superelevation": 250
         },
         {
          "altitude": 680,
          "name": "Červený kámen S",
          "superelevation": 300
         },
         {
          "altitude": 661,
          "name": "Rýžoviště u Rýmařova",
          "superelevation": 50
         },
         {
          "altitude": 790,
          "name": "Čupel",
          "superelevation": 350
         },
         {
          "altitude": 507,
          "name": "Pálava - Děvín",
          "superelevation": 170
         },
         {
          "altitude": 420,
          "name": "Doudleby - Vrbice",
          "superelevation": 100
         },
         {
          "altitude": 850,
          "name": "Stropník",
          "superelevation": 540
         },
         {
          "altitude": 238,
          "name": "Kobylská skála",
          "superelevation": 40
         },
         {
          "altitude": 431,
          "name": "Uhřínov - Hrabůvka (nový)",
          "superelevation": 80
         },
         {
          "altitude": 450,
          "name": "Říp JZ",
          "superelevation": 150
         },
         {
          "altitude": 260,
          "name": "Děhylov",
          "superelevation": 30
         },
         {
          "altitude": 550,
          "name": "Lovoš",
          "superelevation": 250
         },
         {
          "altitude": 645,
          "name": "Olešnice - ski areál",
          "superelevation": 74
         },
         {
          "altitude": 560,
          "name": "Vrhaveč",
          "superelevation": 100
         },
         {
          "altitude": 470,
          "name": "Obrvaň",
          "superelevation": 115
         },
         {
          "altitude": 600,
          "name": "Pohnánec",
          "superelevation": 50
         },
         {
          "altitude": 470,
          "name": "Kolina",
          "superelevation": 70
         },
         {
          "altitude": 303,
          "name": "Stranná",
          "superelevation": 80
         },
         {
          "altitude": 482,
          "name": "Jahodiska",
          "superelevation": 110
         },
         {
          "altitude": 706,
          "name": "Štarkov",
          "superelevation": 60
         },
         {
          "altitude": 583,
          "name": "Lačnov",
          "superelevation": 66
         },
         {
          "altitude": 224,
          "name": "Cítov",
          "superelevation": 30
         },
         {
          "altitude": 852,
          "name": "Sádek",
          "superelevation": 320
         },
         {
          "altitude": 381,
          "name": "Brtev",
          "superelevation": 30
         },
         {
          "altitude": 153,
          "name": "Krasetín",
          "superelevation": 40
         },
         {
          "altitude": 560,
          "name": "Kapucín",
          "superelevation": 300
         },
         {
          "altitude": 315,
          "name": "Kamenec u Holic",
          "superelevation": 20
         },
         {
          "altitude": 696,
          "name": "Meziboří - sjezdovka",
          "superelevation": 140
         },
         {
          "altitude": 735,
          "name": "Kuří",
          "superelevation": 110
         },
         {
          "altitude": 620,
          "name": "Jistebnice",
          "superelevation": 30
         },
         {
          "altitude": 341,
          "name": "Radovesická výsypka",
          "superelevation": 40
         },
         {
          "altitude": 216,
          "name": "Na Viničkách",
          "superelevation": 30
         },
         {
          "altitude": 463,
          "name": "Myšlín",
          "superelevation": 40
         },
         {
          "altitude": 457,
          "name": "Všestary",
          "superelevation": 30
         },
         {
          "altitude": 486,
          "name": "Nuzovský vrch",
          "superelevation": 35
         },
         {
          "altitude": 260,
          "name": "Doubrava (Orlová)",
          "superelevation": 29
         },
         {
          "altitude": 541,
          "name": "Úhošť",
          "superelevation": 140
         },
         {
          "altitude": 692,
          "name": "Dlouhý Vrch - Žlutice",
          "superelevation": 60
         },
         {
          "altitude": 480,
          "name": "důl Tuchlovice",
          "superelevation": 45
         },
         {
          "altitude": 560,
          "name": "Hůrka",
          "superelevation": 55
         },
         {
          "altitude": 774,
          "name": "Mikulčin Vrch",
          "superelevation": 200
         },
         {
          "altitude": 589,
          "name": "Špičák u Smilova",
          "superelevation": 250
         },
         {
          "altitude": 589,
          "name": "Valchov",
          "superelevation": 90
         },
         {
          "altitude": 488,
          "name": "Krchov u Orlíka",
          "superelevation": 80
         },
         {
          "altitude": 222,
          "name": "Chržín",
          "superelevation": 9
         },
         {
          "altitude": 429,
          "name": "zřícenina hradu Košťálov",
          "superelevation": 200
         },
         {
          "altitude": 514,
          "name": "Kalich",
          "superelevation": 260
         },
         {
          "altitude": 191,
          "name": "Tuháň - Červená Píska",
          "superelevation": 30
         },
         {
          "altitude": 257,
          "name": "Jezero Most JZ Gajbl",
          "superelevation": 50
         },
         {
          "altitude": 296,
          "name": "Růžodolská výsypka (cvičná louka)",
          "superelevation": 10
         },
         {
          "altitude": 819,
          "name": "Vitiška",
          "superelevation": 200
         },
         {
          "altitude": 247,
          "name": "Jezero Most SZ",
          "superelevation": 30
         },
         {
          "altitude": 233,
          "name": "Jezero Most - SV (cvičná louka)",
          "superelevation": 15
         },
         {
          "altitude": 0,
          "name": "Královecký Špičák",
          "superelevation": 300
         },
         {
          "altitude": 902,
          "name": "Křeplický vrch",
          "superelevation": 290
         },
         {
          "altitude": 753,
          "name": "Dubový vrch",
          "superelevation": 100
         },
         {
          "altitude": 813,
          "name": "Svatobor JZ",
          "superelevation": 280
         },
         {
          "altitude": 600,
          "name": "Kladky",
          "superelevation": 80
         },
         {
          "altitude": 938,
          "name": "Buková hora",
          "superelevation": 430
         },
         {
          "altitude": 392,
          "name": "Strážovice",
          "superelevation": 40
         },
         {
          "altitude": 577,
          "name": "Kašava",
          "superelevation": 110
         },
         {
          "altitude": 589,
          "name": "Bohdašín",
          "superelevation": 30
         },
         {
          "altitude": 521,
          "name": "Heřmánkovice",
          "superelevation": 70
         },
         {
          "altitude": 559,
          "name": "Mračný vrch",
          "superelevation": 60
         },
         {
          "altitude": 524,
          "name": "Damníkov",
          "superelevation": 110
         },
         {
          "altitude": 1213,
          "name": "Slamník",
          "superelevation": 540
         },
         {
          "altitude": 550,
          "name": "Zadní skála (Stráž)",
          "superelevation": 50
         },
         {
          "altitude": 401,
          "name": "Oskava",
          "superelevation": 30
         },
         {
          "altitude": 406,
          "name": "Lánský vrch",
          "superelevation": 40
         },
         {
          "altitude": 554,
          "name": "Zbyslavec 2",
          "superelevation": 130
         },
         {
          "altitude": 378,
          "name": "Kamínek",
          "superelevation": 20
         },
         {
          "altitude": 456,
          "name": "Velký Chlum - Bořitov",
          "superelevation": 100
         },
         {
          "altitude": 483,
          "name": "Malý Chlum",
          "superelevation": 100
         },
         {
          "altitude": 424,
          "name": "Hukvaldy",
          "superelevation": 120
         },
         {
          "altitude": 530,
          "name": "Jemnice - Nad Červeným rybníkem",
          "superelevation": 75
         },
         {
          "altitude": 517,
          "name": "Jemnice na rozhledně",
          "superelevation": 90
         },
         {
          "altitude": 968,
          "name": "Hynčice pod Sušinou",
          "superelevation": 140
         },
         {
          "altitude": 397,
          "name": "Knížkovice",
          "superelevation": 50
         },
         {
          "altitude": 482,
          "name": "Střemošice jih",
          "superelevation": 70
         },
         {
          "altitude": 462,
          "name": "Kunčice SSV",
          "superelevation": 100
         },
         {
          "altitude": 370,
          "name": "Mezihoří (Trnávka)",
          "superelevation": 50
         },
         {
          "altitude": 423,
          "name": "Černovír",
          "superelevation": 40
         },
         {
          "altitude": 467,
          "name": "Městečko Trnávka",
          "superelevation": 110
         },
         {
          "altitude": 452,
          "name": "Doubravice",
          "superelevation": 150
         },
         {
          "altitude": 573,
          "name": "Trpík",
          "superelevation": 130
         },
         {
          "altitude": 412,
          "name": "Tatenice (Malá Huba)",
          "superelevation": 90
         },
         {
          "altitude": 584,
          "name": "PODIVICE",
          "superelevation": 40
         },
         {
          "altitude": 376,
          "name": "Svitávka - Hradisko",
          "superelevation": 70
         },
         {
          "altitude": 369,
          "name": "Česká Třebová",
          "superelevation": 0
         }
        ]
       },
       "encoding": {
        "x": {
         "bin": {
          "maxbins": 30
         },
         "field": "superelevation",
         "title": "Value",
         "type": "quantitative"
        },
        "y": {
         "aggregate": "count",
         "title": "Frequency",
         "type": "quantitative"
        }
       },
       "height": 400,
       "mark": {
        "type": "bar"
       },
       "title": "Histogram of Superelevation",
       "width": 600
      },
      "image/png": "[encoded data removed]",
      "text/plain": [
       "<VegaLite 5 object>\n",
       "\n",
       "If you see this message, it means the renderer has not been properly enabled\n",
       "for the frontend that you are using. For more information, see\n",
       "https://altair-viz.github.io/user_guide/display_frontends.html#troubleshooting\n"
      ]
     },
     "metadata": {},
     "output_type": "display_data"
    }
   ],
   "source": [
    "launches = pd.read_sql(query, engine)\n",
    "histogram = alt.Chart(launches).mark_bar().encode(\n",
    "    alt.X('superelevation:Q', bin=alt.Bin(maxbins=30), title='Value'),\n",
    "    alt.Y('count()', title='Frequency')\n",
    ").properties(\n",
    "    width=600,\n",
    "    height=400,\n",
    "    title='Histogram of Superelevation'\n",
    ")\n",
    "alt.data_transformers.disable_max_rows()\n",
    "histogram.show()"
   ]
  },
  {
   "cell_type": "code",
   "execution_count": 7,
   "id": "feea4d29-6483-4f72-8222-0284da2d1749",
   "metadata": {},
   "outputs": [
    {
     "data": {
      "application/vnd.vegalite.v5+json": {
       "$schema": "https://vega.github.io/schema/vega-lite/v5.17.0.json",
       "config": {
        "view": {
         "continuousHeight": 300,
         "continuousWidth": 300
        }
       },
       "data": {
        "name": "data-5b1f554c93bf56447cc30effa9c461f5"
       },
       "datasets": {
        "data-5b1f554c93bf56447cc30effa9c461f5": [
         {
          "altitude": 1243,
          "name": "Černá hora"
         },
         {
          "altitude": 1230,
          "name": "Medvědín"
         },
         {
          "altitude": 1230,
          "name": "Tetřeví hora"
         },
         {
          "altitude": 1213,
          "name": "Slamník"
         },
         {
          "altitude": 1197,
          "name": "Kamenec - start č.1"
         },
         {
          "altitude": 1190,
          "name": "Mísečky-Medvědín"
         },
         {
          "altitude": 1173,
          "name": "Špičák"
         },
         {
          "altitude": 1170,
          "name": "Pláně"
         },
         {
          "altitude": 1150,
          "name": "Klínovec"
         },
         {
          "altitude": 1100,
          "name": "Radhošť"
         },
         {
          "altitude": 1080,
          "name": "Lysá hora"
         },
         {
          "altitude": 1068,
          "name": "Dolní Morava"
         },
         {
          "altitude": 1050,
          "name": "Šerák - Mračná hora"
         },
         {
          "altitude": 1010,
          "name": "Čertova hora V"
         },
         {
          "altitude": 1010,
          "name": "Čertova hora SV"
         },
         {
          "altitude": 968,
          "name": "Hynčice pod Sušinou"
         },
         {
          "altitude": 940,
          "name": "Malý Travný"
         },
         {
          "altitude": 938,
          "name": "Buková hora"
         },
         {
          "altitude": 931,
          "name": "Ondřejník-Skalka"
         },
         {
          "altitude": 923,
          "name": "Javorový"
         },
         {
          "altitude": 910,
          "name": "Studenov"
         },
         {
          "altitude": 903,
          "name": "Velký Javorník"
         },
         {
          "altitude": 902,
          "name": "Křeplický vrch"
         },
         {
          "altitude": 880,
          "name": "Ještěd SV"
         },
         {
          "altitude": 866,
          "name": "Velký Lopeník"
         },
         {
          "altitude": 852,
          "name": "Sádek"
         },
         {
          "altitude": 850,
          "name": "Anenský vrch"
         },
         {
          "altitude": 850,
          "name": "Stropník"
         },
         {
          "altitude": 830,
          "name": "Svatobor SV"
         },
         {
          "altitude": 820,
          "name": "Třebouňák"
         },
         {
          "altitude": 819,
          "name": "Vitiška"
         },
         {
          "altitude": 813,
          "name": "Svatobor JZ"
         },
         {
          "altitude": 793,
          "name": "Rašovka"
         },
         {
          "altitude": 790,
          "name": "Čupel"
         },
         {
          "altitude": 780,
          "name": "Kyčera"
         },
         {
          "altitude": 780,
          "name": "Jakubovice"
         },
         {
          "altitude": 774,
          "name": "Mikulčin Vrch"
         },
         {
          "altitude": 770,
          "name": "Srní"
         },
         {
          "altitude": 764,
          "name": "Jedlová"
         },
         {
          "altitude": 762,
          "name": "Omlenice"
         },
         {
          "altitude": 753,
          "name": "Dubový vrch"
         },
         {
          "altitude": 741,
          "name": "Kozákov"
         },
         {
          "altitude": 735,
          "name": "Kuří"
         },
         {
          "altitude": 710,
          "name": "Kalovy"
         },
         {
          "altitude": 706,
          "name": "Štarkov"
         },
         {
          "altitude": 705,
          "name": "Šanov - Luzný"
         },
         {
          "altitude": 705,
          "name": "Klíč"
         },
         {
          "altitude": 696,
          "name": "Meziboří - sjezdovka"
         },
         {
          "altitude": 692,
          "name": "Dlouhý Vrch - Žlutice"
         },
         {
          "altitude": 690,
          "name": "Prašivá"
         }
        ]
       },
       "encoding": {
        "tooltip": [
         {
          "field": "name",
          "type": "nominal"
         },
         {
          "field": "altitude",
          "type": "quantitative"
         }
        ],
        "x": {
         "field": "name",
         "sort": {
          "field": "altitude",
          "order": "descending"
         },
         "title": "Launch Site",
         "type": "nominal"
        },
        "y": {
         "field": "altitude",
         "title": "Altitude",
         "type": "quantitative"
        }
       },
       "height": 400,
       "mark": {
        "color": "steelblue",
        "type": "bar"
       },
       "title": "Sites with Highest Altitude",
       "width": 800
      },
      "image/png": "[encoded data removed]",
      "text/plain": [
       "<VegaLite 5 object>\n",
       "\n",
       "If you see this message, it means the renderer has not been properly enabled\n",
       "for the frontend that you are using. For more information, see\n",
       "https://altair-viz.github.io/user_guide/display_frontends.html#troubleshooting\n"
      ]
     },
     "metadata": {},
     "output_type": "display_data"
    }
   ],
   "source": [
    "query = \"\"\"\n",
    "SELECT\n",
    "    name,\n",
    "    altitude\n",
    "FROM source.launches\n",
    "WHERE active\n",
    "ORDER BY altitude DESC\n",
    "LIMIT 50\n",
    "\"\"\"\n",
    "df = pd.read_sql(query, engine)\n",
    "barchart = alt.Chart(df).mark_bar(color='steelblue').encode(\n",
    "    x=alt.X('name:N', sort=alt.EncodingSortField(field='altitude', order='descending'), title='Launch Site'),\n",
    "    y=alt.Y('altitude:Q', title='Altitude'),\n",
    "    tooltip=['name:N', 'altitude:Q']\n",
    ").properties(\n",
    "    width=800,\n",
    "    height=400,\n",
    "    title='Sites with Highest Altitude'\n",
    ")\n",
    "barchart.show()"
   ]
  },
  {
   "cell_type": "code",
   "execution_count": 8,
   "id": "dff3ec62-8787-4bfe-bc49-de9ffdc5b396",
   "metadata": {},
   "outputs": [
    {
     "data": {
      "application/vnd.vegalite.v5+json": {
       "$schema": "https://vega.github.io/schema/vega-lite/v5.17.0.json",
       "config": {
        "view": {
         "continuousHeight": 300,
         "continuousWidth": 300
        }
       },
       "data": {
        "name": "data-c47be434a0aeda139e83edf75428f300"
       },
       "datasets": {
        "data-c47be434a0aeda139e83edf75428f300": [
         {
          "name": "Černá hora",
          "superelevation": 570
         },
         {
          "name": "Medvědín",
          "superelevation": 350
         },
         {
          "name": "Tetřeví hora",
          "superelevation": 400
         },
         {
          "name": "Slamník",
          "superelevation": 540
         },
         {
          "name": "Kamenec - start č.1",
          "superelevation": 700
         },
         {
          "name": "Mísečky-Medvědín",
          "superelevation": 330
         },
         {
          "name": "Špičák",
          "superelevation": 337
         },
         {
          "name": "Pláně",
          "superelevation": 520
         },
         {
          "name": "Klínovec",
          "superelevation": 230
         },
         {
          "name": "Radhošť",
          "superelevation": 470
         },
         {
          "name": "Lysá hora",
          "superelevation": 430
         },
         {
          "name": "Dolní Morava",
          "superelevation": 380
         },
         {
          "name": "Šerák - Mračná hora",
          "superelevation": 350
         },
         {
          "name": "Čertova hora V",
          "superelevation": 310
         },
         {
          "name": "Čertova hora SV",
          "superelevation": 350
         },
         {
          "name": "Hynčice pod Sušinou",
          "superelevation": 140
         },
         {
          "name": "Malý Travný",
          "superelevation": 410
         },
         {
          "name": "Buková hora",
          "superelevation": 430
         },
         {
          "name": "Ondřejník-Skalka",
          "superelevation": 480
         },
         {
          "name": "Javorový",
          "superelevation": 480
         },
         {
          "name": "Studenov",
          "superelevation": 300
         },
         {
          "name": "Velký Javorník",
          "superelevation": 460
         },
         {
          "name": "Křeplický vrch",
          "superelevation": 290
         },
         {
          "name": "Ještěd SV",
          "superelevation": 520
         },
         {
          "name": "Velký Lopeník",
          "superelevation": 161
         },
         {
          "name": "Sádek",
          "superelevation": 320
         },
         {
          "name": "Anenský vrch",
          "superelevation": 150
         },
         {
          "name": "Stropník",
          "superelevation": 540
         },
         {
          "name": "Svatobor SV",
          "superelevation": 330
         },
         {
          "name": "Třebouňák",
          "superelevation": 70
         },
         {
          "name": "Vitiška",
          "superelevation": 200
         },
         {
          "name": "Svatobor JZ",
          "superelevation": 280
         },
         {
          "name": "Rašovka",
          "superelevation": 410
         },
         {
          "name": "Čupel",
          "superelevation": 350
         },
         {
          "name": "Kyčera",
          "superelevation": 320
         },
         {
          "name": "Jakubovice",
          "superelevation": 150
         },
         {
          "name": "Mikulčin Vrch",
          "superelevation": 200
         },
         {
          "name": "Srní",
          "superelevation": 480
         },
         {
          "name": "Jedlová",
          "superelevation": 299
         },
         {
          "name": "Omlenice",
          "superelevation": 50
         },
         {
          "name": "Dubový vrch",
          "superelevation": 100
         },
         {
          "name": "Kozákov",
          "superelevation": 250
         },
         {
          "name": "Kuří",
          "superelevation": 110
         },
         {
          "name": "Kalovy",
          "superelevation": 200
         },
         {
          "name": "Štarkov",
          "superelevation": 60
         },
         {
          "name": "Šanov - Luzný",
          "superelevation": 100
         },
         {
          "name": "Klíč",
          "superelevation": 360
         },
         {
          "name": "Meziboří - sjezdovka",
          "superelevation": 140
         },
         {
          "name": "Dlouhý Vrch - Žlutice",
          "superelevation": 60
         },
         {
          "name": "Prašivá",
          "superelevation": 260
         }
        ]
       },
       "encoding": {
        "tooltip": [
         {
          "field": "name",
          "type": "nominal"
         },
         {
          "field": "superelevation",
          "type": "quantitative"
         }
        ],
        "x": {
         "field": "name",
         "sort": {
          "field": "superelevation",
          "order": "descending"
         },
         "title": "Launch Site",
         "type": "nominal"
        },
        "y": {
         "field": "superelevation",
         "title": "Superelevation",
         "type": "quantitative"
        }
       },
       "height": 400,
       "mark": {
        "color": "steelblue",
        "type": "bar"
       },
       "title": "Sites with Highest Superelevation",
       "width": 800
      },
      "image/png": "[encoded data removed]",
      "text/plain": [
       "<VegaLite 5 object>\n",
       "\n",
       "If you see this message, it means the renderer has not been properly enabled\n",
       "for the frontend that you are using. For more information, see\n",
       "https://altair-viz.github.io/user_guide/display_frontends.html#troubleshooting\n"
      ]
     },
     "metadata": {},
     "output_type": "display_data"
    }
   ],
   "source": [
    "query = \"\"\"\n",
    "SELECT\n",
    "    name,\n",
    "    superelevation\n",
    "FROM source.launches\n",
    "WHERE active\n",
    "ORDER BY altitude DESC\n",
    "LIMIT 50\n",
    "\"\"\"\n",
    "df = pd.read_sql(query, engine)\n",
    "barchart = alt.Chart(df).mark_bar(color='steelblue').encode(\n",
    "    x=alt.X('name:N', sort=alt.EncodingSortField(field='superelevation', order='descending'), title='Launch Site'),\n",
    "    y=alt.Y('superelevation:Q', title='Superelevation'),\n",
    "    tooltip=['name:N', 'superelevation:Q']\n",
    ").properties(\n",
    "    width=800,\n",
    "    height=400,\n",
    "    title='Sites with Highest Superelevation'\n",
    ")\n",
    "barchart.show()"
   ]
  }
 ],
 "metadata": {
  "kernelspec": {
   "display_name": "env-jl",
   "language": "python",
   "name": "env-jl"
  },
  "language_info": {
   "codemirror_mode": {
    "name": "ipython",
    "version": 3
   },
   "file_extension": ".py",
   "mimetype": "text/x-python",
   "name": "python",
   "nbconvert_exporter": "python",
   "pygments_lexer": "ipython3",
   "version": "3.10.12"
  }
 },
 "nbformat": 4,
 "nbformat_minor": 5
}
