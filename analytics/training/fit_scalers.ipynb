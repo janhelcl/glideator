{
 "cells": [
  {
   "cell_type": "code",
   "execution_count": 3,
   "metadata": {},
   "outputs": [],
   "source": [
    "import os\n",
    "import logging\n",
    "import glob\n",
    "\n",
    "from dotenv import load_dotenv\n",
    "from sqlalchemy import create_engine\n",
    "import pandas as pd\n",
    "import torch\n",
    "import torch.nn as nn\n",
    "import torch.optim as optim\n",
    "import webdataset as wds\n",
    "import matplotlib.pyplot as plt\n",
    "\n",
    "import net.net as net\n",
    "import net.io as io\n",
    "import gfs.fetch\n",
    "import utils"
   ]
  },
  {
   "cell_type": "code",
   "execution_count": 4,
   "metadata": {},
   "outputs": [
    {
     "name": "stdout",
     "output_type": "stream",
     "text": [
      "The autoreload extension is already loaded. To reload it, use:\n",
      "  %reload_ext autoreload\n"
     ]
    }
   ],
   "source": [
    "%load_ext autoreload\n",
    "%autoreload 2"
   ]
  },
  {
   "cell_type": "code",
   "execution_count": 5,
   "metadata": {},
   "outputs": [],
   "source": [
    "load_dotenv()\n",
    "\n",
    "connection_string = \"postgresql://{user}:{password}@{host}:{port}/{db}\".format(\n",
    "    user=os.getenv('DB_USER'),\n",
    "    password=os.getenv('DB_PASSWORD'),\n",
    "    host=os.getenv('DB_HOST'),\n",
    "    port=os.getenv('DB_PORT'),\n",
    "    db=os.getenv('DB_NAME')\n",
    ")\n",
    "engine = create_engine(connection_string)"
   ]
  },
  {
   "cell_type": "code",
   "execution_count": 6,
   "metadata": {},
   "outputs": [],
   "source": [
    "col_names = gfs.fetch.get_col_order()\n",
    "\n",
    "col_names_full = []\n",
    "for col in col_names:\n",
    "    col_names_full.append(f'{col}_12')"
   ]
  },
  {
   "cell_type": "code",
   "execution_count": 7,
   "metadata": {},
   "outputs": [],
   "source": [
    "# Compute scaling parameters in database for weather features\n",
    "query = f\"\"\"\n",
    "WITH stats AS (\n",
    "    SELECT \n",
    "        {', '.join(f'AVG({col}) as mean_{col}, STDDEV({col}) as std_{col}' for col in col_names_full)}\n",
    "    FROM glideator_fs.features_with_target\n",
    "    WHERE is_validation = FALSE\n",
    ")\n",
    "SELECT * FROM stats\n",
    "\"\"\"\n",
    "stats_df = pd.read_sql(query, engine)\n",
    "\n",
    "# Create scaling params dictionary for weather features\n",
    "scaling_params = {}\n",
    "for col in col_names_full:\n",
    "    scaling_params[col] = {\n",
    "        'mean': float(stats_df[f'mean_{col}'].iloc[0]),\n",
    "        'std': float(stats_df[f'std_{col}'].iloc[0])\n",
    "    }\n",
    "\n",
    "# Compute scaling parameters for site features\n",
    "site_query = \"\"\"\n",
    "WITH stats AS (\n",
    "    SELECT \n",
    "        AVG(latitude) as mean_latitude, STDDEV(latitude) as std_latitude,\n",
    "        AVG(longitude) as mean_longitude, STDDEV(longitude) as std_longitude,\n",
    "        AVG(altitude) as mean_altitude, STDDEV(altitude) as std_altitude\n",
    "    FROM glideator_fs.features_with_target\n",
    "    WHERE is_validation = FALSE\n",
    ")\n",
    "SELECT * FROM stats\n",
    "\"\"\"\n",
    "site_stats_df = pd.read_sql(site_query, engine)\n",
    "\n",
    "# Create scaling params dictionary for site features\n",
    "site_scaling_params = {}\n",
    "for col in ['latitude', 'longitude', 'altitude']:\n",
    "    site_scaling_params[col] = {\n",
    "        'mean': float(site_stats_df[f'mean_{col}'].iloc[0]),\n",
    "        'std': float(site_stats_df[f'std_{col}'].iloc[0])\n",
    "    }\n",
    "\n",
    "# Initialize the layers\n",
    "weather_scaler = net.StandardScalerLayer(scaling_params)\n",
    "site_scaler = net.StandardScalerLayer(site_scaling_params)"
   ]
  },
  {
   "cell_type": "code",
   "execution_count": 8,
   "metadata": {},
   "outputs": [],
   "source": [
    "io.save_net(weather_scaler, 'training/models/weather_scaler.pth')\n",
    "io.save_net(site_scaler, 'training/models/site_scaler.pth')"
   ]
  }
 ],
 "metadata": {
  "kernelspec": {
   "display_name": "env-jl",
   "language": "python",
   "name": "env-jl"
  },
  "language_info": {
   "codemirror_mode": {
    "name": "ipython",
    "version": 3
   },
   "file_extension": ".py",
   "mimetype": "text/x-python",
   "name": "python",
   "nbconvert_exporter": "python",
   "pygments_lexer": "ipython3",
   "version": "3.10.12"
  }
 },
 "nbformat": 4,
 "nbformat_minor": 2
}
